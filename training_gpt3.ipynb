{
  "cells": [
    {
      "cell_type": "markdown",
      "metadata": {
        "id": "moOHwJ4xrWfS"
      },
      "source": [
        "# Training GPT-3 with language feedback"
      ]
    },
    {
      "cell_type": "markdown",
      "metadata": {
        "id": "PcviL-dxYeZO"
      },
      "source": [
        "# Imports"
      ]
    },
    {
      "cell_type": "code",
      "execution_count": 1,
      "metadata": {
        "colab": {
          "base_uri": "https://localhost:8080/"
        },
        "id": "tE6jPeueYWbN",
        "outputId": "418702ab-4aef-46b6-c72c-99ad352fc1e9"
      },
      "outputs": [
        {
          "name": "stdout",
          "output_type": "stream",
          "text": [
            "Looking in indexes: https://pypi.org/simple, https://us-python.pkg.dev/colab-wheels/public/simple/\n",
            "Collecting wandb\n",
            "  Downloading wandb-0.12.21-py2.py3-none-any.whl (1.8 MB)\n",
            "\u001b[K     |████████████████████████████████| 1.8 MB 5.3 MB/s \n",
            "\u001b[?25hRequirement already satisfied: Click!=8.0.0,>=7.0 in /usr/local/lib/python3.7/dist-packages (from wandb) (7.1.2)\n",
            "Collecting GitPython>=1.0.0\n",
            "  Downloading GitPython-3.1.27-py3-none-any.whl (181 kB)\n",
            "\u001b[K     |████████████████████████████████| 181 kB 51.2 MB/s \n",
            "\u001b[?25hRequirement already satisfied: promise<3,>=2.0 in /usr/local/lib/python3.7/dist-packages (from wandb) (2.3)\n",
            "Collecting docker-pycreds>=0.4.0\n",
            "  Downloading docker_pycreds-0.4.0-py2.py3-none-any.whl (9.0 kB)\n",
            "Collecting shortuuid>=0.5.0\n",
            "  Downloading shortuuid-1.0.9-py3-none-any.whl (9.4 kB)\n",
            "Requirement already satisfied: psutil>=5.0.0 in /usr/local/lib/python3.7/dist-packages (from wandb) (5.4.8)\n",
            "Collecting setproctitle\n",
            "  Downloading setproctitle-1.2.3-cp37-cp37m-manylinux_2_5_x86_64.manylinux1_x86_64.manylinux_2_17_x86_64.manylinux2014_x86_64.whl (29 kB)\n",
            "Requirement already satisfied: setuptools in /usr/local/lib/python3.7/dist-packages (from wandb) (57.4.0)\n",
            "Requirement already satisfied: six>=1.13.0 in /usr/local/lib/python3.7/dist-packages (from wandb) (1.15.0)\n",
            "Collecting pathtools\n",
            "  Downloading pathtools-0.1.2.tar.gz (11 kB)\n",
            "Requirement already satisfied: PyYAML in /usr/local/lib/python3.7/dist-packages (from wandb) (3.13)\n",
            "Requirement already satisfied: protobuf<4.0dev,>=3.12.0 in /usr/local/lib/python3.7/dist-packages (from wandb) (3.17.3)\n",
            "Requirement already satisfied: requests<3,>=2.0.0 in /usr/local/lib/python3.7/dist-packages (from wandb) (2.23.0)\n",
            "Collecting sentry-sdk>=1.0.0\n",
            "  Downloading sentry_sdk-1.7.2-py2.py3-none-any.whl (147 kB)\n",
            "\u001b[K     |████████████████████████████████| 147 kB 53.1 MB/s \n",
            "\u001b[?25hCollecting gitdb<5,>=4.0.1\n",
            "  Downloading gitdb-4.0.9-py3-none-any.whl (63 kB)\n",
            "\u001b[K     |████████████████████████████████| 63 kB 1.4 MB/s \n",
            "\u001b[?25hRequirement already satisfied: typing-extensions>=3.7.4.3 in /usr/local/lib/python3.7/dist-packages (from GitPython>=1.0.0->wandb) (4.1.1)\n",
            "Collecting smmap<6,>=3.0.1\n",
            "  Downloading smmap-5.0.0-py3-none-any.whl (24 kB)\n",
            "Requirement already satisfied: certifi>=2017.4.17 in /usr/local/lib/python3.7/dist-packages (from requests<3,>=2.0.0->wandb) (2022.6.15)\n",
            "Requirement already satisfied: urllib3!=1.25.0,!=1.25.1,<1.26,>=1.21.1 in /usr/local/lib/python3.7/dist-packages (from requests<3,>=2.0.0->wandb) (1.24.3)\n",
            "Requirement already satisfied: chardet<4,>=3.0.2 in /usr/local/lib/python3.7/dist-packages (from requests<3,>=2.0.0->wandb) (3.0.4)\n",
            "Requirement already satisfied: idna<3,>=2.5 in /usr/local/lib/python3.7/dist-packages (from requests<3,>=2.0.0->wandb) (2.10)\n",
            "Building wheels for collected packages: pathtools\n",
            "  Building wheel for pathtools (setup.py) ... \u001b[?25l\u001b[?25hdone\n",
            "  Created wheel for pathtools: filename=pathtools-0.1.2-py3-none-any.whl size=8806 sha256=2453497f54d9f40504519604dfaf7a577f8faead5a77dd3fad3cf7ff74990af1\n",
            "  Stored in directory: /root/.cache/pip/wheels/3e/31/09/fa59cef12cdcfecc627b3d24273699f390e71828921b2cbba2\n",
            "Successfully built pathtools\n",
            "Installing collected packages: smmap, gitdb, shortuuid, setproctitle, sentry-sdk, pathtools, GitPython, docker-pycreds, wandb\n",
            "Successfully installed GitPython-3.1.27 docker-pycreds-0.4.0 gitdb-4.0.9 pathtools-0.1.2 sentry-sdk-1.7.2 setproctitle-1.2.3 shortuuid-1.0.9 smmap-5.0.0 wandb-0.12.21\n",
            "Looking in indexes: https://pypi.org/simple, https://us-python.pkg.dev/colab-wheels/public/simple/\n",
            "Collecting openai\n",
            "  Downloading openai-0.20.0.tar.gz (42 kB)\n",
            "\u001b[K     |████████████████████████████████| 42 kB 703 kB/s \n",
            "\u001b[?25h  Installing build dependencies ... \u001b[?25l\u001b[?25hdone\n",
            "  Getting requirements to build wheel ... \u001b[?25l\u001b[?25hdone\n",
            "    Preparing wheel metadata ... \u001b[?25l\u001b[?25hdone\n",
            "Collecting pandas-stubs>=1.1.0.11\n",
            "  Downloading pandas_stubs-1.2.0.62-py3-none-any.whl (163 kB)\n",
            "\u001b[K     |████████████████████████████████| 163 kB 8.0 MB/s \n",
            "\u001b[?25hRequirement already satisfied: requests>=2.20 in /usr/local/lib/python3.7/dist-packages (from openai) (2.23.0)\n",
            "Requirement already satisfied: tqdm in /usr/local/lib/python3.7/dist-packages (from openai) (4.64.0)\n",
            "Requirement already satisfied: pandas>=1.2.3 in /usr/local/lib/python3.7/dist-packages (from openai) (1.3.5)\n",
            "Requirement already satisfied: openpyxl>=3.0.7 in /usr/local/lib/python3.7/dist-packages (from openai) (3.0.10)\n",
            "Requirement already satisfied: et-xmlfile in /usr/local/lib/python3.7/dist-packages (from openpyxl>=3.0.7->openai) (1.1.0)\n",
            "Requirement already satisfied: python-dateutil>=2.7.3 in /usr/local/lib/python3.7/dist-packages (from pandas>=1.2.3->openai) (2.8.2)\n",
            "Requirement already satisfied: numpy>=1.17.3 in /usr/local/lib/python3.7/dist-packages (from pandas>=1.2.3->openai) (1.21.6)\n",
            "Requirement already satisfied: pytz>=2017.3 in /usr/local/lib/python3.7/dist-packages (from pandas>=1.2.3->openai) (2022.1)\n",
            "Requirement already satisfied: typing-extensions>=3.7.4.3 in /usr/local/lib/python3.7/dist-packages (from pandas-stubs>=1.1.0.11->openai) (4.1.1)\n",
            "Requirement already satisfied: six>=1.5 in /usr/local/lib/python3.7/dist-packages (from python-dateutil>=2.7.3->pandas>=1.2.3->openai) (1.15.0)\n",
            "Requirement already satisfied: certifi>=2017.4.17 in /usr/local/lib/python3.7/dist-packages (from requests>=2.20->openai) (2022.6.15)\n",
            "Requirement already satisfied: chardet<4,>=3.0.2 in /usr/local/lib/python3.7/dist-packages (from requests>=2.20->openai) (3.0.4)\n",
            "Requirement already satisfied: urllib3!=1.25.0,!=1.25.1,<1.26,>=1.21.1 in /usr/local/lib/python3.7/dist-packages (from requests>=2.20->openai) (1.24.3)\n",
            "Requirement already satisfied: idna<3,>=2.5 in /usr/local/lib/python3.7/dist-packages (from requests>=2.20->openai) (2.10)\n",
            "Building wheels for collected packages: openai\n",
            "  Building wheel for openai (PEP 517) ... \u001b[?25l\u001b[?25hdone\n",
            "  Created wheel for openai: filename=openai-0.20.0-py3-none-any.whl size=54118 sha256=cfbcc481ef066513a4fc25c55bcb07403aa948af18d0be6e0e26efd433ab5bd8\n",
            "  Stored in directory: /root/.cache/pip/wheels/71/8d/9b/e28529ec53123e0279208f99148d4661232120d78cb866839b\n",
            "Successfully built openai\n",
            "Installing collected packages: pandas-stubs, openai\n",
            "Successfully installed openai-0.20.0 pandas-stubs-1.2.0.62\n",
            "Looking in indexes: https://pypi.org/simple, https://us-python.pkg.dev/colab-wheels/public/simple/\n",
            "Collecting datasets\n",
            "  Downloading datasets-2.3.2-py3-none-any.whl (362 kB)\n",
            "\u001b[K     |████████████████████████████████| 362 kB 5.3 MB/s \n",
            "\u001b[?25hRequirement already satisfied: dill<0.3.6 in /usr/local/lib/python3.7/dist-packages (from datasets) (0.3.5.1)\n",
            "Requirement already satisfied: requests>=2.19.0 in /usr/local/lib/python3.7/dist-packages (from datasets) (2.23.0)\n",
            "Requirement already satisfied: packaging in /usr/local/lib/python3.7/dist-packages (from datasets) (21.3)\n",
            "Collecting fsspec[http]>=2021.05.0\n",
            "  Downloading fsspec-2022.5.0-py3-none-any.whl (140 kB)\n",
            "\u001b[K     |████████████████████████████████| 140 kB 50.5 MB/s \n",
            "\u001b[?25hCollecting xxhash\n",
            "  Downloading xxhash-3.0.0-cp37-cp37m-manylinux_2_17_x86_64.manylinux2014_x86_64.whl (212 kB)\n",
            "\u001b[K     |████████████████████████████████| 212 kB 44.1 MB/s \n",
            "\u001b[?25hRequirement already satisfied: multiprocess in /usr/local/lib/python3.7/dist-packages (from datasets) (0.70.13)\n",
            "Requirement already satisfied: numpy>=1.17 in /usr/local/lib/python3.7/dist-packages (from datasets) (1.21.6)\n",
            "Collecting responses<0.19\n",
            "  Downloading responses-0.18.0-py3-none-any.whl (38 kB)\n",
            "Requirement already satisfied: importlib-metadata in /usr/local/lib/python3.7/dist-packages (from datasets) (4.12.0)\n",
            "Requirement already satisfied: pandas in /usr/local/lib/python3.7/dist-packages (from datasets) (1.3.5)\n",
            "Collecting huggingface-hub<1.0.0,>=0.1.0\n",
            "  Downloading huggingface_hub-0.8.1-py3-none-any.whl (101 kB)\n",
            "\u001b[K     |████████████████████████████████| 101 kB 9.6 MB/s \n",
            "\u001b[?25hRequirement already satisfied: pyarrow>=6.0.0 in /usr/local/lib/python3.7/dist-packages (from datasets) (6.0.1)\n",
            "Collecting aiohttp\n",
            "  Downloading aiohttp-3.8.1-cp37-cp37m-manylinux_2_5_x86_64.manylinux1_x86_64.manylinux_2_12_x86_64.manylinux2010_x86_64.whl (1.1 MB)\n",
            "\u001b[K     |████████████████████████████████| 1.1 MB 38.0 MB/s \n",
            "\u001b[?25hRequirement already satisfied: tqdm>=4.62.1 in /usr/local/lib/python3.7/dist-packages (from datasets) (4.64.0)\n",
            "Collecting pyyaml>=5.1\n",
            "  Downloading PyYAML-6.0-cp37-cp37m-manylinux_2_5_x86_64.manylinux1_x86_64.manylinux_2_12_x86_64.manylinux2010_x86_64.whl (596 kB)\n",
            "\u001b[K     |████████████████████████████████| 596 kB 52.3 MB/s \n",
            "\u001b[?25hRequirement already satisfied: typing-extensions>=3.7.4.3 in /usr/local/lib/python3.7/dist-packages (from huggingface-hub<1.0.0,>=0.1.0->datasets) (4.1.1)\n",
            "Requirement already satisfied: filelock in /usr/local/lib/python3.7/dist-packages (from huggingface-hub<1.0.0,>=0.1.0->datasets) (3.7.1)\n",
            "Requirement already satisfied: pyparsing!=3.0.5,>=2.0.2 in /usr/local/lib/python3.7/dist-packages (from packaging->datasets) (3.0.9)\n",
            "Requirement already satisfied: chardet<4,>=3.0.2 in /usr/local/lib/python3.7/dist-packages (from requests>=2.19.0->datasets) (3.0.4)\n",
            "Requirement already satisfied: certifi>=2017.4.17 in /usr/local/lib/python3.7/dist-packages (from requests>=2.19.0->datasets) (2022.6.15)\n",
            "Requirement already satisfied: idna<3,>=2.5 in /usr/local/lib/python3.7/dist-packages (from requests>=2.19.0->datasets) (2.10)\n",
            "Requirement already satisfied: urllib3!=1.25.0,!=1.25.1,<1.26,>=1.21.1 in /usr/local/lib/python3.7/dist-packages (from requests>=2.19.0->datasets) (1.24.3)\n",
            "Collecting urllib3!=1.25.0,!=1.25.1,<1.26,>=1.21.1\n",
            "  Downloading urllib3-1.25.11-py2.py3-none-any.whl (127 kB)\n",
            "\u001b[K     |████████████████████████████████| 127 kB 43.9 MB/s \n",
            "\u001b[?25hCollecting multidict<7.0,>=4.5\n",
            "  Downloading multidict-6.0.2-cp37-cp37m-manylinux_2_17_x86_64.manylinux2014_x86_64.whl (94 kB)\n",
            "\u001b[K     |████████████████████████████████| 94 kB 2.9 MB/s \n",
            "\u001b[?25hRequirement already satisfied: charset-normalizer<3.0,>=2.0 in /usr/local/lib/python3.7/dist-packages (from aiohttp->datasets) (2.1.0)\n",
            "Collecting async-timeout<5.0,>=4.0.0a3\n",
            "  Downloading async_timeout-4.0.2-py3-none-any.whl (5.8 kB)\n",
            "Collecting aiosignal>=1.1.2\n",
            "  Downloading aiosignal-1.2.0-py3-none-any.whl (8.2 kB)\n",
            "Requirement already satisfied: attrs>=17.3.0 in /usr/local/lib/python3.7/dist-packages (from aiohttp->datasets) (21.4.0)\n",
            "Collecting asynctest==0.13.0\n",
            "  Downloading asynctest-0.13.0-py3-none-any.whl (26 kB)\n",
            "Collecting frozenlist>=1.1.1\n",
            "  Downloading frozenlist-1.3.0-cp37-cp37m-manylinux_2_5_x86_64.manylinux1_x86_64.manylinux_2_17_x86_64.manylinux2014_x86_64.whl (144 kB)\n",
            "\u001b[K     |████████████████████████████████| 144 kB 67.2 MB/s \n",
            "\u001b[?25hCollecting yarl<2.0,>=1.0\n",
            "  Downloading yarl-1.7.2-cp37-cp37m-manylinux_2_5_x86_64.manylinux1_x86_64.manylinux_2_12_x86_64.manylinux2010_x86_64.whl (271 kB)\n",
            "\u001b[K     |████████████████████████████████| 271 kB 52.3 MB/s \n",
            "\u001b[?25hRequirement already satisfied: zipp>=0.5 in /usr/local/lib/python3.7/dist-packages (from importlib-metadata->datasets) (3.8.0)\n",
            "Requirement already satisfied: python-dateutil>=2.7.3 in /usr/local/lib/python3.7/dist-packages (from pandas->datasets) (2.8.2)\n",
            "Requirement already satisfied: pytz>=2017.3 in /usr/local/lib/python3.7/dist-packages (from pandas->datasets) (2022.1)\n",
            "Requirement already satisfied: six>=1.5 in /usr/local/lib/python3.7/dist-packages (from python-dateutil>=2.7.3->pandas->datasets) (1.15.0)\n",
            "Installing collected packages: multidict, frozenlist, yarl, urllib3, asynctest, async-timeout, aiosignal, pyyaml, fsspec, aiohttp, xxhash, responses, huggingface-hub, datasets\n",
            "  Attempting uninstall: urllib3\n",
            "    Found existing installation: urllib3 1.24.3\n",
            "    Uninstalling urllib3-1.24.3:\n",
            "      Successfully uninstalled urllib3-1.24.3\n",
            "  Attempting uninstall: pyyaml\n",
            "    Found existing installation: PyYAML 3.13\n",
            "    Uninstalling PyYAML-3.13:\n",
            "      Successfully uninstalled PyYAML-3.13\n",
            "\u001b[31mERROR: pip's dependency resolver does not currently take into account all the packages that are installed. This behaviour is the source of the following dependency conflicts.\n",
            "datascience 0.10.6 requires folium==0.2.1, but you have folium 0.8.3 which is incompatible.\u001b[0m\n",
            "Successfully installed aiohttp-3.8.1 aiosignal-1.2.0 async-timeout-4.0.2 asynctest-0.13.0 datasets-2.3.2 frozenlist-1.3.0 fsspec-2022.5.0 huggingface-hub-0.8.1 multidict-6.0.2 pyyaml-6.0 responses-0.18.0 urllib3-1.25.11 xxhash-3.0.0 yarl-1.7.2\n",
            "Looking in indexes: https://pypi.org/simple, https://us-python.pkg.dev/colab-wheels/public/simple/\n",
            "Requirement already satisfied: openai in /usr/local/lib/python3.7/dist-packages (0.20.0)\n",
            "Requirement already satisfied: wandb in /usr/local/lib/python3.7/dist-packages (0.12.21)\n",
            "Requirement already satisfied: tqdm in /usr/local/lib/python3.7/dist-packages (from openai) (4.64.0)\n",
            "Requirement already satisfied: pandas-stubs>=1.1.0.11 in /usr/local/lib/python3.7/dist-packages (from openai) (1.2.0.62)\n",
            "Requirement already satisfied: pandas>=1.2.3 in /usr/local/lib/python3.7/dist-packages (from openai) (1.3.5)\n",
            "Requirement already satisfied: openpyxl>=3.0.7 in /usr/local/lib/python3.7/dist-packages (from openai) (3.0.10)\n",
            "Requirement already satisfied: requests>=2.20 in /usr/local/lib/python3.7/dist-packages (from openai) (2.23.0)\n",
            "Requirement already satisfied: et-xmlfile in /usr/local/lib/python3.7/dist-packages (from openpyxl>=3.0.7->openai) (1.1.0)\n",
            "Requirement already satisfied: python-dateutil>=2.7.3 in /usr/local/lib/python3.7/dist-packages (from pandas>=1.2.3->openai) (2.8.2)\n",
            "Requirement already satisfied: pytz>=2017.3 in /usr/local/lib/python3.7/dist-packages (from pandas>=1.2.3->openai) (2022.1)\n",
            "Requirement already satisfied: numpy>=1.17.3 in /usr/local/lib/python3.7/dist-packages (from pandas>=1.2.3->openai) (1.21.6)\n",
            "Requirement already satisfied: typing-extensions>=3.7.4.3 in /usr/local/lib/python3.7/dist-packages (from pandas-stubs>=1.1.0.11->openai) (4.1.1)\n",
            "Requirement already satisfied: six>=1.5 in /usr/local/lib/python3.7/dist-packages (from python-dateutil>=2.7.3->pandas>=1.2.3->openai) (1.15.0)\n",
            "Requirement already satisfied: chardet<4,>=3.0.2 in /usr/local/lib/python3.7/dist-packages (from requests>=2.20->openai) (3.0.4)\n",
            "Requirement already satisfied: idna<3,>=2.5 in /usr/local/lib/python3.7/dist-packages (from requests>=2.20->openai) (2.10)\n",
            "Requirement already satisfied: urllib3!=1.25.0,!=1.25.1,<1.26,>=1.21.1 in /usr/local/lib/python3.7/dist-packages (from requests>=2.20->openai) (1.25.11)\n",
            "Requirement already satisfied: certifi>=2017.4.17 in /usr/local/lib/python3.7/dist-packages (from requests>=2.20->openai) (2022.6.15)\n",
            "Requirement already satisfied: setuptools in /usr/local/lib/python3.7/dist-packages (from wandb) (57.4.0)\n",
            "Requirement already satisfied: setproctitle in /usr/local/lib/python3.7/dist-packages (from wandb) (1.2.3)\n",
            "Requirement already satisfied: shortuuid>=0.5.0 in /usr/local/lib/python3.7/dist-packages (from wandb) (1.0.9)\n",
            "Requirement already satisfied: GitPython>=1.0.0 in /usr/local/lib/python3.7/dist-packages (from wandb) (3.1.27)\n",
            "Requirement already satisfied: docker-pycreds>=0.4.0 in /usr/local/lib/python3.7/dist-packages (from wandb) (0.4.0)\n",
            "Requirement already satisfied: promise<3,>=2.0 in /usr/local/lib/python3.7/dist-packages (from wandb) (2.3)\n",
            "Requirement already satisfied: protobuf<4.0dev,>=3.12.0 in /usr/local/lib/python3.7/dist-packages (from wandb) (3.17.3)\n",
            "Requirement already satisfied: Click!=8.0.0,>=7.0 in /usr/local/lib/python3.7/dist-packages (from wandb) (7.1.2)\n",
            "Requirement already satisfied: PyYAML in /usr/local/lib/python3.7/dist-packages (from wandb) (6.0)\n",
            "Requirement already satisfied: sentry-sdk>=1.0.0 in /usr/local/lib/python3.7/dist-packages (from wandb) (1.7.2)\n",
            "Requirement already satisfied: psutil>=5.0.0 in /usr/local/lib/python3.7/dist-packages (from wandb) (5.4.8)\n",
            "Requirement already satisfied: pathtools in /usr/local/lib/python3.7/dist-packages (from wandb) (0.1.2)\n",
            "Requirement already satisfied: gitdb<5,>=4.0.1 in /usr/local/lib/python3.7/dist-packages (from GitPython>=1.0.0->wandb) (4.0.9)\n",
            "Requirement already satisfied: smmap<6,>=3.0.1 in /usr/local/lib/python3.7/dist-packages (from gitdb<5,>=4.0.1->GitPython>=1.0.0->wandb) (5.0.0)\n"
          ]
        }
      ],
      "source": [
        "#hide\n",
        "!pip install wandb\n",
        "!pip install openai\n",
        "!pip install datasets\n",
        "!pip install --upgrade openai wandb"
      ]
    },
    {
      "cell_type": "code",
      "execution_count": 63,
      "metadata": {
        "id": "yzob5vDNYow_"
      },
      "outputs": [],
      "source": [
        "import pandas as pd\n",
        "import openai\n",
        "from datasets import load_dataset\n",
        "import os\n",
        "import string\n",
        "import numpy as np\n",
        "from sklearn.metrics.pairwise import cosine_similarity\n",
        "from typing import List\n",
        "# from collections import Counter\n",
        "# from tenacity import retry, wait_random_exponential, stop_after_attempt\n",
        " \n",
        "# from pathlib import Path"
      ]
    },
    {
      "cell_type": "markdown",
      "metadata": {
        "id": "vmCskZ7F3vCR"
      },
      "source": [
        "**WARNING: Remove the API key after running the cell and clear output so it does not get logged to wandb in case you sync code (see settings)**"
      ]
    },
    {
      "cell_type": "code",
      "execution_count": null,
      "metadata": {
        "id": "rrKnuOEEnYYg"
      },
      "outputs": [],
      "source": [
        "# Enter credentials\n",
        "%env OPENAI_API_KEY="
      ]
    },
    {
      "cell_type": "code",
      "execution_count": 7,
      "metadata": {
        "id": "qSujI60Nn9OT"
      },
      "outputs": [],
      "source": [
        "openai.api_key = os.getenv(\"OPENAI_API_KEY\")"
      ]
    },
    {
      "cell_type": "markdown",
      "metadata": {
        "id": "zFfYWgAAfxHJ"
      },
      "source": [
        "# Understand the original datasets\n",
        "\n",
        "Let's have a look at the dataset the authors used to see what it is that we want to replicate."
      ]
    },
    {
      "cell_type": "markdown",
      "metadata": {
        "id": "3WadF7ZOfzRM"
      },
      "source": [
        "## Initial summaries"
      ]
    },
    {
      "cell_type": "code",
      "execution_count": 9,
      "metadata": {
        "colab": {
          "base_uri": "https://localhost:8080/",
          "height": 185,
          "referenced_widgets": [
            "b5909b54cc154d158094e8d27f2b3655",
            "9e372c9ef89f4788bdf3153c37f6d9c5",
            "baf038a0c33e48ce85adf7aa4ca209d2",
            "843de5afa4b6473e9b53a0bdde20ab98",
            "fbe1ec663ac94537a9640be077528e45",
            "0689395e39924e5e97f0305898aac244",
            "dddaad3c485f4417ac760bc269a029cc",
            "c499f07333f943c1b4d06dd0051033ca",
            "581a6751861248f7986707d15949bd39",
            "a32d37caab084697a53f4d491a759b5e",
            "355b21bca91640c4994569e31ce71d1b",
            "f072286574ff42b39cc48d4d31e02845",
            "4699161b3964426288324dd7263ef3d9",
            "6be8934ce7774c8ca78dc42fef46b440",
            "0195d203c77a4b68b800c3aac3aba412",
            "8616a966961f475abee86e3da924aac1",
            "f3a888bb1f55431f921deec600343549",
            "a7b7dc25b084459d83eac76d6c269d08",
            "4e29c34df4184778b899ce73fbee6202",
            "46ac8baf50544d5494f360f7b7535b1f",
            "1107ba93c4814c9b9c1ae91bfe127b79",
            "756e043ad1d347f9a86f22797c8825c5",
            "78a45ed6e28841f4ab3a31bf751ce788",
            "0699e5a5cfa54cf1a5a87b92db0df349",
            "4455a61bfbd44a94b52a50a2d0186598",
            "2e8d8604388343de8be29c496c4d2a18",
            "cabdc01232104ce882b8015d6438e4dc",
            "91b2b62782114a13aa9174634a14e583",
            "9ad534c107de495f99b603eb0e266412",
            "0637bc312ef34a7987278616ceba673c",
            "c5f7db45d7e04223a8425a0ed6bdf459",
            "fdee12a426124e6ea71b2acfbf3e6def",
            "46e88b4b870e45c691bdb59993b2988e",
            "58e246a59b0e4bbcb1bb56b441fc5995",
            "55c7b93d74e64ac48b66c9f109bc5fbd",
            "14b3f12871184fd599a0c9c2242f3af3",
            "0dfbe4f8f2c84734952087dedf6d046a",
            "b803d78496f0415688430a91bb5c8f03",
            "1e4a5f0a1167406ca8bf7ec05b3c92b1",
            "2e0b3d02b3804f919adf10e20feacad0",
            "9aad24dfae884066bcfc87b4edb588a6",
            "bc5d0f96b0b54ce581af96f8129964f7",
            "c9a3aa5e0236409a80cd3f0474c012c0",
            "900c7a6d34c84f7888c45a0a43dbd68a"
          ]
        },
        "id": "GpHN-xTTgnL6",
        "outputId": "4ba7f29c-b997-46c2-95bf-f66e181422ae"
      },
      "outputs": [
        {
          "name": "stderr",
          "output_type": "stream",
          "text": [
            "Using custom data configuration default-c3bdbcc1a6d36950\n"
          ]
        },
        {
          "name": "stdout",
          "output_type": "stream",
          "text": [
            "Downloading and preparing dataset json/default to C:\\Users\\Win 10\\.cache\\huggingface\\datasets\\json\\default-c3bdbcc1a6d36950\\0.0.0\\da492aad5680612e4028e7f6ddc04b1dfcec4b64db470ed7cc5f2bb265b9b6b5...\n"
          ]
        },
        {
          "name": "stderr",
          "output_type": "stream",
          "text": [
            "Downloading data files: 100%|██████████| 1/1 [00:00<?, ?it/s]\n",
            "Extracting data files: 100%|██████████| 1/1 [00:00<00:00, 124.96it/s]\n",
            "                            \r"
          ]
        },
        {
          "name": "stdout",
          "output_type": "stream",
          "text": [
            "Dataset json downloaded and prepared to C:\\Users\\Win 10\\.cache\\huggingface\\datasets\\json\\default-c3bdbcc1a6d36950\\0.0.0\\da492aad5680612e4028e7f6ddc04b1dfcec4b64db470ed7cc5f2bb265b9b6b5. Subsequent calls will reuse this data.\n"
          ]
        },
        {
          "name": "stderr",
          "output_type": "stream",
          "text": [
            "100%|██████████| 1/1 [00:00<00:00, 26.32it/s]\n"
          ]
        }
      ],
      "source": [
        "initial_summaries = load_dataset('json', data_files=['data/language_feedback_learning_dataset/finetuning/original_summary_train.jsonl'])['train']"
      ]
    },
    {
      "cell_type": "markdown",
      "metadata": {
        "id": "T9VwmhgjhX2W"
      },
      "source": [
        "We can see that the `prompt` contains:\n",
        "- Instruction\n",
        "- Title:\n",
        "- Text:\n",
        "- TL;DR:\n",
        "\n",
        "The prompt was created like so: "
      ]
    },
    {
      "cell_type": "markdown",
      "metadata": {
        "id": "nB1-IRuEizX5"
      },
      "source": [
        "![image.png](data:image/png;base64,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)"
      ]
    },
    {
      "cell_type": "code",
      "execution_count": 10,
      "metadata": {
        "colab": {
          "base_uri": "https://localhost:8080/"
        },
        "id": "jn7OLic6hHgO",
        "outputId": "9b9b3668-9035-4f4b-fc8b-61c3193f508b"
      },
      "outputs": [
        {
          "name": "stdout",
          "output_type": "stream",
          "text": [
            "Write an excellent summary of a given text. An excellent summary is coherent, accurate, concise, and detailed, and it follows human preferences about summaries.\n",
            "\n",
            "Title: Friend [25M] is married, but can't get over feelings for me [22F].\n",
            "\n",
            "Text: I  (22f) was briefly enrolled in a graduate program this fall, and am still in close contact with a lot of friends I made while I was there.  One of these friends is a 25 year old guy from China.  \n",
            "\n",
            "Because English was not his first language and I could tell he was a little isolated, I was careful to be nice and invite him to events.  We started hanging out some on our own, but mostly just to discuss school/world politics; nothing too personal.  He asked me out a few times this fall, and even though I assumed he was single, I turned him down nicely-- just wasn't interested.\n",
            "\n",
            "After the final time I turned him down he got a little clingy and weird, so I tried to create some space between us; I didn't really speak to him over Christmas break.\n",
            "\n",
            "Imagine my surprise when my presumably single friend comes home from China married after Christmas!  Turns out he'd had a girlfriend all along and they tied the knot while he was there.  I assumed that settled things, and went back to occasionally spending time with him.\n",
            "\n",
            "Last night, he admitted to me that he's jealous of the guy I've been dating and has feelings for me.  I sort of just apologized and ignored it, but now I'm frustrated and not sure what to do.  Normally, I would just cut things off with him since he doesn't seem to be able to have \"just friends\" feelings toward me.  In this case, though, I feel guilty, since he really doesn't have many friends and seems to put a lot of energy into maintaining contact with me.   So what should I do?  Just end things?  Pretend it never happened?  All I know is that I certainly wouldn't want MY husband spending time alone with a woman he had feelings for.  I don't want to cross any lines.\n",
            "\n",
            "TL;DR:\n"
          ]
        }
      ],
      "source": [
        "print(initial_summaries['prompt'][0])"
      ]
    },
    {
      "cell_type": "markdown",
      "metadata": {
        "id": "6cc4E3znhW7d"
      },
      "source": [
        "The `completion` is the initial summary the model produces"
      ]
    },
    {
      "cell_type": "code",
      "execution_count": 11,
      "metadata": {
        "colab": {
          "base_uri": "https://localhost:8080/"
        },
        "id": "6xJz6iDMhBfl",
        "outputId": "04ea89d2-1533-4934-c316-5e4bbb3de488"
      },
      "outputs": [
        {
          "name": "stdout",
          "output_type": "stream",
          "text": [
            " My friend from school who is now married is still in love with me and I don't know what to do about it.\n"
          ]
        }
      ],
      "source": [
        "print(initial_summaries['completion'][0])"
      ]
    },
    {
      "cell_type": "markdown",
      "metadata": {
        "id": "Pe4oKi1Sk3Nr"
      },
      "source": [
        "## Summaries and Feedback\n",
        "\n",
        "All of the above data can be gathered and a human can provide feedback on the initial summary.\n",
        "\n",
        "You can see the result below.\n",
        "\n",
        "This is the intermediary step that gets us from the original summary to the summaries created after feedback (refinements). "
      ]
    },
    {
      "cell_type": "code",
      "execution_count": 13,
      "metadata": {
        "colab": {
          "base_uri": "https://localhost:8080/",
          "height": 225
        },
        "id": "WkGA3K9ik91Y",
        "outputId": "4ff4ce3e-2edb-4c8a-8dee-6c51fd3e2445"
      },
      "outputs": [
        {
          "data": {
            "text/html": [
              "<div>\n",
              "<style scoped>\n",
              "    .dataframe tbody tr th:only-of-type {\n",
              "        vertical-align: middle;\n",
              "    }\n",
              "\n",
              "    .dataframe tbody tr th {\n",
              "        vertical-align: top;\n",
              "    }\n",
              "\n",
              "    .dataframe thead th {\n",
              "        text-align: right;\n",
              "    }\n",
              "</style>\n",
              "<table border=\"1\" class=\"dataframe\">\n",
              "  <thead>\n",
              "    <tr style=\"text-align: right;\">\n",
              "      <th></th>\n",
              "      <th>id</th>\n",
              "      <th>post</th>\n",
              "      <th>title</th>\n",
              "      <th>subreddit</th>\n",
              "      <th>prompt</th>\n",
              "      <th>summary</th>\n",
              "      <th>feedback</th>\n",
              "    </tr>\n",
              "  </thead>\n",
              "  <tbody>\n",
              "    <tr>\n",
              "      <th>0</th>\n",
              "      <td>t3_18tffu</td>\n",
              "      <td>I  (22f) was briefly enrolled in a graduate pr...</td>\n",
              "      <td>Friend [25M] is married, but can't get over fe...</td>\n",
              "      <td>relationships</td>\n",
              "      <td>Write an excellent summary of a given text. An...</td>\n",
              "      <td>My friend from school who is now married is st...</td>\n",
              "      <td>This summary is good overall, it should howeve...</td>\n",
              "    </tr>\n",
              "    <tr>\n",
              "      <th>1</th>\n",
              "      <td>t3_3aegv4</td>\n",
              "      <td>We've been dating for 4 months, but we knew ea...</td>\n",
              "      <td>Me [34/F] got frustrated with my boyfriend [34...</td>\n",
              "      <td>relationship_advice</td>\n",
              "      <td>Write an excellent summary of a given text. An...</td>\n",
              "      <td>A woman discusses her frustration with her boy...</td>\n",
              "      <td>This summary is good, it should however point ...</td>\n",
              "    </tr>\n",
              "  </tbody>\n",
              "</table>\n",
              "</div>"
            ],
            "text/plain": [
              "          id                                               post  \\\n",
              "0  t3_18tffu  I  (22f) was briefly enrolled in a graduate pr...   \n",
              "1  t3_3aegv4  We've been dating for 4 months, but we knew ea...   \n",
              "\n",
              "                                               title            subreddit  \\\n",
              "0  Friend [25M] is married, but can't get over fe...        relationships   \n",
              "1  Me [34/F] got frustrated with my boyfriend [34...  relationship_advice   \n",
              "\n",
              "                                              prompt  \\\n",
              "0  Write an excellent summary of a given text. An...   \n",
              "1  Write an excellent summary of a given text. An...   \n",
              "\n",
              "                                             summary  \\\n",
              "0  My friend from school who is now married is st...   \n",
              "1  A woman discusses her frustration with her boy...   \n",
              "\n",
              "                                            feedback  \n",
              "0  This summary is good overall, it should howeve...  \n",
              "1  This summary is good, it should however point ...  "
            ]
          },
          "execution_count": 13,
          "metadata": {},
          "output_type": "execute_result"
        }
      ],
      "source": [
        "df = pd.read_csv('data/language_feedback_learning_dataset/refinements/summaries_and_feedback.csv')\n",
        "df.head(2)"
      ]
    },
    {
      "cell_type": "markdown",
      "metadata": {
        "id": "glEhmbHqhWKL"
      },
      "source": [
        "## Summaries after feedback (refinements)\n",
        "\n",
        "In this file we can see the refinements. That is, the summaries produced after the model has been given feedback on it's `initial summary`.\n",
        "\n",
        "The refinements were obtained with the following prompt:"
      ]
    },
    {
      "cell_type": "markdown",
      "metadata": {
        "id": "90_zLJoOim1y"
      },
      "source": [
        "![image.png](data:image/png;base64,iVBORw0KGgoAAAANSUhEUgAAApsAAAG6CAYAAABHio1qAAAAAXNSR0IArs4c6QAAAARnQU1BAACxjwv8YQUAAAAJcEhZcwAAEnQAABJ0Ad5mH3gAAP76SURBVHhe7J0NXFTF/v8//bP2Fhl3vW1UiE9I2kUlBbsIPuIDJgZSKmpiJYFSmoqZRrcwiwpKzJTEJ6jwagrmI6YoiBrgTcRATDRRefAB6bKZ0GXLfvOfmXPOPrELC4Jpd96vF+yeOXPm4Tvf+c73zJkzewehQCAQCAQCgUAgaAX+n/wpEAgEAoFAIBC0OMLZFAj+JOi0F1BWnIu0tFwUl5XhglYnndAWYk/OOem7TG1xJlJTD+IHOYrgz82NtneTrq8tRmZqKg42K7NaVB3LxJ5CrXws+NOi06IoMxVmpqkRJP1IpfqVmpqGIxWtb8B02iKqzzkwFFMHbREtQ9MKfkMw234scw9u627BHqM3SHUB2Z0URUZowB630z8VsXfsSDp27Egc7e34d0//t8jGkzXyBQKB4OZRR8q/TSTT3e2JCnZE4+lPQkND6Z8/cef905W4drYjqpA0OT6jiMS4SX3Za1mxHCb483Kj7d2064ti3PhYofJaRmzO7WIWeXe8B+loJ40zHnFCL/+08LZ2JRrZnzAxTQ1RV0ASRmiI28JscnLHS8SZXW/nRz4rk8+3MBez3iXjXTVcH6EKIWnkIsl6dzxxlX0hU5vaShxPJlOHdCR2XFYe5HbuFo07mzKKAZGErlBDTiYGSkqjciQhWy/L4QKBoPWpIUdjvLghUjkGkeTTdXK4wmVyKNKDOqH1B/6zW98ioXMSSG61HPAnpO70UVLQqvWrI6ePFpDbQYQ32t7Wr79Mjh49K3+XObuVvBU6hyQ0I7OCaFc+zghn889ONUn2Zw6U7c5mScIQassUh4v2vVSqk2+nkXJ+tpWoTib+Zn6P/mbqZjibnAIS7Xr7O5s2vyB0IvZx9JhfQHUjBGl1azBKDge0WBfQDsHb6SmPOBw9MgeucnjhngycvsYPrNAWjw71RS+1bXEfegi4fNks0iPuGPvwJaQevSgd39MFA/z6wEE6otRP+xH3sXjs2h5kNJwh2j46FL691NAWGse9B10G+KGPIQMjKpGfdghn/ysftn0UQ33b4mTqUcils8IjcB/rhc44hxx93Pr5mJaDwuruBaNrrHNPlwHws1zoW59zOYb25VB5Db0PpzNOw7gFlfYyjS/pmFO5hfZm8nvsGvaYpWOJB92ewsAHTtWPy9ugc/22oTA9o6dajcp1AehIO55OFYgNl77CBFr1+lRi25SeGHPydRTTvtlNDv3TU7kNU3q+i96HjmBOK1W6ctsU9Hy3Nw79L8nVBB0KY/vD6/TbqFljGBFuBGWcoc4mjrRWwwluCbZNuQNjklUISatD4+pTjpU+HTB9vwfiiluvT9eH2pE7xiDZyO9RdJQ6m6hrIb1vmBOIfbwH5hfc7Lq3MNzltAHLM5sSh+Y5WDlXR3IjnaVzvvHkZGkpKeV/J0nOptnEQ+VGYorkqMZxxybJ8erHrStfRXxZHDiTyFzDTE5deSoJ5tPbKuIRU0BTM6aO3jGz8vuSVeVG1+RGSlPxNDz+pJJfKTmZs4nM9lARN0Ph6A08vcNRsbggzlF5cqAZeVFyeiDeS04ZleEyvYtT8XCnObuN6pZPMmLZzHAw2SrHpBUhqcHS1L3KI4YUmE1W1RVEEzd6zndVuZz+VhJM69wtJJ6kZOST0gNvEOrsE7i+QQ6w9FPiSUg3mnewPofbkpqjC3m9gbFko7Ji43IqCVKzsLYk9GuzFt8VQtqqPEiMkQAt6k5RDE1XQ0ZEJZGdOSdJadJYLnuugydzyE55CYleF+oOkXlOLA3aBommM/k1WXOIE7tWHUJ2tfaqkrp0Es7r3oA+KpSsJWP8V5MS+fBPT10BiaH9tzVnAuoKYqhNovL3iLP9UfGfjMtbg/lTrZac4VHGGTGz+ednazCzX7bObCpLOW727B4bX2m+f+jM5h9V95alBZzNErLcmwmC/g1JIPWWT1CDxM9ZcHYO/HMsWWEsPJviyo1v7KDJSMrL/jQk2PyRfsZMonaLoc1mjPW0aIZkrEnhlAanf2oav94TomqyIVByKNmfeRUU+Zk4sJwy8tnYOWSPfMRR5ED/NDQh05pkkJlqYyed1sEpkuTKR5LzRK81qmtdejhR3+bOpkG+KipbgwOZFyXdoJg7XNXJ/kQVuMHsEaeF9mby8k82xLOggyXLvY3aTdEDVxJdIAcpWJB9a1G9IZA/Hme6HnFADrSRuurjJCM+gvi42BMvbr2Ok9QZfsS1o7QW28V3Okk9LsW9mJVApvu60HAPEpQsB9acJBunexMXFxpfY0fsNJ5kcuJRIvnXNeRKfgaJf0taMxqy9TRJne5O7JljprIn7hHpZvpsjcvk0PLJxLO3L3kuNJT4uzsSR88IssvoZtEyx8lKPxcpP9gTF69BZNCgELJO9rTryrNIzJjevOx8zbmLD3lrl3zjVvI1eXcyrZcsB4+gOJJ1PIvEBXnQYxfiPXm+JJfjK4kflR2Xv70L8RpE8whZ1zxn/vIhsnyyJ+nt+5y0ztbRkXhG7CJKNWuu0BvG+Ldo/e2JXchWcjp1OpWr1A/s3SNIug3CrN/eLOwMvYmPIWE+nYkddZhzD8WQMZ3tuO7bdR5DEoxv0ixcf/HrV4m3oxRf5ehGZUxlEE0Vsa6aHM+IJxE+tA28TB3xy4eWk8mevYnvc6Ek1N+dODp6kghF9jJNdTYvs3L39iZj33qLzPf3IN6enmQOM6asLXm7sbaU7evFLJIwP4h4yO3L49HcqyuYjJX6FVEZ0+9msqg5uZHWicqKtbmdhraRosdU3+lN6aYYqqsae+o4SXpr2kZ1pDyL1p2vq6byojozJsF0QqRh2dAynskhiRE+pLMdvYHem0wms/LR/jQoconcP1mdaB+dn0CyLvKLyHFaj8DeNNwjiChd13Ya7n9N0R8OtxmepKOrD5k40Z94eIwhI+R1wI35bCXrQqh+Ket5lT4t6xunhpzcOJ14uzA5aIgda5/JieSoyQ2/LXFYMTeS6Z4diavPRDKR6pPHmBGSTbfkbAbHk1TeJqxcdkTjOobEHDLukOxRP9Ulpp9UhhMHuBBHGmd5/UzJRppObyrriRM9SWeNK/GJSCWGVVHmzubP5PjmKKltO7oSvxlvk7ivG7c+zPYtp/att+9ErmMaDbU106kMlCLXXCH5tO++Rc/Z24WQradT5XcBmM66kwhbjE0D3JizWVdOsqKHEDUPp4KwNMJacSDrqivIFfPZH6txr5BqveAbdjaDoqWZP1Ye41kt7gjY6mxSg1lRr3CswZ1oGmpeRu/lZo1bspx4Uyc0mK9Dsd3ZrLlSYVQ3GSaHoGgSLXdG05laVg5jZ/Msyc42WjNlyeGpO00OGMe5TeFOM62biRN5agnxYPVVh5N0vZDKSMIQNQk3BMhYaO/qApJtvLDPkg5ePkoO6OMoHd+4DWRuorOZMVPSQ4s3Sg3BXvhLSSIv8ToYD+qG2Xdzxz030omo6YjwMzvgs4Z2xD9ZNjx1p8jyIew6OzJiLesTdPAt3UfmObP0VdQRdSfTN+aT0pM0jOdpR4JSTW8BLFEUJ6011TfD5UQ+K60asbb+DW09zI2zzGXa/hqjWe2adBLOnoaoHElEhqIrihxU5LGoXDbMU5VQEw2tv0mplba+oZnNIhLHZ2ANbXg50ZfnPWKtVMuaK6Vk3zzphkpFB0j36RtJfulJGibZE7ugVLMbKjOstDezvydX0RsyVgc7OoD7xZB9J0tJPg3jfeyxdwnXAqv6QpH7imGGp5oU7E4hSS/JY4WxbIripJlgQ4OSRF96rBpB5KpymuRslq0lI2iahq5aQvs9vcHRF6f+ejtac5IaxOqiODnM2Swlu+c48Xzt6EA/JmYfOVdDHcSNQZIsuvUk7oOiyL5zNVRuh8lCJguqM/O5r8P0/SSJZ3WhadpTJ3H6xuPUpteQowulumh6uhP3oERynBr6mnPrpKcxxi+2NCabs9kkJeklSd9o/7F3CSKx8dNJTzsV6fnBdwZdVAWSDSbKkEsinVS0v/Ge2yQa63826w9DftKgojf1irtSV54oPym80ZnNOlIQ40Hs9GnXkVPL2dpO2pa0rNIobUscGsqfVqgMto3GK0+U62jJ2aTOfk/qrOXk0JvrkG6yLLxInOx3VKeF8Jn/ek/FNBFEPz9AbzYjqWycZ++X+3EdSQ9ntl1FHCMy6BGjft3ZUwVHi+v0LVNXEEe8qFNs7H8oT2dUjtSxZFWmzmbpvnnS01kVdZ7dp5ON+aXkJA3j+mUXRGww3VZphrPZjTzpT+9QOjry2QO7zvRO5S0j79gciw5kHTk0z6meQ2Y5Lut4ZjN5LI4VZ5PNejHF4g2voXGUcjXB2aw7NI841Suc7ORtkB+Vmzg30gwbG6SV2VXzyy07m+Z1k2FyoAnoH9WZzNTK5TC/RuEmOjw3Hf2jY2+i+PqGGT6jGU/u+M8kGdKREdZ1R49FHTRG6fh/rLOpn8Wv96RBoYR8HTefTPZWZj3YTN18kvytNPBYfBFDWQbiHGUYKOi3KOfHyLt0TGNwPTY2lhQ2i8zLYnSdpX5QljCEh9lNN5nHt8iBCLaUxI5M3qoMlHLbWa2vMZYGJslpBB1c5IkfDnOkWZlMbmCUJTN04IiKCSYaS+3ZIs7mARLBnF27ycRQTXMHjmJJJ8sSyBAWZjfd9KmIFSy2t0V9ZU9OaJjKixi/eG7xektlZRRES0t5jGVzIIIPvHaTt0o3LRRJR0ydjSY5mzx/05vxuq0hJEjvcVnWGUv5KjpsWhfFXpg6OJbKqOiRRfk2lr9NslHK4kRvluQgPYanPh7GMz65kcTJoh1sHJv6n436Iz19ciam97BNfUHIUp+m8DKYPd1RbjKUPG2Jw+0cPTaxfZQGXhAy91OUm3XlBrBs7Qg6Nsk3BBzzOtSRjJlUzirqxClipjDHcBi1157vH5FDjK+j/k3CCNLZK46YTx5bh92EsbLRmxGjfFj+zA9jZdbMVBxbRc+Mx0g2ecPC7IgNptsqzdhnsz9mbFqJlzQ/4irb4urh0VgQ+YKVF2aMyFmOsLAw+heAfp2cMPLDcvmEBfRxJ2Hoo90QvkcOtwkVer22ExuDafetSkbQ6FgUNroVVw6W8/zCENCvE5xGfgirpes5C+8GUvdGm4jlKZVSmPZLRH/UAfOmuEvHDVC2aaFUt0lD0aN9w3VT9XoNOzcGQ4MqJAeNRmzjFflzoxqOKeFO9Es2VqeeoJ9apG3YhTHhIVBDh02fb6EhwInU1bj8ynPwYde0GmXYtFDSGf3fwk009FahC0bO+QBr5vRBaWkp/euDuas/wOS+bfnZO9u04Z8muE/BHG/6WfIpPs+UdE23dy0+6TALU+ioApxCekoBcP0AlhnVe/5BB4SGhiK09/+D6ft7Ktx9l/yV4vRQe/55/bfr/LMhBi6+Qm+Ea5AcQMtbex65SZtpL70RcrFjE9WOkg2IMip7YtVIXvanH6jBBTkmHCZj1Rp/qGpz8Pb8Qrz6r9fklx5bmoFYfIXe8NckQ6pmLpI2W6+lylSY4NK8/hsal6aV9la46y4YzjqgfQf6ofsVv0kBnAavN+fONkbpyQxcjCuEoCY5AG1Ri/O5SWigqrYxcBQCVTrkvTUQ3uGbUKTVQRWwBl9aflOuQdRt7eVvzaOtfTv5WzNokmwc8EC96qkx4Y0FcKY2MO/9lZC6rg57v1iB++aGNMsONqn/Nag/h/FVYgn99EJvk+FRTWUmf70BTqWnoID2gAPLDH06bP5BODB7FNob/48aJFvi4PBXkIrZG6bFbAtrxTTpj7Te42ZMpbWi4tq5D0fop9PUPagjdSicT40n21N053rsNhkgMrB+VRX1Kf6BHpJZ5qh6zcHe81TmCzzkEAUtDkX1xxObxuJg9hz0om6ITZTvxcb9VClU7XC/UT7MPvcfOYaXuSoxBQekQAnV3TDUzgmS6b4OG0y3VZq3qbuqF17buRHMn6vNeR2jXt4G2e2yjtcMrFq1iv5tQ+6pfCzzb0BS+rjrkXEsE6/zga4pOCBg9T7EeKigy5uPYaGNlc8LM3h+q7At9xTyl9GBRj5THzUCZ4RRB1CH7QtX4CgNObt+ObKmvI7nu0gxGqLD+IVS3dZnoOjUTrziLJ+wgkPAauyL8YBKl4f5w0KxrVFB/7nxfHoqNapAwaoUHD27HgmHpiLkwyD+JrZuy3KsP3sUKatqMPmpxh3/G+MRjJz5T/zzn0Z/M0fS0JtD996yIaJ6UcT8biuo2twtfzE3NJbogkkzAqnuVyFx1U5q2rTYsuILjHh5EjU3jGIcy6MfHcZjodxfTP5S3oJfo3nYjq7iCJLC+6P/y2n4dXgA7aU3wIki5DF7S23LMgtlX7/qRfSQozIcJn+EWE/27Qy27W9AwDeMDhVHkhDevz9eTvsVwwNuqJa3NroKHEkKR//+LyPt1+G44aqqJ2DFvih4tbmKowlB6On0GAJjv2l8LLoVuVHZuIdjIRtTqxIR86+zNL2D2PLlQ3h2dJMHTz0t0v90F1DCZm5MnJeWo1gySBi/sH6fXkXHiLeoQbIlju5CCZ9gMnUgm4bqkU40F4rxDWBtMXYuHIf+Ae/i+67PYCSPICPbJNupxjeZx6HLfhsLm+II/HyVXmkFh/ZymatZtFal+b8g5BCA1V/O5E7XhbXP4uklhfSbjajaY8ysaAx0lI8bwq4Pxs4Phuv98rGtGDnEVckvYNa2H+UTjaFC+zGzEN1A4VQ+sxHFZ4A+wdLN+7B2SQ0WvDy8AQfVCnb98dw7jdXNdKb2hVnbYGtN/pS4j0MYs59U9tODluD7yWMx3G44QrjXno0lQdPxyX1hGNfavia9l7//bx3QoYPR39/urz+j00p0G+jHnW7mAO7+hg4uLYQ6MBxTqeNeuzUemwr3YFP6aIwbYeZBFh/G8Vb+JYvKva/AresAJPdOxjefvYxB7VtGsrqcYyiSvzdE5bZ38G5VN3RT1SJnQRiWt4q/WYm9r7ih64Bk9E7+Bp+9PAgtVM1bj8q9eMWtKwYk90byN5/h5UHtW6SvOPRfiOzKk9g4vSfsas9h6/xh1O/axZ9w3Da0iGwcMG4WmwSpxYGPNuDw7mQkPq48kWg6Ldb/rvyIK/wLdWZarVGKcbhRg9RwnCs/SqVE9c/N15177HAf+7zfnn/qClfCt/NjmH31ZezYvRjju5t5CG3ukhzw0nO4YJPz5IzXP3sfHriAtc8+jSVNftJZjsvWHtm2aceK3arc0M9Vqnw+lGbdqILnvD4KLzfB21b7zMWLHtTYxqwBu+9oCNeJc+EnTa00DeYQ74uBh0qLjW98iAI5uFHUPpj7ogftcDFYY7FwXTBpXjDUVC2Tnx2Npb0WILSZz9l43R4sxBeL06w/ujeaqdVufAMf2lyRPyOuGBvKPH0t8mjbvPKc9JDIfVwYuA9KAztM8mulx563EO6z8EkIvQGht3g577zXcjPeKtlx1+XgnVGvIGtqGJ7R+5p94D2Efuh2YfFq85tLHQ6/0RevZMqHN0QmooOW4ZRuPGaFtdBGpa4eGMieF5V8iqX1hFWJdQG+WKl0wMptmBdaiFe3FWDTImrfanOwIGw5WtzfzIxG0LJT0I2fhZaq5q1KZnQQlp3SYTx1iFqsqukRGJVwit60d8f4FYWoPBpNbb0OF5LWYM9t5G22lGyUSRDdyfcx8rlNGBWmPJFoKi3Y/5xc0IP1O106tma2fKP0kQwSdi1eXW+5nO7wG+hLDZItcZxcevDHybr0rWh2Ma9c5MuoHKeOxUA6mn82ezrSq9wQ9uJgnnY9urmhHztRlYjlW8xskq4Q7wW+yR/Hm+A8R1paR23S66Nets3uu3piKB8qDmBntlnlfr/OZ2FVo4ehnxTSatzgb6Mbzbrpmu5tV26bh2f3/E5dqZZAi2sWpoEN6x6bCBtwnt2D3/WFu4arRnPR6oBZ0iNw3f2YOiPQsjLZhA6FS0Pwauk9esOgtVwR/Uzt/zpdnpwI5m7CeTL0T8tdx4L7oNTlnOR3M1zNalxtbCf4VkWNUfH7EOdlR7veWjz79EIcsPA7wbrrv8rfTPn9uvXFN+5T5mEIG7QvPIC5IcYrvpwwPGgI7fU65C0agxeTisB/fr22GJtedMPYyrfxdgMLxCzqtUWu4SduE3cjgy9A00H77+9QyILwK37T0WNtLT9qGC2u1tAP3Q84ku+CMZNZ56nCpueCsDDjPL1FpqcqDiDW1x1LB8dhGu+A1PEMC0Lhq//Ca67Uvs1ai0X0Jq82ZwHCLD290V6FlMUR5FfSvrwyED06dUK/uXsbf5x77SdpFmV3hrTOTqfFv7+Taolff4OOHlutppbaI/mrLTTU3qaY2jmFBq+XZ4Mq849Iv50uD2DGXJMalFY1k8tQp/03DFXV0WMtb48m8d8fkbkpC8q8vl2fSPxzPP3SxgHtuEG+C3fzyaQcfHtYarna4tVI3Mm/0mIbBl7bddPAb0YL2K5ZElojsHozWk42XfDiIva0sRZX68bgWaM1LWyWLbBHJ3TqNxd7G1fMG+h/5vrjg+f4QFmLrbPmGZwj3WF8Ky8Craq2xWOyrJdOw4OoraLJ5S3CmBeT+LpdllfxphfhNrYSb1ODZEsc+Dwnjee1WzFrnmHZne7wt/Ja1So0XEx6s71jI8o1IVg1n7ltP8vlNTx5qj3/HfL5ms3f+NrHWm1vvPCmNFm35cXhCN90DFW1tagqzsBCnzE4GxqBvvxKU9jSuu2RzrLdX2LDOykD8dqKIDpiMIf7M6ObZlrmjYk4ofLA+28+A+sroCz7Vk1GflHIOmwboPwdfJNzFp29GT0iZh85WVGtfwOQ6DdRZq/R+5GoHfnkSg3bUuIkWRckb9HiHEziU1JICv9jezn15HuWOfFX68ziui0k2aX1twRi2y2UZiube6tJ0LqTpJRtUcRe2c9fSqhCEbX/KpJvXDaO/Ia60VtzfOuGddLWFuyNtOB4pWwpfI/AnmzvLHn/Sh5X/i1Wt3m07vK2SJfZXo7ey6WtE5icTu4gL/EtX0CcX9ohy4htjZEtbZdBw9VDIkmSIoekGBI2wJG/Te2fzN5fY3HzyVL25pjan6zKtyAD/oa65bfR2TYp+UulLR2k60vrby/1p0B6k9F8+yn+ZrrSHmZY1R09kg7ueEn+YQG3eWTfSTP58zaWty6hcdhv9CppmOiTaghZetNkL+2Hx/XVrjPxCYvR65eix2zHiIjU01KfYHUw0kc733iSX3qFap4xddL2G5b2zaX5bQ2RdJbLif+piKPfWrlvsX0Ht5BQvvG9inhESv2l5oqhf6seiyT76vVRY2ge8g8bsD0NOzo6EveI5fqtkzSOLmTGHpPXKushvU1L66dxJa6uw8gyVjhqp6hzLqWr/7MjPedn8LdH2d6B+/jPe44lSUr5qLxOfuIjxbXrSSK2n5TbVX6TnJXHleYxbBmtfzGJ81DStWH/U74VkxTfTtORODq6k4jlyjYjGuLoMoNsO3uSbAmV35j3oHI7SduK2juDrj1GIvdZ2D5NwUp7/4fqa/6H3lJZNYEkkdmaGhpX30fsSGAiret/GtAXeeshtt+jC5PBjK3kbEUpyZa3/IGdL4mX+4GyATyXV0dH4ugeQZYr2zdpHInLjG3kLM0nWhlHPKLpGGCul2bwt9HtiFfUPnKmuppcyV9F/Gla09OUt9GNdibhemRP7L3eJZHyW9D2vYPIu1+fNBl79PmyMUUvCw0J3niSVFTX0Lj5ZJW/cdzz5LyRfDTBG7ndrzGxBx4kOpvJgfUNZQswQ9yyxmQzbRPJU7afoXF84/NJqdX+I/20oXqm6TvoxXEePD2eb+OK2Wj/C99cbJv+sAak/S7BT7IZKntH4unP9pMdRLx4emwvUn/ydpr1H51k45p++x3W3jHU7hrpxuWtIcSR79pi+GN+yFqjMdKWOHUFCcTPkemftIWVP9vvdJCXlC/bI9j/bcKKyd4WH2Sv4ntPTo/PIPlsn9VXvYim53SyVb/DoJHu0Wsdabu6+C0n0UFK+o5kGHtdn/2Ii7k9VTkSP6Vg3Lehes3HHBUZspS2PbOnFVtJmIMUZj/oVbLDgq9gSg05utyPysCOdJ4cT3JOniQ58YHE0X4QeVf5WVlmV7aESj9MQnU2ch9rP6azypinIo9Re17RcEZWafznKund9YXKa/hdPtRzz9/QQUPdRRmd9gIqrymx7kRbhweAHyuhD7LCPX/rAI0dvVO6YB6XpeEINW0FBdM8ZFg57v0FZf9RfiOScmdbODiq6R2DMZXIP1iJzgN7SdPlltIyR65jvbhK3alsqn65FxpWSEty4uW4Gz+X/QdGpbOAUld6V2MSt74MGJX5B1HZeSDYLzMaU1tVBmMxMCT5ygd/IrSFB3HOYaDpLghsBuvE/ehrYWsEq7qjF44NOmipja3pCOXmyp7dERfi26ILBv1p54xB/+htWgaremraX3Q/HMTRNgOt/twme3M6K4/l1Q7dh3qjh15I5jrMknfAX69XmuqmiewtUYvizK9RVH0POnoOQ9/2Kv7Cwr7DpWjLfjrUxaxTmEPrWZSdgeLqdujxpA+667Oi7VyUjYzialoGR3gM7odO8jmTNjTq46byMuiETluE7IxiVLfrgSd9uoMlo9OWIP/YfiQ9/wEe2XIGCxtbO1xbjMyvi1B9T0d4DuuL9ir2wtA+HC5tC7enBuKRn836NGurv15Hpakw8bcOGp5/Pay091+pzfzJRF9pGg5t8JN5Xf96L375ybq+KHpAGwnD+mrwSwN9qLY4E18XVeMeHrc9VOylmH2HUdrWDU8NfKS+nbSglybUVqEK9wL/OY3j35agmuqiaVszDO2t5HsxJxM6NyWehX5vUcZMJRzQ5ifzuHfizt9/N5UP1R2HNj+Z2QMmh7/ieqVZHWU9a1A27n+tVxbr/ScTr7SbgLu2XsHigXIQg+pBSf4x7E96Hh88sgVnGlfMBvvfPx740ax+VvRHbz+pnEvykXOM2gxZ1387atwO1rE0rtXTDfbGfFYeLtB47boPhXcPC3pjSxwupxwco5GktvgNRzN1cJP7twFTe9uux5PwqVcRpS9TK6mcl/v7f01+PtpYNqY2iem4iW9DsWhPG7IBxtD0jv37AEq4+fPA4H6dDNfUy8uyzjZ3XLP5t9EFAoFA0Di6wvfQP/x+rMue8T/6m+mCPwrttilwfr0b9n//Bl/DbgJbB9g/HPevy8YMoZiCm4xwNgUCgaCFuHbwTYx45y9YsukNeJo9eRAIWh4dfji4AwVX7oGjcy1W+E7H3Z+VYs0osxV41w7izRHv4C9LNuENoZiCPwDhbAoEAoFAcFuyCy/+xQ9r5ZdENCFpOLVm1A28sCoQtA7C2RQIBAKB4DalMj8JnybkAv2m46UX+rTQ7i4CQcsinE2BQCAQCAQCQatxg/tsCgQCgUAgEAgE1hHOpkAgEAgEAoGg1RDOpkAgEAgEAoGg1RDOpkAgEAgEAoGg1RDOpkAgEAgEAoGg1Wjc2WQ/YVRWZttflbUf5xcIBDcD9nOJuUlRWJRWLoe0JDoUfhGBsIiVOKyVg5qArvALRIRFYKUNF1fujUFYWBS2nZMDbITXPyUWEWvy5BDBbYWuEF9EhCFi5WE0Q8X+eCr3IiYsDFFNVdw/NeznGHORFBUG0S1vEuxnN3OTELUoDa0xEjQLtvVRg/Afgt9BXuI/ms9+oL0beTI0lIQa//m7E3v2I/fBW+WLBALBzeb4xleJfzcV76duMUVyaEuSQWaqmR1QkZA0OagJZMxU87KpGr24jCQMkeyNR1yxHNYYF0nWktlkoqdGslPCFt2eZMwkaj7OhJBmqNgfTlnCEEn/POKIrZr75+Y42fjqROLO7QaI6JY3geMbyav+3YiK6aFbDGmNkaA5NO5syhTFuEmdyErhLyf6CgMvENxU6kjB5+vJEfmIUZcaxPtp6zib9N7zZAZJyThJauTjJlFzkmSkZJCT5hdfTief7yyTDyTqyr8lO3d+S8rr5ABbUZwVYYtuU2rIyYwUklFPSerr+i1JXTn5dudO8m2TFffPzdZg4Wy2KuY2tC6VBLWgs1lX8DlZf4Odz+ZN3U/EPo4e8wtAC4+i716DqxyupzwNi7a0xSyfKixd/w0qfrT+SL19wJt4y88Jlw6sRMLOQly6+pt8pj5PhK3Cix5A0eYofJ55CaZR70NXLy94uA3CP3prYCeHShRh86L1+KbiR5iW5GE8PmIQBg71Rg819f2tchQxwz9Dz03LMKqh3/7SVeDI+tV4d9XnKLneCfa/XccDPv4I9Povtic64P1d09Ht0gGsTNiJwktXwYtv9wDad/dF6LS/ISfqc2TK4XfZP4xeo6dj2qCHWSyBoEF0he/hH27FeJt8gQA5DNum4I4xybSbFuG71+r10luQSmye8Bje6XOoZcp7IhaP95iPguCtIF/opSK4zbGo64Lbhm1T7gA1S+weEKJbtjSWbOg2TLljDJKt+WtNQVeI9/7hhuK3b7DtuMtpAw3ObNZcIVeMb0QVrxpBJNX4Bq/mHNkYrDGddSmIJlQQBK7RpEAOYtRVHybRHiqTO6HqZH+pDEGp9D6XZVtK8ndEET9HFVE5+pGYQ5eliEbkRjrxa6Q860j1mX0kysuOQOVIQrbWj69Qlx7OZ0i8l5fIIfWpO51MgnjeQSRRfydeR8qzooiXnbmsqkmyP5MJSJCxUC4nEl+oiEfkIWK9NAKBGZe3kmAN06dgYjJZsDXYSN+lPlJaWkGqrU20sGUypTSOSQduBPP+zqBhFXImUp5XrMx+1pAr+ovrSEGMB3/cY3Emtq6aXLFUcKXMFdXcDphQFEPcaHq2zWxSe1DRUFlto+aKIl85PZNyNZKHkdzqqitoPNO2ksJK68tbRjlvrf3qqq/w9KR4N1bPlqahstVcMTq2pusKVE8qrOmDVZR2sSZbqqdKerK+WWuD+tC0r5iXheWn1ImmXa/N5DArddDrmFJXK4VR5Mb7YL205Dwasge2ovTBBoRirLtNmdls1GbZAMtbKZole9RgHkzGhov1ddAjhyn9th6KbKzpo2LX5LZsQIQ2YM2G0j7D7KDigzRWZkWv6tmIy7TtpKVJNzor3SLOJnPoTAtSQKJdrRiHovXkIxune6szPiKrjadu5YG03kBy+RCZx9eUakhIWrUcKKGU26QhSpYTbyt5SlymjqG09g3OUSRPDjWhOo2EMAOoGkISLPij1bSsarP063W4mqPUobYjHjEFlpVSILDIcbJu9jDizPQTzmQYXzu9WnrEqDibCzeS5X6O0rod9mfnReIKjLSsrpzsivAkrj4TSejEAcRRBWLXM4KkW7vjocboTE4iifBx4euzFR0+mx1P3pLXbJvnqeoWQTJ4d6QD7ZkckhjhQ1zsab+SL764L5ZMdJfWcardx/L132/vLCZX8neQmMmeRENv2Ez6Le3nMWM6k84jokhSShKZTW9G65XZVmeTOjAhjo4kMDaDZNAb1hGd7Ygdu6buNDkQG0g0vA6y/TqbTVLiQ0g3ti4dboQXqbqAbI4JIz4u9rS+bmThxuX0ptee2LP60ZtHx5CtpPx0KpneU0M0Gnpzy+ThOJ1I5qmaFGyOIWGyLBW52duztFi8ELK1/DRJnd6TXqshdqws9OZ4upFtq2Npu2tIz5B4kpISSwI1NE+/BMKbmLbV8R0s/c70Wjcyb/lMuewgA978mITI63rh9hJJ2l1AS0Oh9dn9mjcN15DAlXJYQ9D4KwPl9bHUBr7B0qFyilXC1ENIZFI2Ocvi0vD3/Gk7qzxI1MGzVss2KO4QyUmMkGWqjB0N6DodFo8uH0NcPf1pmD/pSfWFTTokGOt5PerI6dTpxF3Tk4TEp5AU1tZUtn4Jsg2mZY1/y5+4s3Z0W0g2LvfjfUOqZzcSISm0RWqu5JMdMZOJJ2tvxfbL6fEwBJFVuyJIT9rO9mwyAnbEK66AlB+KIX6dqZ5w3aH90GuZdC17JL8phkx2Z/JwJaHR03kdeVmYjintXXOOyu0t4s/jBZHohBGy/qrJzAyW0GVyKGYM6dzZk0TQOsfTfq9R2RP3iF3SMhWmy7Mlh4Vd4/+e3G5cT1/i/UkTuJIUsKrbYjfqCkgC66eeESQ+JZ7qqQtx5DcLjTgs9Lo4L3viMXsTychIJCE97YmdB5MjbbMDTMeN0zhLsmnaii5LdoKGxVM5eEp9JmjVLhJB07C3l/qfnVccKSinNsSvM+1XUl9jdnGZbGIkWybZHQStovXsyfsk73/cfpZTOfqRzrRP8ndUWPspFzMatE/UBh6ndi3Mh3Rmdm3ecjJT6YcD3iQfh8hrLGmfeClptyRrJv/dr3FfRS9/MyzbUOZfKc6mmQ7LOqfvIdTepU53J5qeIbStUnj/Ne5Dx9fNJsOcpWudh0nv6Jj4ZE2g6c6m00TyCS1UivInG2FTJSoiMdz5M3M2mSHPltTYgJkHrnD5KDlgLl1rziZFmYk0dw4tOpuKg+sUSXLlIBPyooizcySJCWeNqCbh6fqm0VOynBlm2sDh6YaGMyGPfDD+I/KdfMQwcTYvp1NlszdteIHAZuR+Y97HlD5CB/bIrHKqW3Xk1BJJV1VU8SRdqyMZMzVEHZSqn03na65ZnCEJxOJcPr/zPUpivY10WKYg2lXKUzNCfrpwmaQGSQZwSAIzfNIs0tFYqRzG/bd+/5RmXzaHSNcb91vpBSNlAKXkRhInGsc5yqjH2+RsVpMNgdTQ+yYa6p/sz+UjYUm2ik2TnU1GHb3JdWJhKtItZKO0FpUOmNE8Hh1ovCJJFh/N62hRnWmYIg9GHTk0T3rqouoWQjZKF1NZSvJQ0cFNaj8aSuvJnS3aNtLVygtU9EZXTk566qMigRuozWRtdXIdCZJfylB5RJPs7OVkjKsrmUEdVr2tNLO5/OUWfR42wJ/K0HTU4URvIpUwM9vKJiS4rWygbOEbT5DSo7HSRICJ7C3regktr8otWnK4KHWH5nF9gGYmyVDKY05ZAhnC4ujrKT9xUgUSJjqO8rSNOt4jYqQnTpdTgySZNSAfPlu2OaS+bBWZ8PSyJAfvMh2DmAxU1GkMTJTXMSuTHLKO8z63mYTIstLQeMer66hvuZ2Eyw6AhkasY7NW2QslvWdhwRtJ/vYI4tlxGHWklJkvI71leibPhmmozkt9QNFvs/GuOpn462Vji90oobpJ62DULlSBSaRc3oa6ZV4U7SMO88gh+ZjrvZEcLc2O1rcfl0miryyHETFy/1PsEXsKGah/Csn7PI2n1hsUQ324LZP7n9L2KnpTEpgor1e/zORC46mprrFjSsP2idnAk2SdbBeZfY7OzibLx7gS1xlppLounYTzdjZuJwrXV0M/t4RFH0ffZ9hTU0nn6k4tkfqWivYjuW2UF9r0dom1Nz1WBW7Q33C21HrbG9xnswZnC07T/7ZRmxmDMQmF8lFD6HB6wyt4ZfdF+bhxVMPHYjLVCJSk4eApKcwytchf/AG2wg5er02CpxxqQIe9az/BQ3NC8FrIK3CGFonLU1Apn5Uox97N2fzbAC8PUIW1gDvmb5wLagDq8euVzZjSMxBHpx1E5pxeVq4XCJqP61trET2oPdUtFR4d7s/1UFd4CmfYyfLP8O6yKgwY1hs6edsyXY9B8GBx9m/EXkt7ZajUcOzQB492kY+NuLNNG/7p9mocXuvvQL854JmJo3nY/ux8+l8FtWMH9LF0cT3soOnQAd0e7SAfG3B41B0dO7rjUZYFo6092tGPkrMV0rHNXETZWR3w7R4cqKCfFIdx0xD6wD38u81QmTzACoDumDpnPLqzReOqXvDxo0MMtSNdAyZhUHvWu1XwfMKLRUTOkeP8k8tEuhjdp87BeOli9PLxA7+6awAm8fajoZ5PgF+dcwTS1ffBydUVHemf0308AGoqC5bn2TJqM1lbdX8cfbgIXfHW2kh4eb2MLUVFWDZKTW1lCF6h3isKPkD8Xqn+zKbt2piDwLDxPH+bcBiD5wNpCbWJSN4tp0PDJtPRCuUrsD5TCmLr33dvvBuvhAynvpX1sn06/u/o0OdR2KIlQCY+fn0/Ovh64q+Vkg5XdugLn7b0VNU6bJXMc33uc4Kra0f650SlyFAzNaKiOwsmOs6dbcA12u1VxL3Wn2ozrdYzE8E1en82mEZbwk7TAR26PYp6muvQDg/yLyPx0muDwFXCwQejB9BPnQ4+z70g6Q7Nqbd3d/qpRW4BHcR4n+sGqSu44dV3XuDvGdh1egpLPpvH26lq1WfY3UaDDl6PoxeLhiCsWD0evZ9ajNzzezHjkS1Y+FYedEPCMVG/cI/q2az3MJWOl1XJc7HiKAtzReiCQHqGjncrtui3nSrflIhDU8MRyMZWG+yGbu9HeH2/Dv6vhqOXMrCpPCGrf4NUnC0BKtORkS+9ZaHynITZA+6X2sJmHNBOEjZGvvSa3P8c4CMJGzqf5/CCJGw49PamPZdKO7cAisvgYLgYr8n9z8FnNKSm8sFzL3SX3g1x6A2pqXLBmooHNWifmA3sjsclxef2OdLLCy9vKULRslFQq4YjROqU+CB+Ly2pRPmujcgJDMN4mzulGa5vYW20pHOqR4fDXxoIcIoPBKw7uMK1I/0zGBJI3aGMWsmWpenOZrvH4TN2LMbyv+fx2sqDSJ1rTRK78cbgwRhM/7wf7wTHwLV6Ja7HmU/xvBy3bw8n9JljzVpYwwHteTsexwmqs+ac+fR5mnZfdLrvPri/cRVjkrOwM9TCslntFqz4YjBmTKImz30K5tBbAd32hXKHVPgZV6ulb/ZtWS9sGhvDxiK56jp+tf5elEBwQ7Rpc6f8rT7aA7uwn/aXu6/m49tvv5X+Sl0wPyUFKSmv4PE75Ii3GK4z9uI8G0Bda3E+NwkL5q6RnOcm4wq/5+hNonYjgro6Y3R8PmpVo7AsboR8/sZoay85kZbQNdbp5QHKIrpfpRcMqYM0alkRzhctw6h7tSjaGYuwD3bzM/WhjlM9VXDHrHfNHIuz25GcMwrjfZtiz9QIDJ9K/+uw6XM5HV0ecg6xL1qsS5UGTd3etfjkoTmY4s7CjbFUNhs5nIGtNMO//VZp0OFv78DoRKbDqxDw0DU5ohlq2s5F5/kAf6+2CDtjw2BVdK2K7ORa4bffrsvfLKPqPxJjWFMZOQ4Sd6ON4uQxcvdhF2uE9g+Z3kSoBmIoV/cSpMmzM+rAcO6A6nZtwh5JKbA9+TtMCBzInS5b7Eb2ji9pyzuhR9emj4sDJ4RAQ52the4O6DX3a1ToXDFj2XR0k8/fCNLNmBV++w0NSlt2wCzzG5Smaop9smSf3We9C+nebQW26OWfg1Hjfam2NJM2bdBQF1OPWoai8+wm9F5oi3YiNuwD6rW1Di3yC0K9n1+H6dJtlRkjEZ2VhSz6l/3deVTuk+7GLNL1JXwmxz1SdAUlib7yiabyILuRrEfXlz6jaR/B+ZoanEzsgczgvni4fywKlVsImbPrl2Of/1g8cY3dubXBoCAfGlqCT9Ya7jZulLEfJiJQo0Pe/GHwX1nYYukKBLZw8WIp/V+Je7oqN43Gf2Pwj/ZSvFsPHX7YPBcDH/VD/H/64c3FL6KrfKapuM7ZiX1RXrDTXUDaDHc49ArH5h9up55YiW/ig+HRMxwHHSZh2YKRcrht6B2LLR9g9Qlq977egO+VGawmoBo+BeHUqOu2bEAaHSC1W1bgi8eDEUTDtF9uwUGdFltWJGLA9Ek2zljaSGU536z6vw/1sqDDYzH072yK0wqV3yA+2AM9ww/CYdIyNFF0twjK5ErDXLpcLo0vv143G2dUcHSWRmO9Y6vMrum2YPn6s8DRL7Dk8isIGS55r43bjVMoyGVe0v2wu5df0iTUo+KRnRwER1UtjseNQlfn0Yj9xvSZ4q3NDdondSDCpU6JD6ROiQ3fT0V4UztlE6n8Jh7BHj0RftABk5YtoF5b69AizqbKZSC8OssHDaDqG4p1lr3SejiMeg+fjHxEPrIB3RkUFdNP1WA80VsKsowdur/wEaLYjGXefLyZwm8hZI7iiyWn4YosfPDuu3iX/n1yvB3caVsb7jYYrujhIXXArG8P88+mcI/LC9iQn4pgTRXSpw9D6LbbqUMJbnfa3HUX/7Sou9Q5uHBL/hKYDoWx/dFz7DYM+GIPPhwtP85qNg7ovzAblSc3YnpPO9QeT8BY75exy9gc3LJUYtuUnhgw92fMPvQlXuorPe5rEtSxePUdagT5Y7skbN/wvX4Gq2l44ump7PHfdiSs34vVH2RhyuurMY+FaROx4vMUbEofhYl+LTxg3nU3L2tB9jFpRtWEWlRd0Jo5VzKV2zCl5wDM/Xk2Dn35Evryx6y3Mx3xSAPD5MMPOUltmpOPYzykPh2NEnCfMgdMK7KXfIGkHevw0JwpUCakG7cbwL3cxz+BwmbduKngMvlLlJzJQoyfI3AhDfOHjcYS6nfd+rSEfVJh+KvvcPkXfBCPpO30BnBCIAa2oopWbpuCngPm4ufZh/DlS32lJR6tRIs4mzajcsFA6pWeWD4K8/Xreazg0AcDqV+6a+YkrKE3WY1x9rOl2ET1223RfAQ0KjBHPCTP3lysuiJ9oUiPe6Lwr/WrsGqV8peClfLdHr/bkBk6KQwa+lm+cQcON6Nfqdo/g9X74uBlV4XkIHe8KBxOwU2im1s//limfMXH2GyidtRgLh6BmRm/yse3ELqdeG9+Hi2hF57wvFGLeAKxPq+AmSC77uOxorAEqUFUIlXr8FWuFEPiV1xvzpjZ2hSuxRvJdGTv7o3eyvqwZtBl0gz5sV04FpSFY4o8g9VU9A7K3KfwVo00EyaF6bDrlVeQNaXpM6aN0rOvtI51+0e0/UwbqXJzCEatPmvRcS5c+wYk0fWmtxu3MdpjyC6g40jgRDTox/cbhlFMEOVpOGjitGlxpqicJjAEo7yMEugyCTOYUpR8gPAPHsLEJw3z0Y3bjQfh1k+aLd36L8O6T1vZNsUHK1mR2g/CaztL8G20G006D+vTTV/C+PVW7JQtZZ8U+dMbtfAFZQifMtyiHrcMhVj7RjKq0B3eN2JIbMRmZ/Oaskix+iqsrIYxohSn2SyjBWrz38Pzr96Fnsrs46mzOCl/NUWHis2z8Py2zujR4POXWhQnTcDAWftxf/BW7LFhY2hd4VJ8sJV+oR3txQBlRchZfPZ+Ih4P9q/3uEcxpuxuQ1lPr/J5A6tDHKEqWYzn57H1JVK4BC37gYUYPLj+Y3pjVL3m4Kt/BUOju4C1QaPxxm31yEDwx+IAJ27XC3GCKhn73fHEg9egvXaVny0+zR55mXH9On5nnz7TsIAtFNduxLODXkRSbjHKinOR9KIbvP49Cysm3LhnoLtum8P6yCMd+WdxfjHtyZXYuzJVv1jfhF/+i//yL7uxmd6Y6bRF2BSzCnS8pV23Aqd/yEchG90qK1DGwuo9NjSjeh0+26YMh8oLBB7ozRb9U+Pbm731gK2IX/sDdDotipLewSfcppXhdFnDM7+/Uzk3m9+vN7x+jPFLLX5mn8UpSKNtX3s+A+8t3clPlZ2/iIr8fNj0y9zqCXhjAbuR1qH91KcNL0tqN2PCfXfgjr+0t+0muIs/gofQTyrwUe/OkmbCujyJidRo6nQPtsCAaUHXz43CrGCmpwV4Y5g/Fu48hrKyY9i50Bc95ztj2ev1FohyfqnlkqOiS6O2uRbnM96DJLoynL9Ygfx8K5LTXae3Hi2JDjZ2EZlq/KhVNJo6d6uXYo/KA4sWBja8nk8diIWL2EusBfhoyS6DA3h2ExL3qOCx6GM8bzLgqeE7fhSNzxpzBtirC3pssBuek+aAPfTTbXkFszZX8D6oq9iMzfJCwLOn81Fm9cnJfqzYoHjEystyavTt0YmHdJc6JbbGr8UPVGe1RUl4R+qUKDtdZvbjLabYao8sYkvb22qfGkWNCW8sgDOVnK79VDxd/w3meli0odpr4CNB8WnqjZlDbQwfCH6B1B2KkZJWCF3teWS8txRSdziPixX5YN3BQep8KDxB4+gK8UXiQRt8QAvIb6Vbx2SPOelV+m5sb7d6WxjJsPj6fepo3Cfl30+nf8r+V8r2EdUFu0mSfn8vDfGcqMSdKO+1ZtiW4Gx2EokcIm8boPEkE1k8f0/SsWNH4un/FknMOWe2Gam0D1ewvOWCqtuTPO2JbG87ew1x9YmQtxuhsH3GIofw7Q3cXkoiJlVj+88lSXuNsXScg+ONzteQkxun8z3ZVI4DaJnmkDlzaD29exPfiFRyWtn6gacRSYbot7CIleXHyvg28W0rhbN93ELilT22BIKGKYqT+w7bPmVEAtmVJe3tJvWRQBK7u4CcpX0sXr+Hm4YExkp76NWVsz3opP3npD870nlyskFnzTHTYfWQSL5H4zHaL/V5OgeTeJ7nZrNyHCKHdhv1X74Ho6znyn61NFxl15PMTP/WpN/yNFNYmatJRoRSDxqX/YjD14mE+hv82M4rmqTsSCJRI5S9Hz3IbP1+deawbV7siJ2mJ5memENyMmJJoKPRXouU6owII5tnR3pGpJPEYJqvvTvxf4vagGPGdkFFPGYnkd0FZ0nBbsN+gCqP2VxGBdnS/nU8LbU/eS9lN9lF5fES32rGEI+1lT6eUv4CY3vK9kBMofaniKxV6kn/7HpOJ6lfR+vL4jj5Y7I2JlDem1K2NzR9i6Lg2/yYb7eyloxQ6m7jb3xXbwgkKrMth3iY+T7FzNZaKRsfD2Q7zOo6JJLJVCq1ua5L+0seNd1LltbdflAUsfDbHgaKaN3k9uHtOj2VfC1vN8V/6GPlDqMxyZkEM3t81ngfStaHLOvVWdrO8cHSFlfStbStDtD2e89frhO7lrUftftJswl1ynhcaTygekJ1Qt9v9HugKlsSqYidfWcyICKe75PpaPwjJmwvz5nuch6SLpqOz9J+pJ3t6Hg8PoYkJUURPxcXMmb5UbMxU4Zvw2N5yz9b7Mbl9Aj9fqAqtqcoLesIWgeVvQvxiUgkOecs5kq2Bkt19IvaQXJyNlFZ2PN+p2/O6gwSoexNSf/4HpaJwbTd7Ik79QHisw9Q2/Ee8TcbZ5nvYGKPqD0pMPE9pL0td+1OkfaDNYp3lsrW2Efh7VfA+r6h/ZjPwPp+o/bpyxgSqNg1nr41+yTtU266lVEDmNvQL4x1WNZXqsO7jfw4JhumIkVrlT1Z6R+9dnrq1/LWbawOIYT/7k1RnFxX5ueMaGQfW+vY/HOVgoagd1kXKnGN3y3cg791MP/pTIGgNZD1Dm3h4Khu1uxRbVUZ/kNvye/5Wwdo/iilra1CGS2ELWWQymvoYzrtBVReu7vZfa7B+svlurOtAxzVKtRqtWijbp6cW576bc/r8mvTdEH75dN4ePlQfP/Ny6ZPdNgavA1hcN7+DC59NaHh2TNOLaqq6NBmLESaRtUv90LT4M8C24p1XZd04Hd9OzUKq1vlNUAfn5a97D/41dbrbyonEPt4D8wvcENMUTZeaPsf0J7STH2X6kk1mlbdEQ1VtVZqTKt5NG43lLykssrKYVOZG25POd07ZT2o1ULbRt1gXW4mLWKftF/i6YeXY+j33+DlBp/qGtEEG2qOVEbWHWSd4Gn9aqIj9eI0A+FsCgQCwf8kZ7HSpxf2hJXjK/OlE7pCxPqEAysy8Zp+w0TBzcfY2fwONqwSE9zmnF3pg157wlBu003e7cPNfUFIIBAIBH8cbM1VRBjCImLx6ZwgzCqbhdfqvb1zCSkR7wAxXwlHUyBodXQo/CICYWERiP10DoJmlWHWa42sxb0NETObAoFA8L/CqSXo2z0Ceey7ygMx334jHMpbmNrzqzGpexi269QI2liIz8c3Y5srwS3OKSzp2x0RUqeER8y3+Oa1P98vCwpnUyAQCP6HqD2fi6y8/6LjUG/+84eCWxRtIfZknDZ987ftoxjq2+tPN+v1P0/teeRm5eG/HYfCu8etsi68ZRHOpkAgEAgEAoGg1RBrNgUCgUAgEAgErYZwNgUCgUAgEAgErYZwNgUCgUAgEAgErYZwNgUCgUAgEAgErYZwNgUCgUAgEAgErYZwNgWC2xIdCpcMR6dO/bDosE4OE9yK6LQlyE2JRXC/UUg4JQe2ArofNiNqwmh4P/4o14vgLwqplrQGtag6lolP5w5Fj1EJYFWqrTqGzE+jENDKdeTUVqE4NwWx0wz539rooC3JRUpsMPq1Unkrt4WjR6ceCN5wVg5pApXbEN6jE3oEb0BjV+sKl2B4p07ot+hwE3SL6ksxq/80DO0RgXQ5VHB7YLBfnRBxA40nnE2B4LbkF3x/6BBKS48h+/srcpjg1uMcjmZswgfT5mPd4Yv4+boc3NJQhyHUOxRVIZuRvedDDPzlMNaFfYIM+XRLoi38Bgc2v4uIuEycuPgzrmsL8c2B3Vj6z0XY3pp1lDlXcACH10Vj/io5fzn8luXcUWRs+gDT5q/D4VYqb8WxvThRegJ78irkkCZQcQx7T5TixJ48NHb1L98fwqHSUhzL/h62Wh2uL4fXIXr+KmSe+BH/lcMFtwPMfu3ByteZ/SrFjzfQeMLZFAhuS9SYsOESKiouYftUJzlMYB02Ezyz9WfdGLpCLJmpzGB1htfY1zF1ND9oNY6umIvkqg7o9IgKcAjA6lMVqLgUj1Hy+ZZE3csXYyeORHf5mAbAd6w/vDvIx61MZ6+xeP6lSXCTj29F2AzgTEXZOnth7OtT0Zoq4L6wAFdKr+Dc4oFySBNwX4iCK6W4cm4xTK420WMJ9YQNuFRRgUvbp8JWq8P15flg+AkzdRvC7NdLCPSSD28A4WwKBLcrKjUcHf+cvzbR0ugKlyLk9UOtPuvGndqlIXj90M2ccdPi5LES+buESu0IR/HrQH8M1ElbGvI6DrW+shlhB00HDf3fPOw0HaAxudiaHqugdnRE01WrLezbyV8F/5MIZ1MguI1hPz14sFArH0mwsLScc+wbzuemITU1Dbnna6WTZvC1dqmpNE4mjlVZiiOtz0tlcdJyUaK1sFJLp0VRZg7O0bjFmSzeEVTwaDpoizKxh5WP/RxbmpRPkaU0WNwSWu5GynI+9yAK6fUVR1i9MlGsj2ZaTuPq6io2I3TYfOTpruPn/5ShrOwCjIug0xY1KAO9jFj9q6pQZbH8DFquzaEYNj8Puus/4z9lNK8LWhpqij4/s3Lq4fJk5UlF5rEqWjPr6LQXaH2Oo5j7mkr9ynDBtIKNpteYDBgm5bYmAhmugyxuZpGJrBX4OjCuD7RMRfVlxKmtwrEmyUGqO/+zIHdTbNBrrrNMrw31Scs932A5qLJhc+gwzM/T4frP/6nfFhypX7C8raVnS3uYw6/h/d4AD9tTSG9HDHlalLe+D/ODhvWYyeUgS9MUgy2xbm9sgpalhNstqd2raJ+rZeW/YGhfSSS0DeXj+nI2sj369NJwRDJMFMU2WpaHidxku5R2pEIfr2H9NlzD2s+SvVPstq7iCI+XWXgBF4zqYrBRxvU2tVv1sW4DJaQ6S0ODbI+t2SAz+bTIbRP7uUqBQHA7cZZkx0cQn8527KdmiVtMEQ+9mBVHJntoiIqGwXceiRrkSBw7OhJ7FT1WOZKIjDoej1N3miRP7kw6j4giO/JLSfZCN5qWHek5P4NUK1EKEoifoz3xenUHyS/NJztme9C07YhX1CFymUU4u5fETPYkGjuaPnxJcIijlDdU5KkZYfryOQ3xIz3t7YmjRjpmZQnZylOQuJxOInrS80HxJOfkSZITH0g0NA3HoGRymhW5uoAkR/gQF3sVvd6VBIV4ETueD4hHXLFcTjviEbmPnCw9STYGawjsvMgyLpZqUrD7EzLRicV3IhM/SSEpKbtJAa/kZXIoyovLICkliUSNoNex+sUVEEVSl7cGE40mmGw8c4VcOb6K+KsN8q4HLefuTyYSJ1Y2p4nkkxSa1+4CLs+twSx/VxIaGUQ6axxJRypXLitNCElTBE65fCiKeHUeQaKSUkhS1AgqBxA7rzhSYNR0xlQX7Kb1Ma9fCtktVdCG9BqXASE15GgMlbkmkMTnnCQn98WQEY4qqfxuMUSSRhGJcZPKMGREN6Kys9O3kcoxhBia+zJJj+jJ00qkeleaHU08VLStp6fp9Y5qHjmdPJl0ZuXekU/jLCRurNw955MMJVJRDA/T519XTQ685kLbvSeZvpFec6WGR7NEo3p9MYvETfYgGtZvqF7PixpEHB07Ekeuf7SsERlGsjGFtccnE514vZ0mfmLUFltJMCuvayiJDOpMNPr0QDQhxnW3pT2Mofq9OYZMdpf1KXirFHw8lczw6yi1Ac/ThdqCjnJftSMj1pbwaNUFm2kfdpdsBIJpKXmgRT0+lh1PInw6S2nq251SV0AS/ByJnUck2XeylJzcSPsMK7PUAWUU/ZDzsAZNK8aD9uXobHLlyjmybx6zS9I1NVeyyUKeBohUzRpyhbbfKn81D5P65UWSFTeZeGgk2bqGRpIgF0fi6TOAOHI76EFisnaRCHdH4u7vT9zlNh2SIMnDxIYqcvP0IQOovrN4HjFZZFeEO3F09yf+ssxVQxKIdDWF2zI7oglMpLpF7Wo01S1q76bzTk7bKpnabRfpOtegEOLF24P+uUeTHav8iZp9pzoXf7KCVPMGryPVFUlkLMs7+rAcVp+GbaCpTHznRZFBjgYbpHKMICZDQ3kqCWFpzZb6x8YQ2l+5fihybx7C2RQIblNyI6VBzcT5oc4RN15sMD8pDbiXk/0lo0IthWRTqklaCDVGbtEGp6M6mfiz6zCCrL3IjtNIiIZe458sDcCcyyQ1iBl2avji5DwvJxJffh0zxAWk5nQqeSv0A5JOL1LKp/KIJkd5UagTET9EMuSqQLKBj7BFJM6DGkHnSJKrN3h1pCCaDTJGA3HdITKPO1Q0jNbj8uVDZPmcOeRzWoG0EGkgoFElCqKJK42nnpkhBygDnRsxFhWXi9M8ckjJt446BNyoOpOoPBaQQWZS59Jh3iF+mlGy3Nu6s8kwd4JkJGeTlT2VlPP8qsmGQMn4+yfLrsZl2gYqJzLPUCB6nRTHWSqQFSzXz5b0GpeBHIceRxoaiNSlh0sDYz1nk+rjvCypjjVHSTRrWxqmH5CL44gHu84jjhSzY1qm1CB23RCSUMYDqOqFUGfFjUQblJMk+0tpj+DKSTGT8+X0maRnz5lklyRc69iq14pzCA0JTDxJ3RoKlycNU1Hnp4FsimIk3TXVE0N6wanltNaU6g0kkMvanxhUoPH2sEQ1vY7lqXc2GYqMqIMVmSXlWZcbSZxZmLF+6vu+kSNoRY9pp5acUONw2l7cvhg6IIl2pXHUM2kPUrDN2SxLGELj+JJEpXHq0km42nCN0o9Mq1lf3gXRrjxM7b+KyGaQmipfHgZ1ENmo6EnJcuLNwvT6SJHtB9T+ZJXhYtnOqUnQRrn9qEYv92ZhHoTe83KK4zx4HuwmmFOXSoLYdVT/JfWuI4fmSXYR9CZ262V6c7F8DpnzObuZyCNRziw94z5LYW2ht5eWadwGGtkg6ghL1bpM+5V0XbCi0HW5JJKWwbR/KPW8MWdTPEYXCG5T2ja0CGrkc3ihu7QIy6G3N3+ZQ1d4CmdYwNn1eG9tFTyeewa96CjBUY/DRwdSkLLzffg9DJRv+gg0CnzH+cFBjkJTwjOzw+EEHfLeWYlMHtQOD/Jz4/HP13rBzuUZvL1qPobTi5TydR8XgD68KCq4vLQMi+goBt0WbEjTApkr8U6eDk5BT8FTKQuN1yv8VdABEFVrP8KmchakxgM8OTe8Oj8ADg798XJcHKbQCrgHvY3Q0LcR5M7OU+5sgzb0Q/vTNenYIifw+UfboetwBy7vYI+76N+O/+CeruxcCdIOstci6vDLL0DlZ3FIkp/Xd/F/HTNc7+ffmw4r+zNoz+upRk9P6RWb0osX+eeJzz/Cdl0H3HF5h1Se1B34j1QglKQdbPKWOY2nZ4sMjmLFQhrHdSqCDA0E1SOdYPl9IDdMem6QVEe7PojcuBh0MIdu/xpsY8l1GoqZc0IxZ+ZQdGLRaVu3uZt9VuPqz+zzLNa/txZVHs/hGYNyYtxHB5CSshPvM+U04TrK1z2Nfgs7Y92RT/CkJFyr2KzXekbiuRe6S2shHXrDW+pIOMU7UjNwexXzn2kvrbNW94SkAqWQVMCW9rCMuq29/M0C3cdh0iApT5XnE+DvehQUSbaAoW6LBq42heZTz+q4B+Ht0FC8beiAaCN1QDTUAy3xyy/siix8+skBaSmOajimxg6EIz9rO3fyAgAdvL0gm0E4uA8EdcBoYB+4KnrSpT26sM+8YyjmARTZftCL4WW4GAOli9HHVW4/emV76WIcky/uNHQm5oTOwcyhknZD1QaSel8FV296pVoyZFQV5iPAwQH9X45D3JRe9Iw7pswbQj/L8UncFv0yhRNp61E2NRyB9O7OGk2xgSOfe0GWiQN6SwqNQlmhtVtisbgEGDNlnFH/UOp5YwhnUyD4H6N872Zk08/HunSTAjjUERw4FmP9+nAjk5+9n4fatzWzcHSwGsw+tQeRd4KHNBFXDJRfS2VO1om8g9yotrNvy8P0qOnAzpxS7Ed2Pg+xisPw+VhFHdyBdxdhZ2wYnp65DmXyOauUf4PdBcx/GIgnnnhC/huGN3aVorS0FJsnt6eRhuKVRR5QVW3B1Mcc4L2QDoAP+uHFVnmtthzfSAXCQH15nsCwN3bx8pRungxWItuxIT1bZHDqINLYetAe3WCsLTbTZQBG8UFaHpBVvTAlbhUdXJ1xKTcJC55+Gh/ksPMy5XuxWVJOk/xULgMxdqwf+hhGQIniRRgTnIUnIiYZbpwaoPX0ugWwSSdvQRyGY/6qVZg/8G4U7YxF2NMzsa7RDmiZbpP+iWANdfrfG4yuzhP4TZ7Hiy/CQz5/QyhOZLOQHehGUPWagrhV9CbY+RJykxbg6ac/gLF6N0aX51/HVKqaui3LsZ5venoUKavKMCFwoOzgWqZZNtACuft2UdfTFb1cbOhMTUQ4mwLB/xg/X63mn1evmS/xV9Di2lXpW/04ndGdOw/Nx3hG9ppcluqr5nfgXeEsTfw1jq4CX8/1gNOgVSDjl+CrZZOtzLoZ8fNVsJwrq+rg0KEDOpj/8VdzVej1WhZylvvBUVWLnLfZADgaKwsbXKXfTH4GF0VlFeocLJSnyW8a25CeLTIoPkbdRMp//4tf2GeToU5qD/mrTG1+PAK79MS0/L9j/oavsMB4WxW5TFTx6r2AYpEHu6O7WouNz45GbKPt0rp6fcPYpJO3IjpUfD0XHk6DsIqMx5KvlmFyc7fBYtt25e9CRE876C5s5Dd5vebuRaV8+tanFvnxgejScxry/z4fG75aIM0k24pqOEJecaZfsvH2x5nQHd2Bdb+GY8rwRpy/5tjAepxAUR7rQz+jtnmdvUGEsykQ/I9xv+zsHcrJo8OEGefykV+pxiMdpZmfQ98e458GfsRl/sivO5ylJ7JN5vfr7N1G6sh16wrHDlIi5bkFYE/LDVzBj3zXaFd078wDrFCJbaF9MCruL4ja+gme6mTjgHy//DgwPQMH6wmhEvl7/o0K9nZnFdDn5Z0oOZOFGD9H4EIapg+LxEE5Zstxv7w1TDoy6hcIlfl78O8m7ddtQ3q1NsjAwUnaT/HYyWb+8o3SjkPg3YeOiYWxGOw1AwdGrsT2l/9RfwsdpV0O5YCPeyacQ36+mdvRbhKWJwVDo8vD/KcXoeEf02pdvb5hbNLJW4/KbaHoMyoOf4naik+e6tTs7ZcYOm0VftE8icWFlTi5cTp62tXieNxTmJJoah1uTXQojB0MrxkHMHLldrz8j+ZtS+c+610E0gurVi3HP9etA6Y+DU/5nGWaaQPr8QjtH+yzHEVnbLrVaxLC2RQI/sdwGv4MX0enXTEPH+Qb7XuhK0Ts5HfxPf3q/dQEOjTTOFszcJiflCn/AUXUDqmDJ8KnWU9aypG77wRNYCqCR6r0ZcH+XThgYt9+wInv6IfbFAT0kkIsot2LxGTqERqvK/r9euNbdTh5YCCbQNAmInKp8c86sm1f5uH5tFposA9zh8fT+33qGrcfhNd2HsUafzYKUJm0+KNWJ3hIBUJi5FIYT9KxrZvmPZ+GWo0cYBM2pOdmgwx6P4HBrJ3LV+CLvfU8oMbRFaOAtqMqMAzjqdd6bONy7kR26PSIPBDrcP1X/kXCaTiekZQT8z7Ip+6+AhvIJ+NdppxmqANW48uZVDgl78E/dBsdeq3TenrdAtikk7caWuxNTAbvgYYOCH4/2QzOrB6FWbtZze3QffwKHNkXCWda//QsaS3NXXdLjWM8My3dvN4KHMPG5ewGXv5xBYbuOozV2ybUgZgRRltatwUffXwfwsYpCzGt0FwbWA81ektrl7A9YX2jP13aVISzKRDcpihG9vr13/mnCb9eNwxW1+RHkwpdJiEyhA1bBVjo1Q0Dp8Xi09hpdKAbiIyQjzDZgT3NiUJSMI1TvhiR8afltHQ4nPAh9muCkfRhAB+0Dcb0V1w3jI4mlOWfkPfdZLMgb+DN/RoEJ0WBPxnq8iI+jfGgjsd2RLyxV+9cVK5bilW/eCDmi1nSon79AEaNqHF1720Le27XN+Hd93JQnJuE8Kmx0ssPOdnYueMLpJV3RTe+oK8A278uwoV/xyLsExXCF/rTfHXIm++FvsGx+Cz1M8QG90WPWRp8/KGP5AwVfISVmUrF/goHx3sB5zEYau2Ra9du0trBgu34uugC/h0bhk+KynGZT0kVoMjCiyXKEgL38IVgvqwubz68+gYj9rNUfBYbjL49ZkHz8YcNOEGWZdN4eu6Ny0A1Eq+ydavUqVjx7EQkHauCVluEpDc/orWhFO/GhtQ9MGz1Wo0f9ZsBso3BI5HYJhgbV0hOnrKEouCjGGwqPoadCydg3k4WUozsnAwkbajGpMgQ7lQVLPRCt4HTEPtpLKZRL2xgRgg+YsrJMNFpFXw+3IcYDxWqkoMw+j1jJ9UUm/Vaj7FeX5OWJjRC127sZQ+mAl+j6MK/ERv2CYrKL0uzksYv5uipZqsGKDa0B49fH53isRv3ewWqHHq10NI6yF/1WOrDFvWYHitOjD7Ne2mbSqXa9O57yCnORVL4VMRKHRDZO3fgizQ2K1mK0/wlmquwunqH8xs2Lf1M7+ioHnwED9FaB46Sftuop9cgLoPtC9/AjuJi5Ca9iBmfSj+cWbw7Q78nqUUH1NwOmmBUd4uOWsNt/yu/WNm4vgAfxWxC8bGdWDhhHiT1zkZORhI25BnKZtFuc6g+z46SbsK9QzG2seUdNtlAdiAhlVVCWcak4Prc22DdA9lzEfRGBkq0WpzPeAPvbpLO52z5FKlme7najPxWukAguG04TlLfnkH8XDuSjh3pn6sfmfF2KsnMSiDTfV2kMBdvMnl+Kjl+PNUQ1tGDBLEwlkRdOcmKGUM6y/u82Wk8yfTU0/KWHgpsW47JxFOjIZ19JpKJPq7Ec/JyckjZE4Pt5RfoRlx42h2JR9B88nYqT52jbEmi7uZOXBzdib+/O3F0GUNi5G1YDNSR06ls/zkN0bj7k1B/T+LqE0FS+SabFLbv4dQhxFXOx8V3Onk7IYtIm+DIezLK+wd2HhNDss4dIlGPsS097EjPiHS+hUddQZy8px2NM1nev5PnO53Wz46XE3YaWr9EeZsmxh4yx9WTePb2IP7zY0hM2ADi4j7dUC6L1JGCOHkfULvOZHLyTrJhfhDxMCp7QtZxkpVg1H4uvlT2ktzqTtP28tTIe1TaEY3nZJJoKFA9LtI2f3uGn6lsqC4ordB4eo3JgEH1gOqKtM8piMrenUyPDiVu9NP/rUSSc06KXHNyI4mgOqKxtycuVF/8vV2It7G+MC7Tthkk7+/H0tl4kpzbEMjLp3L0Iwl8u6M6Up4VQ8bI+7TyMk1PlduMqd18MnWIqyQ7rtMJJOt4FokJ7C2HuRC3wBnESBXNaESvqb4lTPeV9ZrVYT5Ni/Y5fZik61bTrysgcV5S2e06TybJOzeQ+UEe+rL5TpfKm2DWblJ6trSHMRepLs0nk6msefq839P0M1ON8nQlfjOkPOPMyrF5cwKZP9nbpK4JWaxnmevxaXI09W0yw0+RO0vzbV7mutPJZLLcVnadWf8+Rw5FPcbb2K5nBPlyi3EekuykPOpTvOJJ4ulJ+/+QUBIT8xZ50t2FjImR9z9lyPsD83Kp7Ik704vUEGLv4kMi4jNI/pUzXB5BHlJeHT2CyHxqK44b20ZFZ7JSydtG7ew7/W2yOomWVS8jg24Z9EEpfxa1wdOJr4sUxvsdFQbb13aQvHenPbUVG0+eIxsCmWxUxNEvhqyNnUqGGPf7t2n6FkUhbRU1RNkPrEEas4Ffki0JRmX1nkzm07Iep3qmhHE5yQptbjNYevN86adPGInZcdzqXp+NcQf7R5VEIBAIWpQTsY+jx/wCuMUU4bvX/ui3LwQCgeA2oXwlfFz2IOzSV5hgOtV+2yIeowsEAoFAIBDcEkjLOr5rZG/N2w3hbAoEAoFAIBD8YWixa2YPdOrUA0MDBsN/cQe8/+pwq2t0b0eEsykQCFoYHbRFO/Hpev4KCYpT1iOj+AL0740IBAKBwIgaVJ07j9LSE8jcUw7/jRswrQV+tedWQqzZFAgELQx1Ni9U4prJy5Z3oq2DY/19FQUCgUBAkezm9b92wC27f/8NIJxNgUAgEAgEAkGrIR6jCwQCgUAgEAhaDeFsCgQCgUAgEAhaDeFsCgQCgUAgEAhaDeFsCgQCgUAgEAhaDeFsCgQCgUAgEAhaDeFsCgS3JVrsevFB3HHHfZiwWSuHNY3a87lIiZ2GoY/+FX+Zsk0O/TNQi/O5KYidNhRd7nscsSfk4D8ctv9oJj6NCoDHX/+C1hC5dteLePCOO3DfhM1UQ5rIiSXo+5c78Je/R+OoHGSN5uSj0xYh87NYTBv6KP76lyn4M2ncrUk50haFISzMtr9FW4tQlPkpogI8Wql9btxm/emoPY/cFNYnuuC+O/7cfUI4mwLBbcm9+Iv93VCp/gr1PXJQU7FzRM/7SpH5w1XqBv25sHNshx8zMnGuVg64VVA/gru+24OjV1tH4vf+xR53q1T4a3OU4h57tGsDtFHb4y9ykDWal48aXT3vQ2nmD2il6gtM+AF7Pl6NLw7+H/q9EIF//vOf+KeXFqtXr6Z/Wnix439G4IV+/4eDX6zGV99fo+p5F77bc7SV2qcFbNafDjs4Ot+BE5nn6C3ynxvhbAoEtyUq+CyuQF1dBVaMat4P6NppOqC744PyUUvAZi58680kslkw39aeXmSzci8q8wJ20HQYCm8v+fCPRLsLL/rGQqq9CmrH7vDy7s6PWgOVz2JU1NWhYsUo6to1kS5TsaeGoCZ7BlzlIIkTWNL3RZNZl+bko1I7okP3/hhomrig1biGn7TOWPCvNdSh7I4OHTqgg97LuwdqdtyhO3VE1+BfC5xRXXsHHLt7ofXU88Zt1p8OOw069HkUf7IfC7KIcDYFAkGLULltFp5fWykfyVRuw6zn18IstGXRFSL2+deR96t8fMtQiW2znoe5SG4vdCiMfR6vt5hw70SbNvJXQStzDx4YNhvj3OXDBnB/KhSO//1ZPhIIWp47F1Lk7wKB4HaitgrH0uOx/ocO8HrUXg7UoeLIFiQsXoPU3bk4ezfBtUtAZycrMwmntuDtLwsBtwmY11uLfy15Bys27MfJOzri8UcfwN1yNA5bX/SvJXhnxQbsyCuH3cN/R+cHWAya54EoBATE48zvd0PT3QmkvBy/kAuIHx+A+DO/425NdziRcpRffxhdHaTZFbZmVMpvB/LK7fDw3zuDJ8dh6xt3Y1nyD+jgfAXr3noXa3L+Dz2GdDedSastRtKzQzAzkw6UbTugx/1X8f1P9+DvtL6ntryNLwsfwvCXXkDH0mQsfnsFNuw/iTs6Po5HDRnRrLQoOpiE+PdXY8MOS3Vna0D/hSVJF9HV816cTl6Mt6kM8n50xN97P4z75Fgm6CpwICoAAfFn8PvdGnR3Iigvv46HuzrgWnYCPt1XSUW+ECOwEx+/9xE+35yHHx9ywd8d74exL8bWOe5e9gE++nwz9p+sQ7uOXeF4f0PeWi2qjqUjfj2Vm9ejkLTC1vJTmZccwZdL9+D3IX3wCL2uOOlZDJmZiZ/RFh163I+r3/+Ee/7uRNvAUj6URmVZheyET7Gv0g0TFgbC+iSaNT2uxb+3puNw0ff4/vtyXH+4KxzqCrEn7RC++56FfY+f7vk7JHVX6pOEi109ce9plt5SfL6nDPe7uqETlWNtsXX567QlOPLlUiRd7ArPe09jS8JiLP18D8rud4VbJxqP6t7Oj9/jbZP340Nw+bsjjJuG6fe2VUvoNZtpf/kRD7n83bTt5P6053cvtM19B69/vAMXfwPOn/iO10P6U+R9DjmpGfi3SVhjOMN3yhMweXah9HeYyf+R/njR15l+MW6fEaAVxHsffY7Nlsqv9NEPmPxoW9e1Q8eupjKohyWbJYd9eFAF324/I3PNMry/murnf13whCvVHdqXjsg6u//kHej4+KNGdsJItz3+D4estoccb8/v8Gqbi3de/xg7LmrwhEd76pKzti7CwaR4nu8OaiPq7ndEJ6e/cr3VFu5B2iGjNpHtCz1h0Du5b7O0GrZrDGO5Mb27E6dX78AJ8zYxh+obk81H67fjYOE13Kn7D679tSN+K9yK9MNFvGySfa1D4Z40HPrOrLw8jRuR9Q3Cfq5SIBDcThwnqTMCiYs92E/NEreYIjmckMtbg4lGHURSL9ODunKS6K8iCN4qnbQEjc/SgMaRONp3Jp6eLsReJaWrodexZBh1BQlkhKMHidx3kpSe3EciPWi60JDgrTwjUl1xgLzhyq5zJW8cKCWlpRXk0qUKcuANV56W6xsHaFgpqaiu4/ELEkYQR49Isu9kKTm5L5J4sDw1wYQldzHrXeLX0U4ql5MH8eisIRo7lrYbMaqqRM0VUpo0Voo7NonnUXqlhp/aGsyucSJDRvQknQdMJKETBxBHlo9qCEko4VEIqU4j0x1VRB20kZTTotUVRBM3VveZGbSUlOOp5PWx3YiKl2UIGdGzJ3kyNJQ82Y3VH8Q5Ko8nU4+6alJx4A3iyq5zfYMcYOWqqOZpFsW48WvdRowgnXv6k9BQf9KT109DZmbwXDmX02eSbo6BJDGfXpufSAI1rOweJKbAEMeY46kzSKCLvSQLtxjCRWVj+S9mxZGp3o5SPNB24KE15EppEhnLw8aSJFaH0ivkW0v5MBqTJaeIxLgZ52GZBvW47hCZR+9nTPSBxlnly8JAdZIeX8wiy8MHEA0vO9MBd+Lu/xaJiRohhVFdi4kaRFwGRJD4+AjiyWQLZyKJ4yLJWh5OBvAwEKchI4i7uz95KyaKjOBhVO/p90EuA0hEfDyJ8NTweMa6ULTMi9jR8i08ynTxMkkNUhvp3XGSPNVDLhvVAw8votHYS7IPTiHlif7Sd5eF5CiLrlAUQ+XpRqKttL9NKP3dqvyV9nEjI0Z0Jj39Q0mof09aFxqmmUkM6nmZpM/sRhwDE0k+1Yv8xEBeH5VHDLFcPMs263jq62SsrItwG0H83AeQsJgYEsLDVGRIZAwJcnEnk2PiScx4SY9VgRtINb324tevkxGKHqqp/dJ0Jj4T/Ym7vZSeUpbjyVOJh9yWcPMgXhqNbOMkGVzeGkLtgjMJ336OanwNObeR6h6NqxmRINeF2qtoqc/CNZoUsCCZutQgmresp43YNYnL5FCkB1HRsI3nqG7UnCSJgZL+NNgn6gpIDLW5btEFvC/VHJpHnPX6X0cOzaN3szQNw1hQR8pX+Urpyv3mRmTdEghnUyC4TSmIlhw5g4EpJnEe1JAMSSBlcgjJiyLOtjibzvPIIclHo3YtRjKS1AAFbmCmRhqAjJ1akjGT0HtlamjpAMQDDIOUcTS9Y2UayAdN0+ToYEzjqaljwqGOCnfUZOeqrvxbsnPnUb3za4JSB7N6Ss6minjESAaaGeD0cCmfIQmyhOpdK9dDFULS5BCpvDSMDiobmRfFKFlOvFmYUyTJlULqo1xn7JBRFJkYO/Mly715mL7+1VtJsFpFHSc5P0pZwhCprMbta44iN+M8bS1/XSoJYmEmgx4tR70wiqV8bJGlEtbQwNqoHlvWNam9ZWeTo8RzInOyZOWmOpAaJMVzmndI1gsq7mR/HuZKB3MFpZ2c5mRRF0SCOxesjk60vxguJv4sTO+IWCifLBuPuGI5wFAOSQ9qyMmMFHLgNE20Lp2Eq82up/Ayei8nyn1Ss1DayKr8lbIrN5KMErLcm4Wp6c2QFFJN01GraBp69SwjCUOk+uj7lgXq2yyKUibfVfwmhaPoF3xJor7T55JIfpNBnTvzeHqHj1JD5Sc7l97LJWnp2012/GpOZpCUA6dJXUkCGUJtnTo8Xa8LrG1yI515fP2Nkr5NvImcJCcvytlwk2GDXeNyo3IMTzfkptefhvpEWgh1/gzypxeRDYHUNsp5WbSzilwNHeLGZH2DiDWbAsFtyp31Fr/di3vb0o/9b+LF2AOoYG+Uuj+HL6b34mcbxMsb/e2kr6per2HZXCf6TYctWzOhO7weywuAmr1LDVulfFEoPX7VZuIweyrXBA6vX44C1GDvUsO2K18USg9ztZmHwZO7s430OLP7OPj1UkHVvi/8/PrAgYU1ie4Y59cL9C6dosIjnTrwb9VX5fVpI9/EgZQUHHhzpHSs0+G/19nnr/hNCjHQoQ9c20spoUt7aVF/eXmz16OOfCZAX58u7aVXBLQ/XZM+0xKRrL0X36+bqZfRO7t/BGte7N+Pb629LazIzRKNlV/VxnTZRENYyqcpsmyQG9Bji7TDQw/Iyk11oHsf6npT2j2glvWCulFtpUe6J4rP8U9j2j30APRXd+8DfnW7B6A2XCwtIzhRDOlqVzyXuBMpOxPxHB3FGbW6//LP335jAmGo0EYWtqQHdujuMxYDXWiiquF4eQHLpQAfxO+lvZChRVrKdvhPn3STXiYZiWcC9NoJST21kNSTliUxGdp7v8e6mUoffge7f+TaSdXzW7nM9alvs4x48EEo6olerujDvzyIdvpOT+Xcjn0Wo+QMDzDoIdXt7ko8u+F4/Z0h/Gv25r0op58qg7DBqmXX3QdjB7rgTOoK7KeFHTF0oF4XWNt4Tgrj7Vy16jPsZpWhbRLyCltmkI3VqcrLjofxVeJ9CJMXxTZu18qxaSmVG0bDd7ghN73+NMRfaJ+gV6566UVsKmbvravhu3ApRj4inW4yzZH1DSKcTYHgT4MTnv84Bh6qKqTPH4yubswwPQgvr87yedvxfGKw9KW4BPty06mZVGPU66uwapX891kWyviTkSJENskHOIXcdGr+1aPwupIW/fssq4w9ZQEpikRzXYpmoXLBwLFj8Y97CpE0NwABMz9D/i3wnkRu1h76/3GExhnJfEshfuYy/xLPGI1VtwwtJsuW0+M/Coc+fhjr1w3anbF4PiAA7+y8JJ+xDdfQBQikbaxNXIEtbEvK8k1I3BOIiX6Nr9RsfXIhqWco4oz68JbCn6U+/OUzRo7bH4NTv2HSjgrVV2FdBXUozqd30ZS725iV2LWbZId0hTglO1vuU+bAm34WrErh+9Dq9n6BFR1CMZZnZINd033L7hMBtx7oyi5pCj5vIClYA92ptQh6rDN86U1YbTcv9Lpp6mB5z9Y1efJpGxDOpkDwJ4LNSn5zPBXTe9rJhskB3ksKrc40WKVrD2kG56672HQM/aJF6cWW2Ij5upxcKVokuRumEt8s9Mbf+ryPu6ZvwrZV0+DN7+j/WH77lbXYGZRdkI5vD1pOli2mx38Quh/WYUJ7BwTneiFm2zZ88EwT5yPVgZgRpqEJbcE/lx5F+a6NyBn/HAJvBV8Tv0FSzzLcsurZ0Ay/BSous/lPY7qihzQBbqDLJMxgdwAln2Dt3lrsTv4Cg2coM8022LUzJShmn2UVzXga4oCAL47jUIwfHJWbMOcXse2m7XTxC8oPpyM93fTv+2r5tA0IZ1Mg+NOgRWFOIX5xeQYrCitxcmMIuqlqkRMxBUubus1l6WluGJ39BsLrkY48aM9Xe2gOZpzYgEUp3ITayCOQktuDr/bUt8onNixCk5K7QU4sGY1hb+dgaNxaTGaPMG8RHJzYMoZybNxd/7d8tJmL8cnBq/LRrUPLybIF9fiPQLsLL3sHY+P/m4Vl0f2bsfSDoYLP7Cg+k1bySRTCk7/D1OCRf/iMoYQDJPXciPrqqUXm4k/wh6vntatgfpB6oIfZnrHGqODozCoC5GTnm93IlOI0s0MqD/TQJ6BGYPhU+l+LxOXBSPzqaTyn9/5tsGu/O0tvmmvzcfIsD7adcznIOeeA/q/tRMmZLMSM0EB3gd6Ezdt2k27AumH6rvM4f970L26EfNoGhLMpEPxpuIjdL72JNG7r7NB9/BrsWsyGq2KcLmVhtnP02yzoVEMwb4o71F4j+KCn2/IKZhnfSld+gzfClqPt340367iO67/LX424rg9Uw2sETw1bXpllcmde+c0bCFveFibJNYVfr1swvJbLI1GOb3bk8WvuuedeKQjXcLUJd+s2cf06LBXh1+vWh4neg0dTSVFH44PpiC00xGMzZiGzT6Jrz0ZXebUwv6KB4lJaUpaN6fH98nqyMpy/qBSqEtVX5K9/NMd246sq+nm/HRRJaKnz02S6TMK8YKoF2jSkfT8ZY43W+ekqjiAtNRN8+V6r0FB798bg0Vw78cH0WBjUU4cf1oVg9smuuOnqacaJg2lUI53xynM+cohlPJ+eSmPRku/cg4PG9T1RhDx67Dz3RQyVgxiq4VMQTv1T3fYtODQlGCP1TWKDXev1BIbwpaTZWLL2sMFW6a5TaTdCYQImrDnMv6raD8Jr2/+FcNoEOuq1nqdh90sdAmXnL+rTrbxlOoSEcDYFgtuUa/JIXn1VeqlEYjsWvv8NpDFIhysXLwOaMEwytpjG3HW3NFtS+B3y5YGrNv89TP+oDiEbN2Aae0bU5UUsinCk8aqQPMYZXYZOQhhNsIvz08gLWYU5/M7fFR4D2QB0AokfJSHt0wkIXH4Krh4DudN0IvEjJKV9igmBy/Hbi4sQ4UhzrUrGGOcuGDqJla8LnJ/OQ8iqOdJMhDwzgeofoTUeBCzRxxvchqfHY3FKCuaMnon0aydwir9pdAKFPxgS+J06fgzJKDvBpQcrHbAxfCI+/CwWwR6TsLqGhexE4hvzELHmLLuIuqyU6qvUfZI5WwFpcqKBQdnVA5JIEvFRUho+nRCI5ad0OFMkTd0WnTrFPxm66/JwI6erGv4qPhphR0/kYf4TDvAICENYgAccer+Lzh9/CKs/wKKXm1FZbS2/ljqH/AuNp5+c6QNvSbiIX5yClDmjMTOdplIvHxtlqSuGtEzuLCqkAlihIT12Qv+R7BmnFokvPIcPUz/F3IF+WPMfaZZq59I38FUhq4Di7BrfcOhw8XwZ/2a4ATKSP+1LStWV/mUS7+J56uJSjG8g9M6CLDcXVzzODk8sQsicz/Dp3IEYviCXhaBg/adYGLIImTQXxf+8Um3tWagaAbNe4c6Q8yvPweA2aalDMwCjxw3F47N2yWG2oMPhb3Pk71bkrzsDST2LYFBPHQzqybUTw1/9CJJ6zscTDh4ICAtDgIcDer/bGR9/aP1XpSzZLL0jbnyzaLF//c7ETqlmzWRKcQrWH6jg1+sKY/H8W8XwiPkKr8sb2uvzuFJt+gjb/XV8FecFO+0KhEfsk87pKrDpnQ9wxisOX73laTab7Imnp/IWwSshw03OdWnUrilrkamb/p4//BemIDd3Jxb6h2MjT2En3pk0D5uK+EE9yhe/jyT+thzlp0pc+EWFIS8GoBs9dOo/ki970ia+gOc+TOU657fmPzRHys6leOOrQq7XLSLrZnIHeyVd/i4QCG4LirB50Xp8U/GjPBjb4YH2/THprSdQumgNvv39Eh0ofocdKcS5u59H1PsvYpD+1UNz2ObZ67F6yTpszqnEPY5/xd96+GPGnJcxurvyDi6jFsWbYjF/yecouAQ87PYcwqJewgt9jB4SVu7F3DGh2HzpYQyIikfCC31oySqxd+4YhG6+hIcHRCE+4QX0YcnWFmNT7Hws+bwA9AzcngtD1Ev0HE3u0oF4xG0qwFX5FWa7B9qju28opg16WAqohw6FKydg0vvH6BhAnY/PA/DL6g3IvHRVegva7gG4j5mE7sXrsfWokcx8Q/DeyF+RNP1lvH2IlW8ePqCycjr0IvxfP4S2Ty7GF6HAug2ZuCQXxu4Bd4yZ1B1Fn29CgXHYzGmwVLzKvXMxJnQzLj08AFHxC9HlyFpDGe6yx8M+z2EcUvB55iW5vnfB3m08Il4ehIfZxvBr3sGiFXtQUnMfnH2nYN6rszDSyiPqos2LsP6bCvwo3zQwufV/whWF2Y2Xf4AHdYRyC/Xx7rJ/GL1GT+cy1xWuxIRJ7+MYHWCf+/BzBPySiFTzfCa9hWc65zcoy8XP/Ig9eyznYQp7GaERPaay+fq95zDv8xLUUNnO++B9DD75T0ReGoQFU8agz72F+CxhJwplHZDyGmeqA0z+vUbD54ED2KOvD+tLrnjUoRwnCuU2keON616M9VuPyvFoOz3cC6N9HsCBPd+gQhaGJIv5+Ef5e3hu3ucooTJ75q14LAr4CYsHT0Ditd54KWE2nHdtxR5FgCx9B0+Me+sZ9JBCDOg2Y8Jf5qN73hksNPoloBOJgQhadBm+q7di8XAbHtRfOoCVRvLgyPWaPo3qGjtmcZZtxVG5XExmPs+NA1I+N/Qleo3b+Ai8zPSi4gDWvLMIK/bQNriPbSA/D6/OGgnL6mnZZj3hegLfmsie2rGnWZbGOktl6jsIP2aatyfVnQeS8XiP+Shw8sfMQVeQWUw9pDbdEU714cVB7bkzWLQ5Emv3KPmydnOA5ziqr3phyzbw3VXYUPr/oLmvLTxD3sGcSX0Nb2wbczYRgXOBxVum1t8ZoAG7plBbvAmx85fgc25Ime76onjBHjhFvITxo/qhk7HZVchbg4gd5UDpcVTdqcaVUxfQ45WPsWh8dyo1Bq3D17LO1VD7O+8DvD/4JP4ZeQmDFkzBmD7OuLDT2D40Q9ZW7a9tCGdTIBAIBIJbEN22KbD/8B/4/puXb9KWR7cZJ2IlZ9MtBkXfvSY9FRHckojH6AKBQCAQ3GroCrE4ahNG6d94FghuX4SzKRAIBALBLcFBzH3wDtxxx3140MkLi+56H+9MsLYCUqBfjyy45RHOpkAgEAgEtwR/g6t3Z9hRF+rXDtOwY6f8wpygHtrCdZg77WPw3bAKPkLEws+wh78YJrgVEWs2BQKBQCAQCASthpjZFAgEAoFAIBC0GsLZFAgEAoFAIBC0GsLZFAgEAoFAIBC0GsLZFAgEAoFAIBC0GsLZFAgEAoFAIBC0GsLZFAgEN4/aKpSVVck/HXdrUFt1ofHfXxcI/mBqq8pQVnUr9ZwWRKfFhQtaw+9124wO2gs3q/+yvMpwwVJm1K5ZDG8GOu2FFkurJWH6dyPqJ5xNgUBwkyhH4tNO6NjxQTy1slwO+6M4h32x0zD00b/ibw/6YfUZOVgguBUpT8TTTh3R8cGn8Id3nRaE7ZUZFdAPD/6tHdr7rYbN3VBbiHVRAej34N/Qrv1N6r8HI9GtfUe0d56HTB7AbEgEAvo9iPvuexB+N1QILQrXRfG0/tau/Q2m1ZIY28mOmLtPDm4GwtkUCAQ3CSf8I+hJuLqOQRA1qn8snTHstfl4+sGrzZhN+SPRQav9k85uNZFabXNmwm5TnP6BoCdd4TomiDpYctifAHWvyXj7dR/8pakqre6FyW+/Dp8mXyij06LJ3ainH6Z6doTnC0/JG+0zGxKHd556sAWe1KjRa/LbeN3nL7fUUx+pjh/ghcdu3E4KZ1MgENw0XKduQVHRFkzrpZJD/ki6oP1t9qPTusx56DbrBqYX/iycXYmnRjRhJuy2xxVTtxShaMs03BJdpyVpa4928tem0Rb2zbpQh8x53dDkbqT2wQe555G7eDgc5CBGL9c+8rcbp23zKtTKqFkT3TDC2RQIBILbgcptCJ2wDFXy4f8sukLEBs3C/t/kY4GgCVRuC8WEZf/zveimI5xNgeB2pLYKxzI/xdyhPRCRXoviTWy9Tyd06tQP4Zt/oPfuOlQciEcwD+uBoXM34weT5yD0mp2xmBbgg8GD+6JHv2DEH6gwPCrRaVGSm0TTH4eEwnzEB/bgac9b8RHmhIUhjP29PA9RKw/gEot/6QBWRs7h4XM+lsPqoYO2KBOfzh2KcQmn5DCK7gdsjhqHkb5BCBodgGlRUVic1sjCNFq+IlZnn74Y3LcH+gVEYVOx6QMoXcURJEUFwKfvYPTtQWUwLRY7zeLo+b0CB+KD0a8TlVePoZjLZWiMJC9Jnp3q5afTliA3aS6GjktAYX48AnvQeP0W4TBPhLbFESZLJsNO6DF0moms9df2iEB6bTE2Ufn04PGi8HWFHOvcNrw4KAjJbIzMWS7Jf02edM5Gaot3InYalcdgJo9+CI4/ACV5PbXnkRE/DSP7e8P78T5UZvE4YBap9nwG4qeNRH9vbzzeZyimKemUfI2YeS9LZVuUBtaClw6sRJQSFrYGSokblJeuAkeSojBupDcGez+OPkPnGmStPYwl/sMwP49GLNuEhUZ5MXgdg/txOXfqF4CoTcXNeyzZEvql70NKH2VtLOlX1NdGfY1Ti/MZ8Zg2sj+8eZ1NdYSXh/d32h9Nus5mRI0bCd+gIIwOmIaoqMUw6TpUn3bGynpN+29A1CZY6wINwtOZRuUxWJJHsKle1FYdk/IZlYATFQcQL7dBv+Ak5JvnJ5ep/+NUx/qPxNxtZ3BdPtUwch/s/ziVUX+MnLsNZyxd2ECdz217EYOCkvkNW85yppNhULqR1J7UDnkPlnR/rpmsaN/ITWE2gPZTOaghbNFFKU5/PE77Uv+Rc7HNYoVsQbIxTBe8B0v9cq5xfk3SRcVe9UVfOjb40LbOviKfuhHYb6MLBILbibMkOyWWBGpAWBfWdPYkY6I2kZycRDnMmYzwcyfu0xNJTn4OiQ/U8Hjey0vk6+tIxkwW5kNWlUvHuZHO/LqoPHp4MYssCfEkGnoNoCYax57kySe7ERU99ogrJiXLvXl68E8m1exymbrUIAKneeRQnRxgwnGS+vpsMsxZKrNbTJEcXk3SQjRERdO6zI9LSMIQldF5C9QVkDgvO6IJTiXlLK+6dBKulurNy8+jxBAPlYoMiT9Na8cDSIyHikDlSEK2SjkxtgZLdXTs7EL8opJISlIkGWKWFqEl2xriSBzl/OrKU0kwk7PKg8QU1FFxLSEhnpKModYQx55Pkie70bzgQeKK60hBnBex94gmR2toUjVHSTQrBzQkmJWjuoDsTnqJuHFZ02tdBpFXk1JI0mwPLm94L6cSkdkaLOURvFUOsJ26jJm8PX2kBid1uZHEmR47GypJq7mVhDjaEY/oo4QVlTY08Wb5qQLJBrmhL28NIY52HiSaV4ZFkXRBFbhB0oWCaOLKrnGLIfoWrEslQSwMwYSVvGF5Se0PhzkkizfcZZLsz9rNUAZSFCPJyzgPCi+bYzBJlRqJpAazPFTEI6ZA0gFbaRH9qiYFu5PIS27sOtpHHV3IoFeZfs2m17Ewb6LvjrJ+2Sk6Qlt8uTeLoyKBrNLHU8nrs4fx9gLciKHrpJEQjYr4J8v6XJJAhqiMzvP2dCTBqeW0jHWkPDWY64DKI4ZQtbWdugwyk+m7zyoimYtcEsn6sXMU4eI4m01S3vMnat6ejqSzSxCJTUkhsbLdUYenG+R/OZ3MpG2toTrMS61vJ3qtWXuacpmkz6Q2SEN1SLpQXx8TmdhQZ6nPg/Y/6ZjDZQfiMCdLKuvlZOJPjxW9vpi1nLw60V2qo6zHeuR+aWyzbNHFy+kzSTeVbAcoertilpYtlCQMofbCgcyROg0tvj89lvWnSbpI7VXCCKKRbRuj5mi0HM9MZk1EOJsCwW2KYjSDUhXzRUhxnAcPQ1Cq3qjpHQC9c1hM4jzYtWxw5wEWDGYRieHGSU3TZ8awjlRXVJBqlmj1BhLIjI9qCEkwMlLp4WpT58UCRTFuZvlsJcH0WEWtmFLeuvRwMqQBY5sXRR1jdThJN1SbHIiQjLlkXPNIFBsMnSJJrnRawoLzpDibUh0lciOdeBmZY82QHDVa1zJ+yFHi6MutOEDqICKJq5pUVFSTOj6IqcnMDBZJopoOBLyN9IOrJAPAlyTqi0EHdCcWZpTvDTibil4oddLnqS9DNdkQSJ0lY+eWlJG1I5gTKDtZcrsbblooZWvJCKYLiuNh0RFU6mc0SFuTF6EOFNetEPpNQtEZfbUt5SE7RENMG4k4sXgqmq+RrjRGy+sXiK+hYfW6o5S1ekMgdQyMB3wm1hH8ZsPQn5T+aORYcX1QUbnoew7tg0Pk8/IN5ZAE2ooKik4ZX2MDxXHEg9XLI45aDgmpXkZlUdrE+GazmjpsLEw9k0jqL5fJ+MaBYekGxQypDyryVygg0a7G5bCtzhadzbQQLm9ViF7rZHkbO5YW9Jhhbjtt0UU5jv4mTaYg2tU0LRtJC2H9VEUMxZfbw6iStuii4nSb2vE6khokXdsM06NHPEYXCG5z7m5jeGOgW5fHpC93t4E+9M42aMM+Sy/iIg/ohpfSK1BakY6XutFD9ojuh7P8TH06oE93thxeBbWjI9QsUXUgXpvrTK/bjw+/OMpjQXcQW77sgLBx7tKxzbRHF5ZU8rPoGy49tlINjMbG0K7yeXMy8fknJcAAL9C7bT0DF1+hN851+GqCGjj8FRJpFAx+Ap7SaYku/ggeQj91W7AhTSuFcZQ6SiiL9H/7TXqklb11HapUp7EieDAGD5b+FqTfj44dO+Kh82dQzGPJdOgDSVxqODqqcWXvRuzX/R92v2m4NnBFKVzotR1/KsGZa9JlEg+inb4YyssP1bj6Mw+4Ibq9lI6K0gqkSw0ObdEPMGnx8k1YtUUHp0HuMLwz5YSpe+qoXM9gIW3W8k2rsEXnhEHuRm9VOU3FnjoCcmYhmtryHDN5qTAKS8tLUVq+lH6j1J7HD2eq2beGyd6KdVUqnF4RrJfz4AXpuJ/J+aHzOGPSSA3RGvpFW9bQsHr9quYNW45Nq7ZA5zQIpmLdA+qT4AwTvDXad4EzbcvkZ/sinD8yVWFg9EZIXScbW9dVQXV6BYIVeQxegPT7qTw6PoTztguEKQ/SK0pRkf4StRy0etoiWDUX7R6QbARDTXWYfWp/Aldz3W58tqoK6DkAvakY9Sj2ySo67P5sFarQEwNML0QbkwtvoM6jlqK8tBTlS7nWUbX7AbaonUVs0EXd7s8giaI3TEXRsCSsMWppOUpLyyEVvxbnfzhDLYdlrOsicCJ1BbVXKqraxnqnQpu75a83gHA2BYL/QVRqRzjcewHb5gbA54WlOI+H5TO2oIJnyBx4028ln6zFXh0znslI/Hsoxkp7gjQBd7z+VRy87GpxPCEIj3cbjdjDtbhfP2KZcSIPB9k4bt/WxEgboz1TpF/DZ4oTnLpI6ZZelNzuxjmBPJ7hSLyXlYUs5e9IEc6fP4/zB+fCTYpokfzs/fS/C8ITja7N/g6n2bXnVyKgrRSv1WHOnMO9uLBtLgJ8XsDS8zBt8fxssJK2o3K1hlSXdkz0rYqdpgP+VnsY8c/7wGfBfvxy3/3yGeucyDsI3krvGck56wiKuJwPYm5DjWTMTdevfEhitae3F03E/XV8FecFu9rjSAh6HN1Gx+Jw7f2Ss6fUY+R7RvLIwpEiJo/zOGizQBjsRtMB917YhrkBPnihnvLYyLFvkcUWBz7WhTuttnMM30oXoktDF95Qne2g6fA31B6Ox/M+Pliw/xfYoHYWsUUXj32bxddJPtZghZqAnQYd/laLw/HPw8dnAfb/ch+aXnwtjmUX0M/ueLSjFNKSCGdTIPgfpHLvK3B72Ac7veLx9fqFGO1yj3zGRrpMwrxgOhxrV+DtNaexe/MmeAX7G82K2Y6q1xxkFmchxs8RuJCG+YO7on9sITfGVjl5FkbvSZigVvbpsBCn46Pd+edddzVxBkF3FuWWPQwbKMG5C/LXP4rKvXjF7WH47PRC/NfrsXC0Cyy1ePHpUvmbNYrRaJQbQofClb7o3H0Brr6yA5nLXoDbQ7a2lQ5nm99Iptxs/So+jaaLVYVeczJRnBUDqevMx+Cu/RFbaOg5urPlVhzjplCJva+44WGfnfCK/xrrF45GU80Fp1IuSwOytUyl3PdO4qwNFzarzrpCrPTtjO4LruKVHZlY9oIbbFY7izSsi5XyuZO2VMgGdIUr4du5OxZcfQU7MpfhBbeHGpkttsRFXORK2Dp9XDibAsH/GuWJmPLUMpzqOhuvPtOeDlnNQY2AWa/AmX7LXjIGr381CmHjnaRTTSIPaxIOA+0H4bWdJTiTFQkPlQ55899ECpseMKdrN2mfwbzPse2EFKSn8kvMXJRL4/SQZhvzsnDELI0zRezOXY1+brbOKHSFM/cf9iN5u/mzQx0yFwRgWZF8aIHO3dlUrxbrUvfWc57PJo7DzDST5+itRDkSpzyFZae6Yvarz6C9pQaXZab76ktsM5OZ7nA0ItZfolF4DHz15TY+c2NAh8PREaBRbpyDkRg2PR1VYxZgbh87ObBxukqNhP3J202XB1B0mQsQ0FAjGfMH6Jck1q/wZX3BIzpivZWdHSh5ayB1ndews+QMsiI9oNLlYf6bKdB2dYaktsmor7aZWBCwDDZKhJqLKXhq2Sl0nf0qnrGoPDbSvTc82OfxQzhmVtWG6Y7e0oU41NCFN1Dng5HDMD29CmMWzEUT1M4ituhid6lCVBTHzPpScziIyGHTkV41Bgvm9kHzi++KHnztiA5Z38rLo1oQ4WwKBP9rnDyCbOb5/PwTfuYekA6nz0lm8fr13/mnTbiHY6E/NU4lJ3F2xHj4Wnvu2CAXqKH/Agd5OVR04IzGsrnMab2G2hoWZoZqJIKnsowK8NYzr+i3BtJVHMAbTy9Dl2f6UZs5FuFDmNHcg5S0Sn6eo/sG2Vk0iSHvY7aPHMapxlWrPp8KPmMCuUOePTcI7+n3calFfrw/Zl+civE95CAL9PIdyx1y7YpnEbpZ2WJEh4qvX8GYtX0ROqwJD0/vulu6MaCFZQOUTqulpdDi8MoIhIVFYbPp3lZGnMQRqcHxk9Tg0J0+Jw2E16+DtziVWShbF6FNRuiEeP12NbXFSZgYdg7DnnyYRgnlSye0yaGYEJ8vb6tSi+KkiQg7Nww0CvDII+BP4IoP47g8iuoKT6CQf/sV160VUeZs4WFpH9GfaFl5SC3KTpfxb78qF7e5C3exz+qr0lrAWi1+8R6DQKmREPSeUjZ6Kj8e/rMvYipvpHPYFhWGsIh4fGOkFia0in41hCvGSoJHcugExBsEj6SJYTg37EnrT6wvUCfji4OSTqnaY1D0MkhdpxY1Kh+MkQSCuUHvGbYfqs1HvP9sXJw6Hlwi26Ko7kQg3qpAmLnI5nn8TNuE56U7DclcXEdTzAW6DYQf6wy6LfhgheHJhU77o7S+UNHFenTDQOlCbPlgBfQTtzotfpQulMphY53vupv3ItqNeC+CVluEwsNc66jaSVqH2jJIate4zuqu/yp/k1D5NK6L3Qb6cbug2/IBVhgqBK1UIYMd1h7Gygiqs1HmW9cZcbYQUvGpPdcX/zSk4l/Xy9kW+g0bxW1MyScfYrNeJSpRLW99pO+DzUF+UUggENxWKNujGL9dqGxhRMN9E6WtRVjooXnSm5DKG7bK2+Q0TOM5kfi7O5JBg+StdjSeZMCA+WRf9XYSwrd7MX1T2xz25riaxgk3fnXXKjVkV4ia56sO2SVtryO/4ek2L0veZqaARLvRcoWkmbylaQLf3oS9fcnKpyL2Gntadg0JTJa3oWHIW6xAPYQsOVxN6urKSVakB7HrNpOkGwRD5vE3VY1lWEOy5shvmuu3Yyoia0ewt5Hl/Bw7Ekd7FbHziiKHeIQ6Ur09RN76RX67Wk81yYjoJsmW/tlpOpKOGjuicgwiyafl0l5OJL78vDdZckoJk7ZeAZzIPOX1Xv0uAI7ELyyMDPBj27kob8jSP+WN8HrIb5qzOLR9J/q7E8dBg+TtTDTEc8AAMv8AE30c8bKT04Id0dBysu2dIqVKUqRtnOyU/Ow0REPjqzwiZTkw5K2K6HlVtydJKM1L4xVMgvhbwyrS2T+GZF1sQF55UfIWPyrS7cmJxMfFhQzyknRa1W0AGTB5LSlT3ganZew5eQ4ZPyCEb4dTtHYE3+aGx7V3JB0dqV7YeZEopXDKG7rsvNlbwCa0lH5RWST6Svl5LzklX2uQj9O8Q1KYvNWSlB/TEQ2VsYp4RB7S92FSs0vfH0N2ST1HegvajczLYtv8sGSiaf00JCRNrlnRWjJC3koHKnvi2NGR2KvsiFeUkq7yxjU7b/aGuBHS2/IsHtWVif7E3XEQGcS372L2g7YJVR6DjQkhSvGU7bWMd1mQtoxiYbTt/N8iMTGTSU/al6T07YlL4LtUP6S4JihbS9F4dj39yVsxMWRyT9oush2zdwkk77ILG62zoT4qRz8SFjaA+MUUkBy2AwG/pht5cqIPcXEZRLy4jlE9pP1j8toyUndqibTbgHE/tWgvbNBF1pdiZJtr15P4vxVDYib3pGWV9c7ehQS+m0UuKjtQ0D/rO30o/YHmRfvcRB8X4jLIS5I9rc+AAZPJ2jIbdZGGbZW3olI5DiBhVM4RAzoTO1nOKkdvMjX5OI/ZVO5g/2giAoHgtuEcclKPym+WyzziDnccxVHTQDz66DWcPm08bdcWjw71Rbcfd2Ppiq9wBl3hH/YyRne/gm1R7yPtmhueDfkH6k6el2aNFNo+iqG+veq/NHH4DXQYpcXaS59iOLWc1rFQZlo+97EP41LaOdTR+/C83BOo0v4OzZNheHl094YfB7GNv9evxurcS8DDj2PCxOfg093sCvaWffYGpHz5HS7hPnT1n4rQ4T3kt2Xrl6fto+54+NJRmIiLynWsV2f6pRbFmZ9jA0/rYTw+YRwmektpaQv3IMPkIpbWUPj2UqTFNknejvUb9uJMDS3H8HEYP6ofOrHiaguxJ+O0iawfcXcHjpqW7RH3sWDFqPwmHjFfFABdn0b4rJFwUenww8G1WPd5KpL+1QUJdWukt7jN0f2A3UtX4Ksz9FJ/Sb5XtkXh/bRrcHs2Ai8OkpdTsA2x41dh+5ka3Nd1OCZO8kdfs0enbCPq+FXb5bpMxCT/vqaP5vV51eDhfqEInfQQCj7bgXu8J8K7hxq/NCKvyvwkfJqQi0sP90No6CT0tTuGle8k4mjbYYh4bTxYM7PNzN/7cA+PM/2lF9BHfsG2tjgTn2/4Et9xtZiAcRO90UP/slkl8lM+x7YN67Go/DkUH5lj/UWVG9YvLQr3ZNTTpXp91Fi/dsZj1fYzqLmvK4ZPnAT/vnKbnMtBqmnHlq57+BLSztUBZXnIPVEF7e8aPMn7slE5aXtmfr4BX0oCwYRxUhvoJZKfgs+3bcD6ReV4rvgI5lgUCNWx3UuxQlIehL08Gt2vbEPU+2m45vYsIobdhcPHTXoSHnWn/fqosV5Ldoc1Mds8ffv6DdjLdYymN+YOpG0l8HlhCHrTuxersDbZvh4b9koy8g8bgzvStoL4vIAhvTUGe9FInZkefBMfA6kbhWPWSBd6jupG0qdIoO0t6Wxf2B1biXcSj6LtsAiEdS9Fbj2d7Yq2p89YsGle4C3aoC4yzOwC7Zdj7kjDVuKDF4b0BhcF7UsH167D56lJ+FeXBNStsdi7WUMi6dME5F56GP1CQzGprx2OrXwHiUfbYlhEGLqX5jZNF41sHUvvsYLVOOk6BWP6OBt2G2giwtkUCATNRIdvXnPB8/duaXiLFkGrU7kuAO7fzkLJJz5Gg6qgPjp6f9QbkR12InPabfbD+K2Ejt4w9o7sgJ2Z05r1gp+gtanEugB3fDurBJ/43L69W6zZFAgETUAH7YUylF3QorZwKeZ82hXzpghH84+E7Szgt2Ywdn0oHM2GYW+6P4MZle9jg3A0Oewt5mdmVOL9DcLRvDVhOwH4Yc3gXfjwNnY0GWJmUyAQ2M6pJejbPUL+jWsVPGK+xTev9RJOzh9IbVUVoDF6jCiwAr1RqvoF92qMH6n+b6PTVuGXezXNfjQqaG1qIXXv2793C2dTIBDYju4HbI6cjqjNv6D3vA/x0cv9Yfg9CoFAIBAI6iOcTYFAIBAIBAJBqyHWbAoEAoFAIBAIWg3hbAoEAoFAIBAIWg3hbAoEAoFAIBAIWg3hbAoEAoFAIBAIWg3hbAoEAoFAIBAIWg3hbAoEtyu1VSgrq0KtfNhsdFpcKCujaV2AVieH2YhOewFV9QpQi6oLWjQxqZsLld2FplZW0DBcH5ketYBO/o9QW9X0PidofZhdYz9cIZqm5RDOpkBwW1KOxKed0LHjg3hqZbkc1nQqt72ILj6LsHfjbHh0bI92Ti9il1Y+aQ1tIdZFTcLQR/8K+3btMXefFHxuXywiAvrhwfvuw4N+q3FGCr6lYGWcNvRR/PVvD8Jv9a1YwtsRHQqXeKNL8GfIXPIMHqU6+be+S3BCPiswg/efAPR78D7c96AfhBreahxEZLf26NjeGfMy5aCbyKUDK7EgxAc9OnVCJ/YXmIiz8jmL6DKxoIcct9Oj6B+8AJuL5HO3EmyfTYFAcPtRtHYMcXUdQxIK6uQQhRpSXW0eZoGSBDJEBRKUyuLWkYK4YaSj53ySUS2dbpg6khoEtkcvCd4qBzEKookrDYNbDCmSg241SpZ783K7xdyqJby9qMuYSTRwJdEF7Ogy2TrdlbiOWXvLtv+tQQGJdmX9x43cfDW00T78z1JNMuZ7UlsYQdIvy0E3nTKSMESyr4CGzMyw3l7VGwKJisejf97LSYkc3qLUVZPqGvl7MxEzmwLBbYrr1C0oKtqCab1Mf2vu7MqnMMKG6ZJT29Zgvw64uw27XoVec/bifO4H8FFL5xtGhe593OTvRvRyRR/5661Kl/biV6Bbkoz1q1CFNmhzJztyQMCKIhRtmQp60yGwyp1o00b+epOx1T7876KGzwe51BYuxvA/7OfRnPBQe/kr7V2rlm+B5QdOZ7GentM/7u/SvhV+416HzHndMEt+gtVchLMpEPyJ0BXGImjWfvwmHzdEyYnj8jeBoLmcwqkCsbLtdqEp9kHwx+Pk7Mx/x1+3ZTnWW3iWrsv8GG/nBSLQXw5oBSq3hWLCsir5qPkIZ1MguC3RQVuUiU/nDsW4hFM8RHt4CfyHzUceHfvLNi1EWFgYFqVZWM+Zt4afW5IlOQk5y8P4cdiaPH7MqC3eidhpI9Hf2xuPP9oPAVFJOFJxI05FLYp3xmLayP7w9n4cj/YLQFTSEUhJXsKBj+dIZaB/cyJX4sClImyONIS9PC9KXodkCH/5wwx6JYX9XnvUOIz0DULQ6ABMi4rCYkv1rsfvqDgQj+B+bK1TDwyduxk/8PJcxb+/iMQcOW9JLDTfRYYwvVx1WpTkpiA2uB9GJZzg6U0b2oOnFxj7DSpplNriTZjLwzqhX3A8vmGBemS5BPhg8OC+6NEvGPEHKgwzFbVVOEbPB/cbhYQTFTgQH4x+bG0WjZeU3/BrOLXnc5FE9aNHxC6zem5Csf5SqkclUrxxCYXIjw/ka8X6LToslUFXgSNJczGUrwmj106LxwFZD8rTFlFZ/BP/KmFHZdi00Ew2ct2kfGmaAVHYZMjYqG4R2FXxNeayeD2CsUEeVLkOUrnytWhMXzYVG148apJcanE+g7aLrHt9hk4zlTFFV3FEkhVLo8dQTIs/IOumTOU3iJ8WAJ+gIDw9chyiqI4ZdRcL6FBxJAlR40bCezDtQ32GYq5x+Y3R5hvyNm9/jpwW1ZG+TEdY+WJ36tvw6r+/QOQcSfZKHy7avMgQtigNrEVstg8cHX7YHIVxI30RFDQaAdOiELWYpVOCr2Pm4WWWbtgi8MsvHcDKKCVM6S8U1kaZn3Ldj0inurApCgFcF/ohfPMPNAdaL4v9j1GLqmOSfesRkc77UFSApAv9wqV4uooDiJf1o8fQudhsuJjSmPxZ+pJ+ReyqwNdzWTo9EMyVj+qL3Kdp1kZIaSp9uYclPfphM8/Tl+rJ6IBpVE8WSzJqJu3C3sUCZ/YtG29+tNckL9qi2LJ8FRA2A8/ay0H1aFh3JKy1NXBu24sYFJQM5moq40TDet8A8uN0gUBw23CcpL4+mwxzltbpGK89LIpxqxdmja3B0vUmay4pl7cGEw2cyUt75QVLl7eSYA2Na+dF4ozWhyp5mV5P49Iw0zWbl2leGgLnl4ghSZYHiJ1XHOFJ1mWQmSwPuJCFR6U4hjCzdW1FMcQN3mQ5X5xUTdJCNETln0xzYZSQhCGqhutP82blVjt2Ji5+USQpJYlEDlHzMOeoPDmS5TWpBdGuPExKv5oU7E4isz1UcnouxHN6PMnI2UcieZiKePj5EXeax478fLJjtgdfW6UOT6epM+pIxkwqF/iQVeXScW6kMz12JlIxzpLslPeIv5qVQ00cO7uQoNgUkhIbyGUHdThJt7KU6/i62WSsu1QnqOxI5wERJD4phozvJpVV5RFD5X6RZC0JIZ5cxrRcGkfS88knSTcVPfaII8V1BSTOy554RB8lbLlWzdFo4sHOaYLJVv1atiIS48auN197SNs8xJE4BqeSclrGuvJUSYdUHiSGNfjxjeRV/27yWjMN0fT0JP6eTBYqEpLG9COEODoGk1TpYpLK9IfJM6aASqkpcpHKYecRTY7yNWclZLk3u05FAjdIi5PrCuKIl70HieYRasjRaKmdNLThpWoWkTjans6RuVK7yXpp3m+MKUkYQtNwIHOypIJcTvanx4Y8DXJTEZWdIxkQ8RZ5y78nsZPlEawXcB0piKHlUQ0h8aeltOoKYng7qBxD9O1QlxpEr6PXmiprvfXTttqH6rQQolH5k2Q5fV4ffTqW1pua9xfWRrEkUNYtTWdPMiZqE8nJSZTDnMkIP3fiPj2R5OTnkPhA1r4g3lKnJmezU0isHAZNZ+I5JopsyskhiXKY8wjar9ynk8ScfJITL7e70XrFhuV/nGx81V/Sc1Y2TU/i6e/J01BN/IAsf3Uicee6ZdzGbE27F7FX9KjmKInmfdyorarTSIhGRfwNQiNDVM1fk8vsM2snZY05VIFErz6MkuXEW7aDii03aX8bdafhtrY+TjQV4WwKBLcplgaOG3Y2qzeQQGaEqfNmbNfq0sOJmhkz5yiiuGO2OpvKAnb/ZJMUSXq4qYOXF8UcLWOHzxCmDEKMajZwBG6Qyyflp6KFkMypVNYhDdVfcTaDUmVngpIbSZxoGHey5CBL8mlI5q7SGzIS1IBzR8o1mg7NMnWpJIiFOUWSXB5QTJ0YlocHiTNkapa+4pQ4kXmHlBpWk2R/FqYmMzPkIEvIacE30VBPPiCyaw2Oj1J+RR511RWkorpOGnTUM4khCyVfS+UzHVSll4aGkIQyOYCSG+nErzW0lawr9NpofsdRQ66UXiE1sjM3xPRiqX1U1NHlF9smF0n3lBsTibK1I3jbSHom3ZyojQVZnUz85XLxOvGbG9M2Zw6Aqd6bkhYi3Wwwx5kjp2FwBpTyq0m43jOWnQMWT3GY86KIMz12oo6uMYoDou8HSlubKquUZzOcTa77ellT6tJJ+BAlHcttbqm/KGHSS4gSxXEeUlmpvulDFcfY2O4odTKOVxxHPFgYgoghScX5pQ6TfHHj8jeUzY32W5ZUzZVSckV+CaZeXbjjaNrfmB3i5VPky8urotcoBWM2bsgNO5ukmvYT2fk1bjdmG5X2V8pr0v426g6/1mpbW5BFMxGP0QUCgR5t2gZs0dFhxLs3jN8TUg0fi8ksoCQRXx2WwmxDi7QNbAG7G7x7m6SI4WMn8zxKEr8CS9J9yhx4s+N1O3CURaGoNQ/xz+wNX8vbf5zF+oRDmBoeKJevPbpQi6pLfhZ9wzfxx0OqgdHYGNqVn22IDn26Q7/+v6092rHP337DdR7QdNpIb8hIdHwU3dlnmzbQh6ra4G72WV7OH68D3fBSegVKK9LxUjd6qNOi6Adrm5y0wwNq6oZw1Ky4FC1+usYDGubBdoZ6qkfhxVDqttEW2bUvVwqTUeShUjvCUX0Fezfuh+7/duPNwYMxmP8FYkWpCzp27IifSs6goayzt65Dleo0VgQr1w7GgvT7+bUPnT+DYjmeRC+48pfc7KDpoIFd9lasq1Lh9Ipg/bWDF6Tjfnptx4fO44zJxQ3JpRybVlHdcxoEd6O3Jpym7gEdV3FmoTuNshcb9+vwf7vfNOQVuAKlLjSvjj+h5AxN6JEO6EKzKHjLF6NjpcfrXZ7fgsXD5AQtMGppOUpLy7F0FDuqxfkfzqCanzGnAzo9opRfhV6z/onx7FC7E1nHgMNfJYKtUhj8hCePodDFPxhD6KduywakNbZVWTNoL3UqPNs3XFr6oBqI6I2haLxXWUZ6CVGiW5fHpC93t+HrETl3tgF/X6r0Ii7yACOM43XrAunqu2FIUnnZqhQX5Yttlz97p7EXT99O0wEaOynMnPK9G7Ff93/Y/aasI/QvcEUpXJhO/lQCpiZUaHCm/Sr52b4I54/sVRgYvRE2mKKGUQdg1iv8WToKPojHXvYsXbcXaz+pNrKD9bFVd1q6ra0hnE2BQKDn1Ek6wlnEEZ25vStHucmaw8Y4BetJdqbGmaI4X10mYUYgNfsln+Bzvr/dUXyx5HtoNDQsezVS2caNR7/AksuvIGS4MtK44/Wv4uBlV4vjCUF4vNtoxB6uxf16B+TWhjl2DvdewLa5AfB5YSnO42H5TOvh+cRg/qn7taHXRPKRvZ9+uIQjMSsLWfJf9nencf78eZxfGYC2UkQLnEDeQeYBjcR7RtdmHSmSrj04l956WOdE3kH+5u3I94yuzTqCInbt+YOY29DFJsh1aGdvvaz52ZCqmWiUVza+O83yOo+VAfRK9QSs2BhCe8AFpM0fjO5sUC6/16pjwrHToMPfanE4/nn4+CzA/l/uw/3yqQZRdUfvnuwL62danCmysuDPyYk7wMYOVkvi/vpXiPOyQ+3xBAQ93o062YdRe7/a4PTd6jRX/lbIlzoDwhONdDL7O5zmOrkSTE2o0PBVnBfsao8jIehxdBsdi8O196MlTJFyIw5tIlZs0UK7ZQUS2xnbQXNs152b1dbC2RQIBHra2vP5PRSfLuWfBrpBmpBQ4e67eICNtIWUZDHqJynPUqjuhpSkGr7jR9EctFiXuhe1e9fik4fewb5PWFgBVqUc5XfrmPwUdTENqHrNQWZxFmL8HIELaZg/uCv6xxbCdDH9rUnl3lfg9rAPdnrF4+v1CzHa5R75TOujsqUhS85RF6uZ6M6y+4hmosPZ5l9sSvFpOqw2TMm5hmvpELAGp77biOk95UH5sc6Yss36XZeucCV8O3fHgquvYEfmMrzg9pA0c9coSj9T469tlZla4ORZ6SVAAx3xKJ86vwt3tcYWSqpemJNZjKwYP72T3bV/LApvh05Fab78G6IEDasJ2z4uE8VZMZBM0XwM7tofsS0htC4vIiqczWHqsOWfszBr+S6MeneWiR00pQm6c5PaWjibAoFAT9du0iMlXXo2f7Rt4AROFbJPL/TlMy+20hXd+CNSHdKzzZ6/nzgFKcm+UJJUB4ZjKrWp2sRIDJ6XiMEzJqGXHFaSGILpKzpgzhRjE5uHNQk03faD8NrOEpzJioSHSoe8+W8ipRUeL7Yo5YmY8tQynOo6G68+057L/WZQfrmC/ldh1LB+UoBFOqM72yhTuw6p/LmdMWeROG4m0qw+R+8KZz6Y7UfydvNlATpkLgjAsgZ+4aSrdDH2J2+v98spuswFCGjoYhO6ogebBdV9hS+3mSmD7jCiI9bjEnVIpGqmSo8njTmbiHEz03CtPA0J287Crvt4rCisxMnEQGhQheSZn5j1EYWDiBw2HelVY7Bgbh80NAFaH7mfqSfgKW9aA14BquVZR/hsr4EzKCqgH+p+cGNLMFqYvDUJtG7tMei1nSg5k4VIDxV0efPx5i3fqRg3In/LdJY6A78Jrq8m4zCTdYa8NZBM0WvYWXIGWZEeUOnyMP/NFLO2aw4qDA95RXoSVJKM5O+nIjzQ2gN0CVt152a1tXA2BYI/EW3ukmarqq9KnkCttmm/76sa+TzCNPRL+UbsOGx0ZeW3yKQGSjPzn3ieLfmj/H7dwupG3XX8Kn+VUGHk82F0cGZJ7oBpkpkooGdm/vN5yEnS6MMxJZweUSOdVzMXrzGDSsPGsgWj5QUoHjwDk0x2Lb6Ag5Ff4CBPV0UNfTSWzWWpXUNtDQuzjiIjazg4SaXKOaasIK1EcX4Z/3b9+u/884Y4eQTZrNw//4Sfefl1OH1Ocq9aJH2LVGLflv20IcMwo8HBqhd8x7KhTYsVz4Zis7IPkK4CX78yBmv7hmKY1WfTKviMCaT/gey5QXhPvxVRLfLj/TH74lSM7yEHWUDlMwZsNQW9GEHv5dOrJGrz4+E/+yKmNnSxCa4YG8oePmqRHDoB8Uo5aouRNDHs/7d3L3BR1Pv/+F/+8rQVemjzrBxFFMVbh1sqlkheMS31i1EoaWIXhKS0FFOLTmKWFlRaJ81bakppCpy85w2PlxRLRUE84gUvgBf0xJ4Siu3Y//P/zGVhFxYFc1Xs9Xw8FmY+85mZz8x8Zva9s/P5LE72egyN/PpA28xZeDoqtay7I0vBN3j58fnoGNUL9X86hNnvW58ZdkHb5+ZjmtKvYfEl/KymVXAiC7vVbgnlcf2vmoKSvKNQa86vl698Pp7YilWZBgS8+RKUb0i9w2LQQ9kXG5Kx1uZGquXbndgq93CPd0ejp5Lg5qGdQ7v2lz3vXJiToa1TnqfW2lTd68OZ7XFYrJ1UMMgPclM+Gasu/5J6UjVG42bKlBzsPqgHJJYsHFI/OSqbeMUtdL7fs/+r4NcnTA30zLOeRlSqtbsjCwq+eRmPz++IKOVkOCOD3MXbtWkGGbxN+QTapagE6qXIvBtzYqMRr3b7dDVmXPqxwnWgwzCMUb9LB7xejlTrx5VUt+5c+VgDf7pTW9GPl5RjbYHZbD0ja0hvKEREtUqxWBepteY2Rq5Tu6ZR6S0Q4eIrho4ZJLpEWrtvqaD0iJiudgFT3hrTqjRztuittFj2ihGrTsolFx9Wuxwx9Z4tyno+Ks0Xc/to85d1CSMVbx2jtxou70pDaZWZObu32rWIV8wqoS1S6QLFJHrPtl+3St8G2xboWppt1zFWWotm/3Fb1S52ZOHFFH8IU+Ta8latdkrFjnFaq2jbVtqOyl2aHqftS5hEp8GDRc/mzUVERB9tXpdOIjLloJKrrFW9x7gdZduidbUi83mME2WNpc8vEH3U5emto60t/2WaqdNgEdLBXXTrprdGNnUSXbpMENtKd4hxHkoeo4hcpx/l0nQRp3d71WeBw6OrsbbmNbQRkcsOiqLiIrFb6dbHtgur0iKxylqPbFvnK4rSRKzeVZIMsoSpWTNhcjEI9/AkofekInfcOhGpd0EUnmI7d7aY31vvukYeN1f3ZsLd1SBcOseLHXq24kOJQr53yunW1ujlsudr9UWZ3+DqLpq5u6rljrfOXN39onbf5KKmKS8XWedcZHkC4naUbWtRWmxZNzhwMYlmzWQeg7sITzqqHU+1JbNRhMw9rJ1n51NEuFEuY1pVzYz3ini9HIY2j4nBPVuJVt06a3VJHosuXYaK+Xl54vN+SrmUsmwWx4tKRfFJpcssF9Fm1Ea743B+4yi1fMYe08Vuma80f2vlfDbbrtSlwT2bi+YREXp9cxGdIlOEUlure31QWyD7jxNbtZNKZE7xl3UyUqzVT6qy+i2357GoENHB1FlEhGvdghmah4iErWdlLms3U7b11Nq9l0y3Of9Kd4zTzj+bbqvKuvyxzVd2TvYR5Yssrwtay/5q7P+cQyKxiuuf7bUxaPoRfVqRSIu1dtWl1KNmopnJRRjcw0WS9WRQzzd/MW5rvjpPaeYUWW9MIlLfaWdlnVa3BxHyqnUlpaLo4MfqTwkr3cV9ox4DjdoriKGHmG1zaSwt2irG6dsLY7hYZpO/OnXnasfa2puIwb2fiI7uIvqp3Y/VXB3ljywkEdUaJ7ErZV+FVpuN0SGsM5rLT57HUqfi/Q3n0ChwBF58rn15S2Srk7uQsq9iq4L6aB3cB37Wm10lp5C+bjmSNx2Xn8obIfC55zAo0FP7SsqchQ1pR+1bI9dvjZb1j+J4hcU27hCGzs21YaWT8XXLk7HpuPzE3CgQzz03CIGejr7kKsSmhK9Rf/QIdJJXOc0JrEz4Fs1HD4P9r3PKfbH2JEqRh73ph3DR/BtMj0Xjpf5tHX59dnJXCuw2XZa7Q6Nz2HfUdmus+1KWJGMhPp2djnP1WiIk+iX0L16FxJOeGNQ3EJ4uZmRtSIPdrA6XJ/dt6/o4erTCEZP7psPl9fh41j9xHPry217Ayvh3sfaSP56O7YU/7T5od5zrt+6ARuf22a2zfutg9Ck7cDZWDkOdx5OAsPexuuNZrJL7vV7LEES/1B9ttQNZufwV64HSqfuqJViq1AO5Dx4ZOAh99XpgztqANPuZpfJ9J484crYswtKvDkDWRjzw1EAMDvLRGkw4qoONOyDMWlmkkpwtWLT0Kxw4J6vLA09h4OAg+GgzV6r/V94vSufyMzF3lb4Ng4cgpKP9YwtKp+6rlixV62a9lo9g4KC+5XVTqe/7/4M/FeXg2+9OwvzjPfCLisKQCsuwU5iBhZ/ORvo5ee6oeV2wf87bWLCvPnrFjscg9QAonYdvxbr1K9VtlBuJpwYORpBP5cYZFnM2di5NxldKRqUuPh+FRyrmK1tnPbQMUc6BYqxKPAlP222pzvVBOrlrLU6WAnl703Hoohm/mR6zqTcKuZz1H2PWP+U+ledyVNQQ/DXzc6y+O0g/xg6uUfL4dsA++/NP1pfWrS/Jc8P+fHGpfwkldlVL1qsOwL4KdaZx69a4dNT+WqQed7eTV9j/g9Ak+7Dj62cV17bgPn4wym0u2LMKS5ZuwvFiuY8fGahfB/R8sk6v1XYa0g9dhPk3Ex5Tz2k9g/LDAAmLcSFoHOKebFVl3al0jZLKr6Nyv26/jA5d9fkdXstt81+97lz9WBfi25kJWJwJtHwiBq88WnXZr4TBJhHR7cgabEasgFg8QE8kIrrx+MwmERERETkNg00iotuQWWlhoLjGRhFERNcLg00iottM9heRePK9TPUXe5rtjseToyYjtbo9BhERXWd8ZpOIiIiInIZ3NomIiIjIaRhsEhEREZHTMNgkIiIiIqdhsElERERETsNgk4iIiIichsEmUS1lObYdKSlbkFOiJ1A1lODi/i1I2XVSH78RLDBnO3GdhRlYm7IWewrYm2ZFJRf3Y8uGLJj1cbq+CjPWImXtHrDq1RIWM7K3pOCGXv50DDaJaqVz+HJkNwwcGIynZh7S06hq2fgisj98GtZDw/bBGDg7S093LqW/y4ebuOI+X+etc3vio+g/sD8ejFuvp9C5bVMQ7tMQ9Rq2R/CE9RV+B5uuj+1IfLQ/BvZ/EKx6tzrl+vcwmrjeB9/ggbhBlz87DDaJaqVG6PfmDIyJeg/vP+Otp9UyhRnIcOYnbMsxZGRZ72n5YOj8Nfjm7R76uPMUZmTAulk+Q+dj9Xt99DHneGjELEyMGoNFrz6qp1Cjbm9g2bJX4a+PkzM8hBGzJiJqzCKw6lVXITKcetGzZbsu5fq3Gk6+FF0Rg02iWsrt4Zcwbe4EPOKmJ9QqhUh9pRc+ctonbAuyPhyI59fb39Py+GsTfchJClPxSq+PYLtZxvqu+pBzGFo9ibfmTsMwP4OeQnQjGNDqybcwd9owsOpVT2HqK+jlvIuencrrMsLJl6IrYrBJRDeYDAQT++PpZc57kq5wZRR6vZGpj90gliwk9n8aTtwsIqqlLFmJ6P/0shvy/PCNXFd1Mdgkqo1KTiF9YTwGBNyLjonaM5sWcy7SkxPxQnAL1HsgERkZCxEhp99Vpw7uurc7EjNKYCn4BvHKdJlW56570X16lgz91Llhzk3HwvgBCLi3I6auT0WMPm+deg0ROHYTCtV8OssxpI4NRvv2j2LIkGC0aCjzRMzEtrKWAkpDnDVIjAjAvR2nYltqDFrUU5bVB29PfRIhk/eq613/Rnd0794dU7drcxV+OxMRD7fHo0OiMaRrCzRsHYo5WfoySy5i/5ZPMTa4tVxmIr79NhGhLeqhjixjvRbl+c6tH4f+UctxUQ4f//RZdfnDvzyhTqtIebavv48nPD3lq+NTeG3ONpzTJmBOzKNo7dkaj07S064oG3OfDMHkvepW4Q25zu7dp0LfLF0Rvk0M1fZDnbtwb8BYbLLfqTiWOhaPdvSR622IevL4BMSk4ph1lzqiPPC/Rj/mw1Zqafp+ih8g9/1dw5Bqe8zrtUBMagEsJRlYqBybu5Sy1EOLmJX68a1+PVAa36xJjNDybZP51GNRD30WaPvacixVHqv2aP/oEAyR62/YMBARM7fpjUnOYdv0p9BR2e/y1frRGHyx55I637lt0/FUR5ne+lFZVu0H3dVlPdoRPq090bCesu9ikFphx2h1uzVad5Xre7Q9Ho5Zjjx92hUVbsLYQB8EvxCP+GcfRvvAQAycfQS4tAdfqHVAKWMsNip5lXrxmrXcfaFkU45BbnoyEl+Q50G9B+R5ZrNvlXMsMQMllgJ8E69M14999+kor9b7seVT7Vy+a1gqCr6JR3BZvZbbKXdYic25rB7DlbYVR6s3we0fxsDoaAzwa4iGgTZ1Sy3fQnkslDqyHBmJ3dWy3dXkGcQNeVjfPlnPY8p/Pz879TXtGMhz4osqflPfYs6Wx/8FtazlVU/ZFlmW1sp16Vub+i7rWOicsm22KslZjpiHW+PhAdHo2/ZeWe4ILJTXqXLWbVOuCUPkupRti8DMbbIO6zmqrIez9mJ/2bmx0P7cs72u6K5cXyXlvJLLU45Dx6nbkBqjnVP1+iyAUuOt8z88MBrRA/zU+cdaD0L2XDwZMhna5eEN9ZrU3XrRk2fUtzMj0NPHB55N5DGWxzdU7jvbI1y4aSwCfYLxQnw8npXXx8DAgVrdc+SK69IVfYvEUP2aoFxnHF7fH0VHn9bwbFhPvn8EyHPxWNk+vybKb6MTUW1yQuxMThZTQ4xCOYX9E7LV1NKiAnH4i3BhlGkwuAjfyGUi40KRKNo6TngpaSZ30bxznNh8vEgUF20V47xkGvyFOntRplif/IboYVDSDMLFd5CYsfmwOLw5QfQ2KWkQXnHpolRdUaZICDAIQ0CCyFQTZFL+MhFulPlcQsXS88ri1ovkN3oIg1oWg3APTRQzR/gKF8P94p29QqyI0JYZsUKbX7U3XiunNbF0hxjnIce94oWcRYjiC+L0+jHCQ12mi2jeL0FsPnxaZMwN0bY5aIbIVWcUIjvB327flFkRoaaXrUMqWhqqldNmfkXpxhhh9BgndujbeHUrRISyHETIIRvWdRpcRbf4zeLw6cNi8zitfIbQpaJIz5Y9LUAY/Kfo+7RUHJkepOUJSRJylzpQJDLXJ4uFL2rLKtsmZT/tnCT81bLIfa/sJ3nMi07OFSHK8TW4C3ffULEg44IoLj4p5oYY1HwRK+SKq1sPKuQzuIeKxJkjhK+LQdwvD3BpZoIIkMc9ICFTqzPyb/4yrW66yG3WtqdUpI0yqcs0jkpTU6zSRhnL61v2NLksfzFFr2ylR6aLIGXbDCEiybpjcpeIUJP9+jIT5P5U8vkniAq1wEaumN3DIIwxG8vmU8pUXm8cHdMcMS1ASdPPndIiUXD4C63+q/ssUiyT+7ao7BwzCffmnUXc5uOiqLhIbB3npW6zdR3FF06LnZP0YyiPTb+EzeJ4UZE4Keu1Un6Du7vwDV0gz+ViUVx2DGV5tAKX1d+yMp9fIPoo8+l168TOZDHzGW2dynnTefRMEd/PXRhcwkVK0V4Rr5bRKGI26gtU5YoZQRB9FjiueVo9WShe9FfmLT+PlW1ZP8ZDTTO4NFe35fDpDFnHtGtV0IzyM+y8PC9MhgCRYL2I5M7Qj6u8hqgnhX4MbfOU5otl4cqyXESodqGpsh62jE6w2W530SVWXg9lWZZFttGvS+X15+r1VTvX3pB1Rd02ubzQxJlihK+LMNz/jthbtFSEKmUoq2vnxYI+ttsiObj2KOfw2kiTMIan6OdEsVgXqe2rsvqfO1tun83xKU0To0x63auKw3UpyTJNKb9rNxEvz+vThzeLceoxNMj9WXYlkvXbIPyn6Pui9IiYLuuCkiek7ISrOQabRLWUw4AqO0ELMrxl0KInCTk0xVu5WHjLN2w9SUqP094UQpLKLzIJ6oXHPp8adCnL1N/gcmdoQVB4in7x01nTywIoa1mMMcLufUxyGGxuixUmmWaK3aYnWMvTQ8zOsyY52r7KAUFNgk1Rmi7i1DdcLxGvRrWKUrExRgY85QnVcJVgU76hlO2GPPkGoqR5xIl0ZVx/syo/FpI1j+32O+LwjcVaFhlQlK20VKSEK2n2x64oKURN85Bvbprq1YPyfI4DFft1K6zpNm9s1gDDto6UbhQxxiChxSVFYmmofIOXAXf5nsmTAaKyHIge6o7R89gEYCprXblisKnvpz4LygN6OV9EWb1xfEy1+mv7hu94n2VO8VbL6W1/4mkfmGy3yVEdKU0R4eq6bfdjkUgKUdI8hPVw5c3vLYMng+g931pJ9DIbR4myEN66/AofqBTn5fFXg1qbDz7qcbENlKrg6Dy2nnt221yxjqoBk/yQURbkK3LFkqHeopn3SLFWWa+1btjuE0WloLSqeig52q9l9dB6fah+fbVum325pbz5orc8fw2958vaqdH2jVGUfY5ydJ6qH7DLj6UqbZR2nlmPnz6fbeCfnRDxu4JN2/M/b3YPNc16/msfXmQgbnPsrXnQY3bZ9tUUv0Ynuh3VrYs79EHIITkq1UXd8kTUd71P/X/6bMWOYezzGR4Zhhj57gjLVny/Px+bUnfKEX+0byvfomy06NIXSrt4y7rNSNeSNE090dg+q2NdP8QF+QH4wodd5UKUr4eXYL36PWgRfvxJzVHObvt+J0MnRI6Rb1/IxT8+Xqk952RZj6QFTRE9sIMydn3cWRdlu8Hjr1CbKuXnq19fWbavwzoLcGjRBERHR2uvt/ehZVQUoqJa4g6777hq4k7ULVupAXXv1IbuLE8sa8CUn19xJVeqB1qapik8bQ9w/iZoVaQ97KtIC3Tpq9YQrNus15AWQzBSRtkwL8Csr7UnzCzrk7CgywgMaaGMbMc6bcdggnW/RL+NfS2V/RKFlsqOMa/F0q9lnrY+aGm3vupoj+4ySsCG5+HlF4PlSqe13uOxePy19vBgv8/u0E48WV3tTjyoZ97ps5W7ZLKtI4a68ugpbI+htZFHPqyHy+P5DSgVpXIT5MFRH69JxS5lgvm/0B5MsNGiiTwK9twGjsTzMrqxfP0e5um9qB1KmYe9g55BqEy/VnbbXIFl/eeYexHoHdy1fHtlyQYnZeNU9ifoK9ebvykVWjVqa5NHatEFWjVaB2s10lSoh7Zs96tcz5ARIepQ5s79MNekvuqaeja2L5PH89hQKlAq65EHSnAqfSFStYOA/1Y6COUOpa2QV51ibPjQWrfl66tShCnnfdhf8Eu+zNS+O7Qq6gW/mOVqv8re4xfjmquoZHv+WxtNaue/BdvXrZN/D2HRhPIyvb2vpXq+RbW8w/7r9hpgsElEV2HEX9QW7xdQWHQB59QA8DIu/6b8t+HnLd+6JcteZF9r15/yzTJtZgQCu8fh354h6NVUT3eyFkPGIUK+wZmT3seSE8qbYSqWB0Qh7Hdc0Gvi+BHt2dnOI+di7tzKr+EBWr6by7YeqAmOXTinPSt5+TIqVxG1hsgqki3fzhRGhMY8L/9a8PXc5TKEMuPrRf9E38H9ZJp0/Ij2nF/nkQ73y1xlx+z/HjuUvM0ao7Hyv0Y88Pzi1Yj1dUHJwdkIv99NvqFf5TnZW5Dy/OTyscEIHLocP/foj856erUYHsFLr/nLgUy8N3OTGmisXZKH5yMetQ+oriNrfbcNeiq6oF1oZDWqVIugVSML9l7jhcZ4n0nbtrMXcaFG9fUKlA/Iy8ciOHAolv/cA/2rcRCOZyuNGJti0KQK9Vp9TUQ/5cOdDGQXr46Fr0sJDs4Ox/1ufr//+ckqHccR7YTDyErlUV7Dca2XIgabRFRNvvD2ugv31FOGDyGryndkP7S5liCtcCWGt2mLgTsex4r0WRjkUw/afaEbwDgAr7zsJQd2YvrirTLgWY4+I4ZUugvkbFlHrjVKv5GUeqAPOnLXPdCqSFbVQZtfG/UuuMLwSCTUXf+vJKzavRxztw5DTMVballHqn6zL/0ZPyv/Hd0prA63R/DhnhxsTXgczdU39DD4Pjz96sHFLcKSNR09PXwxtcF0bP16PII9ax4ieke9Bu0G8yx8vTUZc4tiMOwRZ4Wa5bZ+v1sfquwu7UIjq1HVgZXfNV1oyhn826BNDeurQ5YsTO/pAd+pDTB969cYH+xZg0A9B9nHq1qxxu2RD7EnZysSHm8Ol5KDmB3mi4enO7OGZuF6X4oYbBLRVZjxH+W7E69+6Cov7gFdtUBgY9p2+zeB/PMokP8MvbtrdzhraMuU5zD/jAX9Bz+Jm9F1aIdh49BDvkPkvtcfwzf2xeB+FQIeJ/L2CVDfnDLnLsHuCu87hSuHIWjSPn3sZrKtB1qKQ94B0KrIRqRtt9+Y/PNqDUHv7rY1pAOGqY8x7MRbIW8i7+VIlMU53j4I0HYMllTeMRgWNAn7fDtqd/IyV2Gr404HrmAjYgcuQr6hCbqN/xonclcgwqTcyVqEtVW+2Zpx6Ud98KbLx+ejY7GrxB9DBvhd+51IYyhGRisb/jWG9/8AeP4JdNInOYN3QFf1znX+rE+x0q5/HqVbtD6IWXepLI+80MC+GuVDq0a9YVeNasBcdFGuyYC+vQKvob5Wlv/5aMTuKoH/kAE16nO0bTvlPqEFyxckV/h6WtkPQXjqK7lzNsZi4KJ8GJp0w/ivTyB3RQRMcvreRWud8IHIGz7aCYe5S3bLtdgqxMphQbjWSxGDTSKqwP4rcsumxZiVb0R4QowMC4Ceo99VgzLzghlItrlCnliVhH/BC2PfehrKtz9X4uah5dDu5BUiY89e5J3W3nWyDmlfsZWcOoAM7Zs0yQKzufo/At+4cTP1f072cTmnBcf2ZGjPRl7+VU13qMWzmDrWS2YqweUnbJ5Xs+zG5EBPePpU7i7Fnhu0zdLvChRmYM8xuXZH67Rchl1q8BAo7/XInYqQkEStCyn1a7nh6PbSnXjjlev47Gi1XbkeVK0nRr/bQ75Fm7Fghu2b6AmsSvqXDFbH4q2n7WtIiyEj1TtrFy82rvCcbDCGaDsGU0NCkKh2eaP81vxyDO/2Eu584xV08HgE4UqFVILVSallXdWU5B3Vvh7NO4WzVR62X/CflKXYbC2k2wBMeFX5Svk+uP5ZSWgLNR7AGixN1TKV5KQgWf3e/up3pJzvDPKOK//zkJGj1nCYvztg86MCJfK8qU4ZDej5xjSEyN1YUtLy+j6r7EjPZ7S72eYkhPd+A2m5ZpSYz2D/wsHou/4JjOtbX7nQ4F3tQoMZ9hcaaNXoLVSoRlX79bLcM1YnsGT2KsB/IiapJ3nN62tFZ7SDgLyMHO06Y/4OB2z6Uy8xm2Fx89Cui/pd+sKMPfh/jw1Xr6WWVfI8H649j6k+SpQYgr7JYXjzKVm+X/6DlKWby8rlNmACtCrqCrWKOuJgXccsFji+FNknBg+JlsGscikKQUii1vWT+pjG8G546c43cM2XIr2hEBHVGsXigk13IvCfJHaeviB+ULo+0rtLUbr1mHu4QO1qpeCw3l0KDKLHxxnitNIdUkGG+FjvxsMY/oU4XFAkSstadUIY3PuJ+NUZImN1vOhtMones61dgmjO74gX3VyV7o9Gi9UZp2W+0SLA1VfErstX85UWHRe7plq7PgoQU3aeFgVF5UsoTRultjxXuiTp0KGDiFxxXuTO7y1clDS4CFMzd9Gq3wwxJVwro4upmQibs7+8ayf4i0k7te07vvpFrcskGEX4F4fFhWK5ArW7EG1Zvp06iG4Ju0VBpX0m57drUiqpLZgrtGrNmSZkvKHNFzBN5OjJlZV35WNw7yC3K1J8deiw+ELtqkVZ5zix+bDS3dAFu+0Yp3SJI1dXmjlNdHbR16O/DO7hIuloxUJalcrjWN6NEozh4gvlmP9wQZzerHd3BS+5/NNynyh1ZrPeFQ+E14ur1WNedOGwWP2i3j2MXo+Kq1MPSuV+3zW1rMuZgCk7xWm1DlmdFzviuwlXpTuZ0avVLmdWjw4Qrr6xYl2+o+3RWv87ai2tdLU1rbOLVkbrS9ab8KSj5es7v0JEulvrSicREtJBuDd31/axi0l0GjpbpDtsWa213Db1ThCbTypdCyldwbiIztPK63tZvTS4Cnd3V+HaOUFMClPKIetpj0iR9G2e3TkWMvewrOvF6rHRupWS+7HHx3IfKN0hFYiMj/XzQj9eBQWn5THUj4GXrCPKMVC6r7I5hi+uVpZZJC4cXi1e1I+h/yS5zy/8INJi3fXzTCmfPJ9iZ5R1Z+Pq7i0mrMwQy61dAJkixLLDSn3QN85OqVgRIcvr6BhUpHb3ZO02p/wa8oOsT+X1XdYnmVYsrwVldUzdZqWOKYd1tuinHzPry0XWj422veuc3yHiu7mq3R+NlvXwdMZqMTrAVfjGrhNqNbpaPbS2ylauAyMWiF0Zu8SCyDbCpc0o+/Vctb7Kc+34LjHV2vVRwBS760dpWqxw18vgKo+Be4dYMcPavZmru/D++zYlk9oCX8njLq95HSJXqD0gnF8Rqc9b/nLpHC92WMunboM89xI2i5PyPD4p64W/S2cxzdodlCOV1vWVOFTWPZesO+M2i8NKV1p2x0vWvePKvisVmdM669di60suJzxJVHkpqoY6yh+5MCKqNUpwMe8H/KKPae5Gvfq/oviS7SPud6B+g3vw8w+X7B98v7s+6v96CfZZ68PN/Sw+fsAHEzL9MWX3F+iUn4Mi3Ie2wUHwMcq3s4qUzqIzdmH/GVmS+7zQ7aF2MMkrlDbpDArtVqCswg3uZcuxoGDPZuw+DbgHdEegpzKjcsdqJ9Jy5FrbBiPIxwhDYQbW7jiBu5Xx5pdR+IPtVjvevrsbNFXLUZKzBd9kW5d1J36qtM/k/G7usNu03W+gad9L+LzoH+ipJ6nlys3A/i/fQvDWUORteaHqO7eWAuzZvBun4Y6A7oEw/ZwHuyLL49SgAfBDxe2wlkPpOPq7bcgtUnZpNzzUzgR9lzogy3Wm0P44KsuqdycuFdtv6d3aSu23Xx7z+nfKelCxfE0vYObV6oE89mcKK9QrtQ7JY6aPKpQfGsjYtR9aFbnK9pzche2XO6BrK9slWCk/EvAdtmk7xq6ulbGpj3e7B6B725/w7f7/hweDfOyPsR253DPKE58/4PiBbFnOu23qY7mSU+nYuveMUlnRPdATF3ZtQcn9+v5wsC/uqN8A9/z8Q4Vjczfqy3P0UoVz9I47fsNvFfJVriPKMuvjzkuX7I/h3Q3QVH5qO5W+FVrxtLJbjm3H6sxL6rifyw8V6qAym3aO2DPjiwH3YUHfPGx54Sq3DKs4/vVkfbKrejKtwT0/4we7bVbqmF4P5HKyd6ZBnvJXqB/a+bdr/xm57ffBq9tDaFd+oblyPVw5DHUeTwIiluFkjIvcR3rdkMew8nqUxVVVX6s412yuHxXriIvlGLavzsQlm/VZCvZgs3bRsytD+Xpl/WvXGe29bM4jeU3QquhxHMiW++Bu7dpSoYpWYr8uE36ueP2TdaeBrPf2l6Lyfad0lv/dtlz13Lfb59eIwSYR6Q4hUQ8yErIP/K6uNWonCza92AgxDTfh+KSK3xUpzys9gtVPbcNnSr8st7U/ej34gzoxEw//LQ0jz/0Tyre3t4WyYHMFxOIBeiLdDHxmk4j+wAqRsTYFKWvTsT/tTYxb0AWTYioGmpewMfZxfB70BWbe9oEm/ZEod0BTUlKwZf9+zBvzJs6PHf+7+tYkqgqDTSLSWM7ilNqiogj/qVajgtvAoUV4vv9ADOzfGe17fQq3T6djaKWm8PXRe1o6vn7hd7T2rU3+iPXgD2r9290wcOBA9bfHR+17DnMndrqt6viJAr17ggtFNg1/6Gbg1+hEBJzbho8Sv8S/yxp8u+AvHR7HqBe6oZGecnsqQc6amZi7qgS+UVEY0rHJHyOgrMofth78MSnP9S2ZNw8HXUIQ/VJ/tP19j+XdUrKXj8OszT/if/r4n1wboeczb+FJHz2BbigGm0RERETkNPwanYiIiIichsEmERERETkNg00iIiIichoGm0RERETkNAw2iYiIiMhpGGwS1XIlOWuQGBuN6Gj5il+OnLJua5xA+UnA9IWIj/4Me/Uk5WfNtnwaj8lr8/UUZ1J+ui4dyYmxN2h9RET0ezHYJKrFClcOQ/POK+D79icY6fk95k0OxwOvrNOnXmfZX2JMaCC8Oz+PyfO24wzOYdtHYzCwSyCCX5qMfx76Sc/oLNlYPu4F9A3sjEETpt+A9RER0fXAYJOo1tqOxKgkXOzSHZ1cDPAbuwbfr1mDHZOC9enXmc/TmL4uAYP0UaARuo2ejvefb6uPO5sPBr3/OT571V8fJyKi2oDBJlFtdWg30i7K/671of6csaEJOvbrh45N/tC/gUNERLcYBptEtdXpo8jRBx2zwHwmD3l5Z1D1T1xXJ08JLuYpeS7KoaupxvJKLsrpMs8Zs8xdFes6r1QuIiKqDRhsEtU6+Vg7ORrR07dqwdquGVrjoOjJsLaZKfw2EaGBffHSW+9gVP82uM+1CfrPybIL7qqbp38LXzy3YAu+XzMR3Vq/hPX6tEr+sxVj/RrgvibN0KxZE9zXwA9jNxXqEyVLFuaEtkCLJ2Ziy/dbsOD5NnBt0h9zsmzXaMGx1BgEtH4M7635HmsmB6ORg3LZKsnZggkP10Gdu2S+SZ8jZfuxKvMSEdFNoPw2OhHVQisihHIKI2KFnqApTYsV7i4hIum8NWGjiDHKfDCJUWmlWlJ18qTHi/sNBhFSlknJFiOMyjoRIaxrzU7w18phCBBxm4+LCxeOi81xAcKgp03L1vJtizWp+cqKmzlFeMtxQ+hSUaQnZU+T8xnDRUpZuVaICIOyPi8Rv1dLsq7PP0Fb8PmNo4Sv7yixLl8rNxER3Vp4Z5PotpKPz9+ZhjPB/4fOFuVraPkq9EL7Lsq0i/hixc5q5jmBz159C4fveR4jB7opE1SGR/qgvz5ckcfYTzAl2AsmkxeCp6zBZyEy3LTsxdtztqjTGzT3R7NmvfBgS3UUuKMu6sp/lhN5OKuMm7/Cm6/vRcOY0XjSukrDo3h17hhERcWgaws9rcxvOPbFE3jkgzb4PP0feIzPqhIR3ZIYbBLdTszbsO5f8v8Px5Dx/ff4Xn1l4N6IZCQnJ+OdwLr4sTp58jchVYk5m3qicTVjuPtc6+tDCjf0G9hHHTJv34tD8r/3yE04dWoTRnpbULBnIV4b+xmOqzk0li0r8LUF6Ny+nZ6iMMBv2DTMnTsWPdVWUOXyPugF34gfMWr+S2jvoicSEdEth8Em0e3k7FmcVv636IywsLBKrxcHd4VrdfIcO4QDSp7fwXifSYaKtmSQuS0RoT7dMeVkR0xIHA7rTU7F8VytudOF/1xQ/1fPFowKna4Gs0REdGtisEl0O6n7J/xJ+b/1e+xWE+yVXDwD8/9XjTx/qo96ykjRj7ikpl6Du+7BPfKfwa+NDCotyEp8GC27z8XfPtuKWYN8YLxDy2ZV909qqXAgM6dyAx+LGeYKTeGbvvpPLIswwbL3dTybWHUDIiIiurkYbBLdTtr4I1D5ujn/Q7z7hU1LcMlSsByRfefhhG818vjcD/XL7PxlWL372sI489nTMMOIQU92hQFp+MfEvTIg7IwHOzn+Xr5N137wkv/NC+LwcYUW6lkfP4Vxm836uJURA96fhwiTBXsn9ELUSvttISKiWwODTaLaruA8yn8lvCdeeDNABncWrBreAf0T05CTl4f9ayYhpNP7aD//dXSoTh7jQLwyyiSXl4sPR03GtgIl+LOgIDVV7/roBI5m5OGizd3Gy5d/04ckSxZmfbAKpoiFeH+AjGwtv6BYjR/XYGmqDApLTiFtSbLWT6hy97QwAxn3xWCS3qhoQueOiPl0C/bv34JPYzri8ewXMUVZTkVuAzBvcwICDBeRFN4fiTZB6qHpHXFXnbvQcTq/ZCciuqn0VulEVGucEDuTF4q4Hka9y6E2InJmskjeeUKffl5sjPUVLso0/WVw7ycSdpR3YVStPKVHRdLQ5noeF2EyuQr3yAjRBwbh2qqniJ2ZJg4Xy3znN4rYTibhYnAXXQZPFDMXJoihHVqJfglbRXlvRKUifWIbrTskZV2uHUTsum9EnJd13ZFihbLq4n1iRj/3snzKepsPTRJH1eUo2z1TRFjnCRgtFibvFJmZa8SYTnp+uS8GJSwUO0+Uio0x2v6x7VqJiIhuvDrKH3lBJqLbjfJLPT/8AtxRH27uxgqNdXTVyGMxn0Hhpd9kFje4Gy/j4kXAZHLQ/NtixpnCS5A5Ud/NHUYHCyu5mIcffrkbDZqaoC5BXf+vlfLbr9Nhya9OLc/PuKeKshAR0Y3BYJOIiIiInIbPbBIRERGR0zDYJCIiIiKnYbBJRERERE7DYJOIiIiInIbBJhERERE5DYNNIiIiInIaBptERERE5DQMNomIiIjIaRhsEhEREZHTMNgkIiIiIqdhsElERERETsNgk4iIiIichsEmERERETkNg00iIiIichoGm0RERETkNAw2iYiIiMhpGGwSERERkdMw2CQiIiIip2GwSUREREROw2CTiIiIiJyGwSYREREROQ2DTSIiIiJyGgabREREROQ0DDaJiIiIyGkYbBIRERGR0zDYJCIiIiKnYbBJRERERE7DYJOIiIiInIbBJhERERE5DYNNIiIiInIaBptERERE5DQMNomIiIjIaRhsEhEREZHTMNgkIiIiIqepIyR9mIhqhXysnfw2Vhboo1fT5ik86/ktNuwuxLkf/6cnAn9ybQS3Tl3Q4dDyGizrITxckov9Bf9BiZ4EuOAvTR7GkIlPwkdPKXcO2+bMxpqsc7BZdRWaYMCbE9HPQx+tsUJsih+Cl2ZdRNeE+Zg0pCOaGPRJf0gWHFv/LkYO/wgnO07BV1+8hPYu+iQiohtJCTaJqDZJF3EeEIY2kWJmWoY4ffq0OL0wTPnQKF/e4o1tclymZayOF71NMs0/QWSr82WLBH8lj3wFzRC5atq1Lat0Y4wwqnkMIjylWF3SFeXOEEFqfog+Mw9r6yl7HRa7ZoYKE/xFglbQa5M2Si2T/+9aSBU2jBHNmnUS7+3Vx6+LUnF0W7JITi5/7TyhT7qOSneMEzJ+F17x17XwRETVxq/RiWqdQuTne+G1Lz/Diz3boWnTpmhqvFufVhd/biDHZVq7/pOw6ssYyABM5402fvpgiyZooQ5c27IMjT3RVB1qi/Ztq3G7rGx9QEP3ttp6yl5tEfjix3i7h57hGh3aux1m+d+vjbeW4MCJlW8idukhfawGfvkPTp8+g5+ucne2psu/+27rvt6DjwbGYm2hPnodGZp5oaX8n3uiureviYiuLwabRLXO3fhLpyj8Xwd99AoMXfvj6cZ/lmFjVa7nsn4PDwxdtgrPeeqjTnIw9R2kZF/Sx2qg14cy2EzHq+308SrUbPkGNOnYD2FhYfLVuSwYv+48/oom+iAR0c3AYJOo1umNaekTUI34UMYzffHJuhFoo49Wdj2Xda3M2PLhZGwtbQpT2U1SC46lxiM6dia+dcLdvhpzMaFpU3cY/9DPgBIRXRsGm0R0cxVuwdwp/8Shn/Rx1Xq8HTYZ86aPxJglR/S0a7f/g4fh6emJqH8CF2aGqcPlLx8MXORoHeewItrHJl8gEvbpkyq4tuXXnOXYekwK9UHDevXQ0LMJ7r23IQIjErEmp7y5FhHRrYbBJhHdUP+Msg3EPNHQKwzLlIct7TyKVxeNQdSYGZg+5PffS2336rc4deoU5j0BNHwpRR0uf2Uj+RlH62iEx+dm63k+RtcrPLN5bcuvGUtWIh72DcPuR77CkR+KceFUAf5beATzemZgREB3vHG1W8C/XoZFHyQiupEYbBLRDfXEPJtA7Mh+pK8cB399WjkD/IZNw9xpL+FhNz3piiw4eypPztYDQb560m3lED4eNgGGaQex/kWf8q/zDUb4PPcVtn9YHx+OnI8sh9FkE7Twkv92fYc9jDaJ6CZgsElEN48MlryCI/FMgD5+LS5lI/mlIIRufgSL0lfjBae1tLmJjmxEcmZPhHe9A3l5eZVedR8Zgj6ZC/DPbD2/nQ6YlJmB2X6L8Wj34Vj83Y96OhHRjcFgk4husjYYs+cAxlfdY9GV1ffBwGkr8Mn9K/FMn1ewrtJX8reBy//D/7Afi956B++84+D13vdwixqGjg31/HYK8VVEF4zY1R2LVnyGYQ+56ulERDcGg00icg7LbkwJiMHKan91ewILQrviw0x9tCYMTfBgUFvg4nx8tV1Pu500boxmaIon3vwEc+fOreJV1a8v7ca6r0uALv3Rs1qPJBARXV8MNonICSzI+ngU3nYPQtdqdhdUmBqHV7c9gHb6A5wlOVuQsnYPCq7jc4b17zUC/3NeQxmnLd84EK+MOouPJiXjWBULL7l40eYnRB1wrW/TwT8R0Y3DYJPoNlBYdEEfysOps1VEI5bd+H6XPpx1qIrGJNVbVuH+nchRh/KQcSDH7vnB/Vs+x6T+Xnhwwl507ttNDXAsu79H2aoP7LLLn7d/Cz4dGwjfsGX4uX8wgtRc6/DKA8EY2P9BDPs8X025HtoF90fx59OwJNusB4QWmHPTsXBsMHz6zoZtB0UW8xmbcprxi0z75UebcudVDu6ct3wDer6/Ga8XjkSPZ97HlorLj/GDm8cLWH07PkJARLVeHeU3K/VhIqptzm3DnNlrkHXuR5T3yuOCvzR5GEMmPgkfPSU7dTKSdxfi3I/luf7k2ghunQZi4pN6rmotKxupk5fg24L/XPkumsoN/V57Efdumo01Wedgs+oqtXkqAWN7KuFpIVbGBOOVHa3w+pKv8ILf1W+PHkp8AD4TMhGxQmDxAD2xEqWz+DiMiF+GfcfP4PKfm+EvDb3w5Nh3MGpQIDxtfnnz0NJYfPyvYn3MgXo98Mq0wbB/1NTJy7cUYM+S6Xjtw1QcPHUaP9V1x1+btHG4/HIrMazO40iKWAFR9Y4hInIaBptEdFuoXrD5B2T+AgPui8AqBptEdJPwa3Qiui14+wRAuf9ZcP76fe1+W8jPQ678Z7y3vjZORHSDMdgkottD8Mt4t5srdr35ChaWPdP4x2Yp2IbEcR/huHs/fPBCTz2ViOjG4tfoRHRbKbmYhx9+uQP13dzLf2nnD8kC85lCXEJ9uLkb1bu+REQ3A4NNIiIiInIafo1ORERERE7DYJOIiIiInIbBJhERERE5DYNNIiIiInIaBptERERE5DQMNomIiIjIaRhsEhEREZHTMNgkIiIiIqdhsElERERETsNgk4iIiIichsEmERERETkNg00iIiIichoGm0RERETkNAw2iYiIiMhpGGwSERERkdMw2CQiIiIip2GwSUREREROw2CTiIiIiJyGwSYREREROQ2DTSIiIiJyGgabREREROQ0DDaJiIiIyGkYbBIRERGR0zDYJCIiIiKnYbBJRERERE7DYJOIiIiInIbBJhERERE5DYNNIiIiInIaBptERERE5DQMNomIiIjIaRhsEtFNZoH5TB7yzpjl0G2m5CLy8vJwsUQfJyL6A2KwSVTrHMHsvp7w9Kzma+Ai5Otz3mosWdPR/V5XtBmVhp/uuQcGPf22UbcufkobDe969RA0ZTfMejIR0R8Jg02iWucM/r37NH5uH4+v9xzCqVOncOrjrjh9+rR83YsX18pxmXZo63w8bTqP08cK8ZM+5/VRArP5etyDtGD9B69j24+d8fbHz8HHeNuFmoDBCJ/nlmJWeAl2/T0Oy2/VqJ+IyIkYbBLVOpfwX3MQ4j94Du1MLnpaZS6ewZjyyVh46OPXS2FqJJ6cd1wf+z2O40iWErQ2wV+rKqQ5FZGeQ7DknD5+s11TeQxw91I2sAg/Xt+on4ioVmCwSVTruKPr38fhsRb66JV0CsXEJ7zxZ33097JkJaL/08tk2HSDnM3FvtM/oFQfvemusTz1Xe/Th4iI/ngYbBLVOgEY/vYAVCfWVPNO7AcPlCBneTwGBGrPcQYOiMfyHL3VSu43SBj3EqKjo9XXmLg52LYtFXFjbMbPAebd0xHSawL2WoC85ZO0/J/tVRdRuGksAj19ELrgkDp+01nMOJOXh7y8M7gu3/gTEdG1E0RU+62IEMrpDPiLhGw9zar0qEgKdRcBU/aJYmU0f5kIN8q8hgCRkFmq5SneIcZ5KfNDhCQVyYQiuUijMEWsEOe1HKrsBH81j3+FlayNNGjrD5gmcvS0q8sWCf7KOiPECj2lzNnl4plWzUQzd1dhgIswNZPDti/v0eKb/+p5bRXvEwuG+goXF5Pw7jlYRIV0EiZXV9Fh6Ayxw3ZDpNyFIcJkkOuXeZu1ChULjiup/xWrX2wlmplcZLkMwhSQKL5Xkq+1PDptvzk4NkREfwAMNoluB1cINnNn9xAGY4zYqMeVirRRRjW/QQaT1uTS9DjhpSzDK058kxIhTPJ/us08iqqCTXF+n1iTvEZ8n19hhiu6QrBplZ0g/NFbzD+rj19JaaZICHAR7oMWiSO2xSjNF+tGtREubWJFmhJH2yjeN0UEuLiLfvNttuf8DhGnLGfURjU4t1OT8tjQ9puHiEvXE4iI/kD4NTrRbS0fm5b9C5Zf1yGuT3d076693tz+FzRr1gx/yT2CI3pOQ6eJmDvKBOROxWNhWRj9z4noVN0G4m7t0S+sHzo2qUGL8sL92JkDmCKfQlc96ffI/3IcJprHYsWyYWhtWwxDEzz2j1RMvGsm3vzSurUal/Zx+HbXWJhj+6C/8ghA4UoM79AfS4NXIfcfj6Dq5lc10zIgGO6GfKzdknX79SVKRHQVDDaJbmsZ2Pkv+a/li/h861Zs1V87DxxVu0cq2DkeflpGyYCe73+JGKMyXIySn9VEp/gxazGGdRmOw48nYcPHfaGu8nfK2LoR93jfhVMpKUip9DqMu//WELtW70TFhuQGvzHYsv1N/O+1h1DP62l8H70eh9/reV37/DT0nIpv18Wi7uTHMWjSepzQ04mI/ggYbBL9EeQVoFAfvBLLztVI+dkgA61cTB3xIdSeiZzA1W8YFh9cjV4bIxD4f3OuW/D186Wqf6qn0RPTkBzfA430cTt3u+h3Me9Bo/pyOerw9WNeGYX2wdPwl1npWDnp0Wo27iIiuj0w2CS6rTVHW2/5z/wFPl9Z8fdrLNjy2gB8km0d3YJxT32Fp9Ydx2chBiDzDQz70PHXvpcv/6YP/Q6GxvBsKlf7r504qCf9Hi19/OXC/grfsDCEVfXq3FzPXc6SNQchQSNQ+PouFO6fBpd3Q9B38pbr+ms/Z49kyeV5o2sHNz2FiOiPg8Em0W3ND33CvOR/M5KiIrHQ2t0RSpCR2BPDzz6PQT7KuBnrXnoKX8lg8/2eTTB0+sfoocabw/Chze3Nxo2bqf8P5ZxU/5eYtd8ztxxLRXx0LGZ+W537pzXQuDGaVbMzdO+oqRh6bDJerqL7JUvBHmzJsC+f8nOZPbtOwJ/ezsCWMX5waTUUSzNmodWMEHR7zUHAWYPyVFYXde/QB4mI/kAYbBLVdhYzvjuQpY/kYOeuUzKULNfh9X8iIUBGjhe/xvP3u6Ghpyea3NsAXVeGYcW8AXCT4WJB6it4dn4gpr2lP6vY4gV8NFG5JZqJN4a9CWsMaby/HZTQFcsnYHh8DHo9/zXOyNH1b4dh8rzpGDlmSVmDo+vC+AgGhx7Guy9Pwpr9Sr+Z8rV/Cz4dG4wW9zZE9Jof9YySsS9mbn4beK0HAl9IrJC/K7zaPoJpB6x7phAZyWPw8IOxyH3kTTzb4CSO6JHl2TyBkLfDUZrQF4HDP8UuLa7W1KQ8RESkqqM0SdeHiai2MWdhQ9pRXNJHyzVGh7DOKPvS2FKAPauWYOmm4yhGIzzw1GA807Ot+pyiOWsD0o7qS2jcQfuq+eQupOw7q6WprMuz4FjqVLy/4RwaBUYhakhHKA3QLVmL8fqMA/AaNgEvPVzdr4oPIfEBH0zIjMAKsRgD9NRKlLIvmYd5KzZiY+496NzZC60Cn8NzgwLh6ai5eMkppC9fiIWbvsWuXT/Dq7cvHqiUXwaba3fgxC/6qM3+OrkrBeWbfjdadOmH9rabVNPySIcSH4DPBCAh+wDGKzE8EdEfCINNIrpJjmB6x7aI3XuVYPM2sOXl+xD8SVMGm0T0h8Sv0YnoJmkD/0Cl06MsHLlFfuXSOcw4e9oMGFqgaWM9iYjoD4TBJhHdND3fWIaJPX/C1CeHY+GeAoct32u1khwsj+mG2PROGPFlAkKvR4eiRES1DL9GJyIiIiKn4Z1NIiIiInIaBptERERE5DQMNomIiIjIaRhsEhEREZHTMNgkIiIiIqdhsElERERETsNgk4iIiIichsEmERERETkNg00iIiIichoGm0RERETkNAw2iYiIiMhpGGwSERERkdMw2CQiIiIip2GwSUREREROw2CTiIiIiJyGwSYREREROQ2DTSIiIiJyGgabREREROQ0DDaJiIiIyGkYbBIRERGR0zDYJCIiIiKnYbBJRERERE7DYJOIiIiInIbBJhERERE5DYNNIiIiInIaBptERERE5DQMNomIiIjIaRhsEhEREZHTMNgkIiIiIqdhsElERERETsNgk4iIiIicpo6Q9GEiqm0sZmTvTMP2bQcBX1+09eqGh9pdwuY3t8D97eEI0LPRdaDu66VITj0J08DRGNndXZ9AzvDjdwvxzuKDMHUfjCEhHdHEoE8golqHdzaJaqvCTXjZvxF8n5qHC8190RAXkPxMczSo54fwdzbjtEXPR9eBBVvGtYFv8FwYXniHgeYN4PrQc3jnhb8iOeJBtH0mFWY9nYhqHwabRLWSBZveCscnR+5BzJerMOnZMISFvYhZWblY/XwTOT0Huce1nHQ97MSKLy4C3oPQ34+32G4Ug18/DGwLlCxbie16GhHVPgw2iWql49i/S7nX0xhN3GyDHzc88v7nGOuVh4JCPYmug0v4r7K769bFHVoC3RDeaOOnDxJRrcVgk6hWO4SPPlgJu7jS0AlPRLVB3cv6eE2VXMQZs/YdvMV8Bnl5ebhYoo5qLGackWl5dolWFpjPXIQ2pQQXlXxnzDK1XMlFmZZ3BvoqKrGu0/HyJVk+dZJejqqyVUmdz1pGIiJyNgabRLWSN/oN8VeHLiY9Dt8+idhWUB69dZiQjmm9laFCZCSPQce76qBOnToYtlJJO4ldKZ9iWEst7YHEQzLNjKwNn2JscGvc26Ah+v1jE5bH+MGjTTv8rVkzNHQLwvSsAnybGIrWXr5o97dmaNawATomZmmB5Mld+DwxAoEy7b4mo7BkWyL6t2gOb7/WaNakEbyGr0TBsVTEBDRBm3Z+aN2sCe7zGIaVtlFy4SaMDWiIjuNW4vvv12Bylwao5zcWm9Q8JTiVnozEiAC1fGOXr8Rwr0ZoIsvm8X+TMXdMR9wlt6VOnYZ44v0NyNIf8Du56xMMaVoHd3Ucg80nlZR8LAhR5msI/0n71DzXk8WcjS2fxiM6Olq+YpGYvAencrZj+zGbyLokB1tSUpAiXxusBVUUZmCtnp6yIUt/RtGCY9u1tF3HjmF9Yqy63JnbCuSUEuQs19YVvzBD/8BR0/y25IeDnHSsrVB+m2plQ9artXpZU6z724KCPfIYxcrlf7oFOdZo3lKAPWV5U+z2haVgT/k2r61qXURU6ymt0YmoFio9KpLC3YVBnsbKqQyDu+iXsFXkl+rTy+SJ2T20PBEr9CQpO8FfTfNPyNZThEiP89CWZQoVCw4WCWVR55NC1HUYXJqL8AWHRbGSsXidiDQq6wwVS4uUBKkoSYQo88IgAuI2i5NKxtJ0EeelpLkI125xYqtauFJxZHqQuh6v+L3qrEoZ5/c2yDR/YS1OaUq4TZ5iceH0PpEYpG2HwT1SLMvYLBIe9xadJqSJotI0McqkTPMQcena/KrSjSLGaBQxG607pUisjTTJfC6i8yfl2311K0SEsm3+CaKquUozE0SAwSR6xy8UaRmnxenDu8Ty+N7CpMwXkiTXrDu/T6xJThbj5bZ42BS29Og2kSzTk8fLfeMRJ7Qp58W+NVpeZb+2iVwgdm2eLnoYDcLd3SRMvePF6l2bRVyAQV9WTfOX2/VWO+Hdc7CYODNZK3/GapEwqI0weMmyVKpTJ8ROpazJ40WQss+37hMz+rkLV98RYqZMnxkp53MZITYoWWU93ZYYKveDt4ieL+fZeUJdgkLb5rfEY/WNImTqGrHvvD7BxooIZVsi5BEgotqKwSZRrVYsDi8bIXxdlDdk7WVoM0qsqxBxam/YVw82HaXJROGvLtv2Db9IJIUoabbBnR6QVQgMrOu2W2Z6nPBQ8pYFYTIIHOktmnmPFGutUdmKCHU+2BTauqyQpLLQrUzuDC2ANYQuLQvsSjfGCKNXvLCGtNesNEWEK2XpMVuGxY4pZfN4cVN5UKkqFTvGediVyUrNXyHgUynbXRZsapS8ptAkcVQ/rJlTvGXgO07s0IMzNTC3maem+auWKaZ4Q4Qu/Ukfr0g75gaDiwgY/U3Z+pTtLrqgfVjR5MoPPJUDXEWR3F6jvyxL5UOqWhupfAgJENNy9AQiqnX4NTpRreaCtoNmIavwMJaN8JVjgOXIJ+jbPsr+K+rrzoj6rsr/fORfy3rkzPcp/0+fxVk1wYi+n2TjVLYsu7EEOWsSEf3eenWKI671jfpQuRZDxiFCJlu+noElJ5QUC7Z//RWaRg9EBzXHNSo5hbTJ72F988cx+6NnIYNkh3yDeuDC/KlIyrZ9RtWAh9/ORP78ULmFv0/gE/3QSm8LdkfdukAzP3i7aeOGundqAzZqmt+q7JlZ9VnbO5Q2Ufjt8pUeADaiT+J2rJn+aNn6lO02mozyr1ULPPv3aJROfRdf2Dw5oDxzPC9+Dbq8OhydqthBwRO+xIgOx/Dh6wuxv8Lzv0RUOzDYJLoduLTFoFl7kJMSAZMyfjEJz03Zok6qPZRnCmMQ6DMUq+4ehOmvPaqnV5NxAF552UsO7MRbH22BxbIeSQv+hqgwb236NSr52YwfCi24UwZdV9LihW9wcMWjOPVGX7TxbIJ7720IT59gjF1yHJZ7ysOuW5MFx1Llvm9YDw3a9MFzr72DUWHt5Hb0wdQcPUuV6sHnwfbQ49gqGXqOxts9NuC9WVl6ilzrppl4DzF4vV9zPaUygxLtWt15p00AS0S1BYNNoloof05PtKzUwMWAJk/Ow7wI7e3YvH0vlKY/tUMhVg5rjvuHncVLaV9jfLCnepe2pjrETEKI3PyLc2dg0aJFWN5nBIa00CdeIxdTOwyaGY+ex1ZgxOjPka+nV2ZAq0fHY9rKdJw6VYD//jcf+1fG4a5Pu6DloC8cNMi5dZjXvYSgmEJErM3BDxeykbZkLlamn5LbsQFxbfVMv5t2d/PCG1ORqt6ePIHP3lqAB16s+q6mYt2UcMze1wpj330O7UzXUiuI6GZjsElUC3l4tEDBe5PxRaUIxoDmbVtqQ35toA3VAkeW4J2ki0DbILS72i2yK3EbiFeiTcp36Xj55Y3oO7jf7/76WmWoC/WL56If8ZOaUIF5HUb5xGKjPqoxwOgVjCnzJ6LlqgVYWaAnX0WJ5Rd96MbZ/tV83PVsLCI7Nqlw5/A3XPEb9BrS7m6uQPyHWbBs+gBvno/BxIFV39VU/O9XJTK9Hy3aaONEVPsw2CSqjZq1RlvLKgzvPxUZth1GWnZj2QLlfqYJ0c8+WhY41L9XC7nWp6aiwGKB+buZmPAP7fvRvKN5qNjn5OXLv+lDVbHg8q/6YCW/4vLVHqz77TLsYhgZYKkhVuYSrMyyqF0ILVykP7P54yUUHsso685I8WuVKzCg5+i30UNuuAVP4JnQiqGmGetimuCuOvXQZ4H6YOf1cTYbOw5Nx7R5ShdDtizIWv81jnv5o3WFm3JuHh7I33fY5o6nBQXfvIwOw1L08RtHqR/5eRU+uZTkYPnwQZh8XW+PW+9uvojH3l2MB8a/jO7X5dMAEd3S9IZCRFSrKK2ATaJTz07C3b2DCJk4UyTPjBVd3A3C4NpBxK7Lt2kJLJ1fISLlNOWUlwGZcO0WL3YsiBBwkcsImShm7twvMtcvFKMD9DxeEWJm8k6RmbleLBwdoHevZBKhicli54kTYufC0SLAoLUMN4UmiuSUFJGsdm+jpBlFj7iFYn1mptiZnChC1S6JIAwBo8XC9ZnihFxmYqjS/ZBMNwSI0QvXi8yiXLHEmiZfLs0fFzO2LhCh+jpcOv9dLJoXL3pbl9UmUi1feSc6tkpFSjiEMWaj/T5QWbtYkuWO3aanVcdVuj7Kmy16GNqIDh1chWvznmJwVJSIihosejZ3kdsyVMx01KePPCYRcntcfEP0vK7CvV+8WP1+mCyfizC1Gi/SxC7xVrtmwuQit9nVXbQan6bOqvYaYJD5Q+aJXCVBbbmvzDNUPFuj/Mo6pPMbxag2Br0ssuwhnYTJ1Fw8Hv+xiPLWltXMmlc6++Vg0axZM/kyCRlDCxeTMmx9dREfHNAzOqS1TIfXaPGvKlqg21Ja1rPrI6LarY7yR154iahWscB88Wfco7b4VX6p5wftziDuRoOmpiqed9Tz3d0ATZVn30rMMNc1wmj/velNpPz6UCEuoT7c3LWWzErL6MJLd15hmxzZgpfvi8Z9m45jkqNm6CUXIXdDDZe5EsPqPI4k/wRkHxiPKzU5Un4hKf/4QWT/0hgPtmxy5fUov2b07/1INxvxYBvPsu2+OZT6kY/jB3MBL1+09GgK5zwieQJzevph2VMHsSX6yl+hK1YOq4PHkyKwQizGAD2NiGoXBptEdFsxrxwGr/cfwt5vX8LvbBtkYzfeaBqIqX+egszsOPDnuq+dZcvL8Ij+DUt2zkSvqz6fewiJD/hgQiaDTaLajM9sElEtZ0HWYu1nGRM/nYSnotag/7gh1zHQVLRD8OMmGfssx5qsqz2QSlU7gc/fWQCf2NHoUo2GYJaC77EzBzCE9kVXPY2Iah/e2SSiWu4Ipndsi9i9yrAB7pHLsO+zAVft97HGLGZkb5qHBd9cRIuBozGyu7s+ga5sL94LDMPsc/qoVaOnsGDde+hZRQOhH7O+wvQ53+Oe7oMxJKQjmtwyj3sQUU0x2CSi2q/kFNK37kVRw07oVan7HiIiupkYbBIRERGR0/CZTSIiIiJyGgabREREROQ0DDaJiIiIyGkYbBIRERGR0zDYJCIiIiKnYbBJRERERE7DYJOIiIiInIbBJhERERE5DYNNIiIiInIaBptERERE5DQMNomIiIjIaRhsEhEREZHTMNgkIiIiIqdhsElERERETsNgk4iIiIichsEmERERETkNg00iIiIichoGm0RERETkNAw2iYiIiMhpGGwSERERkdMw2CQiIiIip2GwSUREREROw2CTiIiIiJyGwSYREREROQ2DTSIiIiJyGgabREREROQ0DDaJiIiIyGkYbBIRERGR0zDYJCIiIiKnYbBJRERERE5TR0j6MBHVBuYsbEg7ikv66BXVb43gPn4w6qPXm8V8Bv/evxJfTPkUhwemYt0IT5hzM7A59XPMXuyCCdnT0FvP6xwluLj/OySv+BhJi7zw1innrM9ybD0+/uB9JJ95CK+/9zqe8KmvT6FbwYn1cXj51X/hjidfxQdxT6KVQZ9ARLcEBptEtZHFjG1vdkT393PliD9eXPh39KinTVIVn0DyexOx/K7JyD4wHt568vVlRtaGlVj49xH4aK8F/gnZODDwR6Rs+xLvPPcpMhGBFWIxBui5ncGctQFpG+bgxfFf46LT1rcPk1oG4K1fx2HHsUQ8fNVAxgLzmUJc+k0fxR2o7+YO400OgEou5uGHX5Qha3lsy3k3GjQ1wUUZvKnkh4e8H6AVsz7c3I2o7m6zZE3FQ/5vIC9mI859+ki15yMi5+PX6ES1kcGIbkGd9RE/9H42DGFhNq9nx2NZ6mQZhjqTEX59nsXwgW31cal5Z7nu3rJEN4bRrw/Cxj2DR/VxpziyHWuVmL570NUDzcJNGOvXAB6PjcI777yjvkaFB6Hd0EXI17PcLKc2f4R3xj6BB5qNxqbLSsrP2P+VLGNkTzTr9SmOqLlutlPY/NE7GPvEA2g2ehPUYlaTwe8BBMjjY961H8f1NCK6NTDYJLpdeQ/Ep5O6wVUfpWt0+X/4nz54NVumhGNe+8XI37MSc+fOVV8r00/hVPIz8NDz3Czeg6dh7qRBaKqPKx8Weo6VZRxp/dByK/DG4GlzMWlQeSmrrxla23zuIaJbB4NNottRYQa2Z92Lzo8/hCZ6kvZ84xakpKQgZct+XCzRk21ZzMhNX6vmWZueC7NFT7dTglNleU7BYZYyFpizrevMdrg8izkX6WvldJlny/6LcukO2JSryrJbybxn8vKQZ/Oy5i/JkWVZuwcFVy70Nbv0XzP+2tzzpn9lTkR0K2GwSXQbOpHyMl5ef1Yfk5SvdwO64fX0IqA4G/Oeao+GbkGYnlUedVmy5qB/UASSjvwCXFiPsT1aopHXcKws1DMo1K+J3fHo/BJ4PeiDu3a8gJCJOfrEii4gdbgXGnUKwbMDB2JgsG+F5VmQNT0IDbxikd34QTzoZcbHwQ3hFjQDh/QcipKMmeh/fze8m3MffHyM+D62ctntGO7BPadmolezv6H/u7vxA+5A3brKhHV45YFgDOz/IIZ9fj2/1D6EpbHRiI6OxoxdwPnUt9Vh6yt2cVblgFwGxNnL4zEk2Aeenp7w9AnGC4lrkO04ur/m/AMCZV4lf2AEEtfkOA7krSwF2DbzBQT7aPP4BL+AmWmnHM5Tciodaz+1KY9nIAbEL6+6PFJJzhokvhAMHzW/JwIHxGNh+n6sTkjAJts6VpF5N+bo+1d9JWzClbIT0S1IaSBERLXQigilcZ98eYleUVEiyvoa3EW4GyD8E7K1fKXpIs4LImhGrjYuFSWFaPN6xYu9SsL5JBFiMIqYjaXqdEV6nIeaxxC6VBQpCaWZYoq/nCdohrBZklgaalDzla1PrBARarkMImDKPlGsJBXvE1MCtHyGHrO1+XOmiQAln3+CKJszQpnPKEal6Qm5s0UPg0GEJJ3XE4TIm91DXQ56zxdn1RTr+iLkkCxmfoqIbN5ZxO0on0dzXqwY4S2aeT8uZmeWb+dVZScIf2X5EcrSHSkWF06fFqfla2EYRKvxaepw2augSNitTe7HaZ1dhLFHnFidUSCK5MTiCxlidXxvYTIEiCn71D1W7przTxGbD1+QpSsVRQdXi/jeJuHVo4fwQJhYZjuLUo9ahYlweXy8IpaJDKW8pUXi+OYE0c9dpsWsE/l2G1Ak0j6IEhNnrhG7DmvlKS06KFaPDhAG/ynC0a49vyJSuLu0EZHLMkSBNoM4vmuBiGyj1IlWYtI+PaMuO8FfIGyZVnfk+rb9vZ2ob+whpu9U9qmyTY5kiwSlftrUJyK6NTDYJKqtyoLNMLHQJrjJSJupvolbg79Smc8ADzH4H8kiOVl//WOwDDqUeQPEtBz9zR1BYrx1uvIaH6Qt3xAp1srlFC0NlcuBDPzU0LOMNq+jYDNcpNgGHrkzRJCa7i/UrDIoWjQmSoxZlFkWjGnBJoQW15WKjTHGysspPSq2yfKt2WcNJsuDzWX7ZojevqEi6aiDiOdapcep+8orXg3Lr0gpf6uKkZOdUrk4L1E/7IsKAZzmvPwQYPAYJ3aUTatpfv14+E8SFWNQZX8nqAG/g2BTbp/HmK2Vg7jzKSLcaBSR6xyHd/aU41A5cNQ+MHiLN3Y7WMb5BaLPFYPN82LjqDbC4BUj1jnaAXbyxOweDuodEd10DDaJaquyYFO7o2erNCW8LPhLG6UEbPLNflt5QFr2Ovy9yMy3vknbB61lr4x94tBPQqyN1O5MVrzBV3WwWbFcmWKKt5JecRnKnbdlIjYkRHTysp2eLuI85PhV71RZ12cQBgOEMTxFhijXQ6nI/165++YuOsWmiOrEr1cPNtPEKKObGLO1qoUp21xfBnfW6TXNr40/s8pxcKh98HAUbPYUc/P18QrUO9xldxnLlRYVyA82+geTtAxxuuALEe4gcMyZFuBwfk2RyFyfJg5XmKjWqZA3xPTeJmEKXVBpelVK87eKGaFewtQ7Xnyxu4oNIqIbjs9sEt2GDP1nYVNUS3VYabSiuOfepmjatMKrbUf4NfkJPxYpOZT+Fx3kadcef6t/BEcyq34er3qMaNBQH9SV5CxHjN/9eGqdG8YsX4nX7BpGFyJfebQy5yhOawlX0Ra+vgaYlz2NwXNO6Gm/hwFN/B5BRMhfsHvONKw58nu3X3EJ/zUXYu7ANvqzjhVfT+HL/3cf7lZCblVN8yv77K9o7u64x0xDSx+5lxxoFQg/kz5cQacHuwOZh8u7RrJkYU7/JnD16IJXPzuICyjGiTWz8M64GdiiZ7GVs38vWvm0rKIPT6X7rJ5o62jiqg/wwbE78dOJPPz4a/X2/Zkdn+LddT/h0ejhCHuovGkcEd1cDDaJbkcGI0x6k+j69yq/H3QI63Y4CMAKM7DhuxK43qeMbETa9spv6pZj25H27wZo6qWNF5y/1sY1P+Nn9WePeiCovfx3aDq6PxCOZQ/Pwarx3dCkUgvu+lCLbtmK7/dpKbZOZmRUaCjih7+v+RLhRgv+9Uo4EqtqQFQThibo9swQ+Jfswuv/SNMTfw9lm9wQnXwEp06dqvL1SV/rzqhp/j/hTjn4v/9Vse2XfoT6uaKiYwdx/Gd9uIL88wWAR2NonxMs2DKuF8bd/Q5yCk8gbclbeDHsWYyfNhdzl7zmsL9TNw8P/PTjpav0WuBAyHwcPLEPywLmoVuP9/DdFRofaQ4hJWE5ztzzFJ59sgk7dSe6hTDYJLrNtevcXX3j3flmHFJtozPLMXwR8yzWlvgjoKsSSZoxa9yHsIvRCr/F5Gen4Phdf0Hb9loX8f+atdSutXi1WfJwLFfGbyHP43EPIGvlfOyV62rcxK2KwCAI//eUEm3m4r0RiXblsmQlYug7/9bHbLg9iY8XRsBk2YsJvaLsW9IrSi4i74y55oGPZPm1ur1tXkkQhsTUw2czUqrZ/VJN8wfi/wb9B4uX7XbQilwGikvmVdG5/CokpRQ4aDWfhaRZ/0KfoSF6F1rHsXf7RfQZOBCeFe9GFhbhgj5oq133/vj1s4XYWEVTeEvBHqRnOzgmd8rAGW4Y8Nk+rO66tJoBp9S0iZyLiG4p+tfpRFTL5M7QG/AgSNg0NK+srGGIzOviK0bMTBbJCxPEUF9XEZCgN845v0JEmLTnJQ3u/UT8QplnZqzo4u4uIlboT0AWrRWRah6DaBO5TBwsKhZFBxeIUOt8Pd4QyeszRZGQ+QxKWh+xoOzhyVKRmRAgDKYIYV2c+iyfUiaZtuzwYbFrQaTwddHKGZS4U6xatEbkqY1LrOXqIqITZoqE6C7C3b18OaI0RYQryyl7RlSua4r2HKkhYIpNQ5ltIlYvf+hS+0ZOV3TV1ujlrv7MpqQfD6+YVeK40jK7TLE4qbYAdxex2/QkRU3zq8fSKHpM3622FNcUi30zeguT0SiMjp7ZrC/TDf5i3OaT5c9WFh8WC0JNFRobab0PeIzZbLPsUpG/VWu57qhluSyQXIVJGHtMFzsv2K64WBxe/aroLI95WT3UlTcQstIbCvmPE1urbCjE1uhEtyoGm0S1zdmtYvaEoSKoVTPRrJn2ahU0VEyYvVXvCsiB8ztEwuOthKseuLmYOokRyw7bvJnLkOFoihjRySRc1MDNIFxbPS4StubbBQGl+evExJ7N9TwuwtQpVswYFyBcO4SIiQt2lQVD53fMENE9vYXJZBLePQeLkKBWImjEMvuGHkXp4p1urmoLd4NrBzF0xg6RnxardtukBMWxG7Vo0r5cLqJ5z4llLZPPbp0tJgwNEq3U/dBK9Bnxlpi9datIiQ0V7az7xj9UjFT3TbaYpgTdBncxYu11DDZzZonH9HU5eoV9nqdntFF6VJaxp2juIvehns8kh5v3jBULdtkEfFY1zK80lEl4XB4nF5Oa193VVfgOXSB27/ukrKzef08Ssx7Ty9nrE5Gp7OcOrsLF1V2mucu64iJ8Kx4zhaxL8fK4afmUZbsI9y6xYtnBFDFSX3azsM+F3VaX5outCY/L8st65a7lsZZ/2UHbrqE2iDHWZYxcW56e97kIs6Yrr4rLVzHYJLpV1VH+yDcfIiJy5FAiHvCZgMyIFRCLB+iJ14/FfAaFl+9FU5OjVjKV1Sx/CS7m/Yx7mpqqaKDjgPILTP8B/uJuvMpzj9ewbIXyKMPP91R7e6svC1N9/PFG3QRkHxgPbz2ViG4+PrNJRHQlLb20Ftw/XoLWrv/6MhjdaxR41Sy/C0w1DQYNRrhfNdBUXMOyFS4mJwSaipPIUR4m/tOfoP5gFBHdMhhsEhFdiaEnhkWagA0fY1bGFX/wkW6aEuTMW4A1MvTtHTMAbfRUIro18Gt0IqKrssCcvRNpOT/B5BeMbq3r6+l0KzifsQbfnrgHXt0eQjun3DUlot+DwSYREREROQ2/RiciIiIip2GwSUREREROw2CTiIiIiJyGwSYREREROQ2DTSIiIiJyGgabREREROQ0DDaJiIiIyGkYbBIRERGR0zDYJCIiIiKnYbBJRERERE7DYJOIiIiInIbBJhERERE5DYNNIiIiInIaBptERERE5DQMNomIiIjIaRhsEhEREZHTMNgkIiIiIqdhsElERERETsNgk4iIiIichsEmERERETkNg00iIiIichoGm0RERETkNAw2iYiIiMhpGGwSERERkdMw2CQiIiIip2GwSUREREROw2CTiIiIiJyGwSYREREROQ2DTSIiIiJyGgabREREROQ0DDaJiIiIyGnqCEkfJqJa4Qhm9+2D9/6tj15NxzF4v9c5rF+2BmknirW0O5ugyxMRGP7KC+jWSEu6umykTp6DhctXI1tfjJ1G/ujduw+eGjgYQT5GGPRkxbltc/DxZ0n4544C/KqnlWsE/ydCEfV8FB6pMB8REd0GlGCTiGqTNDHKCGEKXSAyLhRrSSsilA+N8uUvErK1pOKTm0VcgEHAP0GoSUVJIkTNA9Fjdp6a51qUpoTr6/IWUzKtiUXi+K7lIr6fu5DBonDxHSGWHdbLViZTTPHW1m+M2ShK1bRicXLXTBFqUtINwj1yhTivphMR0e2CX6MT1TqX8F9zEOI/eA7tTC56WmUunsGY8slYeOjjMNaHqz7Y5K9lqTVmqHunPlQXde/QBw1GeAUOxKQ1R7BrSgAuH5yN8Ae6IzHLomdQ3IG6dbWhpp6N9TuYLvAMfBFLv4yBERacmT8Ws/apE4iI6DbBYJOo1nFH17+Pw2Mt9NEr6RSKiU9448/6qPO5oH3cGnwZbgQsezHhicnYbRtvVsHg5Y2/qUO52L43Xx0iIqLbA4NNolonAMPfHoDqxJpq3on9yu9u1oQlC3NCfeAZ+Bq2mPW0anHDk+NehpcymPshPl1fjWjzwlnkqQMGtPCwLa0FWXNC4eMZiNdqVggiIrpFMNgkIsdOpeGzFYdwevdHWJKup1VXh67oa1QGLFiTtlNNqlJJDv4R9yGU+5mGgMl4OVhL1pxC2mcrcOj0bnxU40IQEdGtgMEmETnW5kUs2ZaM5LQD+LivnlZtbmjSVBsy//eSNmCj6MAWfBofjegBgWjodj/istshZOIyHNg6Hn52zdHb4MUl25CcnIYDNS8EERHdAhhsElEVDGjVNQxhPdui6mZI1+bPLfzxgGE/Fq/ajYuXAzBx81asfGsQ2jpYkaFVV4SF9XQ4jYiIbn0MNonICU7jaI42FNCurTZgo+6fG6Bz3BosizBpDYl6RWFloT6RiIhuKww2iciexQxziT58jSyb1uCfarugIDw7oI2aVpkbBszbjIQAA3AxCeH9E2HXUxIREd0WGGwSkY1DSHzoSSwv0kevhSULH8ctgNJ23DRqMoZfqdm8wQ+vzJ8MJd607J2AXlErwRucRES3FwabRKQrQcbUZzERj+Jhtfehk1ipNOKJnYltBdW85ViSgZkhvTBhrwWm3rOx+f2eDn9+Mq+gPKQ0+I3HmmURMMnhi0nh6J+YBdu1FX47E7HR8Ug9xtueRES1EYNNotrOYsZ3B7L0kRzs3HVKho0VWVCwfCnW6GPrF72PlJSUstfnibEY4OeGDm/sRcN+XeGtZDqUjPjJ8zBv+kj0ifxS7ZrIfl152LlKX8bniYgdEIB7G3TAhGO+iF12GCc3vGDXsrzk1C7s1J/jNG/fge/M5cGj24B52DzFXw5ZsHdCLwxemKNvwyEsGjkS0+dNxtMJaWoKERHVLnWU36zUh4motjFnYUPaUVTuXKgxOoR1RnN12IysDWk4WjmTQ407hKGzOmMhMpIXYeWqVZh+MATpBwbix5R9OKvmquxudx880LY53I2V72WaszYgzUEBytclWY5h++pMXNBH5USEyYmFmxLwZvLP6DMuDk+2cnSflIiIbmUMNonoCizImvoQhtX9EgfGq/c7iYiIaoRfoxNRFZSfinwSz594E2teYaBJRETXhnc2iYiIiMhJgP8fBNLJET6DRDwAAAAASUVORK5CYII=)"
      ]
    },
    {
      "cell_type": "markdown",
      "metadata": {
        "id": "SSBYFhSYjEsC"
      },
      "source": [
        "**Important Note:**\n",
        "\n",
        "The `prompt` in the `feedback_refinement_train.jsonl` file does not look like the prompt used to obtain the `refinement with feedback`.\n",
        "\n",
        "The `prompt` rather resembles the structure found in the `initial summaries`prompt. \n",
        "\n",
        "Concretely, this means, that the `Summary:` and `Feedback:` are not included in the prompt. \n",
        "\n",
        "This might seem odd at first, but it makes sense if you think about what the data will look like at test time. \n",
        "\n",
        "During training we have access to both the `summary` and the `feedback`.\n",
        "This is not the case during testing where you only have access to the `instruction`, `title` and `text`."
      ]
    },
    {
      "cell_type": "code",
      "execution_count": 15,
      "metadata": {
        "colab": {
          "base_uri": "https://localhost:8080/",
          "height": 104,
          "referenced_widgets": [
            "b37ca43f8e324620a85a679337468bc3",
            "033acc828fa0426eafa3fe8cd79823aa",
            "b9dffbcc44334f72b196d55856ae1bac",
            "75ad59794ec34c7bb2e87c08579bc022",
            "189de3693ec14f9d94fbf26babbbd6f0",
            "80181947a3fb4765b1927c40e125285f",
            "c2e77cbe540a4e01bd04819d88c838fd",
            "0a8220a9f3d746ba9896f3f0b8f74769",
            "165fe823ab044fc1bf8841f9157ce27c",
            "8a46fc6101a64eb8b4ef1f475ad7695f",
            "c06670f8b23542be9b983d9853a28594"
          ]
        },
        "id": "CTZCbXByj0jO",
        "outputId": "37171413-f8ef-4e69-e66f-5be86182a920"
      },
      "outputs": [
        {
          "name": "stderr",
          "output_type": "stream",
          "text": [
            "Using custom data configuration default-b024b969e6b46173\n"
          ]
        },
        {
          "name": "stdout",
          "output_type": "stream",
          "text": [
            "Downloading and preparing dataset json/default to C:\\Users\\Win 10\\.cache\\huggingface\\datasets\\json\\default-b024b969e6b46173\\0.0.0\\da492aad5680612e4028e7f6ddc04b1dfcec4b64db470ed7cc5f2bb265b9b6b5...\n"
          ]
        },
        {
          "name": "stderr",
          "output_type": "stream",
          "text": [
            "Downloading data files: 100%|██████████| 1/1 [00:00<00:00, 500.99it/s]\n",
            "Extracting data files: 100%|██████████| 1/1 [00:00<00:00, 142.42it/s]\n",
            "                            \r"
          ]
        },
        {
          "name": "stdout",
          "output_type": "stream",
          "text": [
            "Dataset json downloaded and prepared to C:\\Users\\Win 10\\.cache\\huggingface\\datasets\\json\\default-b024b969e6b46173\\0.0.0\\da492aad5680612e4028e7f6ddc04b1dfcec4b64db470ed7cc5f2bb265b9b6b5. Subsequent calls will reuse this data.\n"
          ]
        },
        {
          "name": "stderr",
          "output_type": "stream",
          "text": [
            "100%|██████████| 1/1 [00:00<00:00, 200.52it/s]\n"
          ]
        }
      ],
      "source": [
        "feedback_refinement = load_dataset('json', data_files=['data/language_feedback_learning_dataset/finetuning/feedback_refinement_train.jsonl'])['train']"
      ]
    },
    {
      "cell_type": "code",
      "execution_count": 16,
      "metadata": {
        "colab": {
          "base_uri": "https://localhost:8080/"
        },
        "id": "VT9-F2jEh6sm",
        "outputId": "f32326e4-a626-458e-a040-bec397918588"
      },
      "outputs": [
        {
          "name": "stdout",
          "output_type": "stream",
          "text": [
            "Write an excellent summary of a given text. An excellent summary is coherent, accurate, concise, and detailed, and it follows human preferences about summaries.\n",
            "\n",
            "Title: Friend [25M] is married, but can't get over feelings for me [22F].\n",
            "\n",
            "Text: I  (22f) was briefly enrolled in a graduate program this fall, and am still in close contact with a lot of friends I made while I was there.  One of these friends is a 25 year old guy from China.  \n",
            "\n",
            "Because English was not his first language and I could tell he was a little isolated, I was careful to be nice and invite him to events.  We started hanging out some on our own, but mostly just to discuss school/world politics; nothing too personal.  He asked me out a few times this fall, and even though I assumed he was single, I turned him down nicely-- just wasn't interested.\n",
            "\n",
            "After the final time I turned him down he got a little clingy and weird, so I tried to create some space between us; I didn't really speak to him over Christmas break.\n",
            "\n",
            "Imagine my surprise when my presumably single friend comes home from China married after Christmas!  Turns out he'd had a girlfriend all along and they tied the knot while he was there.  I assumed that settled things, and went back to occasionally spending time with him.\n",
            "\n",
            "Last night, he admitted to me that he's jealous of the guy I've been dating and has feelings for me.  I sort of just apologized and ignored it, but now I'm frustrated and not sure what to do.  Normally, I would just cut things off with him since he doesn't seem to be able to have \"just friends\" feelings toward me.  In this case, though, I feel guilty, since he really doesn't have many friends and seems to put a lot of energy into maintaining contact with me.   So what should I do?  Just end things?  Pretend it never happened?  All I know is that I certainly wouldn't want MY husband spending time alone with a woman he had feelings for.  I don't want to cross any lines.\n",
            "\n",
            "TL;DR:\n"
          ]
        }
      ],
      "source": [
        "print(feedback_refinement['prompt'][0])"
      ]
    },
    {
      "cell_type": "code",
      "execution_count": 17,
      "metadata": {
        "colab": {
          "base_uri": "https://localhost:8080/"
        },
        "id": "mYk_lCKdkURX",
        "outputId": "3954f77a-6b82-47c4-bad4-d1f1b4970c57"
      },
      "outputs": [
        {
          "name": "stdout",
          "output_type": "stream",
          "text": [
            " My friend from school who is now married is still in love with me and I don't know what to do about it. He's jealous of the guy I've been dating and I feel guilty for trying to cut things off.\n"
          ]
        }
      ],
      "source": [
        "print(feedback_refinement['completion'][0])"
      ]
    },
    {
      "cell_type": "markdown",
      "metadata": {
        "id": "ro4iz5zdeSXk"
      },
      "source": [
        "# Replicate the algorithm\n",
        "\n",
        "Ok, now that we know how the data looks like we can start replicating the results.\n",
        "\n",
        "I will walk through the algorithm with a single example such that the main idea will be conveyed while keeping the code easy to understand."
      ]
    },
    {
      "cell_type": "markdown",
      "metadata": {
        "id": "8ozSgV7WbMP0"
      },
      "source": [
        "![image.png](data:image/png;base64,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)"
      ]
    },
    {
      "cell_type": "markdown",
      "metadata": {
        "id": "WvMtcNFfbahj"
      },
      "source": [
        "## **`0`**: A language model generates an output. A human writes feedback on the output.\n",
        "\n",
        "Let's get our model to generate the `initial summaries`.\n",
        "\n",
        "To do so we have to create an appropriate prompt. It will look like so:\n"
      ]
    },
    {
      "cell_type": "markdown",
      "metadata": {
        "id": "ESKne87nn21E"
      },
      "source": [
        "![image.png](data:image/png;base64,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)"
      ]
    },
    {
      "cell_type": "markdown",
      "metadata": {
        "id": "xDUDtjGpo4rY"
      },
      "source": [
        "Let's reuse the data from the `summaries_and_feedback.csv` file. \n",
        "\n",
        "We can take one example and use it to exemplify the pipeline."
      ]
    },
    {
      "cell_type": "code",
      "execution_count": 19,
      "metadata": {
        "colab": {
          "base_uri": "https://localhost:8080/",
          "height": 225
        },
        "id": "2F1VItcjpB_1",
        "outputId": "cc08febe-bfba-41a9-bfc4-228811d03ae4"
      },
      "outputs": [
        {
          "data": {
            "text/html": [
              "<div>\n",
              "<style scoped>\n",
              "    .dataframe tbody tr th:only-of-type {\n",
              "        vertical-align: middle;\n",
              "    }\n",
              "\n",
              "    .dataframe tbody tr th {\n",
              "        vertical-align: top;\n",
              "    }\n",
              "\n",
              "    .dataframe thead th {\n",
              "        text-align: right;\n",
              "    }\n",
              "</style>\n",
              "<table border=\"1\" class=\"dataframe\">\n",
              "  <thead>\n",
              "    <tr style=\"text-align: right;\">\n",
              "      <th></th>\n",
              "      <th>id</th>\n",
              "      <th>post</th>\n",
              "      <th>title</th>\n",
              "      <th>subreddit</th>\n",
              "      <th>prompt</th>\n",
              "      <th>summary</th>\n",
              "      <th>feedback</th>\n",
              "    </tr>\n",
              "  </thead>\n",
              "  <tbody>\n",
              "    <tr>\n",
              "      <th>0</th>\n",
              "      <td>t3_18tffu</td>\n",
              "      <td>I  (22f) was briefly enrolled in a graduate pr...</td>\n",
              "      <td>Friend [25M] is married, but can't get over fe...</td>\n",
              "      <td>relationships</td>\n",
              "      <td>Write an excellent summary of a given text. An...</td>\n",
              "      <td>My friend from school who is now married is st...</td>\n",
              "      <td>This summary is good overall, it should howeve...</td>\n",
              "    </tr>\n",
              "  </tbody>\n",
              "</table>\n",
              "</div>"
            ],
            "text/plain": [
              "          id                                               post  \\\n",
              "0  t3_18tffu  I  (22f) was briefly enrolled in a graduate pr...   \n",
              "\n",
              "                                               title      subreddit  \\\n",
              "0  Friend [25M] is married, but can't get over fe...  relationships   \n",
              "\n",
              "                                              prompt  \\\n",
              "0  Write an excellent summary of a given text. An...   \n",
              "\n",
              "                                             summary  \\\n",
              "0  My friend from school who is now married is st...   \n",
              "\n",
              "                                            feedback  \n",
              "0  This summary is good overall, it should howeve...  "
            ]
          },
          "execution_count": 19,
          "metadata": {},
          "output_type": "execute_result"
        }
      ],
      "source": [
        "df.head(1)"
      ]
    },
    {
      "cell_type": "markdown",
      "metadata": {
        "id": "no45c0bEpPjO"
      },
      "source": [
        "This is what we're aiming for: "
      ]
    },
    {
      "cell_type": "code",
      "execution_count": 20,
      "metadata": {
        "colab": {
          "base_uri": "https://localhost:8080/"
        },
        "id": "ImA9rlqepIP5",
        "outputId": "b8f89429-0776-427e-ff95-c4c816920813"
      },
      "outputs": [
        {
          "name": "stdout",
          "output_type": "stream",
          "text": [
            "Write an excellent summary of a given text. An excellent summary is coherent, accurate, concise, and detailed, and it follows human preferences about summaries.\n",
            "\n",
            "Title: Friend [25M] is married, but can't get over feelings for me [22F].\n",
            "\n",
            "Text: I  (22f) was briefly enrolled in a graduate program this fall, and am still in close contact with a lot of friends I made while I was there.  One of these friends is a 25 year old guy from China.  \n",
            "\n",
            "Because English was not his first language and I could tell he was a little isolated, I was careful to be nice and invite him to events.  We started hanging out some on our own, but mostly just to discuss school/world politics; nothing too personal.  He asked me out a few times this fall, and even though I assumed he was single, I turned him down nicely-- just wasn't interested.\n",
            "\n",
            "After the final time I turned him down he got a little clingy and weird, so I tried to create some space between us; I didn't really speak to him over Christmas break.\n",
            "\n",
            "Imagine my surprise when my presumably single friend comes home from China married after Christmas!  Turns out he'd had a girlfriend all along and they tied the knot while he was there.  I assumed that settled things, and went back to occasionally spending time with him.\n",
            "\n",
            "Last night, he admitted to me that he's jealous of the guy I've been dating and has feelings for me.  I sort of just apologized and ignored it, but now I'm frustrated and not sure what to do.  Normally, I would just cut things off with him since he doesn't seem to be able to have \"just friends\" feelings toward me.  In this case, though, I feel guilty, since he really doesn't have many friends and seems to put a lot of energy into maintaining contact with me.   So what should I do?  Just end things?  Pretend it never happened?  All I know is that I certainly wouldn't want MY husband spending time alone with a woman he had feelings for.  I don't want to cross any lines.\n",
            "\n",
            "TL;DR\n"
          ]
        }
      ],
      "source": [
        "print(df['prompt'][0])"
      ]
    },
    {
      "cell_type": "code",
      "execution_count": 21,
      "metadata": {
        "id": "13wE4EVwpnIY"
      },
      "outputs": [],
      "source": [
        "def generate_prompt(instructions, title, text):\n",
        "  prompt = instructions + \"\\n\\nTitle: \" + title + \"\\n\\nText: \" + text + '\\n\\nTL;DR'\n",
        "  return prompt"
      ]
    },
    {
      "cell_type": "code",
      "execution_count": 22,
      "metadata": {
        "colab": {
          "base_uri": "https://localhost:8080/"
        },
        "id": "Pgw823f3e0qi",
        "outputId": "8861391b-c627-4868-85a1-df25e6d5ddcf"
      },
      "outputs": [
        {
          "name": "stdout",
          "output_type": "stream",
          "text": [
            "Write an excellent summary of a given text. An excellent summary is coherent, accurate, concise, and detailed, and it follows human preferences about summaries.\n",
            "\n",
            "Title: Friend [25M] is married, but can't get over feelings for me [22F].\n",
            "\n",
            "Text: I  (22f) was briefly enrolled in a graduate program this fall, and am still in close contact with a lot of friends I made while I was there.  One of these friends is a 25 year old guy from China.  \n",
            "\n",
            "Because English was not his first language and I could tell he was a little isolated, I was careful to be nice and invite him to events.  We started hanging out some on our own, but mostly just to discuss school/world politics; nothing too personal.  He asked me out a few times this fall, and even though I assumed he was single, I turned him down nicely-- just wasn't interested.\n",
            "\n",
            "After the final time I turned him down he got a little clingy and weird, so I tried to create some space between us; I didn't really speak to him over Christmas break.\n",
            "\n",
            "Imagine my surprise when my presumably single friend comes home from China married after Christmas!  Turns out he'd had a girlfriend all along and they tied the knot while he was there.  I assumed that settled things, and went back to occasionally spending time with him.\n",
            "\n",
            "Last night, he admitted to me that he's jealous of the guy I've been dating and has feelings for me.  I sort of just apologized and ignored it, but now I'm frustrated and not sure what to do.  Normally, I would just cut things off with him since he doesn't seem to be able to have \"just friends\" feelings toward me.  In this case, though, I feel guilty, since he really doesn't have many friends and seems to put a lot of energy into maintaining contact with me.   So what should I do?  Just end things?  Pretend it never happened?  All I know is that I certainly wouldn't want MY husband spending time alone with a woman he had feelings for.  I don't want to cross any lines.\n",
            "\n",
            "TL;DR\n"
          ]
        }
      ],
      "source": [
        "instructions = \"Write an excellent summary of a given text. An excellent summary is coherent, accurate, concise, and detailed, and it follows human preferences about summaries.\"\n",
        "title = df['title'][0] \n",
        "text = df['post'][0]\n",
        "\n",
        "prompt = generate_prompt(instructions, title, text)\n",
        "print(prompt)"
      ]
    },
    {
      "cell_type": "markdown",
      "metadata": {
        "id": "Sou-0pIhqTqu"
      },
      "source": [
        "Let's have a look at whether the prompts are identical"
      ]
    },
    {
      "cell_type": "code",
      "execution_count": 23,
      "metadata": {
        "colab": {
          "base_uri": "https://localhost:8080/"
        },
        "id": "-48calYXqZIO",
        "outputId": "5f61105d-4d0b-433b-c644-dde7f70564db"
      },
      "outputs": [
        {
          "data": {
            "text/plain": [
              "True"
            ]
          },
          "execution_count": 23,
          "metadata": {},
          "output_type": "execute_result"
        }
      ],
      "source": [
        "prompt == df['prompt'][0]"
      ]
    },
    {
      "cell_type": "markdown",
      "metadata": {
        "id": "xaefaPVLrDTp"
      },
      "source": [
        "Great, now that we know how the prompt is generated, we can generate an output: our `initial summary`.\n",
        "\n"
      ]
    },
    {
      "cell_type": "markdown",
      "metadata": {
        "id": "JXju7Nbt1cpL"
      },
      "source": [
        "\n",
        "From the paper we get some useful information: \n",
        "> We take 100 samples from the **Reddit data subset** used in Stiennon et al. (2020). We use **InstructGPT (175B)** to generate initial summaries and refinements, using the instructions in Appendix F. We then write feedback f on the initial summary y given the Reddit post x, and we generate possible refinements $y′_{1}$, . . . , $y′_{20}$."
      ]
    },
    {
      "cell_type": "markdown",
      "metadata": {
        "id": "L8lleNiZsVF4"
      },
      "source": [
        "\n",
        "In **Appendix E.1** we find more on how to generate the desired outputs:\n",
        "> *For all summarization experiments (§3.2), we sample up to **48 tokens** (as in Stiennon et al., 2020) with **nucleus sampling** (Holtzman et al., 2019) with **p = 0.9**. We **strip nonalphanumeric characters** (e.g., newlines) from the beginning of sampled summaries. Due to the maximum token length, sampled summaries sometimes end with an incomplete sentence. Thus, we remove ending sentences that do not end in “.”, “!”, or “?”*"
      ]
    },
    {
      "cell_type": "markdown",
      "metadata": {
        "id": "E3oeG0WYti6M"
      },
      "source": [
        "To summarize:\n",
        "- model: 'InstructGPT (175B)' -> `text-davinci-001`\n",
        "- max_tokens: 48\n",
        "- sampling: 'nucleus sampling with p=0.9' -> `top_p=0.9`\n",
        "- number of generations for refinements: 20 -> `n=20`\n",
        "- number of generations for initial summary: 1 -> `n=1`\n",
        "- remove newline characters from beginning of summary\n",
        "- remove summaries if they are incomplete sentences"
      ]
    },
    {
      "cell_type": "markdown",
      "metadata": {
        "id": "8nxhTRb8rTHR"
      },
      "source": [
        "The resulting call to the OpenAI API looks like this\n",
        "\n",
        "```python\n",
        "model_output_choices = openai.Completion.create(\n",
        "  model=\"text-davinci-001\",\n",
        "  prompt=input_text,\n",
        "  max_tokens=48,\n",
        "  top_p=0.9,\n",
        "  n=1) # n=20 for refinement generation\n",
        "```"
      ]
    },
    {
      "cell_type": "code",
      "execution_count": 48,
      "metadata": {
        "id": "LbrzmLZ72BYI"
      },
      "outputs": [],
      "source": [
        "initial_summary_output = openai.Completion.create(\n",
        "  model=\"text-davinci-001\",\n",
        "  prompt=prompt,\n",
        "  max_tokens=48,\n",
        "  top_p=0.9,\n",
        "  n=1,\n",
        "  stop='\\n')"
      ]
    },
    {
      "cell_type": "code",
      "execution_count": 49,
      "metadata": {
        "colab": {
          "base_uri": "https://localhost:8080/",
          "height": 36
        },
        "id": "QNKBpMXD2G-p",
        "outputId": "d455f5b1-b8a5-4369-8ecc-54604d127bb3"
      },
      "outputs": [
        {
          "data": {
            "text/plain": [
              "' Friend from graduate program married, now has feelings for friend; what should she do?'"
            ]
          },
          "execution_count": 49,
          "metadata": {},
          "output_type": "execute_result"
        }
      ],
      "source": [
        "initial_summary = initial_summary_output['choices'][0]['text'] \n",
        "initial_summary"
      ]
    },
    {
      "cell_type": "markdown",
      "metadata": {
        "id": "-In9NXBD2eEV"
      },
      "source": [
        "Let's perform the remaining 2 processing steps\n",
        "- remove newline characters from beginning of summary\n",
        "- remove summaries if they are incomplete sentences"
      ]
    },
    {
      "cell_type": "code",
      "execution_count": 50,
      "metadata": {
        "colab": {
          "base_uri": "https://localhost:8080/",
          "height": 36
        },
        "id": "1995J-cY2eEV",
        "outputId": "6d9b650e-e79c-4ea5-f4c8-f6a2b7a9dd28"
      },
      "outputs": [
        {
          "data": {
            "text/plain": [
              "' \\t\\n\\r\\x0b\\x0c!\"#$%&\\'()*+,-./:;<=>?@[\\\\]^_`{|}~'"
            ]
          },
          "execution_count": 50,
          "metadata": {},
          "output_type": "execute_result"
        }
      ],
      "source": [
        "# Remove non alpha numeric characters\n",
        "string.whitespace + string.punctuation"
      ]
    },
    {
      "cell_type": "code",
      "execution_count": 51,
      "metadata": {
        "colab": {
          "base_uri": "https://localhost:8080/",
          "height": 36
        },
        "id": "CVtH-xop2eEW",
        "outputId": "6f4f51bb-57af-4a9b-952e-9d96aeca59f4"
      },
      "outputs": [
        {
          "data": {
            "text/plain": [
              "'Friend from graduate program married, now has feelings for friend; what should she do?'"
            ]
          },
          "execution_count": 51,
          "metadata": {},
          "output_type": "execute_result"
        }
      ],
      "source": [
        "proccessed_summary = initial_summary.lstrip(string.whitespace + string.punctuation)\n",
        "proccessed_summary"
      ]
    },
    {
      "cell_type": "markdown",
      "metadata": {
        "id": "O3Sc0_UG30Nr"
      },
      "source": [
        "Since our summary ends with one of the valid signs we don't need to prduce another summary."
      ]
    },
    {
      "cell_type": "code",
      "execution_count": 52,
      "metadata": {
        "colab": {
          "base_uri": "https://localhost:8080/"
        },
        "id": "-57JsWjr2eEW",
        "outputId": "ad9ee3a2-32e6-4e91-924a-54ec17c901b6"
      },
      "outputs": [
        {
          "data": {
            "text/plain": [
              "True"
            ]
          },
          "execution_count": 52,
          "metadata": {},
          "output_type": "execute_result"
        }
      ],
      "source": [
        "valid_end_signs = ('.', '!', '?')\n",
        "proccessed_summary.endswith(valid_end_signs)"
      ]
    },
    {
      "cell_type": "markdown",
      "metadata": {
        "id": "AXN2lUgM4YIY"
      },
      "source": [
        "As a last task in step **`0`** a human writes feedback on the output.\n",
        "\n",
        "- We could write this ourselves, but I think the main gist is clear. \n",
        "- The main point is that this step is performed manually by humans and can therefore be quite costly. \n",
        "- We'll therefore just use the feedback from the dataset"
      ]
    },
    {
      "cell_type": "code",
      "execution_count": 53,
      "metadata": {
        "colab": {
          "base_uri": "https://localhost:8080/",
          "height": 70
        },
        "id": "GY8vBZQG4fn3",
        "outputId": "19ee2c5a-beb6-4fad-a869-cb3a06fbbb83"
      },
      "outputs": [
        {
          "data": {
            "text/plain": [
              "'This summary is good overall, it should however mention that her friend from graduate school does not have many friends and that she feels guilty for trying to cut things off. Also her friend puts a lot of energy in maintaining contact with the author. The summary should also convey that the author is asking for advice on what to do about this. '"
            ]
          },
          "execution_count": 53,
          "metadata": {},
          "output_type": "execute_result"
        }
      ],
      "source": [
        "feedback = df['feedback'][0]\n",
        "feedback"
      ]
    },
    {
      "cell_type": "markdown",
      "metadata": {
        "id": "1wjljwsHiXXw"
      },
      "source": [
        "## **`1`** Condition the language model on the input, output, and feedback to generate multiple refinements.\n",
        "\n",
        "Now that we have created an initial summary and tasked humans to provide written feedback on them, we can prompt the model again to create `refinements`"
      ]
    },
    {
      "cell_type": "markdown",
      "metadata": {
        "id": "hCaIkmD36E_n"
      },
      "source": [
        "We can reuse our prompt creation function and modify it a little."
      ]
    },
    {
      "cell_type": "code",
      "execution_count": 54,
      "metadata": {
        "id": "wlFMv7Ya6Aj5"
      },
      "outputs": [],
      "source": [
        "def generate_prompt(instructions, title, text, \n",
        "                    is_refinement=False, summary=None, feedback=None):\n",
        "  if is_refinement:\n",
        "    prompt = instructions + \"\\n\\nTitle: \" + title + \"\\n\\nText: \" + text + '\\n\\nSummary:' + summary + '\\n\\nFeedback:' + feedback + '\\n\\nTL;DR' \n",
        "  else:\n",
        "    prompt = instructions + \"\\n\\nTitle: \" + title + \"\\n\\nText: \" + text + '\\n\\nTL;DR'\n",
        "  return prompt"
      ]
    },
    {
      "cell_type": "code",
      "execution_count": 55,
      "metadata": {
        "id": "ySWrWozj606v"
      },
      "outputs": [],
      "source": [
        "refinement_instructions = \"\"\"Given a text, an initial summary, and feedback on \n",
        "the initial summary, write an improved summary that incorporates the feedback \n",
        "on the initial summary and is better than the initial summary. \n",
        "The improved summary is coherent, accurate, concise, and detailed, and it \n",
        "follows human preferences about summaries. Most importantly, the improved \n",
        "summary incorporates the feedback.\n",
        "\"\"\"\n",
        "refinement_prompt = generate_prompt(refinement_instructions,\n",
        "                                    title,\n",
        "                                    text,\n",
        "                                    is_refinement=True,\n",
        "                                    summary=proccessed_summary,\n",
        "                                    feedback=feedback\n",
        "                                    )"
      ]
    },
    {
      "cell_type": "markdown",
      "metadata": {
        "id": "QFpsOMH7rtcX"
      },
      "source": [
        "We can use the new prompt to get 20 refinements."
      ]
    },
    {
      "cell_type": "code",
      "execution_count": 56,
      "metadata": {
        "id": "beSEt6Zopfus"
      },
      "outputs": [],
      "source": [
        "model_output_choices = openai.Completion.create(\n",
        "  model=\"text-davinci-001\",\n",
        "  prompt=refinement_prompt,\n",
        "  max_tokens=48,\n",
        "  top_p=0.9,\n",
        "  n=20)"
      ]
    },
    {
      "cell_type": "markdown",
      "metadata": {
        "id": "l6176-IPvdJf"
      },
      "source": [
        "Congrats, you've just generated 20 refinements"
      ]
    },
    {
      "cell_type": "code",
      "execution_count": 68,
      "metadata": {
        "colab": {
          "base_uri": "https://localhost:8080/"
        },
        "id": "Qy29VuQVv7bj",
        "outputId": "5b5efd7e-75ca-46f4-f67f-8b1114f0ea8e"
      },
      "outputs": [
        {
          "data": {
            "text/html": [
              "<div>\n",
              "<style scoped>\n",
              "    .dataframe tbody tr th:only-of-type {\n",
              "        vertical-align: middle;\n",
              "    }\n",
              "\n",
              "    .dataframe tbody tr th {\n",
              "        vertical-align: top;\n",
              "    }\n",
              "\n",
              "    .dataframe thead th {\n",
              "        text-align: right;\n",
              "    }\n",
              "</style>\n",
              "<table border=\"1\" class=\"dataframe\">\n",
              "  <thead>\n",
              "    <tr style=\"text-align: right;\">\n",
              "      <th></th>\n",
              "      <th>text</th>\n",
              "    </tr>\n",
              "  </thead>\n",
              "  <tbody>\n",
              "    <tr>\n",
              "      <th>0</th>\n",
              "      <td>:\\n\\nThe author has a friend from their gradua...</td>\n",
              "    </tr>\n",
              "    <tr>\n",
              "      <th>1</th>\n",
              "      <td>:\\n\\nThe author's friend from graduate school ...</td>\n",
              "    </tr>\n",
              "    <tr>\n",
              "      <th>2</th>\n",
              "      <td>: \\n\\nThe author's friend from graduate school...</td>\n",
              "    </tr>\n",
              "    <tr>\n",
              "      <th>3</th>\n",
              "      <td>: The author has a friend from graduate school...</td>\n",
              "    </tr>\n",
              "    <tr>\n",
              "      <th>4</th>\n",
              "      <td>: \\n\\nThe author is in close contact with a lo...</td>\n",
              "    </tr>\n",
              "    <tr>\n",
              "      <th>5</th>\n",
              "      <td>:\\n\\nThe author has a friend from graduate sch...</td>\n",
              "    </tr>\n",
              "    <tr>\n",
              "      <th>6</th>\n",
              "      <td>: \\n\\nThe author has a friend from graduate sc...</td>\n",
              "    </tr>\n",
              "    <tr>\n",
              "      <th>7</th>\n",
              "      <td>: \\n\\nThe author has a friend from graduate sc...</td>\n",
              "    </tr>\n",
              "    <tr>\n",
              "      <th>8</th>\n",
              "      <td>: \\n\\nThe author has a friend from their gradu...</td>\n",
              "    </tr>\n",
              "    <tr>\n",
              "      <th>9</th>\n",
              "      <td>: \\n\\nThe author has a friend from graduate sc...</td>\n",
              "    </tr>\n",
              "    <tr>\n",
              "      <th>10</th>\n",
              "      <td>: \\n\\nThe author is in close contact with a fr...</td>\n",
              "    </tr>\n",
              "    <tr>\n",
              "      <th>11</th>\n",
              "      <td>:\\n\\nThe author has a friend from graduate sch...</td>\n",
              "    </tr>\n",
              "    <tr>\n",
              "      <th>12</th>\n",
              "      <td>: \\n\\nThe author's friend from graduate school...</td>\n",
              "    </tr>\n",
              "    <tr>\n",
              "      <th>13</th>\n",
              "      <td>:\\n\\nThe author has a friend from graduate sch...</td>\n",
              "    </tr>\n",
              "    <tr>\n",
              "      <th>14</th>\n",
              "      <td>: \\n\\nThe author has a friend from graduate sc...</td>\n",
              "    </tr>\n",
              "    <tr>\n",
              "      <th>15</th>\n",
              "      <td>: \\n\\nThe author has a friend from graduate sc...</td>\n",
              "    </tr>\n",
              "    <tr>\n",
              "      <th>16</th>\n",
              "      <td>:\\n\\nThe author's friend from graduate school ...</td>\n",
              "    </tr>\n",
              "    <tr>\n",
              "      <th>17</th>\n",
              "      <td>: \\n\\nThe author's friend from graduate school...</td>\n",
              "    </tr>\n",
              "    <tr>\n",
              "      <th>18</th>\n",
              "      <td>:\\n\\nThe author's friend from graduate school ...</td>\n",
              "    </tr>\n",
              "    <tr>\n",
              "      <th>19</th>\n",
              "      <td>: \\n\\nThe author has a friend from graduate sc...</td>\n",
              "    </tr>\n",
              "  </tbody>\n",
              "</table>\n",
              "</div>"
            ],
            "text/plain": [
              "                                                 text\n",
              "0   :\\n\\nThe author has a friend from their gradua...\n",
              "1   :\\n\\nThe author's friend from graduate school ...\n",
              "2   : \\n\\nThe author's friend from graduate school...\n",
              "3   : The author has a friend from graduate school...\n",
              "4   : \\n\\nThe author is in close contact with a lo...\n",
              "5   :\\n\\nThe author has a friend from graduate sch...\n",
              "6   : \\n\\nThe author has a friend from graduate sc...\n",
              "7   : \\n\\nThe author has a friend from graduate sc...\n",
              "8   : \\n\\nThe author has a friend from their gradu...\n",
              "9   : \\n\\nThe author has a friend from graduate sc...\n",
              "10  : \\n\\nThe author is in close contact with a fr...\n",
              "11  :\\n\\nThe author has a friend from graduate sch...\n",
              "12  : \\n\\nThe author's friend from graduate school...\n",
              "13  :\\n\\nThe author has a friend from graduate sch...\n",
              "14  : \\n\\nThe author has a friend from graduate sc...\n",
              "15  : \\n\\nThe author has a friend from graduate sc...\n",
              "16  :\\n\\nThe author's friend from graduate school ...\n",
              "17  : \\n\\nThe author's friend from graduate school...\n",
              "18  :\\n\\nThe author's friend from graduate school ...\n",
              "19  : \\n\\nThe author has a friend from graduate sc..."
            ]
          },
          "execution_count": 68,
          "metadata": {},
          "output_type": "execute_result"
        }
      ],
      "source": [
        "refinements = pd.DataFrame(model_output_choices['choices'])[['text']]\n",
        "refinements"
      ]
    },
    {
      "cell_type": "markdown",
      "metadata": {
        "id": "VuJhHqdpv_mR"
      },
      "source": [
        "Let's perform the remaining 2 processing steps\n",
        "- remove newline characters from beginning of summary\n",
        "- remove summaries if they are incomplete sentences"
      ]
    },
    {
      "cell_type": "code",
      "execution_count": 75,
      "metadata": {
        "id": "wHf0ffSu2eEW"
      },
      "outputs": [],
      "source": [
        "def postprocess_refinements(refinements, valid_end_signs=('!', '.', '?')):\n",
        "  # This function works on dataframes\n",
        "  refinements['text'] = refinements['text'].apply(lambda x: x.lstrip(string.whitespace + string.punctuation))\n",
        "  refinements['text'] = refinements['text'].apply(lambda x: x if x.endswith(valid_end_signs) else '')\n",
        "  refinements['text'].replace('', np.nan, inplace=True)\n",
        "  refinements['text'].dropna(inplace=True)\n",
        "  return refinements"
      ]
    },
    {
      "cell_type": "code",
      "execution_count": 76,
      "metadata": {
        "colab": {
          "base_uri": "https://localhost:8080/"
        },
        "id": "d8fRvmEBy9sx",
        "outputId": "580e8f12-905e-4240-cb92-6f361d12950d"
      },
      "outputs": [
        {
          "data": {
            "text/html": [
              "<div>\n",
              "<style scoped>\n",
              "    .dataframe tbody tr th:only-of-type {\n",
              "        vertical-align: middle;\n",
              "    }\n",
              "\n",
              "    .dataframe tbody tr th {\n",
              "        vertical-align: top;\n",
              "    }\n",
              "\n",
              "    .dataframe thead th {\n",
              "        text-align: right;\n",
              "    }\n",
              "</style>\n",
              "<table border=\"1\" class=\"dataframe\">\n",
              "  <thead>\n",
              "    <tr style=\"text-align: right;\">\n",
              "      <th></th>\n",
              "      <th>text</th>\n",
              "    </tr>\n",
              "  </thead>\n",
              "  <tbody>\n",
              "    <tr>\n",
              "      <th>0</th>\n",
              "      <td>The author has a friend from their graduate pr...</td>\n",
              "    </tr>\n",
              "    <tr>\n",
              "      <th>1</th>\n",
              "      <td>The author's friend from graduate school is ma...</td>\n",
              "    </tr>\n",
              "    <tr>\n",
              "      <th>3</th>\n",
              "      <td>The author has a friend from graduate school w...</td>\n",
              "    </tr>\n",
              "    <tr>\n",
              "      <th>5</th>\n",
              "      <td>The author has a friend from graduate school w...</td>\n",
              "    </tr>\n",
              "    <tr>\n",
              "      <th>7</th>\n",
              "      <td>The author has a friend from graduate school w...</td>\n",
              "    </tr>\n",
              "    <tr>\n",
              "      <th>8</th>\n",
              "      <td>The author has a friend from their graduate pr...</td>\n",
              "    </tr>\n",
              "    <tr>\n",
              "      <th>9</th>\n",
              "      <td>The author has a friend from graduate school w...</td>\n",
              "    </tr>\n",
              "    <tr>\n",
              "      <th>11</th>\n",
              "      <td>The author has a friend from graduate school w...</td>\n",
              "    </tr>\n",
              "    <tr>\n",
              "      <th>13</th>\n",
              "      <td>The author has a friend from graduate school w...</td>\n",
              "    </tr>\n",
              "    <tr>\n",
              "      <th>14</th>\n",
              "      <td>The author has a friend from graduate school w...</td>\n",
              "    </tr>\n",
              "    <tr>\n",
              "      <th>15</th>\n",
              "      <td>The author has a friend from graduate school w...</td>\n",
              "    </tr>\n",
              "    <tr>\n",
              "      <th>16</th>\n",
              "      <td>The author's friend from graduate school is ma...</td>\n",
              "    </tr>\n",
              "    <tr>\n",
              "      <th>17</th>\n",
              "      <td>The author's friend from graduate school is ma...</td>\n",
              "    </tr>\n",
              "    <tr>\n",
              "      <th>18</th>\n",
              "      <td>The author's friend from graduate school is ma...</td>\n",
              "    </tr>\n",
              "    <tr>\n",
              "      <th>19</th>\n",
              "      <td>The author has a friend from graduate school w...</td>\n",
              "    </tr>\n",
              "  </tbody>\n",
              "</table>\n",
              "</div>"
            ],
            "text/plain": [
              "                                                 text\n",
              "0   The author has a friend from their graduate pr...\n",
              "1   The author's friend from graduate school is ma...\n",
              "3   The author has a friend from graduate school w...\n",
              "5   The author has a friend from graduate school w...\n",
              "7   The author has a friend from graduate school w...\n",
              "8   The author has a friend from their graduate pr...\n",
              "9   The author has a friend from graduate school w...\n",
              "11  The author has a friend from graduate school w...\n",
              "13  The author has a friend from graduate school w...\n",
              "14  The author has a friend from graduate school w...\n",
              "15  The author has a friend from graduate school w...\n",
              "16  The author's friend from graduate school is ma...\n",
              "17  The author's friend from graduate school is ma...\n",
              "18  The author's friend from graduate school is ma...\n",
              "19  The author has a friend from graduate school w..."
            ]
          },
          "execution_count": 76,
          "metadata": {},
          "output_type": "execute_result"
        }
      ],
      "source": [
        "refinements_df = postprocess_refinements(refinements)\n",
        "refinements_df"
      ]
    },
    {
      "cell_type": "markdown",
      "metadata": {
        "id": "r0jQ7P2D1rhu"
      },
      "source": [
        "## **`2`** Choose the refinement with the **highest similarity** with the feedback\n",
        "\n",
        "With the refinements in hand we can check which one has the highest similarity with our feedback and then save it as the one we'll finetune our model on."
      ]
    },
    {
      "cell_type": "markdown",
      "metadata": {
        "id": "i5zmwG3w19MG"
      },
      "source": [
        "We start by creating the `get_embedding` function.\n",
        "\n",
        "It uses the `openai.Embedding` endpoint which is a contrastive pre-trained text embedding function."
      ]
    },
    {
      "cell_type": "code",
      "execution_count": 77,
      "metadata": {
        "colab": {
          "base_uri": "https://localhost:8080/"
        },
        "id": "9xP4kJtap0pv",
        "outputId": "33c40e6e-9d25-4fbb-e5e1-4bba080bef08"
      },
      "outputs": [
        {
          "name": "stdout",
          "output_type": "stream",
          "text": [
            "2048\n"
          ]
        }
      ],
      "source": [
        "# @retry(wait=wait_random_exponential(min=1, max=20), stop=stop_after_attempt(6))\n",
        "def get_embedding(text: str, engine=\"text-similarity-davinci-001\") -> List[float]:\n",
        "\n",
        "    # replace newlines, which can negatively affect performance.\n",
        "    text = text.replace(\"\\n\", \" \")\n",
        "\n",
        "    return openai.Embedding.create(input=[text], engine=engine)[\"data\"][0][\"embedding\"]\n",
        "\n",
        "print(len(get_embedding(\"This is a sample query text\", engine=\"text-similarity-babbage-001\")))"
      ]
    },
    {
      "cell_type": "markdown",
      "metadata": {
        "id": "PP-8LVyBqrWU"
      },
      "source": [
        "Get `refinement embeddings` and save them for future reuse"
      ]
    },
    {
      "cell_type": "code",
      "execution_count": 83,
      "metadata": {
        "id": "Qea9dXLoqoQL"
      },
      "outputs": [],
      "source": [
        "refinements_df['babbage_similarity'] = refinements_df['text'].apply(lambda x: get_embedding(x, engine='text-similarity-babbage-001'))\n",
        "# refinements_df['babbage_search'] = refinements_df['text'].apply(lambda x: get_embedding(x, engine='text-search-babbage-doc-001'))\n",
        "refinements_df.to_csv('refinements.csv')"
      ]
    },
    {
      "cell_type": "code",
      "execution_count": 84,
      "metadata": {},
      "outputs": [
        {
          "data": {
            "text/html": [
              "<div>\n",
              "<style scoped>\n",
              "    .dataframe tbody tr th:only-of-type {\n",
              "        vertical-align: middle;\n",
              "    }\n",
              "\n",
              "    .dataframe tbody tr th {\n",
              "        vertical-align: top;\n",
              "    }\n",
              "\n",
              "    .dataframe thead th {\n",
              "        text-align: right;\n",
              "    }\n",
              "</style>\n",
              "<table border=\"1\" class=\"dataframe\">\n",
              "  <thead>\n",
              "    <tr style=\"text-align: right;\">\n",
              "      <th></th>\n",
              "      <th>text</th>\n",
              "      <th>babbage_similarity</th>\n",
              "    </tr>\n",
              "  </thead>\n",
              "  <tbody>\n",
              "    <tr>\n",
              "      <th>0</th>\n",
              "      <td>The author has a friend from their graduate pr...</td>\n",
              "      <td>[0.004192444495856762, 0.015246931463479996, -...</td>\n",
              "    </tr>\n",
              "    <tr>\n",
              "      <th>1</th>\n",
              "      <td>The author's friend from graduate school is ma...</td>\n",
              "      <td>[0.006996044889092445, 0.01488018874078989, -0...</td>\n",
              "    </tr>\n",
              "  </tbody>\n",
              "</table>\n",
              "</div>"
            ],
            "text/plain": [
              "                                                text  \\\n",
              "0  The author has a friend from their graduate pr...   \n",
              "1  The author's friend from graduate school is ma...   \n",
              "\n",
              "                                  babbage_similarity  \n",
              "0  [0.004192444495856762, 0.015246931463479996, -...  \n",
              "1  [0.006996044889092445, 0.01488018874078989, -0...  "
            ]
          },
          "execution_count": 84,
          "metadata": {},
          "output_type": "execute_result"
        }
      ],
      "source": [
        "refinements_df.head(2)"
      ]
    },
    {
      "cell_type": "code",
      "execution_count": 85,
      "metadata": {
        "colab": {
          "base_uri": "https://localhost:8080/"
        },
        "id": "Lkdr3t3nz61O",
        "outputId": "297f34fe-923d-4ca2-efbd-c78832e33259"
      },
      "outputs": [
        {
          "data": {
            "text/plain": [
              "2048"
            ]
          },
          "execution_count": 85,
          "metadata": {},
          "output_type": "execute_result"
        }
      ],
      "source": [
        "len(refinements_df['babbage_similarity'][0])"
      ]
    },
    {
      "cell_type": "markdown",
      "metadata": {
        "id": "NyK7v86p2XOk"
      },
      "source": [
        "We use the `sklearn cosine similarity` which expects a list of lists like so."
      ]
    },
    {
      "cell_type": "code",
      "execution_count": 88,
      "metadata": {
        "colab": {
          "base_uri": "https://localhost:8080/"
        },
        "id": "Gs60oTi8zR8J",
        "outputId": "a1dfb2ed-acc8-443e-e384-05931076ebee"
      },
      "outputs": [
        {
          "data": {
            "text/plain": [
              "array([[1.        , 0.98391286, 0.93524358, 0.93785964, 0.93905301,\n",
              "        1.        , 0.93785964, 0.93785964, 0.93524358, 0.92771537,\n",
              "        0.93550934, 0.98391286, 0.98391286, 0.98391286, 0.93785964],\n",
              "       [0.98391286, 1.        , 0.92949444, 0.93065931, 0.94512564,\n",
              "        0.98391286, 0.93065931, 0.93065931, 0.92949444, 0.93515841,\n",
              "        0.92720113, 1.        , 1.        , 1.        , 0.93065931],\n",
              "       [0.93524358, 0.92949444, 1.        , 0.99801855, 0.95988518,\n",
              "        0.93524358, 0.99801855, 0.99801855, 1.        , 0.9389564 ,\n",
              "        0.99811568, 0.92949444, 0.92949444, 0.92949444, 0.99801855],\n",
              "       [0.93785964, 0.93065931, 0.99801855, 1.        , 0.95893281,\n",
              "        0.93785964, 1.        , 1.        , 0.99801855, 0.93808102,\n",
              "        0.99652958, 0.93065931, 0.93065931, 0.93065931, 1.        ],\n",
              "       [0.93905301, 0.94512564, 0.95988518, 0.95893281, 1.        ,\n",
              "        0.93905301, 0.95893281, 0.95893281, 0.95988518, 0.98025795,\n",
              "        0.95766883, 0.94512564, 0.94512564, 0.94512564, 0.95893281]])"
            ]
          },
          "execution_count": 88,
          "metadata": {},
          "output_type": "execute_result"
        }
      ],
      "source": [
        "cosine_similarity([*refinements_df['babbage_similarity']], [*refinements_df['babbage_similarity']])[:5]"
      ]
    },
    {
      "cell_type": "markdown",
      "metadata": {
        "id": "54eqgzL5jjBe"
      },
      "source": [
        "Create function to compare `refinements` and `human feedback`"
      ]
    },
    {
      "cell_type": "code",
      "execution_count": 90,
      "metadata": {
        "id": "WcD7L6zImLrU"
      },
      "outputs": [],
      "source": [
        "def compare_refinement_to_human_feedback(refinements_df, human_feedback, n=1):\n",
        "   embedding = get_embedding(human_feedback, engine='text-similarity-babbage-001')\n",
        "   refinements_df['similarities'] = refinements_df['babbage_similarity'].apply(lambda x: cosine_similarity([x], [embedding]))\n",
        "   res = refinements_df.sort_values('similarities', ascending=False).head(n)\n",
        "   return res\n",
        " \n",
        "res = compare_refinement_to_human_feedback(refinements_df, feedback, n=3)"
      ]
    },
    {
      "cell_type": "code",
      "execution_count": 91,
      "metadata": {
        "colab": {
          "base_uri": "https://localhost:8080/",
          "height": 143
        },
        "id": "xWCLj3nUisdi",
        "outputId": "d0b3f449-4cec-4e89-e835-799ab4e05426"
      },
      "outputs": [
        {
          "data": {
            "text/html": [
              "<div>\n",
              "<style scoped>\n",
              "    .dataframe tbody tr th:only-of-type {\n",
              "        vertical-align: middle;\n",
              "    }\n",
              "\n",
              "    .dataframe tbody tr th {\n",
              "        vertical-align: top;\n",
              "    }\n",
              "\n",
              "    .dataframe thead th {\n",
              "        text-align: right;\n",
              "    }\n",
              "</style>\n",
              "<table border=\"1\" class=\"dataframe\">\n",
              "  <thead>\n",
              "    <tr style=\"text-align: right;\">\n",
              "      <th></th>\n",
              "      <th>text</th>\n",
              "      <th>babbage_similarity</th>\n",
              "      <th>similarities</th>\n",
              "    </tr>\n",
              "  </thead>\n",
              "  <tbody>\n",
              "    <tr>\n",
              "      <th>5</th>\n",
              "      <td>The author has a friend from graduate school w...</td>\n",
              "      <td>[0.0005159178399480879, 0.00046537088928744197...</td>\n",
              "      <td>[[0.8158968234048924]]</td>\n",
              "    </tr>\n",
              "    <tr>\n",
              "      <th>9</th>\n",
              "      <td>The author has a friend from graduate school w...</td>\n",
              "      <td>[0.0005159178399480879, 0.00046537088928744197...</td>\n",
              "      <td>[[0.8158968234048924]]</td>\n",
              "    </tr>\n",
              "    <tr>\n",
              "      <th>11</th>\n",
              "      <td>The author has a friend from graduate school w...</td>\n",
              "      <td>[0.0005159178399480879, 0.00046537088928744197...</td>\n",
              "      <td>[[0.8158968234048924]]</td>\n",
              "    </tr>\n",
              "  </tbody>\n",
              "</table>\n",
              "</div>"
            ],
            "text/plain": [
              "                                                 text  \\\n",
              "5   The author has a friend from graduate school w...   \n",
              "9   The author has a friend from graduate school w...   \n",
              "11  The author has a friend from graduate school w...   \n",
              "\n",
              "                                   babbage_similarity            similarities  \n",
              "5   [0.0005159178399480879, 0.00046537088928744197...  [[0.8158968234048924]]  \n",
              "9   [0.0005159178399480879, 0.00046537088928744197...  [[0.8158968234048924]]  \n",
              "11  [0.0005159178399480879, 0.00046537088928744197...  [[0.8158968234048924]]  "
            ]
          },
          "execution_count": 91,
          "metadata": {},
          "output_type": "execute_result"
        }
      ],
      "source": [
        "res"
      ]
    },
    {
      "cell_type": "markdown",
      "metadata": {
        "id": "PM47jZ2xj51U"
      },
      "source": [
        "Pick refinement with **highest similarity**"
      ]
    },
    {
      "cell_type": "code",
      "execution_count": 92,
      "metadata": {
        "colab": {
          "base_uri": "https://localhost:8080/"
        },
        "id": "UbapXAhrkBQd",
        "outputId": "859ec5f5-280b-4981-d2a1-6f20c1dab818"
      },
      "outputs": [
        {
          "name": "stdout",
          "output_type": "stream",
          "text": [
            "The author has a friend from graduate school who is married but has feelings for her. The author is asking for advice on what to do about this situation.\n"
          ]
        }
      ],
      "source": [
        "improved_output = res.iloc[0]['text']\n",
        "print(improved_output)"
      ]
    },
    {
      "cell_type": "markdown",
      "metadata": {},
      "source": [
        "Now we have essentially replicated all the necessary steps to arrive at the `feedback_refinement` dataset. \n",
        "\n",
        "We'll only need to get our data in the correct jsonl format with a `prompt` and `completion`."
      ]
    },
    {
      "cell_type": "markdown",
      "metadata": {
        "id": "MOIG0tSkkGkt"
      },
      "source": [
        "## **`3`** Finetune a language model on the improved outputs\n"
      ]
    },
    {
      "cell_type": "markdown",
      "metadata": {
        "id": "NUoZgpbZzoIK"
      },
      "source": [
        "To perform the finetuning we can consult the OpenAI API, which states that: \n",
        "\n",
        "> Your dataset must be formatted as a **JSONL file**, where each training example is a JSON object with the **keys \"prompt\" and \"completion\"**. Additionally, you must **upload your file with the purpose fine-tune**."
      ]
    },
    {
      "cell_type": "markdown",
      "metadata": {
        "id": "FPT1MHfc2YYM"
      },
      "source": [
        "Since we now know how the dataset has been created we can use the `feedback_refinement.jsonl` file for the finetuning.\n",
        "\n",
        "Let's have a look how the dataset from the paper looks like "
      ]
    },
    {
      "cell_type": "code",
      "execution_count": 98,
      "metadata": {},
      "outputs": [
        {
          "data": {
            "text/plain": [
              "Dataset({\n",
              "    features: ['prompt', 'completion'],\n",
              "    num_rows: 100\n",
              "})"
            ]
          },
          "execution_count": 98,
          "metadata": {},
          "output_type": "execute_result"
        }
      ],
      "source": [
        "feedback_refinement"
      ]
    },
    {
      "cell_type": "code",
      "execution_count": 100,
      "metadata": {
        "colab": {
          "base_uri": "https://localhost:8080/",
          "height": 262
        },
        "id": "B_xm6HHF0_wm",
        "outputId": "bab34ada-0779-42bb-df21-2239e73102a7"
      },
      "outputs": [
        {
          "name": "stdout",
          "output_type": "stream",
          "text": [
            "Write an excellent summary of a given text. An excellent summary is coherent, accurate, concise, and detailed, and it follows human preferences about summaries.\n",
            "\n",
            "Title: Friend [25M] is married, but can't get over feelings for me [22F].\n",
            "\n",
            "Text: I  (22f) was briefly enrolled in a graduate program this fall, and am still in close contact with a lot of friends I made while I was there.  One of these friends is a 25 year old guy from China.  \n",
            "\n",
            "Because English was not his first language and I could tell he was a little isolated, I was careful to be nice and invite him to events.  We started hanging out some on our own, but mostly just to discuss school/world politics; nothing too personal.  He asked me out a few times this fall, and even though I assumed he was single, I turned him down nicely-- just wasn't interested.\n",
            "\n",
            "After the final time I turned him down he got a little clingy and weird, so I tried to create some space between us; I didn't really speak to him over Christmas break.\n",
            "\n",
            "Imagine my surprise when my presumably single friend comes home from China married after Christmas!  Turns out he'd had a girlfriend all along and they tied the knot while he was there.  I assumed that settled things, and went back to occasionally spending time with him.\n",
            "\n",
            "Last night, he admitted to me that he's jealous of the guy I've been dating and has feelings for me.  I sort of just apologized and ignored it, but now I'm frustrated and not sure what to do.  Normally, I would just cut things off with him since he doesn't seem to be able to have \"just friends\" feelings toward me.  In this case, though, I feel guilty, since he really doesn't have many friends and seems to put a lot of energy into maintaining contact with me.   So what should I do?  Just end things?  Pretend it never happened?  All I know is that I certainly wouldn't want MY husband spending time alone with a woman he had feelings for.  I don't want to cross any lines.\n",
            "\n",
            "TL;DR:\n"
          ]
        }
      ],
      "source": [
        "print(feedback_refinement[0]['prompt'])"
      ]
    },
    {
      "cell_type": "code",
      "execution_count": 102,
      "metadata": {
        "colab": {
          "base_uri": "https://localhost:8080/",
          "height": 53
        },
        "id": "PWllE9551_NY",
        "outputId": "a29efc37-fc75-438d-f5e1-63256d8ff282"
      },
      "outputs": [
        {
          "data": {
            "text/plain": [
              "\" My friend from school who is now married is still in love with me and I don't know what to do about it. He's jealous of the guy I've been dating and I feel guilty for trying to cut things off.\""
            ]
          },
          "execution_count": 102,
          "metadata": {},
          "output_type": "execute_result"
        }
      ],
      "source": [
        "feedback_refinement[0]['completion']"
      ]
    },
    {
      "cell_type": "markdown",
      "metadata": {
        "id": "G70uv48J_ICh"
      },
      "source": [
        "## Data preparation tool\n",
        "\n",
        "To prepare your dataset you can use the `finetunes.prepare_data` tool provided by OpenAI. \n",
        "The procedure was taken from this [notebook](https://github.com/openai/openai-python/blob/main/examples/finetuning/finetuning-classification.ipynb)."
      ]
    },
    {
      "cell_type": "code",
      "execution_count": 103,
      "metadata": {
        "colab": {
          "base_uri": "https://localhost:8080/"
        },
        "id": "aGPRIvzB_MgZ",
        "outputId": "d21c53d8-0d8c-4cee-9d3c-04e98835b27f"
      },
      "outputs": [
        {
          "name": "stdout",
          "output_type": "stream",
          "text": [
            "Analyzing...\n",
            "\n",
            "- Your file contains 100 prompt-completion pairs\n",
            "- All prompts end with suffix `\\n\\nTL;DR:`\n",
            "- All prompts start with prefix `Write an excellent summary of a given text. An excellent summary is coherent, accurate, concise, and detailed, and it follows human preferences about summaries.\n",
            "\n",
            "Title: `. Fine-tuning doesn't require the instruction specifying the task, or a few-shot example scenario. Most of the time you should only add the input data into the prompt, and the desired output into the completion\n",
            "- Your data does not contain a common ending at the end of your completions. Having a common ending string appended to the end of the completion makes it clearer to the fine-tuned model where the completion should end. See https://beta.openai.com/docs/guides/fine-tuning/preparing-your-dataset for more detail and examples.\n",
            "\n",
            "Based on the analysis we will perform the following actions:\n",
            "- [Recommended] Remove prefix `Write an excellent summary of a given text. An excellent summary is coherent, accurate, concise, and detailed, and it follows human preferences about summaries.\n",
            "\n",
            "Title: ` from all prompts [Y/n]: Y\n",
            "- [Recommended] Add a suffix ending `\\n` to all completions [Y/n]: Y\n",
            "\n",
            "\n",
            "Your data will be written to a new JSONL file. Proceed [Y/n]: Y\n",
            "\n",
            "Wrote modified file to `data/language_feedback_learning_dataset/finetuning/feedback_refinement_train_prepared.jsonl`\n",
            "Feel free to take a look!\n",
            "\n",
            "Now use that file when fine-tuning:\n",
            "> openai api fine_tunes.create -t \"data/language_feedback_learning_dataset/finetuning/feedback_refinement_train_prepared.jsonl\"\n",
            "\n",
            "After you’ve fine-tuned a model, remember that your prompt has to end with the indicator string `\\n\\nTL;DR:` for the model to start generating completions, rather than continuing with the prompt. Make sure to include `stop=[\"\\n\"]` so that the generated texts ends at the expected place.\n",
            "Once your model starts training, it'll approximately take 3.82 minutes to train a `curie` model, and less for `ada` and `babbage`. Queue will approximately take half an hour per job ahead of you.\n"
          ]
        }
      ],
      "source": [
        "!openai tools fine_tunes.prepare_data -f data/language_feedback_learning_dataset/finetuning/feedback_refinement_train.jsonl -q"
      ]
    },
    {
      "cell_type": "markdown",
      "metadata": {},
      "source": [
        "After having prepared the dataset, we can perform the fine-tuning. \n",
        "\n",
        "To replicate the exact results from the paper we would use the model `davinci`.\n",
        "\n",
        "That can get quite expensive though, so I opted for the cheaper `ada` model which brings the point home just as much.\n",
        "\n",
        "Copy the path to the `modified file` and voila."
      ]
    },
    {
      "cell_type": "code",
      "execution_count": 106,
      "metadata": {
        "id": "X_HyGPVj_TTk"
      },
      "outputs": [
        {
          "name": "stdout",
          "output_type": "stream",
          "text": [
            "Uploaded file from data/language_feedback_learning_dataset/finetuning/feedback_refinement_train_prepared.jsonl: file-EhRY9iXC2WRION3J6TpF8BXx\n",
            "Created fine-tune: ft-kkNf0oWN77w7uhOz9sefREIG\n",
            "Streaming events until fine-tuning is complete...\n",
            "\n",
            "(Ctrl-C will interrupt the stream, but not cancel the fine-tune)\n",
            "[2022-07-19 21:25:28] Created fine-tune: ft-kkNf0oWN77w7uhOz9sefREIG\n",
            "[2022-07-19 21:25:40] Fine-tune costs $0.06\n",
            "[2022-07-19 21:25:40] Fine-tune enqueued. Queue number: 0\n",
            "[2022-07-19 21:25:45] Fine-tune started\n",
            "[2022-07-19 21:26:13] Completed epoch 1/4\n",
            "[2022-07-19 21:26:28] Completed epoch 2/4\n",
            "[2022-07-19 21:26:42] Completed epoch 3/4\n",
            "[2022-07-19 21:26:57] Completed epoch 4/4\n",
            "[2022-07-19 21:27:17] Uploaded model: ada:ft-academicsnyuperez-2022-07-19-19-27-17\n",
            "[2022-07-19 21:27:18] Uploaded result file: file-XlXM6HnYgcuxHbSgFnqtX5f2\n",
            "[2022-07-19 21:27:18] Fine-tune succeeded\n",
            "\n",
            "Job complete! Status: succeeded 🎉\n",
            "Try out your fine-tuned model:\n",
            "\n",
            "openai api completions.create -m ada:ft-academicsnyuperez-2022-07-19-19-27-17 -p <YOUR_PROMPT>\n"
          ]
        },
        {
          "name": "stderr",
          "output_type": "stream",
          "text": [
            "\n",
            "Upload progress:   0%|          | 0.00/157k [00:00<?, ?it/s]\n",
            "Upload progress: 100%|██████████| 157k/157k [00:00<00:00, 154Mit/s]\n"
          ]
        }
      ],
      "source": [
        "!openai api fine_tunes.create -t data/language_feedback_learning_dataset/finetuning/feedback_refinement_train_prepared.jsonl -m ada"
      ]
    },
    {
      "cell_type": "markdown",
      "metadata": {},
      "source": [
        "The fine-tune cost us $0.06.\n",
        "\n",
        "Let's see how we can use the model for inference.\n",
        "\n",
        "For a quick sanity check we can reuse the prompt from above. "
      ]
    },
    {
      "cell_type": "code",
      "execution_count": 107,
      "metadata": {},
      "outputs": [
        {
          "data": {
            "text/plain": [
              "<OpenAIObject text_completion id=cmpl-5VnCm7IbpGKNsLGp3R5t0IU18m1GX at 0x1c7e12fd3a0> JSON: {\n",
              "  \"choices\": [\n",
              "    {\n",
              "      \"finish_reason\": \"length\",\n",
              "      \"index\": 0,\n",
              "      \"logprobs\": null,\n",
              "      \"text\": \": The author is trying to get a friend back from a relationship because he is afraid that if he does not break things, his friend may find out. The friend is jealously over the author's new friend and the author is unsure\"\n",
              "    }\n",
              "  ],\n",
              "  \"created\": 1658258996,\n",
              "  \"id\": \"cmpl-5VnCm7IbpGKNsLGp3R5t0IU18m1GX\",\n",
              "  \"model\": \"ada:ft-academicsnyuperez-2022-07-19-19-27-17\",\n",
              "  \"object\": \"text_completion\",\n",
              "  \"usage\": {\n",
              "    \"completion_tokens\": 48,\n",
              "    \"prompt_tokens\": 459,\n",
              "    \"total_tokens\": 507\n",
              "  }\n",
              "}"
            ]
          },
          "execution_count": 107,
          "metadata": {},
          "output_type": "execute_result"
        }
      ],
      "source": [
        "openai.Completion.create(\n",
        "  model=\"ada:ft-academicsnyuperez-2022-07-19-19-27-17\",\n",
        "  prompt=prompt,\n",
        "  max_tokens=48,\n",
        "  top_p=0.9,\n",
        "  n=1)"
      ]
    }
  ],
  "metadata": {
    "colab": {
      "collapsed_sections": [],
      "name": "GPT3 training language models with langauge feedback .ipynb",
      "provenance": [],
      "toc_visible": true
    },
    "kernelspec": {
      "display_name": "Python 3.10.4 ('cheri')",
      "language": "python",
      "name": "python3"
    },
    "language_info": {
      "codemirror_mode": {
        "name": "ipython",
        "version": 3
      },
      "file_extension": ".py",
      "mimetype": "text/x-python",
      "name": "python",
      "nbconvert_exporter": "python",
      "pygments_lexer": "ipython3",
      "version": "3.10.4"
    },
    "vscode": {
      "interpreter": {
        "hash": "d1c0e930e11802541aab34f9871fe8842501b21502df25d234a28cba8e2835ed"
      }
    },
    "widgets": {
      "application/vnd.jupyter.widget-state+json": {
        "00fa5e3f39ae420790f70ae80a2a3ebe": {
          "model_module": "@jupyter-widgets/controls",
          "model_module_version": "1.5.0",
          "model_name": "HBoxModel",
          "state": {
            "_dom_classes": [],
            "_model_module": "@jupyter-widgets/controls",
            "_model_module_version": "1.5.0",
            "_model_name": "HBoxModel",
            "_view_count": null,
            "_view_module": "@jupyter-widgets/controls",
            "_view_module_version": "1.5.0",
            "_view_name": "HBoxView",
            "box_style": "",
            "children": [
              "IPY_MODEL_b144eeb7d5c84bb0bf06a3c29032a74b",
              "IPY_MODEL_f1ad0b794fcf4c968d824fb5e56016e6",
              "IPY_MODEL_0fd2afb5bec44d8b9d276b59550c9558"
            ],
            "layout": "IPY_MODEL_1df7b4a05735415abfd329a06e0ccf2e"
          }
        },
        "0195d203c77a4b68b800c3aac3aba412": {
          "model_module": "@jupyter-widgets/controls",
          "model_module_version": "1.5.0",
          "model_name": "HTMLModel",
          "state": {
            "_dom_classes": [],
            "_model_module": "@jupyter-widgets/controls",
            "_model_module_version": "1.5.0",
            "_model_name": "HTMLModel",
            "_view_count": null,
            "_view_module": "@jupyter-widgets/controls",
            "_view_module_version": "1.5.0",
            "_view_name": "HTMLView",
            "description": "",
            "description_tooltip": null,
            "layout": "IPY_MODEL_1107ba93c4814c9b9c1ae91bfe127b79",
            "placeholder": "​",
            "style": "IPY_MODEL_756e043ad1d347f9a86f22797c8825c5",
            "value": " 1/1 [00:00&lt;00:00, 13.95it/s]"
          }
        },
        "033acc828fa0426eafa3fe8cd79823aa": {
          "model_module": "@jupyter-widgets/controls",
          "model_module_version": "1.5.0",
          "model_name": "HTMLModel",
          "state": {
            "_dom_classes": [],
            "_model_module": "@jupyter-widgets/controls",
            "_model_module_version": "1.5.0",
            "_model_name": "HTMLModel",
            "_view_count": null,
            "_view_module": "@jupyter-widgets/controls",
            "_view_module_version": "1.5.0",
            "_view_name": "HTMLView",
            "description": "",
            "description_tooltip": null,
            "layout": "IPY_MODEL_80181947a3fb4765b1927c40e125285f",
            "placeholder": "​",
            "style": "IPY_MODEL_c2e77cbe540a4e01bd04819d88c838fd",
            "value": "100%"
          }
        },
        "03dee7448da4471eb64edb966e5dcba7": {
          "model_module": "@jupyter-widgets/controls",
          "model_module_version": "1.5.0",
          "model_name": "HTMLModel",
          "state": {
            "_dom_classes": [],
            "_model_module": "@jupyter-widgets/controls",
            "_model_module_version": "1.5.0",
            "_model_name": "HTMLModel",
            "_view_count": null,
            "_view_module": "@jupyter-widgets/controls",
            "_view_module_version": "1.5.0",
            "_view_name": "HTMLView",
            "description": "",
            "description_tooltip": null,
            "layout": "IPY_MODEL_2811d6c6325d406098ab0e344cf89aaa",
            "placeholder": "​",
            "style": "IPY_MODEL_d8d20624f87e40fba20db4035cd4a57a",
            "value": " 1/1 [00:00&lt;00:00, 15.15it/s]"
          }
        },
        "0637bc312ef34a7987278616ceba673c": {
          "model_module": "@jupyter-widgets/base",
          "model_module_version": "1.2.0",
          "model_name": "LayoutModel",
          "state": {
            "_model_module": "@jupyter-widgets/base",
            "_model_module_version": "1.2.0",
            "_model_name": "LayoutModel",
            "_view_count": null,
            "_view_module": "@jupyter-widgets/base",
            "_view_module_version": "1.2.0",
            "_view_name": "LayoutView",
            "align_content": null,
            "align_items": null,
            "align_self": null,
            "border": null,
            "bottom": null,
            "display": null,
            "flex": null,
            "flex_flow": null,
            "grid_area": null,
            "grid_auto_columns": null,
            "grid_auto_flow": null,
            "grid_auto_rows": null,
            "grid_column": null,
            "grid_gap": null,
            "grid_row": null,
            "grid_template_areas": null,
            "grid_template_columns": null,
            "grid_template_rows": null,
            "height": null,
            "justify_content": null,
            "justify_items": null,
            "left": null,
            "margin": null,
            "max_height": null,
            "max_width": null,
            "min_height": null,
            "min_width": null,
            "object_fit": null,
            "object_position": null,
            "order": null,
            "overflow": null,
            "overflow_x": null,
            "overflow_y": null,
            "padding": null,
            "right": null,
            "top": null,
            "visibility": null,
            "width": "20px"
          }
        },
        "0689395e39924e5e97f0305898aac244": {
          "model_module": "@jupyter-widgets/base",
          "model_module_version": "1.2.0",
          "model_name": "LayoutModel",
          "state": {
            "_model_module": "@jupyter-widgets/base",
            "_model_module_version": "1.2.0",
            "_model_name": "LayoutModel",
            "_view_count": null,
            "_view_module": "@jupyter-widgets/base",
            "_view_module_version": "1.2.0",
            "_view_name": "LayoutView",
            "align_content": null,
            "align_items": null,
            "align_self": null,
            "border": null,
            "bottom": null,
            "display": null,
            "flex": null,
            "flex_flow": null,
            "grid_area": null,
            "grid_auto_columns": null,
            "grid_auto_flow": null,
            "grid_auto_rows": null,
            "grid_column": null,
            "grid_gap": null,
            "grid_row": null,
            "grid_template_areas": null,
            "grid_template_columns": null,
            "grid_template_rows": null,
            "height": null,
            "justify_content": null,
            "justify_items": null,
            "left": null,
            "margin": null,
            "max_height": null,
            "max_width": null,
            "min_height": null,
            "min_width": null,
            "object_fit": null,
            "object_position": null,
            "order": null,
            "overflow": null,
            "overflow_x": null,
            "overflow_y": null,
            "padding": null,
            "right": null,
            "top": null,
            "visibility": null,
            "width": null
          }
        },
        "0699e5a5cfa54cf1a5a87b92db0df349": {
          "model_module": "@jupyter-widgets/controls",
          "model_module_version": "1.5.0",
          "model_name": "HTMLModel",
          "state": {
            "_dom_classes": [],
            "_model_module": "@jupyter-widgets/controls",
            "_model_module_version": "1.5.0",
            "_model_name": "HTMLModel",
            "_view_count": null,
            "_view_module": "@jupyter-widgets/controls",
            "_view_module_version": "1.5.0",
            "_view_name": "HTMLView",
            "description": "",
            "description_tooltip": null,
            "layout": "IPY_MODEL_91b2b62782114a13aa9174634a14e583",
            "placeholder": "​",
            "style": "IPY_MODEL_9ad534c107de495f99b603eb0e266412",
            "value": ""
          }
        },
        "06e96ac12f1c4c9eb0726aeaa2b43c20": {
          "model_module": "@jupyter-widgets/controls",
          "model_module_version": "1.5.0",
          "model_name": "DescriptionStyleModel",
          "state": {
            "_model_module": "@jupyter-widgets/controls",
            "_model_module_version": "1.5.0",
            "_model_name": "DescriptionStyleModel",
            "_view_count": null,
            "_view_module": "@jupyter-widgets/base",
            "_view_module_version": "1.2.0",
            "_view_name": "StyleView",
            "description_width": ""
          }
        },
        "0818604ff2f54c66acfe46f78f30f28f": {
          "model_module": "@jupyter-widgets/base",
          "model_module_version": "1.2.0",
          "model_name": "LayoutModel",
          "state": {
            "_model_module": "@jupyter-widgets/base",
            "_model_module_version": "1.2.0",
            "_model_name": "LayoutModel",
            "_view_count": null,
            "_view_module": "@jupyter-widgets/base",
            "_view_module_version": "1.2.0",
            "_view_name": "LayoutView",
            "align_content": null,
            "align_items": null,
            "align_self": null,
            "border": null,
            "bottom": null,
            "display": null,
            "flex": null,
            "flex_flow": null,
            "grid_area": null,
            "grid_auto_columns": null,
            "grid_auto_flow": null,
            "grid_auto_rows": null,
            "grid_column": null,
            "grid_gap": null,
            "grid_row": null,
            "grid_template_areas": null,
            "grid_template_columns": null,
            "grid_template_rows": null,
            "height": null,
            "justify_content": null,
            "justify_items": null,
            "left": null,
            "margin": null,
            "max_height": null,
            "max_width": null,
            "min_height": null,
            "min_width": null,
            "object_fit": null,
            "object_position": null,
            "order": null,
            "overflow": null,
            "overflow_x": null,
            "overflow_y": null,
            "padding": null,
            "right": null,
            "top": null,
            "visibility": null,
            "width": "20px"
          }
        },
        "0a8220a9f3d746ba9896f3f0b8f74769": {
          "model_module": "@jupyter-widgets/base",
          "model_module_version": "1.2.0",
          "model_name": "LayoutModel",
          "state": {
            "_model_module": "@jupyter-widgets/base",
            "_model_module_version": "1.2.0",
            "_model_name": "LayoutModel",
            "_view_count": null,
            "_view_module": "@jupyter-widgets/base",
            "_view_module_version": "1.2.0",
            "_view_name": "LayoutView",
            "align_content": null,
            "align_items": null,
            "align_self": null,
            "border": null,
            "bottom": null,
            "display": null,
            "flex": null,
            "flex_flow": null,
            "grid_area": null,
            "grid_auto_columns": null,
            "grid_auto_flow": null,
            "grid_auto_rows": null,
            "grid_column": null,
            "grid_gap": null,
            "grid_row": null,
            "grid_template_areas": null,
            "grid_template_columns": null,
            "grid_template_rows": null,
            "height": null,
            "justify_content": null,
            "justify_items": null,
            "left": null,
            "margin": null,
            "max_height": null,
            "max_width": null,
            "min_height": null,
            "min_width": null,
            "object_fit": null,
            "object_position": null,
            "order": null,
            "overflow": null,
            "overflow_x": null,
            "overflow_y": null,
            "padding": null,
            "right": null,
            "top": null,
            "visibility": null,
            "width": null
          }
        },
        "0c9ca63568dc424783fd0586e7d55f9d": {
          "model_module": "@jupyter-widgets/base",
          "model_module_version": "1.2.0",
          "model_name": "LayoutModel",
          "state": {
            "_model_module": "@jupyter-widgets/base",
            "_model_module_version": "1.2.0",
            "_model_name": "LayoutModel",
            "_view_count": null,
            "_view_module": "@jupyter-widgets/base",
            "_view_module_version": "1.2.0",
            "_view_name": "LayoutView",
            "align_content": null,
            "align_items": null,
            "align_self": null,
            "border": null,
            "bottom": null,
            "display": null,
            "flex": null,
            "flex_flow": null,
            "grid_area": null,
            "grid_auto_columns": null,
            "grid_auto_flow": null,
            "grid_auto_rows": null,
            "grid_column": null,
            "grid_gap": null,
            "grid_row": null,
            "grid_template_areas": null,
            "grid_template_columns": null,
            "grid_template_rows": null,
            "height": null,
            "justify_content": null,
            "justify_items": null,
            "left": null,
            "margin": null,
            "max_height": null,
            "max_width": null,
            "min_height": null,
            "min_width": null,
            "object_fit": null,
            "object_position": null,
            "order": null,
            "overflow": null,
            "overflow_x": null,
            "overflow_y": null,
            "padding": null,
            "right": null,
            "top": null,
            "visibility": null,
            "width": null
          }
        },
        "0dfbe4f8f2c84734952087dedf6d046a": {
          "model_module": "@jupyter-widgets/controls",
          "model_module_version": "1.5.0",
          "model_name": "HTMLModel",
          "state": {
            "_dom_classes": [],
            "_model_module": "@jupyter-widgets/controls",
            "_model_module_version": "1.5.0",
            "_model_name": "HTMLModel",
            "_view_count": null,
            "_view_module": "@jupyter-widgets/controls",
            "_view_module_version": "1.5.0",
            "_view_name": "HTMLView",
            "description": "",
            "description_tooltip": null,
            "layout": "IPY_MODEL_c9a3aa5e0236409a80cd3f0474c012c0",
            "placeholder": "​",
            "style": "IPY_MODEL_900c7a6d34c84f7888c45a0a43dbd68a",
            "value": " 1/1 [00:00&lt;00:00, 15.10it/s]"
          }
        },
        "0fd2afb5bec44d8b9d276b59550c9558": {
          "model_module": "@jupyter-widgets/controls",
          "model_module_version": "1.5.0",
          "model_name": "HTMLModel",
          "state": {
            "_dom_classes": [],
            "_model_module": "@jupyter-widgets/controls",
            "_model_module_version": "1.5.0",
            "_model_name": "HTMLModel",
            "_view_count": null,
            "_view_module": "@jupyter-widgets/controls",
            "_view_module_version": "1.5.0",
            "_view_name": "HTMLView",
            "description": "",
            "description_tooltip": null,
            "layout": "IPY_MODEL_be4453c608634f13be001d1999f29e96",
            "placeholder": "​",
            "style": "IPY_MODEL_55609885402045528c1f4a50f3b28b74",
            "value": " 1/1 [00:00&lt;00:00,  6.74it/s]"
          }
        },
        "10e81fae3ac14e9f9e1768457375af71": {
          "model_module": "@jupyter-widgets/base",
          "model_module_version": "1.2.0",
          "model_name": "LayoutModel",
          "state": {
            "_model_module": "@jupyter-widgets/base",
            "_model_module_version": "1.2.0",
            "_model_name": "LayoutModel",
            "_view_count": null,
            "_view_module": "@jupyter-widgets/base",
            "_view_module_version": "1.2.0",
            "_view_name": "LayoutView",
            "align_content": null,
            "align_items": null,
            "align_self": null,
            "border": null,
            "bottom": null,
            "display": null,
            "flex": null,
            "flex_flow": null,
            "grid_area": null,
            "grid_auto_columns": null,
            "grid_auto_flow": null,
            "grid_auto_rows": null,
            "grid_column": null,
            "grid_gap": null,
            "grid_row": null,
            "grid_template_areas": null,
            "grid_template_columns": null,
            "grid_template_rows": null,
            "height": null,
            "justify_content": null,
            "justify_items": null,
            "left": null,
            "margin": null,
            "max_height": null,
            "max_width": null,
            "min_height": null,
            "min_width": null,
            "object_fit": null,
            "object_position": null,
            "order": null,
            "overflow": null,
            "overflow_x": null,
            "overflow_y": null,
            "padding": null,
            "right": null,
            "top": null,
            "visibility": null,
            "width": null
          }
        },
        "1107ba93c4814c9b9c1ae91bfe127b79": {
          "model_module": "@jupyter-widgets/base",
          "model_module_version": "1.2.0",
          "model_name": "LayoutModel",
          "state": {
            "_model_module": "@jupyter-widgets/base",
            "_model_module_version": "1.2.0",
            "_model_name": "LayoutModel",
            "_view_count": null,
            "_view_module": "@jupyter-widgets/base",
            "_view_module_version": "1.2.0",
            "_view_name": "LayoutView",
            "align_content": null,
            "align_items": null,
            "align_self": null,
            "border": null,
            "bottom": null,
            "display": null,
            "flex": null,
            "flex_flow": null,
            "grid_area": null,
            "grid_auto_columns": null,
            "grid_auto_flow": null,
            "grid_auto_rows": null,
            "grid_column": null,
            "grid_gap": null,
            "grid_row": null,
            "grid_template_areas": null,
            "grid_template_columns": null,
            "grid_template_rows": null,
            "height": null,
            "justify_content": null,
            "justify_items": null,
            "left": null,
            "margin": null,
            "max_height": null,
            "max_width": null,
            "min_height": null,
            "min_width": null,
            "object_fit": null,
            "object_position": null,
            "order": null,
            "overflow": null,
            "overflow_x": null,
            "overflow_y": null,
            "padding": null,
            "right": null,
            "top": null,
            "visibility": null,
            "width": null
          }
        },
        "1263f507795446989ab5d957574579bd": {
          "model_module": "@jupyter-widgets/controls",
          "model_module_version": "1.5.0",
          "model_name": "DescriptionStyleModel",
          "state": {
            "_model_module": "@jupyter-widgets/controls",
            "_model_module_version": "1.5.0",
            "_model_name": "DescriptionStyleModel",
            "_view_count": null,
            "_view_module": "@jupyter-widgets/base",
            "_view_module_version": "1.2.0",
            "_view_name": "StyleView",
            "description_width": ""
          }
        },
        "14b3f12871184fd599a0c9c2242f3af3": {
          "model_module": "@jupyter-widgets/controls",
          "model_module_version": "1.5.0",
          "model_name": "FloatProgressModel",
          "state": {
            "_dom_classes": [],
            "_model_module": "@jupyter-widgets/controls",
            "_model_module_version": "1.5.0",
            "_model_name": "FloatProgressModel",
            "_view_count": null,
            "_view_module": "@jupyter-widgets/controls",
            "_view_module_version": "1.5.0",
            "_view_name": "ProgressView",
            "bar_style": "success",
            "description": "",
            "description_tooltip": null,
            "layout": "IPY_MODEL_9aad24dfae884066bcfc87b4edb588a6",
            "max": 1,
            "min": 0,
            "orientation": "horizontal",
            "style": "IPY_MODEL_bc5d0f96b0b54ce581af96f8129964f7",
            "value": 1
          }
        },
        "150e6ea551944512bd54dd41f725be40": {
          "model_module": "@jupyter-widgets/controls",
          "model_module_version": "1.5.0",
          "model_name": "HBoxModel",
          "state": {
            "_dom_classes": [],
            "_model_module": "@jupyter-widgets/controls",
            "_model_module_version": "1.5.0",
            "_model_name": "HBoxModel",
            "_view_count": null,
            "_view_module": "@jupyter-widgets/controls",
            "_view_module_version": "1.5.0",
            "_view_name": "HBoxView",
            "box_style": "",
            "children": [
              "IPY_MODEL_525584e3ce5f4f26b9cf82b5cd5369c0",
              "IPY_MODEL_78609b3161aa40fbaaea70793a9158f4",
              "IPY_MODEL_a98943f2ada54526bcdd152b4bf50a6d"
            ],
            "layout": "IPY_MODEL_eac2c14254d64d908e84cc53620f10b7"
          }
        },
        "165fe823ab044fc1bf8841f9157ce27c": {
          "model_module": "@jupyter-widgets/controls",
          "model_module_version": "1.5.0",
          "model_name": "ProgressStyleModel",
          "state": {
            "_model_module": "@jupyter-widgets/controls",
            "_model_module_version": "1.5.0",
            "_model_name": "ProgressStyleModel",
            "_view_count": null,
            "_view_module": "@jupyter-widgets/base",
            "_view_module_version": "1.2.0",
            "_view_name": "StyleView",
            "bar_color": null,
            "description_width": ""
          }
        },
        "189de3693ec14f9d94fbf26babbbd6f0": {
          "model_module": "@jupyter-widgets/base",
          "model_module_version": "1.2.0",
          "model_name": "LayoutModel",
          "state": {
            "_model_module": "@jupyter-widgets/base",
            "_model_module_version": "1.2.0",
            "_model_name": "LayoutModel",
            "_view_count": null,
            "_view_module": "@jupyter-widgets/base",
            "_view_module_version": "1.2.0",
            "_view_name": "LayoutView",
            "align_content": null,
            "align_items": null,
            "align_self": null,
            "border": null,
            "bottom": null,
            "display": null,
            "flex": null,
            "flex_flow": null,
            "grid_area": null,
            "grid_auto_columns": null,
            "grid_auto_flow": null,
            "grid_auto_rows": null,
            "grid_column": null,
            "grid_gap": null,
            "grid_row": null,
            "grid_template_areas": null,
            "grid_template_columns": null,
            "grid_template_rows": null,
            "height": null,
            "justify_content": null,
            "justify_items": null,
            "left": null,
            "margin": null,
            "max_height": null,
            "max_width": null,
            "min_height": null,
            "min_width": null,
            "object_fit": null,
            "object_position": null,
            "order": null,
            "overflow": null,
            "overflow_x": null,
            "overflow_y": null,
            "padding": null,
            "right": null,
            "top": null,
            "visibility": null,
            "width": null
          }
        },
        "19f13d3530a1425486fb37e084a12442": {
          "model_module": "@jupyter-widgets/controls",
          "model_module_version": "1.5.0",
          "model_name": "HTMLModel",
          "state": {
            "_dom_classes": [],
            "_model_module": "@jupyter-widgets/controls",
            "_model_module_version": "1.5.0",
            "_model_name": "HTMLModel",
            "_view_count": null,
            "_view_module": "@jupyter-widgets/controls",
            "_view_module_version": "1.5.0",
            "_view_name": "HTMLView",
            "description": "",
            "description_tooltip": null,
            "layout": "IPY_MODEL_61c92d314bb74c4e9a9eaca80b4a5fe8",
            "placeholder": "​",
            "style": "IPY_MODEL_1263f507795446989ab5d957574579bd",
            "value": "Downloading data files: 100%"
          }
        },
        "1a75b2db2a044b10a275f7c31d71b257": {
          "model_module": "@jupyter-widgets/controls",
          "model_module_version": "1.5.0",
          "model_name": "ProgressStyleModel",
          "state": {
            "_model_module": "@jupyter-widgets/controls",
            "_model_module_version": "1.5.0",
            "_model_name": "ProgressStyleModel",
            "_view_count": null,
            "_view_module": "@jupyter-widgets/base",
            "_view_module_version": "1.2.0",
            "_view_name": "StyleView",
            "bar_color": null,
            "description_width": ""
          }
        },
        "1b8ea722709e450d97fbc8c4fb08f66d": {
          "model_module": "@jupyter-widgets/controls",
          "model_module_version": "1.5.0",
          "model_name": "HTMLModel",
          "state": {
            "_dom_classes": [],
            "_model_module": "@jupyter-widgets/controls",
            "_model_module_version": "1.5.0",
            "_model_name": "HTMLModel",
            "_view_count": null,
            "_view_module": "@jupyter-widgets/controls",
            "_view_module_version": "1.5.0",
            "_view_name": "HTMLView",
            "description": "",
            "description_tooltip": null,
            "layout": "IPY_MODEL_d3b798ba1a0c45a6a291b2651a0fef29",
            "placeholder": "​",
            "style": "IPY_MODEL_22af227d4773498bbe5f96d720a80015",
            "value": " 1/1 [00:00&lt;00:00, 14.65it/s]"
          }
        },
        "1df7b4a05735415abfd329a06e0ccf2e": {
          "model_module": "@jupyter-widgets/base",
          "model_module_version": "1.2.0",
          "model_name": "LayoutModel",
          "state": {
            "_model_module": "@jupyter-widgets/base",
            "_model_module_version": "1.2.0",
            "_model_name": "LayoutModel",
            "_view_count": null,
            "_view_module": "@jupyter-widgets/base",
            "_view_module_version": "1.2.0",
            "_view_name": "LayoutView",
            "align_content": null,
            "align_items": null,
            "align_self": null,
            "border": null,
            "bottom": null,
            "display": null,
            "flex": null,
            "flex_flow": null,
            "grid_area": null,
            "grid_auto_columns": null,
            "grid_auto_flow": null,
            "grid_auto_rows": null,
            "grid_column": null,
            "grid_gap": null,
            "grid_row": null,
            "grid_template_areas": null,
            "grid_template_columns": null,
            "grid_template_rows": null,
            "height": null,
            "justify_content": null,
            "justify_items": null,
            "left": null,
            "margin": null,
            "max_height": null,
            "max_width": null,
            "min_height": null,
            "min_width": null,
            "object_fit": null,
            "object_position": null,
            "order": null,
            "overflow": null,
            "overflow_x": null,
            "overflow_y": null,
            "padding": null,
            "right": null,
            "top": null,
            "visibility": null,
            "width": null
          }
        },
        "1e4a5f0a1167406ca8bf7ec05b3c92b1": {
          "model_module": "@jupyter-widgets/base",
          "model_module_version": "1.2.0",
          "model_name": "LayoutModel",
          "state": {
            "_model_module": "@jupyter-widgets/base",
            "_model_module_version": "1.2.0",
            "_model_name": "LayoutModel",
            "_view_count": null,
            "_view_module": "@jupyter-widgets/base",
            "_view_module_version": "1.2.0",
            "_view_name": "LayoutView",
            "align_content": null,
            "align_items": null,
            "align_self": null,
            "border": null,
            "bottom": null,
            "display": null,
            "flex": null,
            "flex_flow": null,
            "grid_area": null,
            "grid_auto_columns": null,
            "grid_auto_flow": null,
            "grid_auto_rows": null,
            "grid_column": null,
            "grid_gap": null,
            "grid_row": null,
            "grid_template_areas": null,
            "grid_template_columns": null,
            "grid_template_rows": null,
            "height": null,
            "justify_content": null,
            "justify_items": null,
            "left": null,
            "margin": null,
            "max_height": null,
            "max_width": null,
            "min_height": null,
            "min_width": null,
            "object_fit": null,
            "object_position": null,
            "order": null,
            "overflow": null,
            "overflow_x": null,
            "overflow_y": null,
            "padding": null,
            "right": null,
            "top": null,
            "visibility": null,
            "width": null
          }
        },
        "215911680f7b4bd3a21fde4df683ad70": {
          "model_module": "@jupyter-widgets/controls",
          "model_module_version": "1.5.0",
          "model_name": "ProgressStyleModel",
          "state": {
            "_model_module": "@jupyter-widgets/controls",
            "_model_module_version": "1.5.0",
            "_model_name": "ProgressStyleModel",
            "_view_count": null,
            "_view_module": "@jupyter-widgets/base",
            "_view_module_version": "1.2.0",
            "_view_name": "StyleView",
            "bar_color": null,
            "description_width": ""
          }
        },
        "22af227d4773498bbe5f96d720a80015": {
          "model_module": "@jupyter-widgets/controls",
          "model_module_version": "1.5.0",
          "model_name": "DescriptionStyleModel",
          "state": {
            "_model_module": "@jupyter-widgets/controls",
            "_model_module_version": "1.5.0",
            "_model_name": "DescriptionStyleModel",
            "_view_count": null,
            "_view_module": "@jupyter-widgets/base",
            "_view_module_version": "1.2.0",
            "_view_name": "StyleView",
            "description_width": ""
          }
        },
        "2811d6c6325d406098ab0e344cf89aaa": {
          "model_module": "@jupyter-widgets/base",
          "model_module_version": "1.2.0",
          "model_name": "LayoutModel",
          "state": {
            "_model_module": "@jupyter-widgets/base",
            "_model_module_version": "1.2.0",
            "_model_name": "LayoutModel",
            "_view_count": null,
            "_view_module": "@jupyter-widgets/base",
            "_view_module_version": "1.2.0",
            "_view_name": "LayoutView",
            "align_content": null,
            "align_items": null,
            "align_self": null,
            "border": null,
            "bottom": null,
            "display": null,
            "flex": null,
            "flex_flow": null,
            "grid_area": null,
            "grid_auto_columns": null,
            "grid_auto_flow": null,
            "grid_auto_rows": null,
            "grid_column": null,
            "grid_gap": null,
            "grid_row": null,
            "grid_template_areas": null,
            "grid_template_columns": null,
            "grid_template_rows": null,
            "height": null,
            "justify_content": null,
            "justify_items": null,
            "left": null,
            "margin": null,
            "max_height": null,
            "max_width": null,
            "min_height": null,
            "min_width": null,
            "object_fit": null,
            "object_position": null,
            "order": null,
            "overflow": null,
            "overflow_x": null,
            "overflow_y": null,
            "padding": null,
            "right": null,
            "top": null,
            "visibility": null,
            "width": null
          }
        },
        "2e0b3d02b3804f919adf10e20feacad0": {
          "model_module": "@jupyter-widgets/controls",
          "model_module_version": "1.5.0",
          "model_name": "DescriptionStyleModel",
          "state": {
            "_model_module": "@jupyter-widgets/controls",
            "_model_module_version": "1.5.0",
            "_model_name": "DescriptionStyleModel",
            "_view_count": null,
            "_view_module": "@jupyter-widgets/base",
            "_view_module_version": "1.2.0",
            "_view_name": "StyleView",
            "description_width": ""
          }
        },
        "2e8d8604388343de8be29c496c4d2a18": {
          "model_module": "@jupyter-widgets/controls",
          "model_module_version": "1.5.0",
          "model_name": "HTMLModel",
          "state": {
            "_dom_classes": [],
            "_model_module": "@jupyter-widgets/controls",
            "_model_module_version": "1.5.0",
            "_model_name": "HTMLModel",
            "_view_count": null,
            "_view_module": "@jupyter-widgets/controls",
            "_view_module_version": "1.5.0",
            "_view_name": "HTMLView",
            "description": "",
            "description_tooltip": null,
            "layout": "IPY_MODEL_fdee12a426124e6ea71b2acfbf3e6def",
            "placeholder": "​",
            "style": "IPY_MODEL_46e88b4b870e45c691bdb59993b2988e",
            "value": " 0/? [00:00&lt;?, ? tables/s]"
          }
        },
        "2f392b26a8c645019756aa3d9c8c6773": {
          "model_module": "@jupyter-widgets/controls",
          "model_module_version": "1.5.0",
          "model_name": "HBoxModel",
          "state": {
            "_dom_classes": [],
            "_model_module": "@jupyter-widgets/controls",
            "_model_module_version": "1.5.0",
            "_model_name": "HBoxModel",
            "_view_count": null,
            "_view_module": "@jupyter-widgets/controls",
            "_view_module_version": "1.5.0",
            "_view_name": "HBoxView",
            "box_style": "",
            "children": [
              "IPY_MODEL_4caff2e493394b0d804ff31fe56ce9c2",
              "IPY_MODEL_c74df68259114d8681d1b87f108933a4",
              "IPY_MODEL_dd849545c4364102b6fff0ade7e5f180"
            ],
            "layout": "IPY_MODEL_c9bca18f42cf4112b765eda6a2bf1a49"
          }
        },
        "355b21bca91640c4994569e31ce71d1b": {
          "model_module": "@jupyter-widgets/controls",
          "model_module_version": "1.5.0",
          "model_name": "DescriptionStyleModel",
          "state": {
            "_model_module": "@jupyter-widgets/controls",
            "_model_module_version": "1.5.0",
            "_model_name": "DescriptionStyleModel",
            "_view_count": null,
            "_view_module": "@jupyter-widgets/base",
            "_view_module_version": "1.2.0",
            "_view_name": "StyleView",
            "description_width": ""
          }
        },
        "355ffaf4b94c48c697146851261e4753": {
          "model_module": "@jupyter-widgets/controls",
          "model_module_version": "1.5.0",
          "model_name": "FloatProgressModel",
          "state": {
            "_dom_classes": [],
            "_model_module": "@jupyter-widgets/controls",
            "_model_module_version": "1.5.0",
            "_model_name": "FloatProgressModel",
            "_view_count": null,
            "_view_module": "@jupyter-widgets/controls",
            "_view_module_version": "1.5.0",
            "_view_name": "ProgressView",
            "bar_style": "success",
            "description": "",
            "description_tooltip": null,
            "layout": "IPY_MODEL_935e8f65a0d44c65ab80502f9b7d4aec",
            "max": 1,
            "min": 0,
            "orientation": "horizontal",
            "style": "IPY_MODEL_1a75b2db2a044b10a275f7c31d71b257",
            "value": 1
          }
        },
        "35d4d5874b77482aa8005d0fed351208": {
          "model_module": "@jupyter-widgets/controls",
          "model_module_version": "1.5.0",
          "model_name": "DescriptionStyleModel",
          "state": {
            "_model_module": "@jupyter-widgets/controls",
            "_model_module_version": "1.5.0",
            "_model_name": "DescriptionStyleModel",
            "_view_count": null,
            "_view_module": "@jupyter-widgets/base",
            "_view_module_version": "1.2.0",
            "_view_name": "StyleView",
            "description_width": ""
          }
        },
        "37f8bea3740b4404aa8e7fd48597083f": {
          "model_module": "@jupyter-widgets/controls",
          "model_module_version": "1.5.0",
          "model_name": "ProgressStyleModel",
          "state": {
            "_model_module": "@jupyter-widgets/controls",
            "_model_module_version": "1.5.0",
            "_model_name": "ProgressStyleModel",
            "_view_count": null,
            "_view_module": "@jupyter-widgets/base",
            "_view_module_version": "1.2.0",
            "_view_name": "StyleView",
            "bar_color": null,
            "description_width": ""
          }
        },
        "3e7637740ad042e2a04371f8f6974117": {
          "model_module": "@jupyter-widgets/base",
          "model_module_version": "1.2.0",
          "model_name": "LayoutModel",
          "state": {
            "_model_module": "@jupyter-widgets/base",
            "_model_module_version": "1.2.0",
            "_model_name": "LayoutModel",
            "_view_count": null,
            "_view_module": "@jupyter-widgets/base",
            "_view_module_version": "1.2.0",
            "_view_name": "LayoutView",
            "align_content": null,
            "align_items": null,
            "align_self": null,
            "border": null,
            "bottom": null,
            "display": null,
            "flex": null,
            "flex_flow": null,
            "grid_area": null,
            "grid_auto_columns": null,
            "grid_auto_flow": null,
            "grid_auto_rows": null,
            "grid_column": null,
            "grid_gap": null,
            "grid_row": null,
            "grid_template_areas": null,
            "grid_template_columns": null,
            "grid_template_rows": null,
            "height": null,
            "justify_content": null,
            "justify_items": null,
            "left": null,
            "margin": null,
            "max_height": null,
            "max_width": null,
            "min_height": null,
            "min_width": null,
            "object_fit": null,
            "object_position": null,
            "order": null,
            "overflow": null,
            "overflow_x": null,
            "overflow_y": null,
            "padding": null,
            "right": null,
            "top": null,
            "visibility": null,
            "width": null
          }
        },
        "4010b0cca5f1475e915016b6b31c90dc": {
          "model_module": "@jupyter-widgets/controls",
          "model_module_version": "1.5.0",
          "model_name": "FloatProgressModel",
          "state": {
            "_dom_classes": [],
            "_model_module": "@jupyter-widgets/controls",
            "_model_module_version": "1.5.0",
            "_model_name": "FloatProgressModel",
            "_view_count": null,
            "_view_module": "@jupyter-widgets/controls",
            "_view_module_version": "1.5.0",
            "_view_name": "ProgressView",
            "bar_style": "success",
            "description": "",
            "description_tooltip": null,
            "layout": "IPY_MODEL_da1673ec5eab45c5a044e15b215163e7",
            "max": 1,
            "min": 0,
            "orientation": "horizontal",
            "style": "IPY_MODEL_80a4f3e42eeb46dfbca668fbf30175f8",
            "value": 1
          }
        },
        "430cbc3c99dd46e8971eb03b328a2517": {
          "model_module": "@jupyter-widgets/controls",
          "model_module_version": "1.5.0",
          "model_name": "HTMLModel",
          "state": {
            "_dom_classes": [],
            "_model_module": "@jupyter-widgets/controls",
            "_model_module_version": "1.5.0",
            "_model_name": "HTMLModel",
            "_view_count": null,
            "_view_module": "@jupyter-widgets/controls",
            "_view_module_version": "1.5.0",
            "_view_name": "HTMLView",
            "description": "",
            "description_tooltip": null,
            "layout": "IPY_MODEL_a3cec96e2b284a209fbe19a26bc9e162",
            "placeholder": "​",
            "style": "IPY_MODEL_a48a12ba5d6a4efba4ebbfbf77f9a1be",
            "value": " 1/1 [00:00&lt;00:00,  7.31it/s]"
          }
        },
        "4455a61bfbd44a94b52a50a2d0186598": {
          "model_module": "@jupyter-widgets/controls",
          "model_module_version": "1.5.0",
          "model_name": "FloatProgressModel",
          "state": {
            "_dom_classes": [],
            "_model_module": "@jupyter-widgets/controls",
            "_model_module_version": "1.5.0",
            "_model_name": "FloatProgressModel",
            "_view_count": null,
            "_view_module": "@jupyter-widgets/controls",
            "_view_module_version": "1.5.0",
            "_view_name": "ProgressView",
            "bar_style": "info",
            "description": "",
            "description_tooltip": null,
            "layout": "IPY_MODEL_0637bc312ef34a7987278616ceba673c",
            "max": 1,
            "min": 0,
            "orientation": "horizontal",
            "style": "IPY_MODEL_c5f7db45d7e04223a8425a0ed6bdf459",
            "value": 1
          }
        },
        "4699161b3964426288324dd7263ef3d9": {
          "model_module": "@jupyter-widgets/controls",
          "model_module_version": "1.5.0",
          "model_name": "HTMLModel",
          "state": {
            "_dom_classes": [],
            "_model_module": "@jupyter-widgets/controls",
            "_model_module_version": "1.5.0",
            "_model_name": "HTMLModel",
            "_view_count": null,
            "_view_module": "@jupyter-widgets/controls",
            "_view_module_version": "1.5.0",
            "_view_name": "HTMLView",
            "description": "",
            "description_tooltip": null,
            "layout": "IPY_MODEL_f3a888bb1f55431f921deec600343549",
            "placeholder": "​",
            "style": "IPY_MODEL_a7b7dc25b084459d83eac76d6c269d08",
            "value": "Extracting data files: 100%"
          }
        },
        "46ac8baf50544d5494f360f7b7535b1f": {
          "model_module": "@jupyter-widgets/controls",
          "model_module_version": "1.5.0",
          "model_name": "ProgressStyleModel",
          "state": {
            "_model_module": "@jupyter-widgets/controls",
            "_model_module_version": "1.5.0",
            "_model_name": "ProgressStyleModel",
            "_view_count": null,
            "_view_module": "@jupyter-widgets/base",
            "_view_module_version": "1.2.0",
            "_view_name": "StyleView",
            "bar_color": null,
            "description_width": ""
          }
        },
        "46e88b4b870e45c691bdb59993b2988e": {
          "model_module": "@jupyter-widgets/controls",
          "model_module_version": "1.5.0",
          "model_name": "DescriptionStyleModel",
          "state": {
            "_model_module": "@jupyter-widgets/controls",
            "_model_module_version": "1.5.0",
            "_model_name": "DescriptionStyleModel",
            "_view_count": null,
            "_view_module": "@jupyter-widgets/base",
            "_view_module_version": "1.2.0",
            "_view_name": "StyleView",
            "description_width": ""
          }
        },
        "4caff2e493394b0d804ff31fe56ce9c2": {
          "model_module": "@jupyter-widgets/controls",
          "model_module_version": "1.5.0",
          "model_name": "HTMLModel",
          "state": {
            "_dom_classes": [],
            "_model_module": "@jupyter-widgets/controls",
            "_model_module_version": "1.5.0",
            "_model_name": "HTMLModel",
            "_view_count": null,
            "_view_module": "@jupyter-widgets/controls",
            "_view_module_version": "1.5.0",
            "_view_name": "HTMLView",
            "description": "",
            "description_tooltip": null,
            "layout": "IPY_MODEL_a1734bb0fb4148f987d7ce8bc54f8ea5",
            "placeholder": "​",
            "style": "IPY_MODEL_9cfa9dc7e6fc49b180ce9ecc8cb86ef2",
            "value": ""
          }
        },
        "4e29c34df4184778b899ce73fbee6202": {
          "model_module": "@jupyter-widgets/base",
          "model_module_version": "1.2.0",
          "model_name": "LayoutModel",
          "state": {
            "_model_module": "@jupyter-widgets/base",
            "_model_module_version": "1.2.0",
            "_model_name": "LayoutModel",
            "_view_count": null,
            "_view_module": "@jupyter-widgets/base",
            "_view_module_version": "1.2.0",
            "_view_name": "LayoutView",
            "align_content": null,
            "align_items": null,
            "align_self": null,
            "border": null,
            "bottom": null,
            "display": null,
            "flex": null,
            "flex_flow": null,
            "grid_area": null,
            "grid_auto_columns": null,
            "grid_auto_flow": null,
            "grid_auto_rows": null,
            "grid_column": null,
            "grid_gap": null,
            "grid_row": null,
            "grid_template_areas": null,
            "grid_template_columns": null,
            "grid_template_rows": null,
            "height": null,
            "justify_content": null,
            "justify_items": null,
            "left": null,
            "margin": null,
            "max_height": null,
            "max_width": null,
            "min_height": null,
            "min_width": null,
            "object_fit": null,
            "object_position": null,
            "order": null,
            "overflow": null,
            "overflow_x": null,
            "overflow_y": null,
            "padding": null,
            "right": null,
            "top": null,
            "visibility": null,
            "width": null
          }
        },
        "4f1acf942d404402b89b5e0fc3376313": {
          "model_module": "@jupyter-widgets/controls",
          "model_module_version": "1.5.0",
          "model_name": "DescriptionStyleModel",
          "state": {
            "_model_module": "@jupyter-widgets/controls",
            "_model_module_version": "1.5.0",
            "_model_name": "DescriptionStyleModel",
            "_view_count": null,
            "_view_module": "@jupyter-widgets/base",
            "_view_module_version": "1.2.0",
            "_view_name": "StyleView",
            "description_width": ""
          }
        },
        "5100bf25fd664bfc81a255b6db0933e9": {
          "model_module": "@jupyter-widgets/controls",
          "model_module_version": "1.5.0",
          "model_name": "HBoxModel",
          "state": {
            "_dom_classes": [],
            "_model_module": "@jupyter-widgets/controls",
            "_model_module_version": "1.5.0",
            "_model_name": "HBoxModel",
            "_view_count": null,
            "_view_module": "@jupyter-widgets/controls",
            "_view_module_version": "1.5.0",
            "_view_name": "HBoxView",
            "box_style": "",
            "children": [
              "IPY_MODEL_19f13d3530a1425486fb37e084a12442",
              "IPY_MODEL_355ffaf4b94c48c697146851261e4753",
              "IPY_MODEL_430cbc3c99dd46e8971eb03b328a2517"
            ],
            "layout": "IPY_MODEL_ab800437b472413e82c8b3f1cd606a31"
          }
        },
        "525584e3ce5f4f26b9cf82b5cd5369c0": {
          "model_module": "@jupyter-widgets/controls",
          "model_module_version": "1.5.0",
          "model_name": "HTMLModel",
          "state": {
            "_dom_classes": [],
            "_model_module": "@jupyter-widgets/controls",
            "_model_module_version": "1.5.0",
            "_model_name": "HTMLModel",
            "_view_count": null,
            "_view_module": "@jupyter-widgets/controls",
            "_view_module_version": "1.5.0",
            "_view_name": "HTMLView",
            "description": "",
            "description_tooltip": null,
            "layout": "IPY_MODEL_72af4023675b494984bb96058254942c",
            "placeholder": "​",
            "style": "IPY_MODEL_c2f706916c4046429b8ccdeb338922e0",
            "value": "100%"
          }
        },
        "55609885402045528c1f4a50f3b28b74": {
          "model_module": "@jupyter-widgets/controls",
          "model_module_version": "1.5.0",
          "model_name": "DescriptionStyleModel",
          "state": {
            "_model_module": "@jupyter-widgets/controls",
            "_model_module_version": "1.5.0",
            "_model_name": "DescriptionStyleModel",
            "_view_count": null,
            "_view_module": "@jupyter-widgets/base",
            "_view_module_version": "1.2.0",
            "_view_name": "StyleView",
            "description_width": ""
          }
        },
        "55c7b93d74e64ac48b66c9f109bc5fbd": {
          "model_module": "@jupyter-widgets/controls",
          "model_module_version": "1.5.0",
          "model_name": "HTMLModel",
          "state": {
            "_dom_classes": [],
            "_model_module": "@jupyter-widgets/controls",
            "_model_module_version": "1.5.0",
            "_model_name": "HTMLModel",
            "_view_count": null,
            "_view_module": "@jupyter-widgets/controls",
            "_view_module_version": "1.5.0",
            "_view_name": "HTMLView",
            "description": "",
            "description_tooltip": null,
            "layout": "IPY_MODEL_1e4a5f0a1167406ca8bf7ec05b3c92b1",
            "placeholder": "​",
            "style": "IPY_MODEL_2e0b3d02b3804f919adf10e20feacad0",
            "value": "100%"
          }
        },
        "563e902b443f49c1851f3e6850af2f64": {
          "model_module": "@jupyter-widgets/base",
          "model_module_version": "1.2.0",
          "model_name": "LayoutModel",
          "state": {
            "_model_module": "@jupyter-widgets/base",
            "_model_module_version": "1.2.0",
            "_model_name": "LayoutModel",
            "_view_count": null,
            "_view_module": "@jupyter-widgets/base",
            "_view_module_version": "1.2.0",
            "_view_name": "LayoutView",
            "align_content": null,
            "align_items": null,
            "align_self": null,
            "border": null,
            "bottom": null,
            "display": null,
            "flex": null,
            "flex_flow": null,
            "grid_area": null,
            "grid_auto_columns": null,
            "grid_auto_flow": null,
            "grid_auto_rows": null,
            "grid_column": null,
            "grid_gap": null,
            "grid_row": null,
            "grid_template_areas": null,
            "grid_template_columns": null,
            "grid_template_rows": null,
            "height": null,
            "justify_content": null,
            "justify_items": null,
            "left": null,
            "margin": null,
            "max_height": null,
            "max_width": null,
            "min_height": null,
            "min_width": null,
            "object_fit": null,
            "object_position": null,
            "order": null,
            "overflow": null,
            "overflow_x": null,
            "overflow_y": null,
            "padding": null,
            "right": null,
            "top": null,
            "visibility": null,
            "width": "20px"
          }
        },
        "581a6751861248f7986707d15949bd39": {
          "model_module": "@jupyter-widgets/controls",
          "model_module_version": "1.5.0",
          "model_name": "ProgressStyleModel",
          "state": {
            "_model_module": "@jupyter-widgets/controls",
            "_model_module_version": "1.5.0",
            "_model_name": "ProgressStyleModel",
            "_view_count": null,
            "_view_module": "@jupyter-widgets/base",
            "_view_module_version": "1.2.0",
            "_view_name": "StyleView",
            "bar_color": null,
            "description_width": ""
          }
        },
        "58e246a59b0e4bbcb1bb56b441fc5995": {
          "model_module": "@jupyter-widgets/controls",
          "model_module_version": "1.5.0",
          "model_name": "HBoxModel",
          "state": {
            "_dom_classes": [],
            "_model_module": "@jupyter-widgets/controls",
            "_model_module_version": "1.5.0",
            "_model_name": "HBoxModel",
            "_view_count": null,
            "_view_module": "@jupyter-widgets/controls",
            "_view_module_version": "1.5.0",
            "_view_name": "HBoxView",
            "box_style": "",
            "children": [
              "IPY_MODEL_55c7b93d74e64ac48b66c9f109bc5fbd",
              "IPY_MODEL_14b3f12871184fd599a0c9c2242f3af3",
              "IPY_MODEL_0dfbe4f8f2c84734952087dedf6d046a"
            ],
            "layout": "IPY_MODEL_b803d78496f0415688430a91bb5c8f03"
          }
        },
        "5ac8acbf9f704750a56ebded23c493ba": {
          "model_module": "@jupyter-widgets/controls",
          "model_module_version": "1.5.0",
          "model_name": "FloatProgressModel",
          "state": {
            "_dom_classes": [],
            "_model_module": "@jupyter-widgets/controls",
            "_model_module_version": "1.5.0",
            "_model_name": "FloatProgressModel",
            "_view_count": null,
            "_view_module": "@jupyter-widgets/controls",
            "_view_module_version": "1.5.0",
            "_view_name": "ProgressView",
            "bar_style": "success",
            "description": "",
            "description_tooltip": null,
            "layout": "IPY_MODEL_8496bfb7f52a4a5e8c2c7f5b6cb11915",
            "max": 1,
            "min": 0,
            "orientation": "horizontal",
            "style": "IPY_MODEL_a2ac318cd1ea4abd88ee788a2c39ac71",
            "value": 1
          }
        },
        "6023497a2d494a96a9a810eabed62c77": {
          "model_module": "@jupyter-widgets/base",
          "model_module_version": "1.2.0",
          "model_name": "LayoutModel",
          "state": {
            "_model_module": "@jupyter-widgets/base",
            "_model_module_version": "1.2.0",
            "_model_name": "LayoutModel",
            "_view_count": null,
            "_view_module": "@jupyter-widgets/base",
            "_view_module_version": "1.2.0",
            "_view_name": "LayoutView",
            "align_content": null,
            "align_items": null,
            "align_self": null,
            "border": null,
            "bottom": null,
            "display": null,
            "flex": null,
            "flex_flow": null,
            "grid_area": null,
            "grid_auto_columns": null,
            "grid_auto_flow": null,
            "grid_auto_rows": null,
            "grid_column": null,
            "grid_gap": null,
            "grid_row": null,
            "grid_template_areas": null,
            "grid_template_columns": null,
            "grid_template_rows": null,
            "height": null,
            "justify_content": null,
            "justify_items": null,
            "left": null,
            "margin": null,
            "max_height": null,
            "max_width": null,
            "min_height": null,
            "min_width": null,
            "object_fit": null,
            "object_position": null,
            "order": null,
            "overflow": null,
            "overflow_x": null,
            "overflow_y": null,
            "padding": null,
            "right": null,
            "top": null,
            "visibility": null,
            "width": null
          }
        },
        "60350193836a4b6795aa2adec22492eb": {
          "model_module": "@jupyter-widgets/base",
          "model_module_version": "1.2.0",
          "model_name": "LayoutModel",
          "state": {
            "_model_module": "@jupyter-widgets/base",
            "_model_module_version": "1.2.0",
            "_model_name": "LayoutModel",
            "_view_count": null,
            "_view_module": "@jupyter-widgets/base",
            "_view_module_version": "1.2.0",
            "_view_name": "LayoutView",
            "align_content": null,
            "align_items": null,
            "align_self": null,
            "border": null,
            "bottom": null,
            "display": null,
            "flex": null,
            "flex_flow": null,
            "grid_area": null,
            "grid_auto_columns": null,
            "grid_auto_flow": null,
            "grid_auto_rows": null,
            "grid_column": null,
            "grid_gap": null,
            "grid_row": null,
            "grid_template_areas": null,
            "grid_template_columns": null,
            "grid_template_rows": null,
            "height": null,
            "justify_content": null,
            "justify_items": null,
            "left": null,
            "margin": null,
            "max_height": null,
            "max_width": null,
            "min_height": null,
            "min_width": null,
            "object_fit": null,
            "object_position": null,
            "order": null,
            "overflow": null,
            "overflow_x": null,
            "overflow_y": null,
            "padding": null,
            "right": null,
            "top": null,
            "visibility": null,
            "width": null
          }
        },
        "6080cdbbb3b5458782c9252d05f172e9": {
          "model_module": "@jupyter-widgets/controls",
          "model_module_version": "1.5.0",
          "model_name": "HBoxModel",
          "state": {
            "_dom_classes": [],
            "_model_module": "@jupyter-widgets/controls",
            "_model_module_version": "1.5.0",
            "_model_name": "HBoxModel",
            "_view_count": null,
            "_view_module": "@jupyter-widgets/controls",
            "_view_module_version": "1.5.0",
            "_view_name": "HBoxView",
            "box_style": "",
            "children": [
              "IPY_MODEL_cfa3d328b41c4d0981fda060b1f1a0e9",
              "IPY_MODEL_4010b0cca5f1475e915016b6b31c90dc",
              "IPY_MODEL_859c7d76e74847cea43498d387ac8dcb"
            ],
            "layout": "IPY_MODEL_6023497a2d494a96a9a810eabed62c77"
          }
        },
        "61c92d314bb74c4e9a9eaca80b4a5fe8": {
          "model_module": "@jupyter-widgets/base",
          "model_module_version": "1.2.0",
          "model_name": "LayoutModel",
          "state": {
            "_model_module": "@jupyter-widgets/base",
            "_model_module_version": "1.2.0",
            "_model_name": "LayoutModel",
            "_view_count": null,
            "_view_module": "@jupyter-widgets/base",
            "_view_module_version": "1.2.0",
            "_view_name": "LayoutView",
            "align_content": null,
            "align_items": null,
            "align_self": null,
            "border": null,
            "bottom": null,
            "display": null,
            "flex": null,
            "flex_flow": null,
            "grid_area": null,
            "grid_auto_columns": null,
            "grid_auto_flow": null,
            "grid_auto_rows": null,
            "grid_column": null,
            "grid_gap": null,
            "grid_row": null,
            "grid_template_areas": null,
            "grid_template_columns": null,
            "grid_template_rows": null,
            "height": null,
            "justify_content": null,
            "justify_items": null,
            "left": null,
            "margin": null,
            "max_height": null,
            "max_width": null,
            "min_height": null,
            "min_width": null,
            "object_fit": null,
            "object_position": null,
            "order": null,
            "overflow": null,
            "overflow_x": null,
            "overflow_y": null,
            "padding": null,
            "right": null,
            "top": null,
            "visibility": null,
            "width": null
          }
        },
        "6425a506716d4b8da086d1cc8a8c03d1": {
          "model_module": "@jupyter-widgets/controls",
          "model_module_version": "1.5.0",
          "model_name": "HBoxModel",
          "state": {
            "_dom_classes": [],
            "_model_module": "@jupyter-widgets/controls",
            "_model_module_version": "1.5.0",
            "_model_name": "HBoxModel",
            "_view_count": null,
            "_view_module": "@jupyter-widgets/controls",
            "_view_module_version": "1.5.0",
            "_view_name": "HBoxView",
            "box_style": "",
            "children": [
              "IPY_MODEL_98183bf683024e6e96a7a78003c566e6",
              "IPY_MODEL_cedd1e5a6ba94d7b89811641745a070c",
              "IPY_MODEL_03dee7448da4471eb64edb966e5dcba7"
            ],
            "layout": "IPY_MODEL_60350193836a4b6795aa2adec22492eb"
          }
        },
        "6be8934ce7774c8ca78dc42fef46b440": {
          "model_module": "@jupyter-widgets/controls",
          "model_module_version": "1.5.0",
          "model_name": "FloatProgressModel",
          "state": {
            "_dom_classes": [],
            "_model_module": "@jupyter-widgets/controls",
            "_model_module_version": "1.5.0",
            "_model_name": "FloatProgressModel",
            "_view_count": null,
            "_view_module": "@jupyter-widgets/controls",
            "_view_module_version": "1.5.0",
            "_view_name": "ProgressView",
            "bar_style": "success",
            "description": "",
            "description_tooltip": null,
            "layout": "IPY_MODEL_4e29c34df4184778b899ce73fbee6202",
            "max": 1,
            "min": 0,
            "orientation": "horizontal",
            "style": "IPY_MODEL_46ac8baf50544d5494f360f7b7535b1f",
            "value": 1
          }
        },
        "6e1fa4fe401346b0ab6356c25095034b": {
          "model_module": "@jupyter-widgets/base",
          "model_module_version": "1.2.0",
          "model_name": "LayoutModel",
          "state": {
            "_model_module": "@jupyter-widgets/base",
            "_model_module_version": "1.2.0",
            "_model_name": "LayoutModel",
            "_view_count": null,
            "_view_module": "@jupyter-widgets/base",
            "_view_module_version": "1.2.0",
            "_view_name": "LayoutView",
            "align_content": null,
            "align_items": null,
            "align_self": null,
            "border": null,
            "bottom": null,
            "display": null,
            "flex": null,
            "flex_flow": null,
            "grid_area": null,
            "grid_auto_columns": null,
            "grid_auto_flow": null,
            "grid_auto_rows": null,
            "grid_column": null,
            "grid_gap": null,
            "grid_row": null,
            "grid_template_areas": null,
            "grid_template_columns": null,
            "grid_template_rows": null,
            "height": null,
            "justify_content": null,
            "justify_items": null,
            "left": null,
            "margin": null,
            "max_height": null,
            "max_width": null,
            "min_height": null,
            "min_width": null,
            "object_fit": null,
            "object_position": null,
            "order": null,
            "overflow": null,
            "overflow_x": null,
            "overflow_y": null,
            "padding": null,
            "right": null,
            "top": null,
            "visibility": null,
            "width": null
          }
        },
        "71bffdea16364b0e8ed7b98a57dfc28b": {
          "model_module": "@jupyter-widgets/base",
          "model_module_version": "1.2.0",
          "model_name": "LayoutModel",
          "state": {
            "_model_module": "@jupyter-widgets/base",
            "_model_module_version": "1.2.0",
            "_model_name": "LayoutModel",
            "_view_count": null,
            "_view_module": "@jupyter-widgets/base",
            "_view_module_version": "1.2.0",
            "_view_name": "LayoutView",
            "align_content": null,
            "align_items": null,
            "align_self": null,
            "border": null,
            "bottom": null,
            "display": null,
            "flex": null,
            "flex_flow": null,
            "grid_area": null,
            "grid_auto_columns": null,
            "grid_auto_flow": null,
            "grid_auto_rows": null,
            "grid_column": null,
            "grid_gap": null,
            "grid_row": null,
            "grid_template_areas": null,
            "grid_template_columns": null,
            "grid_template_rows": null,
            "height": null,
            "justify_content": null,
            "justify_items": null,
            "left": null,
            "margin": null,
            "max_height": null,
            "max_width": null,
            "min_height": null,
            "min_width": null,
            "object_fit": null,
            "object_position": null,
            "order": null,
            "overflow": null,
            "overflow_x": null,
            "overflow_y": null,
            "padding": null,
            "right": null,
            "top": null,
            "visibility": null,
            "width": null
          }
        },
        "72af4023675b494984bb96058254942c": {
          "model_module": "@jupyter-widgets/base",
          "model_module_version": "1.2.0",
          "model_name": "LayoutModel",
          "state": {
            "_model_module": "@jupyter-widgets/base",
            "_model_module_version": "1.2.0",
            "_model_name": "LayoutModel",
            "_view_count": null,
            "_view_module": "@jupyter-widgets/base",
            "_view_module_version": "1.2.0",
            "_view_name": "LayoutView",
            "align_content": null,
            "align_items": null,
            "align_self": null,
            "border": null,
            "bottom": null,
            "display": null,
            "flex": null,
            "flex_flow": null,
            "grid_area": null,
            "grid_auto_columns": null,
            "grid_auto_flow": null,
            "grid_auto_rows": null,
            "grid_column": null,
            "grid_gap": null,
            "grid_row": null,
            "grid_template_areas": null,
            "grid_template_columns": null,
            "grid_template_rows": null,
            "height": null,
            "justify_content": null,
            "justify_items": null,
            "left": null,
            "margin": null,
            "max_height": null,
            "max_width": null,
            "min_height": null,
            "min_width": null,
            "object_fit": null,
            "object_position": null,
            "order": null,
            "overflow": null,
            "overflow_x": null,
            "overflow_y": null,
            "padding": null,
            "right": null,
            "top": null,
            "visibility": null,
            "width": null
          }
        },
        "756e043ad1d347f9a86f22797c8825c5": {
          "model_module": "@jupyter-widgets/controls",
          "model_module_version": "1.5.0",
          "model_name": "DescriptionStyleModel",
          "state": {
            "_model_module": "@jupyter-widgets/controls",
            "_model_module_version": "1.5.0",
            "_model_name": "DescriptionStyleModel",
            "_view_count": null,
            "_view_module": "@jupyter-widgets/base",
            "_view_module_version": "1.2.0",
            "_view_name": "StyleView",
            "description_width": ""
          }
        },
        "75ad59794ec34c7bb2e87c08579bc022": {
          "model_module": "@jupyter-widgets/controls",
          "model_module_version": "1.5.0",
          "model_name": "HTMLModel",
          "state": {
            "_dom_classes": [],
            "_model_module": "@jupyter-widgets/controls",
            "_model_module_version": "1.5.0",
            "_model_name": "HTMLModel",
            "_view_count": null,
            "_view_module": "@jupyter-widgets/controls",
            "_view_module_version": "1.5.0",
            "_view_name": "HTMLView",
            "description": "",
            "description_tooltip": null,
            "layout": "IPY_MODEL_8a46fc6101a64eb8b4ef1f475ad7695f",
            "placeholder": "​",
            "style": "IPY_MODEL_c06670f8b23542be9b983d9853a28594",
            "value": " 1/1 [00:00&lt;00:00, 20.64it/s]"
          }
        },
        "77a000913ec14589b51955dbc528339c": {
          "model_module": "@jupyter-widgets/controls",
          "model_module_version": "1.5.0",
          "model_name": "DescriptionStyleModel",
          "state": {
            "_model_module": "@jupyter-widgets/controls",
            "_model_module_version": "1.5.0",
            "_model_name": "DescriptionStyleModel",
            "_view_count": null,
            "_view_module": "@jupyter-widgets/base",
            "_view_module_version": "1.2.0",
            "_view_name": "StyleView",
            "description_width": ""
          }
        },
        "78609b3161aa40fbaaea70793a9158f4": {
          "model_module": "@jupyter-widgets/controls",
          "model_module_version": "1.5.0",
          "model_name": "FloatProgressModel",
          "state": {
            "_dom_classes": [],
            "_model_module": "@jupyter-widgets/controls",
            "_model_module_version": "1.5.0",
            "_model_name": "FloatProgressModel",
            "_view_count": null,
            "_view_module": "@jupyter-widgets/controls",
            "_view_module_version": "1.5.0",
            "_view_name": "ProgressView",
            "bar_style": "success",
            "description": "",
            "description_tooltip": null,
            "layout": "IPY_MODEL_10e81fae3ac14e9f9e1768457375af71",
            "max": 1,
            "min": 0,
            "orientation": "horizontal",
            "style": "IPY_MODEL_215911680f7b4bd3a21fde4df683ad70",
            "value": 1
          }
        },
        "78a45ed6e28841f4ab3a31bf751ce788": {
          "model_module": "@jupyter-widgets/controls",
          "model_module_version": "1.5.0",
          "model_name": "HBoxModel",
          "state": {
            "_dom_classes": [],
            "_model_module": "@jupyter-widgets/controls",
            "_model_module_version": "1.5.0",
            "_model_name": "HBoxModel",
            "_view_count": null,
            "_view_module": "@jupyter-widgets/controls",
            "_view_module_version": "1.5.0",
            "_view_name": "HBoxView",
            "box_style": "",
            "children": [
              "IPY_MODEL_0699e5a5cfa54cf1a5a87b92db0df349",
              "IPY_MODEL_4455a61bfbd44a94b52a50a2d0186598",
              "IPY_MODEL_2e8d8604388343de8be29c496c4d2a18"
            ],
            "layout": "IPY_MODEL_cabdc01232104ce882b8015d6438e4dc"
          }
        },
        "794fff2690204972941580d4c6e1a1ef": {
          "model_module": "@jupyter-widgets/controls",
          "model_module_version": "1.5.0",
          "model_name": "DescriptionStyleModel",
          "state": {
            "_model_module": "@jupyter-widgets/controls",
            "_model_module_version": "1.5.0",
            "_model_name": "DescriptionStyleModel",
            "_view_count": null,
            "_view_module": "@jupyter-widgets/base",
            "_view_module_version": "1.2.0",
            "_view_name": "StyleView",
            "description_width": ""
          }
        },
        "7b6f663e0f7a46f4bc2b964635f6d050": {
          "model_module": "@jupyter-widgets/base",
          "model_module_version": "1.2.0",
          "model_name": "LayoutModel",
          "state": {
            "_model_module": "@jupyter-widgets/base",
            "_model_module_version": "1.2.0",
            "_model_name": "LayoutModel",
            "_view_count": null,
            "_view_module": "@jupyter-widgets/base",
            "_view_module_version": "1.2.0",
            "_view_name": "LayoutView",
            "align_content": null,
            "align_items": null,
            "align_self": null,
            "border": null,
            "bottom": null,
            "display": null,
            "flex": null,
            "flex_flow": null,
            "grid_area": null,
            "grid_auto_columns": null,
            "grid_auto_flow": null,
            "grid_auto_rows": null,
            "grid_column": null,
            "grid_gap": null,
            "grid_row": null,
            "grid_template_areas": null,
            "grid_template_columns": null,
            "grid_template_rows": null,
            "height": null,
            "justify_content": null,
            "justify_items": null,
            "left": null,
            "margin": null,
            "max_height": null,
            "max_width": null,
            "min_height": null,
            "min_width": null,
            "object_fit": null,
            "object_position": null,
            "order": null,
            "overflow": null,
            "overflow_x": null,
            "overflow_y": null,
            "padding": null,
            "right": null,
            "top": null,
            "visibility": null,
            "width": null
          }
        },
        "80181947a3fb4765b1927c40e125285f": {
          "model_module": "@jupyter-widgets/base",
          "model_module_version": "1.2.0",
          "model_name": "LayoutModel",
          "state": {
            "_model_module": "@jupyter-widgets/base",
            "_model_module_version": "1.2.0",
            "_model_name": "LayoutModel",
            "_view_count": null,
            "_view_module": "@jupyter-widgets/base",
            "_view_module_version": "1.2.0",
            "_view_name": "LayoutView",
            "align_content": null,
            "align_items": null,
            "align_self": null,
            "border": null,
            "bottom": null,
            "display": null,
            "flex": null,
            "flex_flow": null,
            "grid_area": null,
            "grid_auto_columns": null,
            "grid_auto_flow": null,
            "grid_auto_rows": null,
            "grid_column": null,
            "grid_gap": null,
            "grid_row": null,
            "grid_template_areas": null,
            "grid_template_columns": null,
            "grid_template_rows": null,
            "height": null,
            "justify_content": null,
            "justify_items": null,
            "left": null,
            "margin": null,
            "max_height": null,
            "max_width": null,
            "min_height": null,
            "min_width": null,
            "object_fit": null,
            "object_position": null,
            "order": null,
            "overflow": null,
            "overflow_x": null,
            "overflow_y": null,
            "padding": null,
            "right": null,
            "top": null,
            "visibility": null,
            "width": null
          }
        },
        "80a4f3e42eeb46dfbca668fbf30175f8": {
          "model_module": "@jupyter-widgets/controls",
          "model_module_version": "1.5.0",
          "model_name": "ProgressStyleModel",
          "state": {
            "_model_module": "@jupyter-widgets/controls",
            "_model_module_version": "1.5.0",
            "_model_name": "ProgressStyleModel",
            "_view_count": null,
            "_view_module": "@jupyter-widgets/base",
            "_view_module_version": "1.2.0",
            "_view_name": "StyleView",
            "bar_color": null,
            "description_width": ""
          }
        },
        "80a50e0c88404e4793cb79a7a62e2d44": {
          "model_module": "@jupyter-widgets/base",
          "model_module_version": "1.2.0",
          "model_name": "LayoutModel",
          "state": {
            "_model_module": "@jupyter-widgets/base",
            "_model_module_version": "1.2.0",
            "_model_name": "LayoutModel",
            "_view_count": null,
            "_view_module": "@jupyter-widgets/base",
            "_view_module_version": "1.2.0",
            "_view_name": "LayoutView",
            "align_content": null,
            "align_items": null,
            "align_self": null,
            "border": null,
            "bottom": null,
            "display": null,
            "flex": null,
            "flex_flow": null,
            "grid_area": null,
            "grid_auto_columns": null,
            "grid_auto_flow": null,
            "grid_auto_rows": null,
            "grid_column": null,
            "grid_gap": null,
            "grid_row": null,
            "grid_template_areas": null,
            "grid_template_columns": null,
            "grid_template_rows": null,
            "height": null,
            "justify_content": null,
            "justify_items": null,
            "left": null,
            "margin": null,
            "max_height": null,
            "max_width": null,
            "min_height": null,
            "min_width": null,
            "object_fit": null,
            "object_position": null,
            "order": null,
            "overflow": null,
            "overflow_x": null,
            "overflow_y": null,
            "padding": null,
            "right": null,
            "top": null,
            "visibility": null,
            "width": null
          }
        },
        "843de5afa4b6473e9b53a0bdde20ab98": {
          "model_module": "@jupyter-widgets/controls",
          "model_module_version": "1.5.0",
          "model_name": "HTMLModel",
          "state": {
            "_dom_classes": [],
            "_model_module": "@jupyter-widgets/controls",
            "_model_module_version": "1.5.0",
            "_model_name": "HTMLModel",
            "_view_count": null,
            "_view_module": "@jupyter-widgets/controls",
            "_view_module_version": "1.5.0",
            "_view_name": "HTMLView",
            "description": "",
            "description_tooltip": null,
            "layout": "IPY_MODEL_a32d37caab084697a53f4d491a759b5e",
            "placeholder": "​",
            "style": "IPY_MODEL_355b21bca91640c4994569e31ce71d1b",
            "value": " 1/1 [00:00&lt;00:00, 16.63it/s]"
          }
        },
        "8496bfb7f52a4a5e8c2c7f5b6cb11915": {
          "model_module": "@jupyter-widgets/base",
          "model_module_version": "1.2.0",
          "model_name": "LayoutModel",
          "state": {
            "_model_module": "@jupyter-widgets/base",
            "_model_module_version": "1.2.0",
            "_model_name": "LayoutModel",
            "_view_count": null,
            "_view_module": "@jupyter-widgets/base",
            "_view_module_version": "1.2.0",
            "_view_name": "LayoutView",
            "align_content": null,
            "align_items": null,
            "align_self": null,
            "border": null,
            "bottom": null,
            "display": null,
            "flex": null,
            "flex_flow": null,
            "grid_area": null,
            "grid_auto_columns": null,
            "grid_auto_flow": null,
            "grid_auto_rows": null,
            "grid_column": null,
            "grid_gap": null,
            "grid_row": null,
            "grid_template_areas": null,
            "grid_template_columns": null,
            "grid_template_rows": null,
            "height": null,
            "justify_content": null,
            "justify_items": null,
            "left": null,
            "margin": null,
            "max_height": null,
            "max_width": null,
            "min_height": null,
            "min_width": null,
            "object_fit": null,
            "object_position": null,
            "order": null,
            "overflow": null,
            "overflow_x": null,
            "overflow_y": null,
            "padding": null,
            "right": null,
            "top": null,
            "visibility": null,
            "width": null
          }
        },
        "859c7d76e74847cea43498d387ac8dcb": {
          "model_module": "@jupyter-widgets/controls",
          "model_module_version": "1.5.0",
          "model_name": "HTMLModel",
          "state": {
            "_dom_classes": [],
            "_model_module": "@jupyter-widgets/controls",
            "_model_module_version": "1.5.0",
            "_model_name": "HTMLModel",
            "_view_count": null,
            "_view_module": "@jupyter-widgets/controls",
            "_view_module_version": "1.5.0",
            "_view_name": "HTMLView",
            "description": "",
            "description_tooltip": null,
            "layout": "IPY_MODEL_ac4cf820cf9b47f58f8a971799446d62",
            "placeholder": "​",
            "style": "IPY_MODEL_c7087342e69e4dc6b58ccd5f9584aebd",
            "value": " 1/1 [00:00&lt;00:00, 15.62it/s]"
          }
        },
        "85f0ad92a3b148198ba347a44d5d87d2": {
          "model_module": "@jupyter-widgets/controls",
          "model_module_version": "1.5.0",
          "model_name": "ProgressStyleModel",
          "state": {
            "_model_module": "@jupyter-widgets/controls",
            "_model_module_version": "1.5.0",
            "_model_name": "ProgressStyleModel",
            "_view_count": null,
            "_view_module": "@jupyter-widgets/base",
            "_view_module_version": "1.2.0",
            "_view_name": "StyleView",
            "bar_color": null,
            "description_width": ""
          }
        },
        "8616a966961f475abee86e3da924aac1": {
          "model_module": "@jupyter-widgets/base",
          "model_module_version": "1.2.0",
          "model_name": "LayoutModel",
          "state": {
            "_model_module": "@jupyter-widgets/base",
            "_model_module_version": "1.2.0",
            "_model_name": "LayoutModel",
            "_view_count": null,
            "_view_module": "@jupyter-widgets/base",
            "_view_module_version": "1.2.0",
            "_view_name": "LayoutView",
            "align_content": null,
            "align_items": null,
            "align_self": null,
            "border": null,
            "bottom": null,
            "display": null,
            "flex": null,
            "flex_flow": null,
            "grid_area": null,
            "grid_auto_columns": null,
            "grid_auto_flow": null,
            "grid_auto_rows": null,
            "grid_column": null,
            "grid_gap": null,
            "grid_row": null,
            "grid_template_areas": null,
            "grid_template_columns": null,
            "grid_template_rows": null,
            "height": null,
            "justify_content": null,
            "justify_items": null,
            "left": null,
            "margin": null,
            "max_height": null,
            "max_width": null,
            "min_height": null,
            "min_width": null,
            "object_fit": null,
            "object_position": null,
            "order": null,
            "overflow": null,
            "overflow_x": null,
            "overflow_y": null,
            "padding": null,
            "right": null,
            "top": null,
            "visibility": null,
            "width": null
          }
        },
        "86ec4de1a0604f2487adde07782ad161": {
          "model_module": "@jupyter-widgets/controls",
          "model_module_version": "1.5.0",
          "model_name": "ProgressStyleModel",
          "state": {
            "_model_module": "@jupyter-widgets/controls",
            "_model_module_version": "1.5.0",
            "_model_name": "ProgressStyleModel",
            "_view_count": null,
            "_view_module": "@jupyter-widgets/base",
            "_view_module_version": "1.2.0",
            "_view_name": "StyleView",
            "bar_color": null,
            "description_width": ""
          }
        },
        "8a46fc6101a64eb8b4ef1f475ad7695f": {
          "model_module": "@jupyter-widgets/base",
          "model_module_version": "1.2.0",
          "model_name": "LayoutModel",
          "state": {
            "_model_module": "@jupyter-widgets/base",
            "_model_module_version": "1.2.0",
            "_model_name": "LayoutModel",
            "_view_count": null,
            "_view_module": "@jupyter-widgets/base",
            "_view_module_version": "1.2.0",
            "_view_name": "LayoutView",
            "align_content": null,
            "align_items": null,
            "align_self": null,
            "border": null,
            "bottom": null,
            "display": null,
            "flex": null,
            "flex_flow": null,
            "grid_area": null,
            "grid_auto_columns": null,
            "grid_auto_flow": null,
            "grid_auto_rows": null,
            "grid_column": null,
            "grid_gap": null,
            "grid_row": null,
            "grid_template_areas": null,
            "grid_template_columns": null,
            "grid_template_rows": null,
            "height": null,
            "justify_content": null,
            "justify_items": null,
            "left": null,
            "margin": null,
            "max_height": null,
            "max_width": null,
            "min_height": null,
            "min_width": null,
            "object_fit": null,
            "object_position": null,
            "order": null,
            "overflow": null,
            "overflow_x": null,
            "overflow_y": null,
            "padding": null,
            "right": null,
            "top": null,
            "visibility": null,
            "width": null
          }
        },
        "900c7a6d34c84f7888c45a0a43dbd68a": {
          "model_module": "@jupyter-widgets/controls",
          "model_module_version": "1.5.0",
          "model_name": "DescriptionStyleModel",
          "state": {
            "_model_module": "@jupyter-widgets/controls",
            "_model_module_version": "1.5.0",
            "_model_name": "DescriptionStyleModel",
            "_view_count": null,
            "_view_module": "@jupyter-widgets/base",
            "_view_module_version": "1.2.0",
            "_view_name": "StyleView",
            "description_width": ""
          }
        },
        "90f69ebbeaa2499ebbbfe7147828b0f7": {
          "model_module": "@jupyter-widgets/base",
          "model_module_version": "1.2.0",
          "model_name": "LayoutModel",
          "state": {
            "_model_module": "@jupyter-widgets/base",
            "_model_module_version": "1.2.0",
            "_model_name": "LayoutModel",
            "_view_count": null,
            "_view_module": "@jupyter-widgets/base",
            "_view_module_version": "1.2.0",
            "_view_name": "LayoutView",
            "align_content": null,
            "align_items": null,
            "align_self": null,
            "border": null,
            "bottom": null,
            "display": null,
            "flex": null,
            "flex_flow": null,
            "grid_area": null,
            "grid_auto_columns": null,
            "grid_auto_flow": null,
            "grid_auto_rows": null,
            "grid_column": null,
            "grid_gap": null,
            "grid_row": null,
            "grid_template_areas": null,
            "grid_template_columns": null,
            "grid_template_rows": null,
            "height": null,
            "justify_content": null,
            "justify_items": null,
            "left": null,
            "margin": null,
            "max_height": null,
            "max_width": null,
            "min_height": null,
            "min_width": null,
            "object_fit": null,
            "object_position": null,
            "order": null,
            "overflow": null,
            "overflow_x": null,
            "overflow_y": null,
            "padding": null,
            "right": null,
            "top": null,
            "visibility": null,
            "width": null
          }
        },
        "91b2b62782114a13aa9174634a14e583": {
          "model_module": "@jupyter-widgets/base",
          "model_module_version": "1.2.0",
          "model_name": "LayoutModel",
          "state": {
            "_model_module": "@jupyter-widgets/base",
            "_model_module_version": "1.2.0",
            "_model_name": "LayoutModel",
            "_view_count": null,
            "_view_module": "@jupyter-widgets/base",
            "_view_module_version": "1.2.0",
            "_view_name": "LayoutView",
            "align_content": null,
            "align_items": null,
            "align_self": null,
            "border": null,
            "bottom": null,
            "display": null,
            "flex": null,
            "flex_flow": null,
            "grid_area": null,
            "grid_auto_columns": null,
            "grid_auto_flow": null,
            "grid_auto_rows": null,
            "grid_column": null,
            "grid_gap": null,
            "grid_row": null,
            "grid_template_areas": null,
            "grid_template_columns": null,
            "grid_template_rows": null,
            "height": null,
            "justify_content": null,
            "justify_items": null,
            "left": null,
            "margin": null,
            "max_height": null,
            "max_width": null,
            "min_height": null,
            "min_width": null,
            "object_fit": null,
            "object_position": null,
            "order": null,
            "overflow": null,
            "overflow_x": null,
            "overflow_y": null,
            "padding": null,
            "right": null,
            "top": null,
            "visibility": null,
            "width": null
          }
        },
        "935e8f65a0d44c65ab80502f9b7d4aec": {
          "model_module": "@jupyter-widgets/base",
          "model_module_version": "1.2.0",
          "model_name": "LayoutModel",
          "state": {
            "_model_module": "@jupyter-widgets/base",
            "_model_module_version": "1.2.0",
            "_model_name": "LayoutModel",
            "_view_count": null,
            "_view_module": "@jupyter-widgets/base",
            "_view_module_version": "1.2.0",
            "_view_name": "LayoutView",
            "align_content": null,
            "align_items": null,
            "align_self": null,
            "border": null,
            "bottom": null,
            "display": null,
            "flex": null,
            "flex_flow": null,
            "grid_area": null,
            "grid_auto_columns": null,
            "grid_auto_flow": null,
            "grid_auto_rows": null,
            "grid_column": null,
            "grid_gap": null,
            "grid_row": null,
            "grid_template_areas": null,
            "grid_template_columns": null,
            "grid_template_rows": null,
            "height": null,
            "justify_content": null,
            "justify_items": null,
            "left": null,
            "margin": null,
            "max_height": null,
            "max_width": null,
            "min_height": null,
            "min_width": null,
            "object_fit": null,
            "object_position": null,
            "order": null,
            "overflow": null,
            "overflow_x": null,
            "overflow_y": null,
            "padding": null,
            "right": null,
            "top": null,
            "visibility": null,
            "width": null
          }
        },
        "9648148226b446b3a8ca3e6bcda3895f": {
          "model_module": "@jupyter-widgets/controls",
          "model_module_version": "1.5.0",
          "model_name": "HTMLModel",
          "state": {
            "_dom_classes": [],
            "_model_module": "@jupyter-widgets/controls",
            "_model_module_version": "1.5.0",
            "_model_name": "HTMLModel",
            "_view_count": null,
            "_view_module": "@jupyter-widgets/controls",
            "_view_module_version": "1.5.0",
            "_view_name": "HTMLView",
            "description": "",
            "description_tooltip": null,
            "layout": "IPY_MODEL_71bffdea16364b0e8ed7b98a57dfc28b",
            "placeholder": "​",
            "style": "IPY_MODEL_c8eff220ccd94cf5acd5d899bdd3a268",
            "value": "Downloading data files: 100%"
          }
        },
        "98183bf683024e6e96a7a78003c566e6": {
          "model_module": "@jupyter-widgets/controls",
          "model_module_version": "1.5.0",
          "model_name": "HTMLModel",
          "state": {
            "_dom_classes": [],
            "_model_module": "@jupyter-widgets/controls",
            "_model_module_version": "1.5.0",
            "_model_name": "HTMLModel",
            "_view_count": null,
            "_view_module": "@jupyter-widgets/controls",
            "_view_module_version": "1.5.0",
            "_view_name": "HTMLView",
            "description": "",
            "description_tooltip": null,
            "layout": "IPY_MODEL_db41dac1a3a34ca99d7e9e98a0f3acfa",
            "placeholder": "​",
            "style": "IPY_MODEL_35d4d5874b77482aa8005d0fed351208",
            "value": "100%"
          }
        },
        "9aad24dfae884066bcfc87b4edb588a6": {
          "model_module": "@jupyter-widgets/base",
          "model_module_version": "1.2.0",
          "model_name": "LayoutModel",
          "state": {
            "_model_module": "@jupyter-widgets/base",
            "_model_module_version": "1.2.0",
            "_model_name": "LayoutModel",
            "_view_count": null,
            "_view_module": "@jupyter-widgets/base",
            "_view_module_version": "1.2.0",
            "_view_name": "LayoutView",
            "align_content": null,
            "align_items": null,
            "align_self": null,
            "border": null,
            "bottom": null,
            "display": null,
            "flex": null,
            "flex_flow": null,
            "grid_area": null,
            "grid_auto_columns": null,
            "grid_auto_flow": null,
            "grid_auto_rows": null,
            "grid_column": null,
            "grid_gap": null,
            "grid_row": null,
            "grid_template_areas": null,
            "grid_template_columns": null,
            "grid_template_rows": null,
            "height": null,
            "justify_content": null,
            "justify_items": null,
            "left": null,
            "margin": null,
            "max_height": null,
            "max_width": null,
            "min_height": null,
            "min_width": null,
            "object_fit": null,
            "object_position": null,
            "order": null,
            "overflow": null,
            "overflow_x": null,
            "overflow_y": null,
            "padding": null,
            "right": null,
            "top": null,
            "visibility": null,
            "width": null
          }
        },
        "9ad534c107de495f99b603eb0e266412": {
          "model_module": "@jupyter-widgets/controls",
          "model_module_version": "1.5.0",
          "model_name": "DescriptionStyleModel",
          "state": {
            "_model_module": "@jupyter-widgets/controls",
            "_model_module_version": "1.5.0",
            "_model_name": "DescriptionStyleModel",
            "_view_count": null,
            "_view_module": "@jupyter-widgets/base",
            "_view_module_version": "1.2.0",
            "_view_name": "StyleView",
            "description_width": ""
          }
        },
        "9cdd27ec7c714234a62c5d322622747f": {
          "model_module": "@jupyter-widgets/controls",
          "model_module_version": "1.5.0",
          "model_name": "FloatProgressModel",
          "state": {
            "_dom_classes": [],
            "_model_module": "@jupyter-widgets/controls",
            "_model_module_version": "1.5.0",
            "_model_name": "FloatProgressModel",
            "_view_count": null,
            "_view_module": "@jupyter-widgets/controls",
            "_view_module_version": "1.5.0",
            "_view_name": "ProgressView",
            "bar_style": "info",
            "description": "",
            "description_tooltip": null,
            "layout": "IPY_MODEL_563e902b443f49c1851f3e6850af2f64",
            "max": 1,
            "min": 0,
            "orientation": "horizontal",
            "style": "IPY_MODEL_e054b5e71d624afa926a8a3575b2f41a",
            "value": 1
          }
        },
        "9cfa9dc7e6fc49b180ce9ecc8cb86ef2": {
          "model_module": "@jupyter-widgets/controls",
          "model_module_version": "1.5.0",
          "model_name": "DescriptionStyleModel",
          "state": {
            "_model_module": "@jupyter-widgets/controls",
            "_model_module_version": "1.5.0",
            "_model_name": "DescriptionStyleModel",
            "_view_count": null,
            "_view_module": "@jupyter-widgets/base",
            "_view_module_version": "1.2.0",
            "_view_name": "StyleView",
            "description_width": ""
          }
        },
        "9e372c9ef89f4788bdf3153c37f6d9c5": {
          "model_module": "@jupyter-widgets/controls",
          "model_module_version": "1.5.0",
          "model_name": "HTMLModel",
          "state": {
            "_dom_classes": [],
            "_model_module": "@jupyter-widgets/controls",
            "_model_module_version": "1.5.0",
            "_model_name": "HTMLModel",
            "_view_count": null,
            "_view_module": "@jupyter-widgets/controls",
            "_view_module_version": "1.5.0",
            "_view_name": "HTMLView",
            "description": "",
            "description_tooltip": null,
            "layout": "IPY_MODEL_0689395e39924e5e97f0305898aac244",
            "placeholder": "​",
            "style": "IPY_MODEL_dddaad3c485f4417ac760bc269a029cc",
            "value": "Downloading data files: 100%"
          }
        },
        "a1734bb0fb4148f987d7ce8bc54f8ea5": {
          "model_module": "@jupyter-widgets/base",
          "model_module_version": "1.2.0",
          "model_name": "LayoutModel",
          "state": {
            "_model_module": "@jupyter-widgets/base",
            "_model_module_version": "1.2.0",
            "_model_name": "LayoutModel",
            "_view_count": null,
            "_view_module": "@jupyter-widgets/base",
            "_view_module_version": "1.2.0",
            "_view_name": "LayoutView",
            "align_content": null,
            "align_items": null,
            "align_self": null,
            "border": null,
            "bottom": null,
            "display": null,
            "flex": null,
            "flex_flow": null,
            "grid_area": null,
            "grid_auto_columns": null,
            "grid_auto_flow": null,
            "grid_auto_rows": null,
            "grid_column": null,
            "grid_gap": null,
            "grid_row": null,
            "grid_template_areas": null,
            "grid_template_columns": null,
            "grid_template_rows": null,
            "height": null,
            "justify_content": null,
            "justify_items": null,
            "left": null,
            "margin": null,
            "max_height": null,
            "max_width": null,
            "min_height": null,
            "min_width": null,
            "object_fit": null,
            "object_position": null,
            "order": null,
            "overflow": null,
            "overflow_x": null,
            "overflow_y": null,
            "padding": null,
            "right": null,
            "top": null,
            "visibility": null,
            "width": null
          }
        },
        "a2ac318cd1ea4abd88ee788a2c39ac71": {
          "model_module": "@jupyter-widgets/controls",
          "model_module_version": "1.5.0",
          "model_name": "ProgressStyleModel",
          "state": {
            "_model_module": "@jupyter-widgets/controls",
            "_model_module_version": "1.5.0",
            "_model_name": "ProgressStyleModel",
            "_view_count": null,
            "_view_module": "@jupyter-widgets/base",
            "_view_module_version": "1.2.0",
            "_view_name": "StyleView",
            "bar_color": null,
            "description_width": ""
          }
        },
        "a2f9562efe764b7db90573166760e009": {
          "model_module": "@jupyter-widgets/controls",
          "model_module_version": "1.5.0",
          "model_name": "HBoxModel",
          "state": {
            "_dom_classes": [],
            "_model_module": "@jupyter-widgets/controls",
            "_model_module_version": "1.5.0",
            "_model_name": "HBoxModel",
            "_view_count": null,
            "_view_module": "@jupyter-widgets/controls",
            "_view_module_version": "1.5.0",
            "_view_name": "HBoxView",
            "box_style": "",
            "children": [
              "IPY_MODEL_9648148226b446b3a8ca3e6bcda3895f",
              "IPY_MODEL_5ac8acbf9f704750a56ebded23c493ba",
              "IPY_MODEL_1b8ea722709e450d97fbc8c4fb08f66d"
            ],
            "layout": "IPY_MODEL_e6b3e3847cf34369aa785efcd90a3014"
          }
        },
        "a32d37caab084697a53f4d491a759b5e": {
          "model_module": "@jupyter-widgets/base",
          "model_module_version": "1.2.0",
          "model_name": "LayoutModel",
          "state": {
            "_model_module": "@jupyter-widgets/base",
            "_model_module_version": "1.2.0",
            "_model_name": "LayoutModel",
            "_view_count": null,
            "_view_module": "@jupyter-widgets/base",
            "_view_module_version": "1.2.0",
            "_view_name": "LayoutView",
            "align_content": null,
            "align_items": null,
            "align_self": null,
            "border": null,
            "bottom": null,
            "display": null,
            "flex": null,
            "flex_flow": null,
            "grid_area": null,
            "grid_auto_columns": null,
            "grid_auto_flow": null,
            "grid_auto_rows": null,
            "grid_column": null,
            "grid_gap": null,
            "grid_row": null,
            "grid_template_areas": null,
            "grid_template_columns": null,
            "grid_template_rows": null,
            "height": null,
            "justify_content": null,
            "justify_items": null,
            "left": null,
            "margin": null,
            "max_height": null,
            "max_width": null,
            "min_height": null,
            "min_width": null,
            "object_fit": null,
            "object_position": null,
            "order": null,
            "overflow": null,
            "overflow_x": null,
            "overflow_y": null,
            "padding": null,
            "right": null,
            "top": null,
            "visibility": null,
            "width": null
          }
        },
        "a3cec96e2b284a209fbe19a26bc9e162": {
          "model_module": "@jupyter-widgets/base",
          "model_module_version": "1.2.0",
          "model_name": "LayoutModel",
          "state": {
            "_model_module": "@jupyter-widgets/base",
            "_model_module_version": "1.2.0",
            "_model_name": "LayoutModel",
            "_view_count": null,
            "_view_module": "@jupyter-widgets/base",
            "_view_module_version": "1.2.0",
            "_view_name": "LayoutView",
            "align_content": null,
            "align_items": null,
            "align_self": null,
            "border": null,
            "bottom": null,
            "display": null,
            "flex": null,
            "flex_flow": null,
            "grid_area": null,
            "grid_auto_columns": null,
            "grid_auto_flow": null,
            "grid_auto_rows": null,
            "grid_column": null,
            "grid_gap": null,
            "grid_row": null,
            "grid_template_areas": null,
            "grid_template_columns": null,
            "grid_template_rows": null,
            "height": null,
            "justify_content": null,
            "justify_items": null,
            "left": null,
            "margin": null,
            "max_height": null,
            "max_width": null,
            "min_height": null,
            "min_width": null,
            "object_fit": null,
            "object_position": null,
            "order": null,
            "overflow": null,
            "overflow_x": null,
            "overflow_y": null,
            "padding": null,
            "right": null,
            "top": null,
            "visibility": null,
            "width": null
          }
        },
        "a48a12ba5d6a4efba4ebbfbf77f9a1be": {
          "model_module": "@jupyter-widgets/controls",
          "model_module_version": "1.5.0",
          "model_name": "DescriptionStyleModel",
          "state": {
            "_model_module": "@jupyter-widgets/controls",
            "_model_module_version": "1.5.0",
            "_model_name": "DescriptionStyleModel",
            "_view_count": null,
            "_view_module": "@jupyter-widgets/base",
            "_view_module_version": "1.2.0",
            "_view_name": "StyleView",
            "description_width": ""
          }
        },
        "a7b7dc25b084459d83eac76d6c269d08": {
          "model_module": "@jupyter-widgets/controls",
          "model_module_version": "1.5.0",
          "model_name": "DescriptionStyleModel",
          "state": {
            "_model_module": "@jupyter-widgets/controls",
            "_model_module_version": "1.5.0",
            "_model_name": "DescriptionStyleModel",
            "_view_count": null,
            "_view_module": "@jupyter-widgets/base",
            "_view_module_version": "1.2.0",
            "_view_name": "StyleView",
            "description_width": ""
          }
        },
        "a98943f2ada54526bcdd152b4bf50a6d": {
          "model_module": "@jupyter-widgets/controls",
          "model_module_version": "1.5.0",
          "model_name": "HTMLModel",
          "state": {
            "_dom_classes": [],
            "_model_module": "@jupyter-widgets/controls",
            "_model_module_version": "1.5.0",
            "_model_name": "HTMLModel",
            "_view_count": null,
            "_view_module": "@jupyter-widgets/controls",
            "_view_module_version": "1.5.0",
            "_view_name": "HTMLView",
            "description": "",
            "description_tooltip": null,
            "layout": "IPY_MODEL_80a50e0c88404e4793cb79a7a62e2d44",
            "placeholder": "​",
            "style": "IPY_MODEL_77a000913ec14589b51955dbc528339c",
            "value": " 1/1 [00:00&lt;00:00,  5.84it/s]"
          }
        },
        "ab800437b472413e82c8b3f1cd606a31": {
          "model_module": "@jupyter-widgets/base",
          "model_module_version": "1.2.0",
          "model_name": "LayoutModel",
          "state": {
            "_model_module": "@jupyter-widgets/base",
            "_model_module_version": "1.2.0",
            "_model_name": "LayoutModel",
            "_view_count": null,
            "_view_module": "@jupyter-widgets/base",
            "_view_module_version": "1.2.0",
            "_view_name": "LayoutView",
            "align_content": null,
            "align_items": null,
            "align_self": null,
            "border": null,
            "bottom": null,
            "display": null,
            "flex": null,
            "flex_flow": null,
            "grid_area": null,
            "grid_auto_columns": null,
            "grid_auto_flow": null,
            "grid_auto_rows": null,
            "grid_column": null,
            "grid_gap": null,
            "grid_row": null,
            "grid_template_areas": null,
            "grid_template_columns": null,
            "grid_template_rows": null,
            "height": null,
            "justify_content": null,
            "justify_items": null,
            "left": null,
            "margin": null,
            "max_height": null,
            "max_width": null,
            "min_height": null,
            "min_width": null,
            "object_fit": null,
            "object_position": null,
            "order": null,
            "overflow": null,
            "overflow_x": null,
            "overflow_y": null,
            "padding": null,
            "right": null,
            "top": null,
            "visibility": null,
            "width": null
          }
        },
        "ac4cf820cf9b47f58f8a971799446d62": {
          "model_module": "@jupyter-widgets/base",
          "model_module_version": "1.2.0",
          "model_name": "LayoutModel",
          "state": {
            "_model_module": "@jupyter-widgets/base",
            "_model_module_version": "1.2.0",
            "_model_name": "LayoutModel",
            "_view_count": null,
            "_view_module": "@jupyter-widgets/base",
            "_view_module_version": "1.2.0",
            "_view_name": "LayoutView",
            "align_content": null,
            "align_items": null,
            "align_self": null,
            "border": null,
            "bottom": null,
            "display": null,
            "flex": null,
            "flex_flow": null,
            "grid_area": null,
            "grid_auto_columns": null,
            "grid_auto_flow": null,
            "grid_auto_rows": null,
            "grid_column": null,
            "grid_gap": null,
            "grid_row": null,
            "grid_template_areas": null,
            "grid_template_columns": null,
            "grid_template_rows": null,
            "height": null,
            "justify_content": null,
            "justify_items": null,
            "left": null,
            "margin": null,
            "max_height": null,
            "max_width": null,
            "min_height": null,
            "min_width": null,
            "object_fit": null,
            "object_position": null,
            "order": null,
            "overflow": null,
            "overflow_x": null,
            "overflow_y": null,
            "padding": null,
            "right": null,
            "top": null,
            "visibility": null,
            "width": null
          }
        },
        "aea24943a631460a80b9fbc80b5441c2": {
          "model_module": "@jupyter-widgets/base",
          "model_module_version": "1.2.0",
          "model_name": "LayoutModel",
          "state": {
            "_model_module": "@jupyter-widgets/base",
            "_model_module_version": "1.2.0",
            "_model_name": "LayoutModel",
            "_view_count": null,
            "_view_module": "@jupyter-widgets/base",
            "_view_module_version": "1.2.0",
            "_view_name": "LayoutView",
            "align_content": null,
            "align_items": null,
            "align_self": null,
            "border": null,
            "bottom": null,
            "display": null,
            "flex": null,
            "flex_flow": null,
            "grid_area": null,
            "grid_auto_columns": null,
            "grid_auto_flow": null,
            "grid_auto_rows": null,
            "grid_column": null,
            "grid_gap": null,
            "grid_row": null,
            "grid_template_areas": null,
            "grid_template_columns": null,
            "grid_template_rows": null,
            "height": null,
            "justify_content": null,
            "justify_items": null,
            "left": null,
            "margin": null,
            "max_height": null,
            "max_width": null,
            "min_height": null,
            "min_width": null,
            "object_fit": null,
            "object_position": null,
            "order": null,
            "overflow": null,
            "overflow_x": null,
            "overflow_y": null,
            "padding": null,
            "right": null,
            "top": null,
            "visibility": null,
            "width": null
          }
        },
        "b0ecadd2fe174466a8a0414c9fd33ab3": {
          "model_module": "@jupyter-widgets/controls",
          "model_module_version": "1.5.0",
          "model_name": "HTMLModel",
          "state": {
            "_dom_classes": [],
            "_model_module": "@jupyter-widgets/controls",
            "_model_module_version": "1.5.0",
            "_model_name": "HTMLModel",
            "_view_count": null,
            "_view_module": "@jupyter-widgets/controls",
            "_view_module_version": "1.5.0",
            "_view_name": "HTMLView",
            "description": "",
            "description_tooltip": null,
            "layout": "IPY_MODEL_aea24943a631460a80b9fbc80b5441c2",
            "placeholder": "​",
            "style": "IPY_MODEL_e3a2d1bf0713496eb0e9b28cf7b256ee",
            "value": ""
          }
        },
        "b144eeb7d5c84bb0bf06a3c29032a74b": {
          "model_module": "@jupyter-widgets/controls",
          "model_module_version": "1.5.0",
          "model_name": "HTMLModel",
          "state": {
            "_dom_classes": [],
            "_model_module": "@jupyter-widgets/controls",
            "_model_module_version": "1.5.0",
            "_model_name": "HTMLModel",
            "_view_count": null,
            "_view_module": "@jupyter-widgets/controls",
            "_view_module_version": "1.5.0",
            "_view_name": "HTMLView",
            "description": "",
            "description_tooltip": null,
            "layout": "IPY_MODEL_0c9ca63568dc424783fd0586e7d55f9d",
            "placeholder": "​",
            "style": "IPY_MODEL_794fff2690204972941580d4c6e1a1ef",
            "value": "Extracting data files: 100%"
          }
        },
        "b37ca43f8e324620a85a679337468bc3": {
          "model_module": "@jupyter-widgets/controls",
          "model_module_version": "1.5.0",
          "model_name": "HBoxModel",
          "state": {
            "_dom_classes": [],
            "_model_module": "@jupyter-widgets/controls",
            "_model_module_version": "1.5.0",
            "_model_name": "HBoxModel",
            "_view_count": null,
            "_view_module": "@jupyter-widgets/controls",
            "_view_module_version": "1.5.0",
            "_view_name": "HBoxView",
            "box_style": "",
            "children": [
              "IPY_MODEL_033acc828fa0426eafa3fe8cd79823aa",
              "IPY_MODEL_b9dffbcc44334f72b196d55856ae1bac",
              "IPY_MODEL_75ad59794ec34c7bb2e87c08579bc022"
            ],
            "layout": "IPY_MODEL_189de3693ec14f9d94fbf26babbbd6f0"
          }
        },
        "b5909b54cc154d158094e8d27f2b3655": {
          "model_module": "@jupyter-widgets/controls",
          "model_module_version": "1.5.0",
          "model_name": "HBoxModel",
          "state": {
            "_dom_classes": [],
            "_model_module": "@jupyter-widgets/controls",
            "_model_module_version": "1.5.0",
            "_model_name": "HBoxModel",
            "_view_count": null,
            "_view_module": "@jupyter-widgets/controls",
            "_view_module_version": "1.5.0",
            "_view_name": "HBoxView",
            "box_style": "",
            "children": [
              "IPY_MODEL_9e372c9ef89f4788bdf3153c37f6d9c5",
              "IPY_MODEL_baf038a0c33e48ce85adf7aa4ca209d2",
              "IPY_MODEL_843de5afa4b6473e9b53a0bdde20ab98"
            ],
            "layout": "IPY_MODEL_fbe1ec663ac94537a9640be077528e45"
          }
        },
        "b803d78496f0415688430a91bb5c8f03": {
          "model_module": "@jupyter-widgets/base",
          "model_module_version": "1.2.0",
          "model_name": "LayoutModel",
          "state": {
            "_model_module": "@jupyter-widgets/base",
            "_model_module_version": "1.2.0",
            "_model_name": "LayoutModel",
            "_view_count": null,
            "_view_module": "@jupyter-widgets/base",
            "_view_module_version": "1.2.0",
            "_view_name": "LayoutView",
            "align_content": null,
            "align_items": null,
            "align_self": null,
            "border": null,
            "bottom": null,
            "display": null,
            "flex": null,
            "flex_flow": null,
            "grid_area": null,
            "grid_auto_columns": null,
            "grid_auto_flow": null,
            "grid_auto_rows": null,
            "grid_column": null,
            "grid_gap": null,
            "grid_row": null,
            "grid_template_areas": null,
            "grid_template_columns": null,
            "grid_template_rows": null,
            "height": null,
            "justify_content": null,
            "justify_items": null,
            "left": null,
            "margin": null,
            "max_height": null,
            "max_width": null,
            "min_height": null,
            "min_width": null,
            "object_fit": null,
            "object_position": null,
            "order": null,
            "overflow": null,
            "overflow_x": null,
            "overflow_y": null,
            "padding": null,
            "right": null,
            "top": null,
            "visibility": null,
            "width": null
          }
        },
        "b9dffbcc44334f72b196d55856ae1bac": {
          "model_module": "@jupyter-widgets/controls",
          "model_module_version": "1.5.0",
          "model_name": "FloatProgressModel",
          "state": {
            "_dom_classes": [],
            "_model_module": "@jupyter-widgets/controls",
            "_model_module_version": "1.5.0",
            "_model_name": "FloatProgressModel",
            "_view_count": null,
            "_view_module": "@jupyter-widgets/controls",
            "_view_module_version": "1.5.0",
            "_view_name": "ProgressView",
            "bar_style": "success",
            "description": "",
            "description_tooltip": null,
            "layout": "IPY_MODEL_0a8220a9f3d746ba9896f3f0b8f74769",
            "max": 1,
            "min": 0,
            "orientation": "horizontal",
            "style": "IPY_MODEL_165fe823ab044fc1bf8841f9157ce27c",
            "value": 1
          }
        },
        "baf038a0c33e48ce85adf7aa4ca209d2": {
          "model_module": "@jupyter-widgets/controls",
          "model_module_version": "1.5.0",
          "model_name": "FloatProgressModel",
          "state": {
            "_dom_classes": [],
            "_model_module": "@jupyter-widgets/controls",
            "_model_module_version": "1.5.0",
            "_model_name": "FloatProgressModel",
            "_view_count": null,
            "_view_module": "@jupyter-widgets/controls",
            "_view_module_version": "1.5.0",
            "_view_name": "ProgressView",
            "bar_style": "success",
            "description": "",
            "description_tooltip": null,
            "layout": "IPY_MODEL_c499f07333f943c1b4d06dd0051033ca",
            "max": 1,
            "min": 0,
            "orientation": "horizontal",
            "style": "IPY_MODEL_581a6751861248f7986707d15949bd39",
            "value": 1
          }
        },
        "bc5d0f96b0b54ce581af96f8129964f7": {
          "model_module": "@jupyter-widgets/controls",
          "model_module_version": "1.5.0",
          "model_name": "ProgressStyleModel",
          "state": {
            "_model_module": "@jupyter-widgets/controls",
            "_model_module_version": "1.5.0",
            "_model_name": "ProgressStyleModel",
            "_view_count": null,
            "_view_module": "@jupyter-widgets/base",
            "_view_module_version": "1.2.0",
            "_view_name": "StyleView",
            "bar_color": null,
            "description_width": ""
          }
        },
        "be4453c608634f13be001d1999f29e96": {
          "model_module": "@jupyter-widgets/base",
          "model_module_version": "1.2.0",
          "model_name": "LayoutModel",
          "state": {
            "_model_module": "@jupyter-widgets/base",
            "_model_module_version": "1.2.0",
            "_model_name": "LayoutModel",
            "_view_count": null,
            "_view_module": "@jupyter-widgets/base",
            "_view_module_version": "1.2.0",
            "_view_name": "LayoutView",
            "align_content": null,
            "align_items": null,
            "align_self": null,
            "border": null,
            "bottom": null,
            "display": null,
            "flex": null,
            "flex_flow": null,
            "grid_area": null,
            "grid_auto_columns": null,
            "grid_auto_flow": null,
            "grid_auto_rows": null,
            "grid_column": null,
            "grid_gap": null,
            "grid_row": null,
            "grid_template_areas": null,
            "grid_template_columns": null,
            "grid_template_rows": null,
            "height": null,
            "justify_content": null,
            "justify_items": null,
            "left": null,
            "margin": null,
            "max_height": null,
            "max_width": null,
            "min_height": null,
            "min_width": null,
            "object_fit": null,
            "object_position": null,
            "order": null,
            "overflow": null,
            "overflow_x": null,
            "overflow_y": null,
            "padding": null,
            "right": null,
            "top": null,
            "visibility": null,
            "width": null
          }
        },
        "c06670f8b23542be9b983d9853a28594": {
          "model_module": "@jupyter-widgets/controls",
          "model_module_version": "1.5.0",
          "model_name": "DescriptionStyleModel",
          "state": {
            "_model_module": "@jupyter-widgets/controls",
            "_model_module_version": "1.5.0",
            "_model_name": "DescriptionStyleModel",
            "_view_count": null,
            "_view_module": "@jupyter-widgets/base",
            "_view_module_version": "1.2.0",
            "_view_name": "StyleView",
            "description_width": ""
          }
        },
        "c2e77cbe540a4e01bd04819d88c838fd": {
          "model_module": "@jupyter-widgets/controls",
          "model_module_version": "1.5.0",
          "model_name": "DescriptionStyleModel",
          "state": {
            "_model_module": "@jupyter-widgets/controls",
            "_model_module_version": "1.5.0",
            "_model_name": "DescriptionStyleModel",
            "_view_count": null,
            "_view_module": "@jupyter-widgets/base",
            "_view_module_version": "1.2.0",
            "_view_name": "StyleView",
            "description_width": ""
          }
        },
        "c2f706916c4046429b8ccdeb338922e0": {
          "model_module": "@jupyter-widgets/controls",
          "model_module_version": "1.5.0",
          "model_name": "DescriptionStyleModel",
          "state": {
            "_model_module": "@jupyter-widgets/controls",
            "_model_module_version": "1.5.0",
            "_model_name": "DescriptionStyleModel",
            "_view_count": null,
            "_view_module": "@jupyter-widgets/base",
            "_view_module_version": "1.2.0",
            "_view_name": "StyleView",
            "description_width": ""
          }
        },
        "c499f07333f943c1b4d06dd0051033ca": {
          "model_module": "@jupyter-widgets/base",
          "model_module_version": "1.2.0",
          "model_name": "LayoutModel",
          "state": {
            "_model_module": "@jupyter-widgets/base",
            "_model_module_version": "1.2.0",
            "_model_name": "LayoutModel",
            "_view_count": null,
            "_view_module": "@jupyter-widgets/base",
            "_view_module_version": "1.2.0",
            "_view_name": "LayoutView",
            "align_content": null,
            "align_items": null,
            "align_self": null,
            "border": null,
            "bottom": null,
            "display": null,
            "flex": null,
            "flex_flow": null,
            "grid_area": null,
            "grid_auto_columns": null,
            "grid_auto_flow": null,
            "grid_auto_rows": null,
            "grid_column": null,
            "grid_gap": null,
            "grid_row": null,
            "grid_template_areas": null,
            "grid_template_columns": null,
            "grid_template_rows": null,
            "height": null,
            "justify_content": null,
            "justify_items": null,
            "left": null,
            "margin": null,
            "max_height": null,
            "max_width": null,
            "min_height": null,
            "min_width": null,
            "object_fit": null,
            "object_position": null,
            "order": null,
            "overflow": null,
            "overflow_x": null,
            "overflow_y": null,
            "padding": null,
            "right": null,
            "top": null,
            "visibility": null,
            "width": null
          }
        },
        "c5f7db45d7e04223a8425a0ed6bdf459": {
          "model_module": "@jupyter-widgets/controls",
          "model_module_version": "1.5.0",
          "model_name": "ProgressStyleModel",
          "state": {
            "_model_module": "@jupyter-widgets/controls",
            "_model_module_version": "1.5.0",
            "_model_name": "ProgressStyleModel",
            "_view_count": null,
            "_view_module": "@jupyter-widgets/base",
            "_view_module_version": "1.2.0",
            "_view_name": "StyleView",
            "bar_color": null,
            "description_width": ""
          }
        },
        "c7087342e69e4dc6b58ccd5f9584aebd": {
          "model_module": "@jupyter-widgets/controls",
          "model_module_version": "1.5.0",
          "model_name": "DescriptionStyleModel",
          "state": {
            "_model_module": "@jupyter-widgets/controls",
            "_model_module_version": "1.5.0",
            "_model_name": "DescriptionStyleModel",
            "_view_count": null,
            "_view_module": "@jupyter-widgets/base",
            "_view_module_version": "1.2.0",
            "_view_name": "StyleView",
            "description_width": ""
          }
        },
        "c74df68259114d8681d1b87f108933a4": {
          "model_module": "@jupyter-widgets/controls",
          "model_module_version": "1.5.0",
          "model_name": "FloatProgressModel",
          "state": {
            "_dom_classes": [],
            "_model_module": "@jupyter-widgets/controls",
            "_model_module_version": "1.5.0",
            "_model_name": "FloatProgressModel",
            "_view_count": null,
            "_view_module": "@jupyter-widgets/controls",
            "_view_module_version": "1.5.0",
            "_view_name": "ProgressView",
            "bar_style": "info",
            "description": "",
            "description_tooltip": null,
            "layout": "IPY_MODEL_0818604ff2f54c66acfe46f78f30f28f",
            "max": 1,
            "min": 0,
            "orientation": "horizontal",
            "style": "IPY_MODEL_85f0ad92a3b148198ba347a44d5d87d2",
            "value": 1
          }
        },
        "c8b9d6b62f8b452eb9491b1502abdd06": {
          "model_module": "@jupyter-widgets/base",
          "model_module_version": "1.2.0",
          "model_name": "LayoutModel",
          "state": {
            "_model_module": "@jupyter-widgets/base",
            "_model_module_version": "1.2.0",
            "_model_name": "LayoutModel",
            "_view_count": null,
            "_view_module": "@jupyter-widgets/base",
            "_view_module_version": "1.2.0",
            "_view_name": "LayoutView",
            "align_content": null,
            "align_items": null,
            "align_self": null,
            "border": null,
            "bottom": null,
            "display": null,
            "flex": null,
            "flex_flow": null,
            "grid_area": null,
            "grid_auto_columns": null,
            "grid_auto_flow": null,
            "grid_auto_rows": null,
            "grid_column": null,
            "grid_gap": null,
            "grid_row": null,
            "grid_template_areas": null,
            "grid_template_columns": null,
            "grid_template_rows": null,
            "height": null,
            "justify_content": null,
            "justify_items": null,
            "left": null,
            "margin": null,
            "max_height": null,
            "max_width": null,
            "min_height": null,
            "min_width": null,
            "object_fit": null,
            "object_position": null,
            "order": null,
            "overflow": null,
            "overflow_x": null,
            "overflow_y": null,
            "padding": null,
            "right": null,
            "top": null,
            "visibility": null,
            "width": null
          }
        },
        "c8eff220ccd94cf5acd5d899bdd3a268": {
          "model_module": "@jupyter-widgets/controls",
          "model_module_version": "1.5.0",
          "model_name": "DescriptionStyleModel",
          "state": {
            "_model_module": "@jupyter-widgets/controls",
            "_model_module_version": "1.5.0",
            "_model_name": "DescriptionStyleModel",
            "_view_count": null,
            "_view_module": "@jupyter-widgets/base",
            "_view_module_version": "1.2.0",
            "_view_name": "StyleView",
            "description_width": ""
          }
        },
        "c9a3aa5e0236409a80cd3f0474c012c0": {
          "model_module": "@jupyter-widgets/base",
          "model_module_version": "1.2.0",
          "model_name": "LayoutModel",
          "state": {
            "_model_module": "@jupyter-widgets/base",
            "_model_module_version": "1.2.0",
            "_model_name": "LayoutModel",
            "_view_count": null,
            "_view_module": "@jupyter-widgets/base",
            "_view_module_version": "1.2.0",
            "_view_name": "LayoutView",
            "align_content": null,
            "align_items": null,
            "align_self": null,
            "border": null,
            "bottom": null,
            "display": null,
            "flex": null,
            "flex_flow": null,
            "grid_area": null,
            "grid_auto_columns": null,
            "grid_auto_flow": null,
            "grid_auto_rows": null,
            "grid_column": null,
            "grid_gap": null,
            "grid_row": null,
            "grid_template_areas": null,
            "grid_template_columns": null,
            "grid_template_rows": null,
            "height": null,
            "justify_content": null,
            "justify_items": null,
            "left": null,
            "margin": null,
            "max_height": null,
            "max_width": null,
            "min_height": null,
            "min_width": null,
            "object_fit": null,
            "object_position": null,
            "order": null,
            "overflow": null,
            "overflow_x": null,
            "overflow_y": null,
            "padding": null,
            "right": null,
            "top": null,
            "visibility": null,
            "width": null
          }
        },
        "c9bca18f42cf4112b765eda6a2bf1a49": {
          "model_module": "@jupyter-widgets/base",
          "model_module_version": "1.2.0",
          "model_name": "LayoutModel",
          "state": {
            "_model_module": "@jupyter-widgets/base",
            "_model_module_version": "1.2.0",
            "_model_name": "LayoutModel",
            "_view_count": null,
            "_view_module": "@jupyter-widgets/base",
            "_view_module_version": "1.2.0",
            "_view_name": "LayoutView",
            "align_content": null,
            "align_items": null,
            "align_self": null,
            "border": null,
            "bottom": null,
            "display": null,
            "flex": null,
            "flex_flow": null,
            "grid_area": null,
            "grid_auto_columns": null,
            "grid_auto_flow": null,
            "grid_auto_rows": null,
            "grid_column": null,
            "grid_gap": null,
            "grid_row": null,
            "grid_template_areas": null,
            "grid_template_columns": null,
            "grid_template_rows": null,
            "height": null,
            "justify_content": null,
            "justify_items": null,
            "left": null,
            "margin": null,
            "max_height": null,
            "max_width": null,
            "min_height": null,
            "min_width": null,
            "object_fit": null,
            "object_position": null,
            "order": null,
            "overflow": null,
            "overflow_x": null,
            "overflow_y": null,
            "padding": null,
            "right": null,
            "top": null,
            "visibility": null,
            "width": null
          }
        },
        "cabdc01232104ce882b8015d6438e4dc": {
          "model_module": "@jupyter-widgets/base",
          "model_module_version": "1.2.0",
          "model_name": "LayoutModel",
          "state": {
            "_model_module": "@jupyter-widgets/base",
            "_model_module_version": "1.2.0",
            "_model_name": "LayoutModel",
            "_view_count": null,
            "_view_module": "@jupyter-widgets/base",
            "_view_module_version": "1.2.0",
            "_view_name": "LayoutView",
            "align_content": null,
            "align_items": null,
            "align_self": null,
            "border": null,
            "bottom": null,
            "display": null,
            "flex": null,
            "flex_flow": null,
            "grid_area": null,
            "grid_auto_columns": null,
            "grid_auto_flow": null,
            "grid_auto_rows": null,
            "grid_column": null,
            "grid_gap": null,
            "grid_row": null,
            "grid_template_areas": null,
            "grid_template_columns": null,
            "grid_template_rows": null,
            "height": null,
            "justify_content": null,
            "justify_items": null,
            "left": null,
            "margin": null,
            "max_height": null,
            "max_width": null,
            "min_height": null,
            "min_width": null,
            "object_fit": null,
            "object_position": null,
            "order": null,
            "overflow": null,
            "overflow_x": null,
            "overflow_y": null,
            "padding": null,
            "right": null,
            "top": null,
            "visibility": null,
            "width": null
          }
        },
        "cedd1e5a6ba94d7b89811641745a070c": {
          "model_module": "@jupyter-widgets/controls",
          "model_module_version": "1.5.0",
          "model_name": "FloatProgressModel",
          "state": {
            "_dom_classes": [],
            "_model_module": "@jupyter-widgets/controls",
            "_model_module_version": "1.5.0",
            "_model_name": "FloatProgressModel",
            "_view_count": null,
            "_view_module": "@jupyter-widgets/controls",
            "_view_module_version": "1.5.0",
            "_view_name": "ProgressView",
            "bar_style": "success",
            "description": "",
            "description_tooltip": null,
            "layout": "IPY_MODEL_7b6f663e0f7a46f4bc2b964635f6d050",
            "max": 1,
            "min": 0,
            "orientation": "horizontal",
            "style": "IPY_MODEL_37f8bea3740b4404aa8e7fd48597083f",
            "value": 1
          }
        },
        "cfa3d328b41c4d0981fda060b1f1a0e9": {
          "model_module": "@jupyter-widgets/controls",
          "model_module_version": "1.5.0",
          "model_name": "HTMLModel",
          "state": {
            "_dom_classes": [],
            "_model_module": "@jupyter-widgets/controls",
            "_model_module_version": "1.5.0",
            "_model_name": "HTMLModel",
            "_view_count": null,
            "_view_module": "@jupyter-widgets/controls",
            "_view_module_version": "1.5.0",
            "_view_name": "HTMLView",
            "description": "",
            "description_tooltip": null,
            "layout": "IPY_MODEL_e0a628cd5bb64946b405528ad4908df6",
            "placeholder": "​",
            "style": "IPY_MODEL_ea262fcbf10943c49d51232e8e61c18a",
            "value": "Extracting data files: 100%"
          }
        },
        "d3b798ba1a0c45a6a291b2651a0fef29": {
          "model_module": "@jupyter-widgets/base",
          "model_module_version": "1.2.0",
          "model_name": "LayoutModel",
          "state": {
            "_model_module": "@jupyter-widgets/base",
            "_model_module_version": "1.2.0",
            "_model_name": "LayoutModel",
            "_view_count": null,
            "_view_module": "@jupyter-widgets/base",
            "_view_module_version": "1.2.0",
            "_view_name": "LayoutView",
            "align_content": null,
            "align_items": null,
            "align_self": null,
            "border": null,
            "bottom": null,
            "display": null,
            "flex": null,
            "flex_flow": null,
            "grid_area": null,
            "grid_auto_columns": null,
            "grid_auto_flow": null,
            "grid_auto_rows": null,
            "grid_column": null,
            "grid_gap": null,
            "grid_row": null,
            "grid_template_areas": null,
            "grid_template_columns": null,
            "grid_template_rows": null,
            "height": null,
            "justify_content": null,
            "justify_items": null,
            "left": null,
            "margin": null,
            "max_height": null,
            "max_width": null,
            "min_height": null,
            "min_width": null,
            "object_fit": null,
            "object_position": null,
            "order": null,
            "overflow": null,
            "overflow_x": null,
            "overflow_y": null,
            "padding": null,
            "right": null,
            "top": null,
            "visibility": null,
            "width": null
          }
        },
        "d8d20624f87e40fba20db4035cd4a57a": {
          "model_module": "@jupyter-widgets/controls",
          "model_module_version": "1.5.0",
          "model_name": "DescriptionStyleModel",
          "state": {
            "_model_module": "@jupyter-widgets/controls",
            "_model_module_version": "1.5.0",
            "_model_name": "DescriptionStyleModel",
            "_view_count": null,
            "_view_module": "@jupyter-widgets/base",
            "_view_module_version": "1.2.0",
            "_view_name": "StyleView",
            "description_width": ""
          }
        },
        "da1673ec5eab45c5a044e15b215163e7": {
          "model_module": "@jupyter-widgets/base",
          "model_module_version": "1.2.0",
          "model_name": "LayoutModel",
          "state": {
            "_model_module": "@jupyter-widgets/base",
            "_model_module_version": "1.2.0",
            "_model_name": "LayoutModel",
            "_view_count": null,
            "_view_module": "@jupyter-widgets/base",
            "_view_module_version": "1.2.0",
            "_view_name": "LayoutView",
            "align_content": null,
            "align_items": null,
            "align_self": null,
            "border": null,
            "bottom": null,
            "display": null,
            "flex": null,
            "flex_flow": null,
            "grid_area": null,
            "grid_auto_columns": null,
            "grid_auto_flow": null,
            "grid_auto_rows": null,
            "grid_column": null,
            "grid_gap": null,
            "grid_row": null,
            "grid_template_areas": null,
            "grid_template_columns": null,
            "grid_template_rows": null,
            "height": null,
            "justify_content": null,
            "justify_items": null,
            "left": null,
            "margin": null,
            "max_height": null,
            "max_width": null,
            "min_height": null,
            "min_width": null,
            "object_fit": null,
            "object_position": null,
            "order": null,
            "overflow": null,
            "overflow_x": null,
            "overflow_y": null,
            "padding": null,
            "right": null,
            "top": null,
            "visibility": null,
            "width": null
          }
        },
        "db41dac1a3a34ca99d7e9e98a0f3acfa": {
          "model_module": "@jupyter-widgets/base",
          "model_module_version": "1.2.0",
          "model_name": "LayoutModel",
          "state": {
            "_model_module": "@jupyter-widgets/base",
            "_model_module_version": "1.2.0",
            "_model_name": "LayoutModel",
            "_view_count": null,
            "_view_module": "@jupyter-widgets/base",
            "_view_module_version": "1.2.0",
            "_view_name": "LayoutView",
            "align_content": null,
            "align_items": null,
            "align_self": null,
            "border": null,
            "bottom": null,
            "display": null,
            "flex": null,
            "flex_flow": null,
            "grid_area": null,
            "grid_auto_columns": null,
            "grid_auto_flow": null,
            "grid_auto_rows": null,
            "grid_column": null,
            "grid_gap": null,
            "grid_row": null,
            "grid_template_areas": null,
            "grid_template_columns": null,
            "grid_template_rows": null,
            "height": null,
            "justify_content": null,
            "justify_items": null,
            "left": null,
            "margin": null,
            "max_height": null,
            "max_width": null,
            "min_height": null,
            "min_width": null,
            "object_fit": null,
            "object_position": null,
            "order": null,
            "overflow": null,
            "overflow_x": null,
            "overflow_y": null,
            "padding": null,
            "right": null,
            "top": null,
            "visibility": null,
            "width": null
          }
        },
        "dc221901ef1f4f8fbfe4a503daf35ee5": {
          "model_module": "@jupyter-widgets/controls",
          "model_module_version": "1.5.0",
          "model_name": "HTMLModel",
          "state": {
            "_dom_classes": [],
            "_model_module": "@jupyter-widgets/controls",
            "_model_module_version": "1.5.0",
            "_model_name": "HTMLModel",
            "_view_count": null,
            "_view_module": "@jupyter-widgets/controls",
            "_view_module_version": "1.5.0",
            "_view_name": "HTMLView",
            "description": "",
            "description_tooltip": null,
            "layout": "IPY_MODEL_3e7637740ad042e2a04371f8f6974117",
            "placeholder": "​",
            "style": "IPY_MODEL_4f1acf942d404402b89b5e0fc3376313",
            "value": " 1/? [00:00&lt;00:00,  6.99 tables/s]"
          }
        },
        "dd849545c4364102b6fff0ade7e5f180": {
          "model_module": "@jupyter-widgets/controls",
          "model_module_version": "1.5.0",
          "model_name": "HTMLModel",
          "state": {
            "_dom_classes": [],
            "_model_module": "@jupyter-widgets/controls",
            "_model_module_version": "1.5.0",
            "_model_name": "HTMLModel",
            "_view_count": null,
            "_view_module": "@jupyter-widgets/controls",
            "_view_module_version": "1.5.0",
            "_view_name": "HTMLView",
            "description": "",
            "description_tooltip": null,
            "layout": "IPY_MODEL_90f69ebbeaa2499ebbbfe7147828b0f7",
            "placeholder": "​",
            "style": "IPY_MODEL_06e96ac12f1c4c9eb0726aeaa2b43c20",
            "value": " 0/? [00:00&lt;?, ? tables/s]"
          }
        },
        "dddaad3c485f4417ac760bc269a029cc": {
          "model_module": "@jupyter-widgets/controls",
          "model_module_version": "1.5.0",
          "model_name": "DescriptionStyleModel",
          "state": {
            "_model_module": "@jupyter-widgets/controls",
            "_model_module_version": "1.5.0",
            "_model_name": "DescriptionStyleModel",
            "_view_count": null,
            "_view_module": "@jupyter-widgets/base",
            "_view_module_version": "1.2.0",
            "_view_name": "StyleView",
            "description_width": ""
          }
        },
        "e054b5e71d624afa926a8a3575b2f41a": {
          "model_module": "@jupyter-widgets/controls",
          "model_module_version": "1.5.0",
          "model_name": "ProgressStyleModel",
          "state": {
            "_model_module": "@jupyter-widgets/controls",
            "_model_module_version": "1.5.0",
            "_model_name": "ProgressStyleModel",
            "_view_count": null,
            "_view_module": "@jupyter-widgets/base",
            "_view_module_version": "1.2.0",
            "_view_name": "StyleView",
            "bar_color": null,
            "description_width": ""
          }
        },
        "e0a628cd5bb64946b405528ad4908df6": {
          "model_module": "@jupyter-widgets/base",
          "model_module_version": "1.2.0",
          "model_name": "LayoutModel",
          "state": {
            "_model_module": "@jupyter-widgets/base",
            "_model_module_version": "1.2.0",
            "_model_name": "LayoutModel",
            "_view_count": null,
            "_view_module": "@jupyter-widgets/base",
            "_view_module_version": "1.2.0",
            "_view_name": "LayoutView",
            "align_content": null,
            "align_items": null,
            "align_self": null,
            "border": null,
            "bottom": null,
            "display": null,
            "flex": null,
            "flex_flow": null,
            "grid_area": null,
            "grid_auto_columns": null,
            "grid_auto_flow": null,
            "grid_auto_rows": null,
            "grid_column": null,
            "grid_gap": null,
            "grid_row": null,
            "grid_template_areas": null,
            "grid_template_columns": null,
            "grid_template_rows": null,
            "height": null,
            "justify_content": null,
            "justify_items": null,
            "left": null,
            "margin": null,
            "max_height": null,
            "max_width": null,
            "min_height": null,
            "min_width": null,
            "object_fit": null,
            "object_position": null,
            "order": null,
            "overflow": null,
            "overflow_x": null,
            "overflow_y": null,
            "padding": null,
            "right": null,
            "top": null,
            "visibility": null,
            "width": null
          }
        },
        "e3a2d1bf0713496eb0e9b28cf7b256ee": {
          "model_module": "@jupyter-widgets/controls",
          "model_module_version": "1.5.0",
          "model_name": "DescriptionStyleModel",
          "state": {
            "_model_module": "@jupyter-widgets/controls",
            "_model_module_version": "1.5.0",
            "_model_name": "DescriptionStyleModel",
            "_view_count": null,
            "_view_module": "@jupyter-widgets/base",
            "_view_module_version": "1.2.0",
            "_view_name": "StyleView",
            "description_width": ""
          }
        },
        "e6b3e3847cf34369aa785efcd90a3014": {
          "model_module": "@jupyter-widgets/base",
          "model_module_version": "1.2.0",
          "model_name": "LayoutModel",
          "state": {
            "_model_module": "@jupyter-widgets/base",
            "_model_module_version": "1.2.0",
            "_model_name": "LayoutModel",
            "_view_count": null,
            "_view_module": "@jupyter-widgets/base",
            "_view_module_version": "1.2.0",
            "_view_name": "LayoutView",
            "align_content": null,
            "align_items": null,
            "align_self": null,
            "border": null,
            "bottom": null,
            "display": null,
            "flex": null,
            "flex_flow": null,
            "grid_area": null,
            "grid_auto_columns": null,
            "grid_auto_flow": null,
            "grid_auto_rows": null,
            "grid_column": null,
            "grid_gap": null,
            "grid_row": null,
            "grid_template_areas": null,
            "grid_template_columns": null,
            "grid_template_rows": null,
            "height": null,
            "justify_content": null,
            "justify_items": null,
            "left": null,
            "margin": null,
            "max_height": null,
            "max_width": null,
            "min_height": null,
            "min_width": null,
            "object_fit": null,
            "object_position": null,
            "order": null,
            "overflow": null,
            "overflow_x": null,
            "overflow_y": null,
            "padding": null,
            "right": null,
            "top": null,
            "visibility": null,
            "width": null
          }
        },
        "ea262fcbf10943c49d51232e8e61c18a": {
          "model_module": "@jupyter-widgets/controls",
          "model_module_version": "1.5.0",
          "model_name": "DescriptionStyleModel",
          "state": {
            "_model_module": "@jupyter-widgets/controls",
            "_model_module_version": "1.5.0",
            "_model_name": "DescriptionStyleModel",
            "_view_count": null,
            "_view_module": "@jupyter-widgets/base",
            "_view_module_version": "1.2.0",
            "_view_name": "StyleView",
            "description_width": ""
          }
        },
        "eac2c14254d64d908e84cc53620f10b7": {
          "model_module": "@jupyter-widgets/base",
          "model_module_version": "1.2.0",
          "model_name": "LayoutModel",
          "state": {
            "_model_module": "@jupyter-widgets/base",
            "_model_module_version": "1.2.0",
            "_model_name": "LayoutModel",
            "_view_count": null,
            "_view_module": "@jupyter-widgets/base",
            "_view_module_version": "1.2.0",
            "_view_name": "LayoutView",
            "align_content": null,
            "align_items": null,
            "align_self": null,
            "border": null,
            "bottom": null,
            "display": null,
            "flex": null,
            "flex_flow": null,
            "grid_area": null,
            "grid_auto_columns": null,
            "grid_auto_flow": null,
            "grid_auto_rows": null,
            "grid_column": null,
            "grid_gap": null,
            "grid_row": null,
            "grid_template_areas": null,
            "grid_template_columns": null,
            "grid_template_rows": null,
            "height": null,
            "justify_content": null,
            "justify_items": null,
            "left": null,
            "margin": null,
            "max_height": null,
            "max_width": null,
            "min_height": null,
            "min_width": null,
            "object_fit": null,
            "object_position": null,
            "order": null,
            "overflow": null,
            "overflow_x": null,
            "overflow_y": null,
            "padding": null,
            "right": null,
            "top": null,
            "visibility": null,
            "width": null
          }
        },
        "edb508dbd6d14772ba22d43653c457c8": {
          "model_module": "@jupyter-widgets/controls",
          "model_module_version": "1.5.0",
          "model_name": "HBoxModel",
          "state": {
            "_dom_classes": [],
            "_model_module": "@jupyter-widgets/controls",
            "_model_module_version": "1.5.0",
            "_model_name": "HBoxModel",
            "_view_count": null,
            "_view_module": "@jupyter-widgets/controls",
            "_view_module_version": "1.5.0",
            "_view_name": "HBoxView",
            "box_style": "",
            "children": [
              "IPY_MODEL_b0ecadd2fe174466a8a0414c9fd33ab3",
              "IPY_MODEL_9cdd27ec7c714234a62c5d322622747f",
              "IPY_MODEL_dc221901ef1f4f8fbfe4a503daf35ee5"
            ],
            "layout": "IPY_MODEL_c8b9d6b62f8b452eb9491b1502abdd06"
          }
        },
        "f072286574ff42b39cc48d4d31e02845": {
          "model_module": "@jupyter-widgets/controls",
          "model_module_version": "1.5.0",
          "model_name": "HBoxModel",
          "state": {
            "_dom_classes": [],
            "_model_module": "@jupyter-widgets/controls",
            "_model_module_version": "1.5.0",
            "_model_name": "HBoxModel",
            "_view_count": null,
            "_view_module": "@jupyter-widgets/controls",
            "_view_module_version": "1.5.0",
            "_view_name": "HBoxView",
            "box_style": "",
            "children": [
              "IPY_MODEL_4699161b3964426288324dd7263ef3d9",
              "IPY_MODEL_6be8934ce7774c8ca78dc42fef46b440",
              "IPY_MODEL_0195d203c77a4b68b800c3aac3aba412"
            ],
            "layout": "IPY_MODEL_8616a966961f475abee86e3da924aac1"
          }
        },
        "f1ad0b794fcf4c968d824fb5e56016e6": {
          "model_module": "@jupyter-widgets/controls",
          "model_module_version": "1.5.0",
          "model_name": "FloatProgressModel",
          "state": {
            "_dom_classes": [],
            "_model_module": "@jupyter-widgets/controls",
            "_model_module_version": "1.5.0",
            "_model_name": "FloatProgressModel",
            "_view_count": null,
            "_view_module": "@jupyter-widgets/controls",
            "_view_module_version": "1.5.0",
            "_view_name": "ProgressView",
            "bar_style": "success",
            "description": "",
            "description_tooltip": null,
            "layout": "IPY_MODEL_6e1fa4fe401346b0ab6356c25095034b",
            "max": 1,
            "min": 0,
            "orientation": "horizontal",
            "style": "IPY_MODEL_86ec4de1a0604f2487adde07782ad161",
            "value": 1
          }
        },
        "f3a888bb1f55431f921deec600343549": {
          "model_module": "@jupyter-widgets/base",
          "model_module_version": "1.2.0",
          "model_name": "LayoutModel",
          "state": {
            "_model_module": "@jupyter-widgets/base",
            "_model_module_version": "1.2.0",
            "_model_name": "LayoutModel",
            "_view_count": null,
            "_view_module": "@jupyter-widgets/base",
            "_view_module_version": "1.2.0",
            "_view_name": "LayoutView",
            "align_content": null,
            "align_items": null,
            "align_self": null,
            "border": null,
            "bottom": null,
            "display": null,
            "flex": null,
            "flex_flow": null,
            "grid_area": null,
            "grid_auto_columns": null,
            "grid_auto_flow": null,
            "grid_auto_rows": null,
            "grid_column": null,
            "grid_gap": null,
            "grid_row": null,
            "grid_template_areas": null,
            "grid_template_columns": null,
            "grid_template_rows": null,
            "height": null,
            "justify_content": null,
            "justify_items": null,
            "left": null,
            "margin": null,
            "max_height": null,
            "max_width": null,
            "min_height": null,
            "min_width": null,
            "object_fit": null,
            "object_position": null,
            "order": null,
            "overflow": null,
            "overflow_x": null,
            "overflow_y": null,
            "padding": null,
            "right": null,
            "top": null,
            "visibility": null,
            "width": null
          }
        },
        "fbe1ec663ac94537a9640be077528e45": {
          "model_module": "@jupyter-widgets/base",
          "model_module_version": "1.2.0",
          "model_name": "LayoutModel",
          "state": {
            "_model_module": "@jupyter-widgets/base",
            "_model_module_version": "1.2.0",
            "_model_name": "LayoutModel",
            "_view_count": null,
            "_view_module": "@jupyter-widgets/base",
            "_view_module_version": "1.2.0",
            "_view_name": "LayoutView",
            "align_content": null,
            "align_items": null,
            "align_self": null,
            "border": null,
            "bottom": null,
            "display": null,
            "flex": null,
            "flex_flow": null,
            "grid_area": null,
            "grid_auto_columns": null,
            "grid_auto_flow": null,
            "grid_auto_rows": null,
            "grid_column": null,
            "grid_gap": null,
            "grid_row": null,
            "grid_template_areas": null,
            "grid_template_columns": null,
            "grid_template_rows": null,
            "height": null,
            "justify_content": null,
            "justify_items": null,
            "left": null,
            "margin": null,
            "max_height": null,
            "max_width": null,
            "min_height": null,
            "min_width": null,
            "object_fit": null,
            "object_position": null,
            "order": null,
            "overflow": null,
            "overflow_x": null,
            "overflow_y": null,
            "padding": null,
            "right": null,
            "top": null,
            "visibility": null,
            "width": null
          }
        },
        "fdee12a426124e6ea71b2acfbf3e6def": {
          "model_module": "@jupyter-widgets/base",
          "model_module_version": "1.2.0",
          "model_name": "LayoutModel",
          "state": {
            "_model_module": "@jupyter-widgets/base",
            "_model_module_version": "1.2.0",
            "_model_name": "LayoutModel",
            "_view_count": null,
            "_view_module": "@jupyter-widgets/base",
            "_view_module_version": "1.2.0",
            "_view_name": "LayoutView",
            "align_content": null,
            "align_items": null,
            "align_self": null,
            "border": null,
            "bottom": null,
            "display": null,
            "flex": null,
            "flex_flow": null,
            "grid_area": null,
            "grid_auto_columns": null,
            "grid_auto_flow": null,
            "grid_auto_rows": null,
            "grid_column": null,
            "grid_gap": null,
            "grid_row": null,
            "grid_template_areas": null,
            "grid_template_columns": null,
            "grid_template_rows": null,
            "height": null,
            "justify_content": null,
            "justify_items": null,
            "left": null,
            "margin": null,
            "max_height": null,
            "max_width": null,
            "min_height": null,
            "min_width": null,
            "object_fit": null,
            "object_position": null,
            "order": null,
            "overflow": null,
            "overflow_x": null,
            "overflow_y": null,
            "padding": null,
            "right": null,
            "top": null,
            "visibility": null,
            "width": null
          }
        }
      }
    }
  },
  "nbformat": 4,
  "nbformat_minor": 0
}
